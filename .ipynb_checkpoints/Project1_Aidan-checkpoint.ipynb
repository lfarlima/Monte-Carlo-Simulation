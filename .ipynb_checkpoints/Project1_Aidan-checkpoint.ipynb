{
 "cells": [
  {
   "cell_type": "code",
   "execution_count": 70,
   "id": "automotive-fruit",
   "metadata": {},
   "outputs": [
    {
     "name": "stderr",
     "output_type": "stream",
     "text": [
      "WARNING:param.panel_extension: A HoloViz extension was loaded previously. This means the extension is already initialized and the following Panel extensions could not be properly loaded: ['plotly']. If you are loading custom extensions with pn.extension(...) ensure that this is called before any other HoloViz extension such as hvPlot or HoloViews.\n"
     ]
    }
   ],
   "source": [
    "import os\n",
    "import pandas as pd\n",
    "import yfinance as yf\n",
    "import numpy as np\n",
    "import hvplot.pandas\n",
    "import panel as pn\n",
    "import alpaca_trade_api as tradeapi\n",
    "import plotly.express as px\n",
    "from pathlib import Path\n",
    "from MCForecastTools import MCSimulation\n",
    "from panel.interact import interact\n",
    "import plotly.express as px\n",
    "pn.extension(\"plotly\")\n",
    "%matplotlib inline"
   ]
  },
  {
   "cell_type": "code",
   "execution_count": 71,
   "id": "modular-uncle",
   "metadata": {},
   "outputs": [
    {
     "data": {
      "text/html": [
       "<div>\n",
       "<style scoped>\n",
       "    .dataframe tbody tr th:only-of-type {\n",
       "        vertical-align: middle;\n",
       "    }\n",
       "\n",
       "    .dataframe tbody tr th {\n",
       "        vertical-align: top;\n",
       "    }\n",
       "\n",
       "    .dataframe thead th {\n",
       "        text-align: right;\n",
       "    }\n",
       "</style>\n",
       "<table border=\"1\" class=\"dataframe\">\n",
       "  <thead>\n",
       "    <tr style=\"text-align: right;\">\n",
       "      <th></th>\n",
       "      <th>Open</th>\n",
       "      <th>High</th>\n",
       "      <th>Low</th>\n",
       "      <th>Close</th>\n",
       "      <th>Adj Close</th>\n",
       "      <th>Volume</th>\n",
       "    </tr>\n",
       "    <tr>\n",
       "      <th>Date</th>\n",
       "      <th></th>\n",
       "      <th></th>\n",
       "      <th></th>\n",
       "      <th></th>\n",
       "      <th></th>\n",
       "      <th></th>\n",
       "    </tr>\n",
       "  </thead>\n",
       "  <tbody>\n",
       "    <tr>\n",
       "      <th>1980-01-02</th>\n",
       "      <td>0.0</td>\n",
       "      <td>108.430000</td>\n",
       "      <td>105.290001</td>\n",
       "      <td>105.760002</td>\n",
       "      <td>105.760002</td>\n",
       "      <td>40610000</td>\n",
       "    </tr>\n",
       "    <tr>\n",
       "      <th>1980-01-03</th>\n",
       "      <td>0.0</td>\n",
       "      <td>106.080002</td>\n",
       "      <td>103.260002</td>\n",
       "      <td>105.220001</td>\n",
       "      <td>105.220001</td>\n",
       "      <td>50480000</td>\n",
       "    </tr>\n",
       "    <tr>\n",
       "      <th>1980-01-04</th>\n",
       "      <td>0.0</td>\n",
       "      <td>107.080002</td>\n",
       "      <td>105.089996</td>\n",
       "      <td>106.519997</td>\n",
       "      <td>106.519997</td>\n",
       "      <td>39130000</td>\n",
       "    </tr>\n",
       "    <tr>\n",
       "      <th>1980-01-07</th>\n",
       "      <td>0.0</td>\n",
       "      <td>107.800003</td>\n",
       "      <td>105.800003</td>\n",
       "      <td>106.809998</td>\n",
       "      <td>106.809998</td>\n",
       "      <td>44500000</td>\n",
       "    </tr>\n",
       "    <tr>\n",
       "      <th>1980-01-08</th>\n",
       "      <td>0.0</td>\n",
       "      <td>109.290001</td>\n",
       "      <td>106.290001</td>\n",
       "      <td>108.949997</td>\n",
       "      <td>108.949997</td>\n",
       "      <td>53390000</td>\n",
       "    </tr>\n",
       "  </tbody>\n",
       "</table>\n",
       "</div>"
      ],
      "text/plain": [
       "            Open        High         Low       Close   Adj Close    Volume\n",
       "Date                                                                      \n",
       "1980-01-02   0.0  108.430000  105.290001  105.760002  105.760002  40610000\n",
       "1980-01-03   0.0  106.080002  103.260002  105.220001  105.220001  50480000\n",
       "1980-01-04   0.0  107.080002  105.089996  106.519997  106.519997  39130000\n",
       "1980-01-07   0.0  107.800003  105.800003  106.809998  106.809998  44500000\n",
       "1980-01-08   0.0  109.290001  106.290001  108.949997  108.949997  53390000"
      ]
     },
     "execution_count": 71,
     "metadata": {},
     "output_type": "execute_result"
    }
   ],
   "source": [
    "sp500_df = yf.download('^GSPC',\n",
    "                       start='1980-01-01',\n",
    "                       end='2020-12-31',\n",
    "                       progress=False,\n",
    "                       index_col = 'Date',\n",
    "                       infer_datetime_format= True,\n",
    "                       parse_dates = True\n",
    "                       \n",
    "\n",
    ")\n",
    "sp500_df.head()"
   ]
  },
  {
   "cell_type": "code",
   "execution_count": 72,
   "id": "growing-honor",
   "metadata": {},
   "outputs": [
    {
     "data": {
      "text/html": [
       "<div>\n",
       "<style scoped>\n",
       "    .dataframe tbody tr th:only-of-type {\n",
       "        vertical-align: middle;\n",
       "    }\n",
       "\n",
       "    .dataframe tbody tr th {\n",
       "        vertical-align: top;\n",
       "    }\n",
       "\n",
       "    .dataframe thead th {\n",
       "        text-align: right;\n",
       "    }\n",
       "</style>\n",
       "<table border=\"1\" class=\"dataframe\">\n",
       "  <thead>\n",
       "    <tr style=\"text-align: right;\">\n",
       "      <th></th>\n",
       "      <th>Open</th>\n",
       "      <th>High</th>\n",
       "      <th>Low</th>\n",
       "      <th>Close</th>\n",
       "      <th>Adj Close</th>\n",
       "      <th>Volume</th>\n",
       "    </tr>\n",
       "    <tr>\n",
       "      <th>Date</th>\n",
       "      <th></th>\n",
       "      <th></th>\n",
       "      <th></th>\n",
       "      <th></th>\n",
       "      <th></th>\n",
       "      <th></th>\n",
       "    </tr>\n",
       "  </thead>\n",
       "  <tbody>\n",
       "    <tr>\n",
       "      <th>1980-01-02</th>\n",
       "      <td>85.320000</td>\n",
       "      <td>85.320000</td>\n",
       "      <td>85.320000</td>\n",
       "      <td>85.320000</td>\n",
       "      <td>85.320000</td>\n",
       "      <td>0</td>\n",
       "    </tr>\n",
       "    <tr>\n",
       "      <th>1980-01-03</th>\n",
       "      <td>85.260002</td>\n",
       "      <td>85.260002</td>\n",
       "      <td>85.260002</td>\n",
       "      <td>85.260002</td>\n",
       "      <td>85.260002</td>\n",
       "      <td>0</td>\n",
       "    </tr>\n",
       "    <tr>\n",
       "      <th>1980-01-04</th>\n",
       "      <td>85.230003</td>\n",
       "      <td>85.230003</td>\n",
       "      <td>85.230003</td>\n",
       "      <td>85.230003</td>\n",
       "      <td>85.230003</td>\n",
       "      <td>0</td>\n",
       "    </tr>\n",
       "    <tr>\n",
       "      <th>1980-01-07</th>\n",
       "      <td>84.790001</td>\n",
       "      <td>84.790001</td>\n",
       "      <td>84.790001</td>\n",
       "      <td>84.790001</td>\n",
       "      <td>84.790001</td>\n",
       "      <td>0</td>\n",
       "    </tr>\n",
       "    <tr>\n",
       "      <th>1980-01-08</th>\n",
       "      <td>85.070000</td>\n",
       "      <td>85.070000</td>\n",
       "      <td>85.070000</td>\n",
       "      <td>85.070000</td>\n",
       "      <td>85.070000</td>\n",
       "      <td>0</td>\n",
       "    </tr>\n",
       "  </tbody>\n",
       "</table>\n",
       "</div>"
      ],
      "text/plain": [
       "                 Open       High        Low      Close  Adj Close  Volume\n",
       "Date                                                                     \n",
       "1980-01-02  85.320000  85.320000  85.320000  85.320000  85.320000       0\n",
       "1980-01-03  85.260002  85.260002  85.260002  85.260002  85.260002       0\n",
       "1980-01-04  85.230003  85.230003  85.230003  85.230003  85.230003       0\n",
       "1980-01-07  84.790001  84.790001  84.790001  84.790001  84.790001       0\n",
       "1980-01-08  85.070000  85.070000  85.070000  85.070000  85.070000       0"
      ]
     },
     "execution_count": 72,
     "metadata": {},
     "output_type": "execute_result"
    }
   ],
   "source": [
    "dxy_df = yf.download('DX-Y.NYB',\n",
    "                       start='1980-01-01',\n",
    "                       end='2020-12-31',\n",
    "                       progress=False,\n",
    "                       index_col ='Date',\n",
    "                       infer_datetime_format= True,\n",
    "                       parse_dates = True,\n",
    "\n",
    ")\n",
    "dxy_df.head()"
   ]
  },
  {
   "cell_type": "code",
   "execution_count": 73,
   "id": "working-iraqi",
   "metadata": {},
   "outputs": [],
   "source": [
    "sp500_df.drop(['Open', 'High','Low', 'Adj Close', 'Volume'],axis=1, inplace=True)\n",
    "dxy_df.drop(['Open', 'High','Low', 'Adj Close', 'Volume'],axis=1, inplace=True)"
   ]
  },
  {
   "cell_type": "code",
   "execution_count": 74,
   "id": "cleared-irish",
   "metadata": {},
   "outputs": [],
   "source": [
    "sp500_df.rename(columns={'Close':'sp500_mthly'}, inplace= True)\n",
    "dxy_df.rename(columns={'Close':'dxy_mthly'}, inplace= True)"
   ]
  },
  {
   "cell_type": "code",
   "execution_count": 75,
   "id": "french-russia",
   "metadata": {},
   "outputs": [],
   "source": [
    "wti_csv = Path(\"Datasets/Crude_Oil_WTI.csv\")\n",
    "wti_df = pd.read_csv(wti_csv, index_col =\"DATE\", infer_datetime_format = True, parse_dates = True)"
   ]
  },
  {
   "cell_type": "code",
   "execution_count": 76,
   "id": "reported-burden",
   "metadata": {},
   "outputs": [],
   "source": [
    "wti_df.rename(columns={'MCOILWTICO':'wti_mthly'}, inplace = True)"
   ]
  },
  {
   "cell_type": "code",
   "execution_count": 77,
   "id": "wanted-nowhere",
   "metadata": {},
   "outputs": [
    {
     "name": "stdout",
     "output_type": "stream",
     "text": [
      "<class 'pandas.core.frame.DataFrame'>\n",
      "DatetimeIndex: 266 entries, 1986-04-01 to 2020-12-01\n",
      "Data columns (total 3 columns):\n",
      " #   Column       Non-Null Count  Dtype  \n",
      "---  ------       --------------  -----  \n",
      " 0   sp500_mthly  266 non-null    float64\n",
      " 1   dxy_mthly    266 non-null    float64\n",
      " 2   wti_mthly    266 non-null    float64\n",
      "dtypes: float64(3)\n",
      "memory usage: 8.3 KB\n"
     ]
    }
   ],
   "source": [
    "oil_usd_sp500 = pd.concat([sp500_df, dxy_df, wti_df], join=\"inner\", axis=\"columns\")\n",
    "oil_usd_sp500.info()"
   ]
  },
  {
   "cell_type": "code",
   "execution_count": 78,
   "id": "interracial-ballet",
   "metadata": {},
   "outputs": [
    {
     "data": {
      "text/html": [
       "<div>\n",
       "<style scoped>\n",
       "    .dataframe tbody tr th:only-of-type {\n",
       "        vertical-align: middle;\n",
       "    }\n",
       "\n",
       "    .dataframe tbody tr th {\n",
       "        vertical-align: top;\n",
       "    }\n",
       "\n",
       "    .dataframe thead th {\n",
       "        text-align: right;\n",
       "    }\n",
       "</style>\n",
       "<table border=\"1\" class=\"dataframe\">\n",
       "  <thead>\n",
       "    <tr style=\"text-align: right;\">\n",
       "      <th></th>\n",
       "      <th>sp500_mthly</th>\n",
       "      <th>dxy_mthly</th>\n",
       "      <th>wti_mthly</th>\n",
       "    </tr>\n",
       "  </thead>\n",
       "  <tbody>\n",
       "    <tr>\n",
       "      <th>sp500_mthly</th>\n",
       "      <td>1.000000</td>\n",
       "      <td>-0.042771</td>\n",
       "      <td>0.241249</td>\n",
       "    </tr>\n",
       "    <tr>\n",
       "      <th>dxy_mthly</th>\n",
       "      <td>-0.042771</td>\n",
       "      <td>1.000000</td>\n",
       "      <td>-0.262053</td>\n",
       "    </tr>\n",
       "    <tr>\n",
       "      <th>wti_mthly</th>\n",
       "      <td>0.241249</td>\n",
       "      <td>-0.262053</td>\n",
       "      <td>1.000000</td>\n",
       "    </tr>\n",
       "  </tbody>\n",
       "</table>\n",
       "</div>"
      ],
      "text/plain": [
       "             sp500_mthly  dxy_mthly  wti_mthly\n",
       "sp500_mthly     1.000000  -0.042771   0.241249\n",
       "dxy_mthly      -0.042771   1.000000  -0.262053\n",
       "wti_mthly       0.241249  -0.262053   1.000000"
      ]
     },
     "execution_count": 78,
     "metadata": {},
     "output_type": "execute_result"
    }
   ],
   "source": [
    "oil_usd_sp500_return = oil_usd_sp500.pct_change()\n",
    "oil_usd_sp500_corr = oil_usd_sp500_return.corr()\n",
    "oil_usd_sp500_corr"
   ]
  },
  {
   "cell_type": "code",
   "execution_count": 85,
   "id": "organizational-foster",
   "metadata": {},
   "outputs": [
    {
     "data": {
      "text/html": [
       "<div>\n",
       "<style scoped>\n",
       "    .dataframe tbody tr th:only-of-type {\n",
       "        vertical-align: middle;\n",
       "    }\n",
       "\n",
       "    .dataframe tbody tr th {\n",
       "        vertical-align: top;\n",
       "    }\n",
       "\n",
       "    .dataframe thead th {\n",
       "        text-align: right;\n",
       "    }\n",
       "</style>\n",
       "<table border=\"1\" class=\"dataframe\">\n",
       "  <thead>\n",
       "    <tr style=\"text-align: right;\">\n",
       "      <th></th>\n",
       "      <th>level_0</th>\n",
       "      <th>level_1</th>\n",
       "      <th>sp500_mthly</th>\n",
       "      <th>dxy_mthly</th>\n",
       "      <th>wti_mthly</th>\n",
       "    </tr>\n",
       "  </thead>\n",
       "  <tbody>\n",
       "    <tr>\n",
       "      <th>0</th>\n",
       "      <td>1988-03-01</td>\n",
       "      <td>sp500_mthly</td>\n",
       "      <td>1.000000</td>\n",
       "      <td>0.389673</td>\n",
       "      <td>0.104808</td>\n",
       "    </tr>\n",
       "    <tr>\n",
       "      <th>1</th>\n",
       "      <td>1988-03-01</td>\n",
       "      <td>dxy_mthly</td>\n",
       "      <td>0.389673</td>\n",
       "      <td>1.000000</td>\n",
       "      <td>-0.084317</td>\n",
       "    </tr>\n",
       "    <tr>\n",
       "      <th>2</th>\n",
       "      <td>1988-03-01</td>\n",
       "      <td>wti_mthly</td>\n",
       "      <td>0.104808</td>\n",
       "      <td>-0.084317</td>\n",
       "      <td>1.000000</td>\n",
       "    </tr>\n",
       "    <tr>\n",
       "      <th>3</th>\n",
       "      <td>1988-06-01</td>\n",
       "      <td>sp500_mthly</td>\n",
       "      <td>1.000000</td>\n",
       "      <td>0.371257</td>\n",
       "      <td>0.127159</td>\n",
       "    </tr>\n",
       "    <tr>\n",
       "      <th>4</th>\n",
       "      <td>1988-06-01</td>\n",
       "      <td>dxy_mthly</td>\n",
       "      <td>0.371257</td>\n",
       "      <td>1.000000</td>\n",
       "      <td>-0.013327</td>\n",
       "    </tr>\n",
       "  </tbody>\n",
       "</table>\n",
       "</div>"
      ],
      "text/plain": [
       "     level_0      level_1  sp500_mthly  dxy_mthly  wti_mthly\n",
       "0 1988-03-01  sp500_mthly     1.000000   0.389673   0.104808\n",
       "1 1988-03-01    dxy_mthly     0.389673   1.000000  -0.084317\n",
       "2 1988-03-01    wti_mthly     0.104808  -0.084317   1.000000\n",
       "3 1988-06-01  sp500_mthly     1.000000   0.371257   0.127159\n",
       "4 1988-06-01    dxy_mthly     0.371257   1.000000  -0.013327"
      ]
     },
     "execution_count": 85,
     "metadata": {},
     "output_type": "execute_result"
    }
   ],
   "source": [
    "##rolling correlation NEEDNTO WORK ON STILL!\n",
    "rolling_corr = oil_usd_sp500_return.rolling(window=14).corr().dropna()\n",
    "rolling_corr.reset_index(inplace=True)\n",
    "rolling_corr.head()"
   ]
  },
  {
   "cell_type": "code",
   "execution_count": 88,
   "id": "amateur-angola",
   "metadata": {},
   "outputs": [
    {
     "data": {
      "text/plain": [
       "<AxesSubplot:title={'center':'Rolling 14-day Beta'}>"
      ]
     },
     "execution_count": 88,
     "metadata": {},
     "output_type": "execute_result"
    },
    {
     "data": {
      "image/png": "[encoded data removed]",
      "text/plain": [
       "<Figure size 1080x720 with 1 Axes>"
      ]
     },
     "metadata": {
      "needs_background": "light"
     },
     "output_type": "display_data"
    }
   ],
   "source": [
    "##Rolling beta S&P500 and USD\n",
    "rolling_cov = oil_usd_sp500_return['sp500_mthly'].rolling(window=14).cov(oil_usd_sp500_return[\"dxy_mthly\"])\n",
    "rolling_var = oil_usd_sp500_return['sp500_mthly'].rolling(window=14).var()\n",
    "rolling_beta = rolling_cov / rolling_var\n",
    "rolling_beta.plot(figsize=(15,10), title = \"Rolling 14-day Beta\")"
   ]
  },
  {
   "cell_type": "code",
   "execution_count": 89,
   "id": "handled-marine",
   "metadata": {},
   "outputs": [
    {
     "data": {
      "text/plain": [
       "<AxesSubplot:title={'center':'Rolling 14-day Beta'}>"
      ]
     },
     "execution_count": 89,
     "metadata": {},
     "output_type": "execute_result"
    },
    {
     "data": {
      "image/png": "[encoded data removed]",
      "text/plain": [
       "<Figure size 1080x720 with 1 Axes>"
      ]
     },
     "metadata": {
      "needs_background": "light"
     },
     "output_type": "display_data"
    }
   ],
   "source": [
    "##Rolling beta S&P500 and WTI\n",
    "rolling_cov = oil_usd_sp500_return['sp500_mthly'].rolling(window=14).cov(oil_usd_sp500_return[\"wti_mthly\"])\n",
    "rolling_var = oil_usd_sp500_return['sp500_mthly'].rolling(window=14).var()\n",
    "rolling_beta = rolling_cov / rolling_var\n",
    "rolling_beta.plot(figsize=(15,10), title = \"Rolling 14-day Beta\")"
   ]
  },
  {
   "cell_type": "code",
   "execution_count": 86,
   "id": "periodic-prerequisite",
   "metadata": {},
   "outputs": [],
   "source": [
    "\n"
   ]
  },
  {
   "cell_type": "code",
   "execution_count": 80,
   "id": "streaming-fleece",
   "metadata": {},
   "outputs": [],
   "source": [
    "oil_price = oil_usd_sp500[['sp500_mthly','wti_mthly']].hvplot.line(xlabel=\"Date\", ylabel=\"Monthly Closing Price\")\n",
    "usd_price = oil_usd_sp500[['sp500_mthly','dxy_mthly']].hvplot.line(xlabel=\"Date\", ylabel=\"Monthly Closing Price\")\n",
    "all_price = oil_usd_sp500[['sp500_mthly','wti_mthly', 'dxy_mthly']].hvplot.line(xlabel=\"Date\", ylabel=\"Monthly Closing Price\")"
   ]
  },
  {
   "cell_type": "code",
   "execution_count": null,
   "id": "bizarre-musical",
   "metadata": {},
   "outputs": [],
   "source": []
  },
  {
   "cell_type": "code",
   "execution_count": null,
   "id": "noted-edwards",
   "metadata": {},
   "outputs": [],
   "source": []
  }
 ],
 "metadata": {
  "kernelspec": {
   "display_name": "Python 3",
   "language": "python",
   "name": "python3"
  },
  "language_info": {
   "codemirror_mode": {
    "name": "ipython",
    "version": 3
   },
   "file_extension": ".py",
   "mimetype": "text/x-python",
   "name": "python",
   "nbconvert_exporter": "python",
   "pygments_lexer": "ipython3",
   "version": "3.8.5"
  }
 },
 "nbformat": 4,
 "nbformat_minor": 5
}
