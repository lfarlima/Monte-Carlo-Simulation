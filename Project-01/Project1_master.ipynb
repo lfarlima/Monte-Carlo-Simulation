{
 "cells": [
  {
   "cell_type": "markdown",
   "metadata": {},
   "source": [
    "### GROUP PROJECT MASTER"
   ]
  },
  {
   "cell_type": "code",
   "execution_count": 73,
   "metadata": {},
   "outputs": [],
   "source": [
    "# import libraries and dependencies\n",
    "import os\n",
    "import numpy as np\n",
    "import pandas as pd\n",
    "import alpaca_trade_api as tradeapi\n",
    "from MCForecastTools import MCSimulation\n",
    "from pathlib import Path\n",
    "from dotenv import load_dotenv\n",
    "import yfinance as yf\n",
    "import panel as pn\n",
    "from panel.interact import interact\n",
    "import plotly.express as px\n",
    "pn.extension('plotly')\n",
    "import matplotlib.pyplot as plt\n",
    "import hvplot.pandas\n",
    "import seaborn as sns\n",
    "\n",
    "load_dotenv()\n",
    "%matplotlib inline"
   ]
  },
  {
   "cell_type": "code",
   "execution_count": 74,
   "metadata": {},
   "outputs": [],
   "source": [
    "# read in datasets\n",
    "df_sp500 = pd.read_csv(\"DATA SOURCES/sp500_historical.csv\", index_col=\"Date\", infer_datetime_format=True, parse_dates=True)\n",
    "df_dowjones = pd.read_csv(\"DATA SOURCES/dowjones_historical.csv\", index_col=\"Date\", infer_datetime_format=True, parse_dates=True)\n",
    "df_nasdaq = pd.read_csv(\"DATA SOURCES/nasdaq_historical.csv\", index_col=\"Date\", infer_datetime_format=True, parse_dates=True)\n",
    "df_gold = pd.read_csv(\"DATA SOURCES/gold_historical.csv\", index_col=\"Date\", infer_datetime_format=True, parse_dates=True)\n",
    "df_silver = pd.read_csv(\"DATA SOURCES/silver_historical.csv\", index_col=\"Date\", infer_datetime_format=True, parse_dates=True)\n",
    "df_crudeoil = pd.read_csv(\"DATA SOURCES/crudeoil_historical.csv\", index_col=\"Date\", infer_datetime_format=True, parse_dates=True)\n",
    "wti_df = pd.read_csv(\"DATA SOURCES/Crude_Oil_WTI.csv\", index_col =\"DATE\", infer_datetime_format = True, parse_dates = True)\n",
    "real_gdp = pd.read_csv(\"DATA SOURCES/Real_GDP_per_capita.csv\",index_col='DATE', parse_dates=True, infer_datetime_format=True)\n",
    "ir_data = pd.read_csv(\"DATA SOURCES/Real_GDP_per_capita.csv\",index_col='DATE', parse_dates=True, infer_datetime_format=True)\n",
    "prime_data = pd.read_csv('DATA SOURCES/USA Inflation (Monthly) 1980-2020.csv',index_col='Date',infer_datetime_format=True, parse_dates=True) \n",
    "hpi_data = pd.read_csv('DATA SOURCES/USA HPI (All Transactions, Quarterly) Jan 1975-July 2020.csv', index_col=['DATE'],infer_datetime_format=True, parse_dates=True)\n"
   ]
  },
  {
   "cell_type": "code",
   "execution_count": 75,
   "metadata": {},
   "outputs": [
    {
     "data": {
      "text/html": [
       "<div>\n",
       "<style scoped>\n",
       "    .dataframe tbody tr th:only-of-type {\n",
       "        vertical-align: middle;\n",
       "    }\n",
       "\n",
       "    .dataframe tbody tr th {\n",
       "        vertical-align: top;\n",
       "    }\n",
       "\n",
       "    .dataframe thead th {\n",
       "        text-align: right;\n",
       "    }\n",
       "</style>\n",
       "<table border=\"1\" class=\"dataframe\">\n",
       "  <thead>\n",
       "    <tr style=\"text-align: right;\">\n",
       "      <th></th>\n",
       "      <th>Open</th>\n",
       "      <th>High</th>\n",
       "      <th>Low</th>\n",
       "      <th>Close</th>\n",
       "      <th>Adj Close</th>\n",
       "      <th>Volume</th>\n",
       "    </tr>\n",
       "    <tr>\n",
       "      <th>Date</th>\n",
       "      <th></th>\n",
       "      <th></th>\n",
       "      <th></th>\n",
       "      <th></th>\n",
       "      <th></th>\n",
       "      <th></th>\n",
       "    </tr>\n",
       "  </thead>\n",
       "  <tbody>\n",
       "    <tr>\n",
       "      <th>1985-01-01</th>\n",
       "      <td>152.229996</td>\n",
       "      <td>153.889999</td>\n",
       "      <td>151.800003</td>\n",
       "      <td>152.720001</td>\n",
       "      <td>152.720001</td>\n",
       "      <td>0</td>\n",
       "    </tr>\n",
       "    <tr>\n",
       "      <th>1985-02-01</th>\n",
       "      <td>153.470001</td>\n",
       "      <td>164.720001</td>\n",
       "      <td>153.470001</td>\n",
       "      <td>160.410004</td>\n",
       "      <td>160.410004</td>\n",
       "      <td>0</td>\n",
       "    </tr>\n",
       "    <tr>\n",
       "      <th>1985-03-01</th>\n",
       "      <td>161.039993</td>\n",
       "      <td>163.830002</td>\n",
       "      <td>149.179993</td>\n",
       "      <td>149.179993</td>\n",
       "      <td>149.179993</td>\n",
       "      <td>0</td>\n",
       "    </tr>\n",
       "    <tr>\n",
       "      <th>1985-04-01</th>\n",
       "      <td>150.649994</td>\n",
       "      <td>153.160004</td>\n",
       "      <td>144.830002</td>\n",
       "      <td>149.699997</td>\n",
       "      <td>149.699997</td>\n",
       "      <td>0</td>\n",
       "    </tr>\n",
       "    <tr>\n",
       "      <th>1985-05-01</th>\n",
       "      <td>151.570007</td>\n",
       "      <td>154.520004</td>\n",
       "      <td>147.059998</td>\n",
       "      <td>147.860001</td>\n",
       "      <td>147.860001</td>\n",
       "      <td>0</td>\n",
       "    </tr>\n",
       "  </tbody>\n",
       "</table>\n",
       "</div>"
      ],
      "text/plain": [
       "                  Open        High         Low       Close   Adj Close  Volume\n",
       "Date                                                                          \n",
       "1985-01-01  152.229996  153.889999  151.800003  152.720001  152.720001       0\n",
       "1985-02-01  153.470001  164.720001  153.470001  160.410004  160.410004       0\n",
       "1985-03-01  161.039993  163.830002  149.179993  149.179993  149.179993       0\n",
       "1985-04-01  150.649994  153.160004  144.830002  149.699997  149.699997       0\n",
       "1985-05-01  151.570007  154.520004  147.059998  147.860001  147.860001       0"
      ]
     },
     "execution_count": 75,
     "metadata": {},
     "output_type": "execute_result"
    }
   ],
   "source": [
    "# set, pull and display data from YFinance\n",
    "dxy_df = yf.download('DX-Y.NYB',\n",
    "                       start='1985-01-01',\n",
    "                       end='2020-12-31',\n",
    "                       progress=False,\n",
    "                       index_col ='Date',\n",
    "                       infer_datetime_format= True,\n",
    "                       parse_dates = True,\n",
    "                       interval='1mo'\n",
    "\n",
    ")\n",
    "dxy_df.head()"
   ]
  },
  {
   "cell_type": "markdown",
   "metadata": {},
   "source": [
    "## Data Cleaning"
   ]
  },
  {
   "cell_type": "code",
   "execution_count": 76,
   "metadata": {},
   "outputs": [],
   "source": [
    "# drop unnecessary columns\n",
    "df_sp500.drop(columns=[\"Open\",\"High\",\"Low\",\"Vol.\",\"Change %\"],inplace=True)\n",
    "df_dowjones.drop(columns=[\"Open\",\"High\",\"Low\",\"Vol.\",\"Change %\"],inplace=True)\n",
    "df_nasdaq.drop(columns=[\"Open\",\"High\",\"Low\",\"Vol.\",\"Change %\"],inplace=True)\n",
    "df_gold.drop(columns=[\"Open\",\"High\",\"Low\",\"Vol.\",\"Change %\"],inplace=True)\n",
    "df_silver.drop(columns=[\"Open\",\"High\",\"Low\",\"Vol.\",\"Change %\"],inplace=True)\n",
    "df_crudeoil.drop(columns=[\"Open\",\"High\",\"Low\",\"Vol.\",\"Change %\"],inplace=True)\n",
    "dxy_df.drop(['Open', 'High','Low', 'Adj Close', 'Volume'],axis=1, inplace=True)\n"
   ]
  },
  {
   "cell_type": "code",
   "execution_count": 77,
   "metadata": {},
   "outputs": [],
   "source": [
    "# rename columns to indicate index / symbol\n",
    "df_sp500.rename(columns={\"Price\":\"sp500\"},inplace=True)\n",
    "df_dowjones.rename(columns={\"Price\":\"dowjones\"},inplace=True)\n",
    "df_nasdaq.rename(columns={\"Price\":\"nasdaq\"},inplace=True)\n",
    "df_gold.rename(columns={\"Price\":\"gold\"},inplace=True)\n",
    "df_silver.rename(columns={\"Price\":\"silver\"},inplace=True)\n",
    "df_crudeoil.rename(columns={\"Price\":\"crude oil\"},inplace=True)\n",
    "dxy_df.rename(columns={'Close':'usd'}, inplace= True)\n",
    "wti_df.rename(columns={'MCOILWTICO':'wti oil'}, inplace = True)\n",
    "real_gdp.rename(columns={\"A939RX0Q048SBEA\": \"gdp\"},inplace=True)\n",
    "ir_data.rename(columns={\"A939RX0Q048SBEA\": \"interest rate\"},inplace=True)\n",
    "prime_data.rename(columns={\"Inflation Rate\":'prime rate'},inplace=True)\n",
    "hpi_data.rename(columns={'USSTHPI':\"house price index\"},inplace=True)"
   ]
  },
  {
   "cell_type": "code",
   "execution_count": 78,
   "metadata": {},
   "outputs": [
    {
     "name": "stdout",
     "output_type": "stream",
     "text": [
      "<class 'pandas.core.frame.DataFrame'>\n",
      "DatetimeIndex: 432 entries, 2021-01-01 to 1985-02-01\n",
      "Freq: -1MS\n",
      "Data columns (total 4 columns):\n",
      "sp500       432 non-null object\n",
      "dowjones    432 non-null object\n",
      "nasdaq      432 non-null object\n",
      "gold        432 non-null object\n",
      "dtypes: object(4)\n",
      "memory usage: 16.9+ KB\n"
     ]
    }
   ],
   "source": [
    "# combine commodity datasets\n",
    "df_commodities = pd.concat([df_sp500,df_dowjones,df_nasdaq,df_gold], join=\"inner\", axis=\"columns\")\n",
    "df_commodities.info()"
   ]
  },
  {
   "cell_type": "code",
   "execution_count": 79,
   "metadata": {},
   "outputs": [
    {
     "name": "stdout",
     "output_type": "stream",
     "text": [
      "<class 'pandas.core.frame.DataFrame'>\n",
      "DatetimeIndex: 432 entries, 2021-01-01 to 1985-02-01\n",
      "Freq: -1MS\n",
      "Data columns (total 4 columns):\n",
      "sp500       432 non-null float64\n",
      "dowjones    432 non-null float64\n",
      "nasdaq      432 non-null float64\n",
      "gold        432 non-null float64\n",
      "dtypes: float64(4)\n",
      "memory usage: 16.9 KB\n"
     ]
    }
   ],
   "source": [
    "# convert string (object) to float\n",
    "df_commodities = df_commodities.apply(lambda x: x.str.replace(\",\",\"\"))\n",
    "df_commodities = df_commodities.astype('float')\n",
    "df_commodities.info()\n",
    "prime_data['prime rate'] = prime_data['prime rate'].astype('float')"
   ]
  },
  {
   "cell_type": "code",
   "execution_count": 80,
   "metadata": {},
   "outputs": [
    {
     "name": "stdout",
     "output_type": "stream",
     "text": [
      "<class 'pandas.core.frame.DataFrame'>\n",
      "DatetimeIndex: 420 entries, 2020-12-01 to 1986-01-01\n",
      "Freq: -1MS\n",
      "Data columns (total 9 columns):\n",
      "sp500         420 non-null float64\n",
      "dowjones      420 non-null float64\n",
      "nasdaq        420 non-null float64\n",
      "gold          420 non-null float64\n",
      "silver        420 non-null float64\n",
      "crude oil     420 non-null float64\n",
      "usd           420 non-null float64\n",
      "wti oil       420 non-null float64\n",
      "prime rate    420 non-null float64\n",
      "dtypes: float64(9)\n",
      "memory usage: 32.8 KB\n"
     ]
    }
   ],
   "source": [
    "# combine commodity df with oil datasets\n",
    "oil_commodities_sp500 = pd.concat([df_commodities,df_silver,df_crudeoil,dxy_df, wti_df,prime_data],  join='inner',axis=\"columns\")\n",
    "oil_commodities_sp500.info()"
   ]
  },
  {
   "cell_type": "code",
   "execution_count": 81,
   "metadata": {},
   "outputs": [
    {
     "data": {
      "text/html": [
       "<div>\n",
       "<style scoped>\n",
       "    .dataframe tbody tr th:only-of-type {\n",
       "        vertical-align: middle;\n",
       "    }\n",
       "\n",
       "    .dataframe tbody tr th {\n",
       "        vertical-align: top;\n",
       "    }\n",
       "\n",
       "    .dataframe thead th {\n",
       "        text-align: right;\n",
       "    }\n",
       "</style>\n",
       "<table border=\"1\" class=\"dataframe\">\n",
       "  <thead>\n",
       "    <tr style=\"text-align: right;\">\n",
       "      <th></th>\n",
       "      <th>sp500</th>\n",
       "      <th>dowjones</th>\n",
       "      <th>nasdaq</th>\n",
       "      <th>gold</th>\n",
       "      <th>silver</th>\n",
       "      <th>crude oil</th>\n",
       "      <th>usd</th>\n",
       "      <th>wti oil</th>\n",
       "      <th>prime rate</th>\n",
       "    </tr>\n",
       "  </thead>\n",
       "  <tbody>\n",
       "    <tr>\n",
       "      <th>2020-12-01</th>\n",
       "      <td>3756.07</td>\n",
       "      <td>30606.48</td>\n",
       "      <td>12888.28</td>\n",
       "      <td>1895.1</td>\n",
       "      <td>26.412</td>\n",
       "      <td>48.52</td>\n",
       "      <td>89.940002</td>\n",
       "      <td>47.02</td>\n",
       "      <td>0.09</td>\n",
       "    </tr>\n",
       "    <tr>\n",
       "      <th>2020-11-01</th>\n",
       "      <td>3621.63</td>\n",
       "      <td>29638.64</td>\n",
       "      <td>12198.74</td>\n",
       "      <td>1780.9</td>\n",
       "      <td>22.593</td>\n",
       "      <td>45.34</td>\n",
       "      <td>91.870003</td>\n",
       "      <td>40.94</td>\n",
       "      <td>-0.06</td>\n",
       "    </tr>\n",
       "    <tr>\n",
       "      <th>2020-10-01</th>\n",
       "      <td>3269.96</td>\n",
       "      <td>26501.60</td>\n",
       "      <td>10911.59</td>\n",
       "      <td>1887.2</td>\n",
       "      <td>23.799</td>\n",
       "      <td>35.79</td>\n",
       "      <td>94.040001</td>\n",
       "      <td>39.40</td>\n",
       "      <td>0.04</td>\n",
       "    </tr>\n",
       "    <tr>\n",
       "      <th>2020-09-01</th>\n",
       "      <td>3363.00</td>\n",
       "      <td>27781.70</td>\n",
       "      <td>11167.51</td>\n",
       "      <td>1902.6</td>\n",
       "      <td>23.627</td>\n",
       "      <td>40.22</td>\n",
       "      <td>93.889999</td>\n",
       "      <td>39.63</td>\n",
       "      <td>0.14</td>\n",
       "    </tr>\n",
       "    <tr>\n",
       "      <th>2020-08-01</th>\n",
       "      <td>3500.31</td>\n",
       "      <td>28430.05</td>\n",
       "      <td>11775.46</td>\n",
       "      <td>1986.5</td>\n",
       "      <td>28.756</td>\n",
       "      <td>42.61</td>\n",
       "      <td>92.139999</td>\n",
       "      <td>42.34</td>\n",
       "      <td>0.32</td>\n",
       "    </tr>\n",
       "  </tbody>\n",
       "</table>\n",
       "</div>"
      ],
      "text/plain": [
       "              sp500  dowjones    nasdaq    gold  silver  crude oil        usd  \\\n",
       "2020-12-01  3756.07  30606.48  12888.28  1895.1  26.412      48.52  89.940002   \n",
       "2020-11-01  3621.63  29638.64  12198.74  1780.9  22.593      45.34  91.870003   \n",
       "2020-10-01  3269.96  26501.60  10911.59  1887.2  23.799      35.79  94.040001   \n",
       "2020-09-01  3363.00  27781.70  11167.51  1902.6  23.627      40.22  93.889999   \n",
       "2020-08-01  3500.31  28430.05  11775.46  1986.5  28.756      42.61  92.139999   \n",
       "\n",
       "            wti oil  prime rate  \n",
       "2020-12-01    47.02        0.09  \n",
       "2020-11-01    40.94       -0.06  \n",
       "2020-10-01    39.40        0.04  \n",
       "2020-09-01    39.63        0.14  \n",
       "2020-08-01    42.34        0.32  "
      ]
     },
     "execution_count": 81,
     "metadata": {},
     "output_type": "execute_result"
    }
   ],
   "source": [
    "oil_commodities_sp500.head()"
   ]
  },
  {
   "cell_type": "code",
   "execution_count": 82,
   "metadata": {},
   "outputs": [
    {
     "name": "stdout",
     "output_type": "stream",
     "text": [
      "<class 'pandas.core.frame.DataFrame'>\n",
      "DatetimeIndex: 142 entries, 2020-07-01 to 1985-04-01\n",
      "Freq: -1QS-OCT\n",
      "Data columns (total 4 columns):\n",
      "sp500                142 non-null float64\n",
      "gdp                  142 non-null float64\n",
      "interest rate        142 non-null float64\n",
      "house price index    142 non-null float64\n",
      "dtypes: float64(4)\n",
      "memory usage: 5.5 KB\n"
     ]
    }
   ],
   "source": [
    "# combine indices datasets\n",
    "gdp_hpi_sp500 = pd.concat([df_commodities,real_gdp,ir_data,hpi_data], join=\"inner\", axis=\"columns\") # used commodities df as sp500 is already converted to float\n",
    "gdp_hpi_sp500.drop(columns=['dowjones','nasdaq','gold'],inplace=True)\n",
    "gdp_hpi_sp500.info()"
   ]
  },
  {
   "cell_type": "code",
   "execution_count": 83,
   "metadata": {},
   "outputs": [
    {
     "data": {
      "text/html": [
       "<div>\n",
       "<style scoped>\n",
       "    .dataframe tbody tr th:only-of-type {\n",
       "        vertical-align: middle;\n",
       "    }\n",
       "\n",
       "    .dataframe tbody tr th {\n",
       "        vertical-align: top;\n",
       "    }\n",
       "\n",
       "    .dataframe thead th {\n",
       "        text-align: right;\n",
       "    }\n",
       "</style>\n",
       "<table border=\"1\" class=\"dataframe\">\n",
       "  <thead>\n",
       "    <tr style=\"text-align: right;\">\n",
       "      <th></th>\n",
       "      <th>sp500</th>\n",
       "      <th>gdp</th>\n",
       "      <th>interest rate</th>\n",
       "      <th>house price index</th>\n",
       "    </tr>\n",
       "  </thead>\n",
       "  <tbody>\n",
       "    <tr>\n",
       "      <th>2020-07-01</th>\n",
       "      <td>3271.12</td>\n",
       "      <td>56290.0</td>\n",
       "      <td>56290.0</td>\n",
       "      <td>465.84</td>\n",
       "    </tr>\n",
       "    <tr>\n",
       "      <th>2020-04-01</th>\n",
       "      <td>2912.43</td>\n",
       "      <td>52448.0</td>\n",
       "      <td>52448.0</td>\n",
       "      <td>457.87</td>\n",
       "    </tr>\n",
       "    <tr>\n",
       "      <th>2020-01-01</th>\n",
       "      <td>3225.52</td>\n",
       "      <td>57691.0</td>\n",
       "      <td>57691.0</td>\n",
       "      <td>453.92</td>\n",
       "    </tr>\n",
       "    <tr>\n",
       "      <th>2019-10-01</th>\n",
       "      <td>3037.56</td>\n",
       "      <td>58490.0</td>\n",
       "      <td>58490.0</td>\n",
       "      <td>449.16</td>\n",
       "    </tr>\n",
       "    <tr>\n",
       "      <th>2019-07-01</th>\n",
       "      <td>2980.38</td>\n",
       "      <td>58229.0</td>\n",
       "      <td>58229.0</td>\n",
       "      <td>444.96</td>\n",
       "    </tr>\n",
       "  </tbody>\n",
       "</table>\n",
       "</div>"
      ],
      "text/plain": [
       "              sp500      gdp  interest rate  house price index\n",
       "2020-07-01  3271.12  56290.0        56290.0             465.84\n",
       "2020-04-01  2912.43  52448.0        52448.0             457.87\n",
       "2020-01-01  3225.52  57691.0        57691.0             453.92\n",
       "2019-10-01  3037.56  58490.0        58490.0             449.16\n",
       "2019-07-01  2980.38  58229.0        58229.0             444.96"
      ]
     },
     "execution_count": 83,
     "metadata": {},
     "output_type": "execute_result"
    }
   ],
   "source": [
    "gdp_hpi_sp500.head()"
   ]
  },
  {
   "cell_type": "code",
   "execution_count": 84,
   "metadata": {},
   "outputs": [
    {
     "data": {
      "text/html": [
       "<div>\n",
       "<style scoped>\n",
       "    .dataframe tbody tr th:only-of-type {\n",
       "        vertical-align: middle;\n",
       "    }\n",
       "\n",
       "    .dataframe tbody tr th {\n",
       "        vertical-align: top;\n",
       "    }\n",
       "\n",
       "    .dataframe thead th {\n",
       "        text-align: right;\n",
       "    }\n",
       "</style>\n",
       "<table border=\"1\" class=\"dataframe\">\n",
       "  <thead>\n",
       "    <tr style=\"text-align: right;\">\n",
       "      <th></th>\n",
       "      <th>sp500</th>\n",
       "      <th>dowjones</th>\n",
       "      <th>nasdaq</th>\n",
       "      <th>gold</th>\n",
       "      <th>silver</th>\n",
       "      <th>crude oil</th>\n",
       "      <th>usd</th>\n",
       "      <th>wti oil</th>\n",
       "      <th>prime rate</th>\n",
       "    </tr>\n",
       "  </thead>\n",
       "  <tbody>\n",
       "    <tr>\n",
       "      <th>sp500</th>\n",
       "      <td>1.000000</td>\n",
       "      <td>0.959148</td>\n",
       "      <td>0.861442</td>\n",
       "      <td>-0.047171</td>\n",
       "      <td>0.168519</td>\n",
       "      <td>0.192896</td>\n",
       "      <td>-0.114657</td>\n",
       "      <td>0.090555</td>\n",
       "      <td>-0.023702</td>\n",
       "    </tr>\n",
       "    <tr>\n",
       "      <th>dowjones</th>\n",
       "      <td>0.959148</td>\n",
       "      <td>1.000000</td>\n",
       "      <td>0.772686</td>\n",
       "      <td>-0.065531</td>\n",
       "      <td>0.148147</td>\n",
       "      <td>0.171803</td>\n",
       "      <td>-0.084694</td>\n",
       "      <td>0.085366</td>\n",
       "      <td>-0.018323</td>\n",
       "    </tr>\n",
       "    <tr>\n",
       "      <th>nasdaq</th>\n",
       "      <td>0.861442</td>\n",
       "      <td>0.772686</td>\n",
       "      <td>1.000000</td>\n",
       "      <td>-0.033415</td>\n",
       "      <td>0.147108</td>\n",
       "      <td>0.159275</td>\n",
       "      <td>-0.057104</td>\n",
       "      <td>0.056424</td>\n",
       "      <td>0.015671</td>\n",
       "    </tr>\n",
       "    <tr>\n",
       "      <th>gold</th>\n",
       "      <td>-0.047171</td>\n",
       "      <td>-0.065531</td>\n",
       "      <td>-0.033415</td>\n",
       "      <td>1.000000</td>\n",
       "      <td>0.709265</td>\n",
       "      <td>0.174997</td>\n",
       "      <td>-0.350768</td>\n",
       "      <td>0.067412</td>\n",
       "      <td>0.031369</td>\n",
       "    </tr>\n",
       "    <tr>\n",
       "      <th>silver</th>\n",
       "      <td>0.168519</td>\n",
       "      <td>0.148147</td>\n",
       "      <td>0.147108</td>\n",
       "      <td>0.709265</td>\n",
       "      <td>1.000000</td>\n",
       "      <td>0.255584</td>\n",
       "      <td>-0.238662</td>\n",
       "      <td>0.159151</td>\n",
       "      <td>0.035773</td>\n",
       "    </tr>\n",
       "    <tr>\n",
       "      <th>crude oil</th>\n",
       "      <td>0.192896</td>\n",
       "      <td>0.171803</td>\n",
       "      <td>0.159275</td>\n",
       "      <td>0.174997</td>\n",
       "      <td>0.255584</td>\n",
       "      <td>1.000000</td>\n",
       "      <td>-0.189371</td>\n",
       "      <td>0.746044</td>\n",
       "      <td>0.030210</td>\n",
       "    </tr>\n",
       "    <tr>\n",
       "      <th>usd</th>\n",
       "      <td>-0.114657</td>\n",
       "      <td>-0.084694</td>\n",
       "      <td>-0.057104</td>\n",
       "      <td>-0.350768</td>\n",
       "      <td>-0.238662</td>\n",
       "      <td>-0.189371</td>\n",
       "      <td>1.000000</td>\n",
       "      <td>-0.108358</td>\n",
       "      <td>0.017936</td>\n",
       "    </tr>\n",
       "    <tr>\n",
       "      <th>wti oil</th>\n",
       "      <td>0.090555</td>\n",
       "      <td>0.085366</td>\n",
       "      <td>0.056424</td>\n",
       "      <td>0.067412</td>\n",
       "      <td>0.159151</td>\n",
       "      <td>0.746044</td>\n",
       "      <td>-0.108358</td>\n",
       "      <td>1.000000</td>\n",
       "      <td>0.064596</td>\n",
       "    </tr>\n",
       "    <tr>\n",
       "      <th>prime rate</th>\n",
       "      <td>-0.023702</td>\n",
       "      <td>-0.018323</td>\n",
       "      <td>0.015671</td>\n",
       "      <td>0.031369</td>\n",
       "      <td>0.035773</td>\n",
       "      <td>0.030210</td>\n",
       "      <td>0.017936</td>\n",
       "      <td>0.064596</td>\n",
       "      <td>1.000000</td>\n",
       "    </tr>\n",
       "  </tbody>\n",
       "</table>\n",
       "</div>"
      ],
      "text/plain": [
       "               sp500  dowjones    nasdaq      gold    silver  crude oil  \\\n",
       "sp500       1.000000  0.959148  0.861442 -0.047171  0.168519   0.192896   \n",
       "dowjones    0.959148  1.000000  0.772686 -0.065531  0.148147   0.171803   \n",
       "nasdaq      0.861442  0.772686  1.000000 -0.033415  0.147108   0.159275   \n",
       "gold       -0.047171 -0.065531 -0.033415  1.000000  0.709265   0.174997   \n",
       "silver      0.168519  0.148147  0.147108  0.709265  1.000000   0.255584   \n",
       "crude oil   0.192896  0.171803  0.159275  0.174997  0.255584   1.000000   \n",
       "usd        -0.114657 -0.084694 -0.057104 -0.350768 -0.238662  -0.189371   \n",
       "wti oil     0.090555  0.085366  0.056424  0.067412  0.159151   0.746044   \n",
       "prime rate -0.023702 -0.018323  0.015671  0.031369  0.035773   0.030210   \n",
       "\n",
       "                 usd   wti oil  prime rate  \n",
       "sp500      -0.114657  0.090555   -0.023702  \n",
       "dowjones   -0.084694  0.085366   -0.018323  \n",
       "nasdaq     -0.057104  0.056424    0.015671  \n",
       "gold       -0.350768  0.067412    0.031369  \n",
       "silver     -0.238662  0.159151    0.035773  \n",
       "crude oil  -0.189371  0.746044    0.030210  \n",
       "usd         1.000000 -0.108358    0.017936  \n",
       "wti oil    -0.108358  1.000000    0.064596  \n",
       "prime rate  0.017936  0.064596    1.000000  "
      ]
     },
     "execution_count": 84,
     "metadata": {},
     "output_type": "execute_result"
    }
   ],
   "source": [
    "# calculate monthly returns\n",
    "oil_commodities_return = oil_commodities_sp500.pct_change()\n",
    "\n",
    "# calculate correlation\n",
    "oil_commodities_corr = oil_commodities_return.corr()\n",
    "oil_commodities_corr"
   ]
  },
  {
   "cell_type": "code",
   "execution_count": 85,
   "metadata": {},
   "outputs": [
    {
     "data": {
      "text/plain": [
       "<matplotlib.axes._subplots.AxesSubplot at 0x1bf9118b108>"
      ]
     },
     "execution_count": 85,
     "metadata": {},
     "output_type": "execute_result"
    },
    {
     "data": {
      "image/png": "[encoded data removed]",
      "text/plain": [
       "<Figure size 432x288 with 2 Axes>"
      ]
     },
     "metadata": {
      "needs_background": "light"
     },
     "output_type": "display_data"
    }
   ],
   "source": [
    "sns.heatmap(oil_commodities_corr, vmin=-1, vmax=1)"
   ]
  },
  {
   "cell_type": "code",
   "execution_count": 86,
   "metadata": {},
   "outputs": [
    {
     "data": {
      "text/plain": [
       "<matplotlib.axes._subplots.AxesSubplot at 0x1bf9016de08>"
      ]
     },
     "execution_count": 86,
     "metadata": {},
     "output_type": "execute_result"
    },
    {
     "data": {
      "image/png": "[encoded data removed]",
      "text/plain": [
       "<Figure size 432x288 with 1 Axes>"
      ]
     },
     "metadata": {
      "needs_background": "light"
     },
     "output_type": "display_data"
    }
   ],
   "source": [
    "oil_commodities_sp500.plot(y=['sp500', 'dowjones', 'nasdaq', 'gold', 'silver', 'crude oil', 'usd',\n",
    "       'wti oil','prime rate'],grid=True,title='Oil & Commodoties Plot')"
   ]
  },
  {
   "cell_type": "code",
   "execution_count": 88,
   "metadata": {},
   "outputs": [],
   "source": [
    "## Adding a second scale \n",
    "#fig, ax = plt.subplots(1,2)\n",
    "\n",
    "#oil_commodities_sp500['sp500'].plot()\n",
    "#oil_commodities_sp500['usd'].plot(ax=ax[1], label= 'usd', xlabel='year', ylabel='usd & wti',title='Monthly Closing Price',figsize =(10,5))\n",
    "#oil_commodities_sp500['wti oil'].plot(ax=ax[1], ylabel= 'wti', color= 'purple',figsize=(10,5))"
   ]
  },
  {
   "cell_type": "code",
   "execution_count": 89,
   "metadata": {},
   "outputs": [
    {
     "data": {
      "text/html": [
       "<div>\n",
       "<style scoped>\n",
       "    .dataframe tbody tr th:only-of-type {\n",
       "        vertical-align: middle;\n",
       "    }\n",
       "\n",
       "    .dataframe tbody tr th {\n",
       "        vertical-align: top;\n",
       "    }\n",
       "\n",
       "    .dataframe thead th {\n",
       "        text-align: right;\n",
       "    }\n",
       "</style>\n",
       "<table border=\"1\" class=\"dataframe\">\n",
       "  <thead>\n",
       "    <tr style=\"text-align: right;\">\n",
       "      <th></th>\n",
       "      <th>sp500</th>\n",
       "      <th>gdp</th>\n",
       "      <th>interest rate</th>\n",
       "      <th>house price index</th>\n",
       "    </tr>\n",
       "  </thead>\n",
       "  <tbody>\n",
       "    <tr>\n",
       "      <th>sp500</th>\n",
       "      <td>1.000000</td>\n",
       "      <td>0.334966</td>\n",
       "      <td>0.334966</td>\n",
       "      <td>0.080561</td>\n",
       "    </tr>\n",
       "    <tr>\n",
       "      <th>gdp</th>\n",
       "      <td>0.334966</td>\n",
       "      <td>1.000000</td>\n",
       "      <td>1.000000</td>\n",
       "      <td>0.166025</td>\n",
       "    </tr>\n",
       "    <tr>\n",
       "      <th>interest rate</th>\n",
       "      <td>0.334966</td>\n",
       "      <td>1.000000</td>\n",
       "      <td>1.000000</td>\n",
       "      <td>0.166025</td>\n",
       "    </tr>\n",
       "    <tr>\n",
       "      <th>house price index</th>\n",
       "      <td>0.080561</td>\n",
       "      <td>0.166025</td>\n",
       "      <td>0.166025</td>\n",
       "      <td>1.000000</td>\n",
       "    </tr>\n",
       "  </tbody>\n",
       "</table>\n",
       "</div>"
      ],
      "text/plain": [
       "                      sp500       gdp  interest rate  house price index\n",
       "sp500              1.000000  0.334966       0.334966           0.080561\n",
       "gdp                0.334966  1.000000       1.000000           0.166025\n",
       "interest rate      0.334966  1.000000       1.000000           0.166025\n",
       "house price index  0.080561  0.166025       0.166025           1.000000"
      ]
     },
     "execution_count": 89,
     "metadata": {},
     "output_type": "execute_result"
    }
   ],
   "source": [
    "gdp_hpi_returns = gdp_hpi_sp500.pct_change()\n",
    "gdp_hpi_returns.dropna(inplace=True)\n",
    "\n",
    "gdp_hpi_corr = gdp_hpi_returns.corr()\n",
    "gdp_hpi_corr.head()"
   ]
  },
  {
   "cell_type": "code",
   "execution_count": 90,
   "metadata": {},
   "outputs": [
    {
     "data": {
      "text/plain": [
       "<matplotlib.axes._subplots.AxesSubplot at 0x1bf9134d308>"
      ]
     },
     "execution_count": 90,
     "metadata": {},
     "output_type": "execute_result"
    },
    {
     "data": {
      "image/png": "[encoded data removed]",
      "text/plain": [
       "<Figure size 432x288 with 2 Axes>"
      ]
     },
     "metadata": {
      "needs_background": "light"
     },
     "output_type": "display_data"
    }
   ],
   "source": [
    "sns.heatmap(gdp_hpi_corr, vmin=-1, vmax=1)"
   ]
  },
  {
   "cell_type": "code",
   "execution_count": 91,
   "metadata": {},
   "outputs": [
    {
     "data": {
      "text/plain": [
       "<matplotlib.axes._subplots.AxesSubplot at 0x1bf9238d748>"
      ]
     },
     "execution_count": 91,
     "metadata": {},
     "output_type": "execute_result"
    },
    {
     "data": {
      "image/png": "[encoded data removed]",
      "text/plain": [
       "<Figure size 432x288 with 1 Axes>"
      ]
     },
     "metadata": {
      "needs_background": "light"
     },
     "output_type": "display_data"
    }
   ],
   "source": [
    "gdp_hpi_sp500.plot(y=['sp500', 'gdp','interest rate','house price index'],grid=True,title='GDP, Interest Rate & Housing Price Index Plot')"
   ]
  },
  {
   "cell_type": "markdown",
   "metadata": {},
   "source": [
    "## Plotting Graph for Analysis "
   ]
  },
  {
   "cell_type": "code",
   "execution_count": 92,
   "metadata": {},
   "outputs": [],
   "source": [
    "prices_commodities = oil_commodities_sp500[[\"sp500\",\"gold\",\"silver\",\"crude oil\"]].hvplot.line(xlabel=\"Date\", ylabel=\"Monthly Close Price\")\n",
    "prices_gold = oil_commodities_sp500[[\"sp500\",\"gold\"]].hvplot.line(xlabel=\"Date\", ylabel=\"Monthly Close Price\")\n",
    "prices_silver = oil_commodities_sp500[[\"sp500\",\"silver\"]].hvplot.line(xlabel=\"Date\", ylabel=\"Monthly Close Price\")\n",
    "prices_crudeoil = oil_commodities_sp500[[\"sp500\",\"crude oil\"]].hvplot.line(xlabel=\"Date\", ylabel=\"Monthly Close Price\")\n",
    "oil_price = oil_commodities_sp500[['sp500','wti oil']].hvplot.line(xlabel=\"Date\", ylabel=\"Monthly Closing Price\")\n",
    "usd_price = oil_commodities_sp500[['sp500','usd']].hvplot.line(xlabel=\"Date\", ylabel=\"Monthly Closing Price\")\n",
    "prime_rate = oil_commodities_sp500[['sp500','prime rate']].hvplot.line(xlabel=\"Date\", ylabel=\"Monthly Closing Price\")\n",
    "all_price = oil_commodities_sp500[['sp500','wti oil', 'usd']].hvplot.line(xlabel=\"Date\", ylabel=\"Monthly Closing Price\")"
   ]
  },
  {
   "cell_type": "code",
   "execution_count": 93,
   "metadata": {},
   "outputs": [],
   "source": [
    "gdp_sp500_plot = gdp_hpi_sp500[['sp500','gdp']].hvplot.line(xlabel='Date',ylabel='Quarterly Change')\n",
    "ir_sp500_plot = gdp_hpi_sp500[['sp500','interest rate']].hvplot.line(xlabel='Date',ylabel='Quarterly Change')\n",
    "hpi_sp500_plot = gdp_hpi_sp500[['sp500','house price index']].hvplot.line(xlabel='Date',ylabel='Quarterly Change')"
   ]
  },
  {
   "cell_type": "code",
   "execution_count": 94,
   "metadata": {},
   "outputs": [
    {
     "data": {
      "text/html": [
       "<div>\n",
       "<style scoped>\n",
       "    .dataframe tbody tr th:only-of-type {\n",
       "        vertical-align: middle;\n",
       "    }\n",
       "\n",
       "    .dataframe tbody tr th {\n",
       "        vertical-align: top;\n",
       "    }\n",
       "\n",
       "    .dataframe thead th {\n",
       "        text-align: right;\n",
       "    }\n",
       "</style>\n",
       "<table border=\"1\" class=\"dataframe\">\n",
       "  <thead>\n",
       "    <tr style=\"text-align: right;\">\n",
       "      <th></th>\n",
       "      <th>level_1</th>\n",
       "      <th>sp500</th>\n",
       "      <th>dowjones</th>\n",
       "      <th>nasdaq</th>\n",
       "      <th>gold</th>\n",
       "      <th>silver</th>\n",
       "      <th>crude oil</th>\n",
       "      <th>usd</th>\n",
       "      <th>wti oil</th>\n",
       "      <th>prime rate</th>\n",
       "    </tr>\n",
       "    <tr>\n",
       "      <th>Date</th>\n",
       "      <th></th>\n",
       "      <th></th>\n",
       "      <th></th>\n",
       "      <th></th>\n",
       "      <th></th>\n",
       "      <th></th>\n",
       "      <th></th>\n",
       "      <th></th>\n",
       "      <th></th>\n",
       "      <th></th>\n",
       "    </tr>\n",
       "  </thead>\n",
       "  <tbody>\n",
       "    <tr>\n",
       "      <th>2019-04-01</th>\n",
       "      <td>sp500</td>\n",
       "      <td>1.000000</td>\n",
       "      <td>0.994291</td>\n",
       "      <td>0.977442</td>\n",
       "      <td>0.405374</td>\n",
       "      <td>0.690350</td>\n",
       "      <td>0.729474</td>\n",
       "      <td>-0.347121</td>\n",
       "      <td>0.117036</td>\n",
       "      <td>-0.154778</td>\n",
       "    </tr>\n",
       "    <tr>\n",
       "      <th>2019-04-01</th>\n",
       "      <td>dowjones</td>\n",
       "      <td>0.994291</td>\n",
       "      <td>1.000000</td>\n",
       "      <td>0.954489</td>\n",
       "      <td>0.382215</td>\n",
       "      <td>0.687154</td>\n",
       "      <td>0.744426</td>\n",
       "      <td>-0.317111</td>\n",
       "      <td>0.169584</td>\n",
       "      <td>-0.132267</td>\n",
       "    </tr>\n",
       "    <tr>\n",
       "      <th>2019-04-01</th>\n",
       "      <td>nasdaq</td>\n",
       "      <td>0.977442</td>\n",
       "      <td>0.954489</td>\n",
       "      <td>1.000000</td>\n",
       "      <td>0.425165</td>\n",
       "      <td>0.635772</td>\n",
       "      <td>0.636342</td>\n",
       "      <td>-0.333173</td>\n",
       "      <td>-0.004111</td>\n",
       "      <td>-0.193099</td>\n",
       "    </tr>\n",
       "    <tr>\n",
       "      <th>2019-04-01</th>\n",
       "      <td>gold</td>\n",
       "      <td>0.405374</td>\n",
       "      <td>0.382215</td>\n",
       "      <td>0.425165</td>\n",
       "      <td>1.000000</td>\n",
       "      <td>0.708173</td>\n",
       "      <td>0.136360</td>\n",
       "      <td>-0.424108</td>\n",
       "      <td>-0.286351</td>\n",
       "      <td>-0.016548</td>\n",
       "    </tr>\n",
       "    <tr>\n",
       "      <th>2019-04-01</th>\n",
       "      <td>silver</td>\n",
       "      <td>0.690350</td>\n",
       "      <td>0.687154</td>\n",
       "      <td>0.635772</td>\n",
       "      <td>0.708173</td>\n",
       "      <td>1.000000</td>\n",
       "      <td>0.683401</td>\n",
       "      <td>-0.326315</td>\n",
       "      <td>0.270541</td>\n",
       "      <td>0.165940</td>\n",
       "    </tr>\n",
       "  </tbody>\n",
       "</table>\n",
       "</div>"
      ],
      "text/plain": [
       "             level_1     sp500  dowjones    nasdaq      gold    silver  \\\n",
       "Date                                                                     \n",
       "2019-04-01     sp500  1.000000  0.994291  0.977442  0.405374  0.690350   \n",
       "2019-04-01  dowjones  0.994291  1.000000  0.954489  0.382215  0.687154   \n",
       "2019-04-01    nasdaq  0.977442  0.954489  1.000000  0.425165  0.635772   \n",
       "2019-04-01      gold  0.405374  0.382215  0.425165  1.000000  0.708173   \n",
       "2019-04-01    silver  0.690350  0.687154  0.635772  0.708173  1.000000   \n",
       "\n",
       "            crude oil       usd   wti oil  prime rate  \n",
       "Date                                                   \n",
       "2019-04-01   0.729474 -0.347121  0.117036   -0.154778  \n",
       "2019-04-01   0.744426 -0.317111  0.169584   -0.132267  \n",
       "2019-04-01   0.636342 -0.333173 -0.004111   -0.193099  \n",
       "2019-04-01   0.136360 -0.424108 -0.286351   -0.016548  \n",
       "2019-04-01   0.683401 -0.326315  0.270541    0.165940  "
      ]
     },
     "execution_count": 94,
     "metadata": {},
     "output_type": "execute_result"
    }
   ],
   "source": [
    "rolling_corr = oil_commodities_return.rolling(window=12).corr().dropna()\n",
    "rolling_corr.reset_index(inplace=True)\n",
    "rolling_corr.rename(columns={\"level_0\":\"Date\"},inplace=True)\n",
    "rolling_corr.set_index(\"Date\",inplace=True)\n",
    "rolling_corr.head()"
   ]
  },
  {
   "cell_type": "code",
   "execution_count": 95,
   "metadata": {},
   "outputs": [
    {
     "data": {
      "text/html": [
       "<div>\n",
       "<style scoped>\n",
       "    .dataframe tbody tr th:only-of-type {\n",
       "        vertical-align: middle;\n",
       "    }\n",
       "\n",
       "    .dataframe tbody tr th {\n",
       "        vertical-align: top;\n",
       "    }\n",
       "\n",
       "    .dataframe thead th {\n",
       "        text-align: right;\n",
       "    }\n",
       "</style>\n",
       "<table border=\"1\" class=\"dataframe\">\n",
       "  <thead>\n",
       "    <tr style=\"text-align: right;\">\n",
       "      <th></th>\n",
       "      <th>level_1</th>\n",
       "      <th>sp500</th>\n",
       "      <th>gdp</th>\n",
       "      <th>interest rate</th>\n",
       "      <th>house price index</th>\n",
       "    </tr>\n",
       "    <tr>\n",
       "      <th>Date</th>\n",
       "      <th></th>\n",
       "      <th></th>\n",
       "      <th></th>\n",
       "      <th></th>\n",
       "      <th></th>\n",
       "    </tr>\n",
       "  </thead>\n",
       "  <tbody>\n",
       "    <tr>\n",
       "      <th>2017-07-01</th>\n",
       "      <td>sp500</td>\n",
       "      <td>1.000000</td>\n",
       "      <td>0.692304</td>\n",
       "      <td>0.692304</td>\n",
       "      <td>0.362667</td>\n",
       "    </tr>\n",
       "    <tr>\n",
       "      <th>2017-07-01</th>\n",
       "      <td>gdp</td>\n",
       "      <td>0.692304</td>\n",
       "      <td>1.000000</td>\n",
       "      <td>1.000000</td>\n",
       "      <td>0.414574</td>\n",
       "    </tr>\n",
       "    <tr>\n",
       "      <th>2017-07-01</th>\n",
       "      <td>interest rate</td>\n",
       "      <td>0.692304</td>\n",
       "      <td>1.000000</td>\n",
       "      <td>1.000000</td>\n",
       "      <td>0.414574</td>\n",
       "    </tr>\n",
       "    <tr>\n",
       "      <th>2017-07-01</th>\n",
       "      <td>house price index</td>\n",
       "      <td>0.362667</td>\n",
       "      <td>0.414574</td>\n",
       "      <td>0.414574</td>\n",
       "      <td>1.000000</td>\n",
       "    </tr>\n",
       "    <tr>\n",
       "      <th>2017-04-01</th>\n",
       "      <td>sp500</td>\n",
       "      <td>1.000000</td>\n",
       "      <td>0.610031</td>\n",
       "      <td>0.610031</td>\n",
       "      <td>0.262900</td>\n",
       "    </tr>\n",
       "  </tbody>\n",
       "</table>\n",
       "</div>"
      ],
      "text/plain": [
       "                      level_1     sp500       gdp  interest rate  \\\n",
       "Date                                                               \n",
       "2017-07-01              sp500  1.000000  0.692304       0.692304   \n",
       "2017-07-01                gdp  0.692304  1.000000       1.000000   \n",
       "2017-07-01      interest rate  0.692304  1.000000       1.000000   \n",
       "2017-07-01  house price index  0.362667  0.414574       0.414574   \n",
       "2017-04-01              sp500  1.000000  0.610031       0.610031   \n",
       "\n",
       "            house price index  \n",
       "Date                           \n",
       "2017-07-01           0.362667  \n",
       "2017-07-01           0.414574  \n",
       "2017-07-01           0.414574  \n",
       "2017-07-01           1.000000  \n",
       "2017-04-01           0.262900  "
      ]
     },
     "execution_count": 95,
     "metadata": {},
     "output_type": "execute_result"
    }
   ],
   "source": [
    "gdp_rolling_corr = gdp_hpi_returns.rolling(window=12).corr().dropna()\n",
    "gdp_rolling_corr.reset_index(inplace=True)\n",
    "gdp_rolling_corr.rename(columns={\"level_0\":\"Date\"},inplace=True)\n",
    "gdp_rolling_corr.set_index(\"Date\",inplace=True)\n",
    "gdp_rolling_corr.head()"
   ]
  },
  {
   "cell_type": "code",
   "execution_count": 96,
   "metadata": {},
   "outputs": [],
   "source": [
    "gold_corr = rolling_corr[rolling_corr['level_1'] == 'gold'].sp500\n",
    "crude_oil_corr = rolling_corr[rolling_corr['level_1'] == 'crudeoil'].sp500 \n",
    "silver_corr = rolling_corr[rolling_corr['level_1'] == 'silver'].sp500\n",
    "dowjones_corr = rolling_corr[rolling_corr['level_1'] == 'dowjones'].sp500\n",
    "sp500_corr = rolling_corr[rolling_corr['level_1'] == 'sp500'].sp500\n",
    "dxy_oil_corr = rolling_corr[rolling_corr['level_1'] == 'crude oil'].sp500\n",
    "wti_corr = rolling_corr[rolling_corr['level_1'] == 'wti oil'].sp500\n",
    "prime_corr = rolling_corr[rolling_corr['level_1'] == 'prime rate'].sp500\n",
    "hpi_corr = gdp_rolling_corr[gdp_rolling_corr['level_1'] == 'hpi'].sp500\n",
    "gdp_corr = gdp_rolling_corr[gdp_rolling_corr['level_1'] == 'gdp'].sp500\n",
    "interest_corr = gdp_rolling_corr[gdp_rolling_corr['level_1'] == 'interest rate'].sp500"
   ]
  },
  {
   "cell_type": "code",
   "execution_count": 97,
   "metadata": {},
   "outputs": [],
   "source": [
    "tickers = [\n",
    "          \"BTC-USD\",\n",
    "          \"ETH-USD\",\n",
    "          \"^GSPC\"\n",
    "          ]\n",
    "\n",
    "df_crypto = yf.download(tickers,\n",
    "start=\"1980-01-01\",\n",
    "end=\"2021-01-29\",\n",
    "progress=False,\n",
    "interval = \"1mo\",\n",
    "groupby = \"ticker\"\n",
    "                )"
   ]
  },
  {
   "cell_type": "code",
   "execution_count": 98,
   "metadata": {},
   "outputs": [],
   "source": [
    "df_crypto.drop(columns=['Open', 'High', 'Low', 'Volume', 'Adj Close'], inplace=True)"
   ]
  },
  {
   "cell_type": "code",
   "execution_count": 99,
   "metadata": {},
   "outputs": [],
   "source": [
    "df_crypto.rename(columns=\n",
    "          {\"BTC-USD\":\"btc\",\n",
    "             \"ETH-USD\":\"eth\",\n",
    "             \"^GSPC\":\"sp500\",\n",
    "            },inplace=True)"
   ]
  },
  {
   "cell_type": "code",
   "execution_count": 100,
   "metadata": {},
   "outputs": [],
   "source": [
    "df_crypto.columns = df_crypto.columns.droplevel(level=0)\n",
    "df_crypto.dropna(inplace=True)\n",
    "df_crypto_return = df_crypto.pct_change()\n",
    "df_crypto_corr = df_crypto_return.corr()"
   ]
  },
  {
   "cell_type": "code",
   "execution_count": 101,
   "metadata": {},
   "outputs": [
    {
     "data": {
      "text/html": [
       "<div>\n",
       "<style scoped>\n",
       "    .dataframe tbody tr th:only-of-type {\n",
       "        vertical-align: middle;\n",
       "    }\n",
       "\n",
       "    .dataframe tbody tr th {\n",
       "        vertical-align: top;\n",
       "    }\n",
       "\n",
       "    .dataframe thead th {\n",
       "        text-align: right;\n",
       "    }\n",
       "</style>\n",
       "<table border=\"1\" class=\"dataframe\">\n",
       "  <thead>\n",
       "    <tr style=\"text-align: right;\">\n",
       "      <th></th>\n",
       "      <th>level_1</th>\n",
       "      <th>btc</th>\n",
       "      <th>eth</th>\n",
       "      <th>sp500</th>\n",
       "    </tr>\n",
       "    <tr>\n",
       "      <th>Date</th>\n",
       "      <th></th>\n",
       "      <th></th>\n",
       "      <th></th>\n",
       "      <th></th>\n",
       "    </tr>\n",
       "  </thead>\n",
       "  <tbody>\n",
       "    <tr>\n",
       "      <th>2016-09-01</th>\n",
       "      <td>btc</td>\n",
       "      <td>1.000000</td>\n",
       "      <td>-0.177658</td>\n",
       "      <td>0.287968</td>\n",
       "    </tr>\n",
       "    <tr>\n",
       "      <th>2016-09-01</th>\n",
       "      <td>eth</td>\n",
       "      <td>-0.177658</td>\n",
       "      <td>1.000000</td>\n",
       "      <td>-0.207934</td>\n",
       "    </tr>\n",
       "    <tr>\n",
       "      <th>2016-09-01</th>\n",
       "      <td>sp500</td>\n",
       "      <td>0.287968</td>\n",
       "      <td>-0.207934</td>\n",
       "      <td>1.000000</td>\n",
       "    </tr>\n",
       "    <tr>\n",
       "      <th>2016-10-01</th>\n",
       "      <td>btc</td>\n",
       "      <td>1.000000</td>\n",
       "      <td>-0.199912</td>\n",
       "      <td>-0.077153</td>\n",
       "    </tr>\n",
       "    <tr>\n",
       "      <th>2016-10-01</th>\n",
       "      <td>eth</td>\n",
       "      <td>-0.199912</td>\n",
       "      <td>1.000000</td>\n",
       "      <td>-0.141507</td>\n",
       "    </tr>\n",
       "  </tbody>\n",
       "</table>\n",
       "</div>"
      ],
      "text/plain": [
       "           level_1       btc       eth     sp500\n",
       "Date                                            \n",
       "2016-09-01     btc  1.000000 -0.177658  0.287968\n",
       "2016-09-01     eth -0.177658  1.000000 -0.207934\n",
       "2016-09-01   sp500  0.287968 -0.207934  1.000000\n",
       "2016-10-01     btc  1.000000 -0.199912 -0.077153\n",
       "2016-10-01     eth -0.199912  1.000000 -0.141507"
      ]
     },
     "execution_count": 101,
     "metadata": {},
     "output_type": "execute_result"
    }
   ],
   "source": [
    "df_crypto_rolling_corr = df_crypto_return.rolling(window=12).corr().dropna()\n",
    "df_crypto_rolling_corr.reset_index(inplace=True)\n",
    "df_crypto_rolling_corr.set_index(\"Date\",inplace=True)\n",
    "df_crypto_rolling_corr.head()"
   ]
  },
  {
   "cell_type": "code",
   "execution_count": 102,
   "metadata": {},
   "outputs": [],
   "source": [
    "btc_corr = df_crypto_rolling_corr[df_crypto_rolling_corr['level_1'] == 'btc'].sp500\n",
    "eth_corr = df_crypto_rolling_corr[df_crypto_rolling_corr['level_1'] == 'eth'].sp500\n"
   ]
  },
  {
   "cell_type": "code",
   "execution_count": 103,
   "metadata": {},
   "outputs": [
    {
     "data": {
      "text/html": [
       "<div>\n",
       "<style scoped>\n",
       "    .dataframe tbody tr th:only-of-type {\n",
       "        vertical-align: middle;\n",
       "    }\n",
       "\n",
       "    .dataframe tbody tr th {\n",
       "        vertical-align: top;\n",
       "    }\n",
       "\n",
       "    .dataframe thead th {\n",
       "        text-align: right;\n",
       "    }\n",
       "</style>\n",
       "<table border=\"1\" class=\"dataframe\">\n",
       "  <thead>\n",
       "    <tr style=\"text-align: right;\">\n",
       "      <th></th>\n",
       "      <th>sp500</th>\n",
       "      <th>dowjones</th>\n",
       "      <th>nasdaq</th>\n",
       "      <th>gold</th>\n",
       "      <th>silver</th>\n",
       "      <th>crude oil</th>\n",
       "      <th>usd</th>\n",
       "      <th>wti oil</th>\n",
       "      <th>prime rate</th>\n",
       "    </tr>\n",
       "  </thead>\n",
       "  <tbody>\n",
       "    <tr>\n",
       "      <th>2020-12-01</th>\n",
       "      <td>3756.07</td>\n",
       "      <td>30606.48</td>\n",
       "      <td>12888.28</td>\n",
       "      <td>1895.1</td>\n",
       "      <td>26.412</td>\n",
       "      <td>48.52</td>\n",
       "      <td>89.940002</td>\n",
       "      <td>47.02</td>\n",
       "      <td>0.09</td>\n",
       "    </tr>\n",
       "    <tr>\n",
       "      <th>2020-11-01</th>\n",
       "      <td>3621.63</td>\n",
       "      <td>29638.64</td>\n",
       "      <td>12198.74</td>\n",
       "      <td>1780.9</td>\n",
       "      <td>22.593</td>\n",
       "      <td>45.34</td>\n",
       "      <td>91.870003</td>\n",
       "      <td>40.94</td>\n",
       "      <td>-0.06</td>\n",
       "    </tr>\n",
       "    <tr>\n",
       "      <th>2020-10-01</th>\n",
       "      <td>3269.96</td>\n",
       "      <td>26501.60</td>\n",
       "      <td>10911.59</td>\n",
       "      <td>1887.2</td>\n",
       "      <td>23.799</td>\n",
       "      <td>35.79</td>\n",
       "      <td>94.040001</td>\n",
       "      <td>39.40</td>\n",
       "      <td>0.04</td>\n",
       "    </tr>\n",
       "    <tr>\n",
       "      <th>2020-09-01</th>\n",
       "      <td>3363.00</td>\n",
       "      <td>27781.70</td>\n",
       "      <td>11167.51</td>\n",
       "      <td>1902.6</td>\n",
       "      <td>23.627</td>\n",
       "      <td>40.22</td>\n",
       "      <td>93.889999</td>\n",
       "      <td>39.63</td>\n",
       "      <td>0.14</td>\n",
       "    </tr>\n",
       "    <tr>\n",
       "      <th>2020-08-01</th>\n",
       "      <td>3500.31</td>\n",
       "      <td>28430.05</td>\n",
       "      <td>11775.46</td>\n",
       "      <td>1986.5</td>\n",
       "      <td>28.756</td>\n",
       "      <td>42.61</td>\n",
       "      <td>92.139999</td>\n",
       "      <td>42.34</td>\n",
       "      <td>0.32</td>\n",
       "    </tr>\n",
       "  </tbody>\n",
       "</table>\n",
       "</div>"
      ],
      "text/plain": [
       "              sp500  dowjones    nasdaq    gold  silver  crude oil        usd  \\\n",
       "2020-12-01  3756.07  30606.48  12888.28  1895.1  26.412      48.52  89.940002   \n",
       "2020-11-01  3621.63  29638.64  12198.74  1780.9  22.593      45.34  91.870003   \n",
       "2020-10-01  3269.96  26501.60  10911.59  1887.2  23.799      35.79  94.040001   \n",
       "2020-09-01  3363.00  27781.70  11167.51  1902.6  23.627      40.22  93.889999   \n",
       "2020-08-01  3500.31  28430.05  11775.46  1986.5  28.756      42.61  92.139999   \n",
       "\n",
       "            wti oil  prime rate  \n",
       "2020-12-01    47.02        0.09  \n",
       "2020-11-01    40.94       -0.06  \n",
       "2020-10-01    39.40        0.04  \n",
       "2020-09-01    39.63        0.14  \n",
       "2020-08-01    42.34        0.32  "
      ]
     },
     "execution_count": 103,
     "metadata": {},
     "output_type": "execute_result"
    }
   ],
   "source": [
    "oil_commodities_sp500.head()"
   ]
  },
  {
   "cell_type": "code",
   "execution_count": 104,
   "metadata": {},
   "outputs": [],
   "source": [
    "def comm_correlation():\n",
    "    comm_corr = oil_commodities_corr.hvplot.heatmap(title = \"Commodities and Indices Correlation\")    \n",
    "    return comm_corr\n",
    "def crypto_correlation():\n",
    "    crypto_corr = df_crypto_corr.hvplot.heatmap(title = \"Crytocurrencies and Indices Correlation\")    \n",
    "    return crypto_corr\n",
    "\n",
    "\n",
    "list_of_commodities = [\"gold\",\"silver\",\"crude oil\"]\n",
    "def commodities_price(commodities):\n",
    "    comm_price = oil_commodities_sp500[[\"sp500\",commodities]].hvplot.line(title = f\"Price of {commodities} and S&P500\",\n",
    "                                                                           xlabel=\"Date\", ylabel=\"Monthly Close Price\",ylim=(0,4000))\n",
    "    return comm_price\n",
    "\n",
    "def commodities_correlation(commodities):\n",
    "    comm_corr = rolling_corr[rolling_corr['level_1'] == commodities].sp500\n",
    "    return comm_corr.hvplot.line(title = f\"{commodities} & S&P500 12 month Rolling Correlation\", xlabel=\"Date\", ylabel=\"Correlation\")\n",
    "\n",
    "def econ_correlation(commodities):\n",
    "    econ_corr = gdp_rolling_corr[gdp_rolling_corr['level_1'] == commodities].sp500\n",
    "    return econ_corr.hvplot.line(title = f\"{commodities} & S&P500 12 month Rolling Correlation\", xlabel=\"Date\", ylabel=\"Correlation\")\n",
    "\n",
    "\n",
    "list_of_crypto = [\"btc\",\"eth\"]\n",
    "def cryptocurrency_price(crypto):\n",
    "    crypto_price = df_crypto[[\"sp500\",crypto]].hvplot.line(title = f\"Price of {crypto} and S&P500\",\n",
    "                                                                           xlabel=\"Date\", ylabel=\"Monthly Close Price\")\n",
    "    return crypto_price\n",
    "    \n",
    "def cryptocurrency_corr(crypto):\n",
    "    crypto_corr = df_crypto_rolling_corr[df_crypto_rolling_corr['level_1'] == crypto]\n",
    "    return crypto_corr.sp500.hvplot.line(title = f\"{crypto} and S&P500 12 month Rolling Correlation\",\n",
    "                                                                           xlabel=\"Date\", ylabel=\"Correlation\")\n",
    "                                                                           \n",
    "def oil_commodities_correlation():\n",
    "    oil_commodities_correlation = oil_commodities_corr.hvplot.heatmap(title = \"USD, Oil and S&P500 Correlation\")    \n",
    "    return oil_commodities_correlation\n",
    "\n",
    "\n",
    "list_of_stock = [\"sp500\",\"usd\",\"wti oil\"]\n",
    "def stock_prices(stock):\n",
    "    stock_price = oil_commodities_sp500[[\"sp500\",stock]].hvplot.line(title = f\"Price of {stock} and S&P500\",\n",
    "                                                                           xlabel=\"Date\", ylabel=\"Monthly Close Price\",ylim=(0,4000))\n",
    "    return stock_price\n",
    "\n",
    "def stock_correlation(stock):\n",
    "    stock_corr = rolling_corr[rolling_corr['level_1'] == stock].sp500\n",
    "    return stock_corr.hvplot.line(title = f\"{stock} & S&P500 12 month Rolling Correlation\", xlabel=\"Date\", ylabel=\"Correlation\")"
   ]
  },
  {
   "cell_type": "code",
   "execution_count": 106,
   "metadata": {},
   "outputs": [],
   "source": [
    "comm_summary = pn.Column(\"#S&P 500 and Commodities Summary\", prices_commodities, comm_correlation())\n",
    "crypto_summary = pn.Column(\"#S&P 500 and Cryptocurrencies Summary\", df_crypto.hvplot.line(xlabel=\"Date\", ylabel=\"Monthly Close Price\"), crypto_correlation())\n",
    "comm_analysis = pn.Column(\"#Commodities Analysis\", interact(commodities_price, commodities=list_of_commodities), interact(commodities_correlation,commodities=list_of_commodities))\n",
    "crypto_analysis = pn.Column(\"#Cryptocurrencies Analysis\", interact(cryptocurrency_price, crypto=list_of_crypto), interact(cryptocurrency_corr,crypto=list_of_crypto))\n",
    "stock_summary = pn.Column(\"#Stock and S&P500 Summary\", all_price, oil_commodities_correlation)\n",
    "#stock_analysis = pn.Column(\"#Stock Analysis\", interact(stock_prices(), stock=list_of_stock), interact(stock_correlation(), stock=list_of_stock))\n",
    "gdp_hpi_row = pn.Row(gdp_sp500_plot)\n",
    "panel1=pn.Tabs(\n",
    "    (\"Commodities Summary\",comm_summary), (\"Commodities Analysis\",comm_analysis))\n",
    "panel2=pn.Tabs((\"Cryptocurrencies Summary\", crypto_summary),(\"Cryptocurrencies Analysis\",crypto_analysis))\n",
    "\n",
    "\n",
    "comm_summary = pn.Column(\"#S&P 500 and Commodities Summary\", prices_commodities, comm_correlation())\n",
    "crypto_summary = pn.Column(\"#S&P 500 and Cryptocurrencies Summary\", df_crypto.hvplot.line(xlabel=\"Date\", ylabel=\"Monthly Close Price\"), crypto_correlation())\n",
    "comm_analysis = pn.Column(\"#Commodities Analysis\", interact(commodities_price, commodities=list_of_commodities), interact(commodities_correlation,commodities=list_of_commodities))\n",
    "crypto_analysis = pn.Column(\"#Cryptocurrencies Analysis\", interact(cryptocurrency_price, crypto=list_of_crypto), interact(cryptocurrency_corr,crypto=list_of_crypto))\n",
    "panel1=pn.Tabs(\n",
    "    (\"Commodities Summary\",comm_summary), (\"Commodities Analysis\",comm_analysis))\n",
    "panel2=pn.Tabs((\"Cryptocurrencies Summary\", crypto_summary),(\"Cryptocurrencies Analysis\",crypto_analysis))\n",
    "\n",
    "\n",
    "\n",
    "#panel3=pn.Tabs((\"Stock Summary\",stock_summary), (\"Stock Analysis\",stock_analysis))\n",
    "Summary = pn.Column(\"## General Summary\",gdp_sp500_plot, ir_sp500_plot, hpi_sp500_plot)\n",
    "Analysis = pn.Column(\"## Analysis\", gdp_hpi_returns,ir_sp500_plot,gdp_sp500_plot)\n",
    "panel4= pn.Tabs((\"Summary\", Summary), (\"Analysis\", Analysis))"
   ]
  },
  {
   "cell_type": "code",
   "execution_count": null,
   "metadata": {},
   "outputs": [],
   "source": []
  },
  {
   "cell_type": "markdown",
   "metadata": {},
   "source": [
    "## Presidential Analysis"
   ]
  },
  {
   "cell_type": "code",
   "execution_count": null,
   "metadata": {},
   "outputs": [],
   "source": [
    "real_gdp_returns= real_gdp.pct_change()\n",
    "real_gdp_returns.dropna(inplace=True)\n",
    "real_gdp_returns.info()"
   ]
  },
  {
   "cell_type": "code",
   "execution_count": null,
   "metadata": {},
   "outputs": [],
   "source": [
    "real_gdp_returns.head()"
   ]
  },
  {
   "cell_type": "code",
   "execution_count": null,
   "metadata": {},
   "outputs": [],
   "source": [
    "ir_returns= ir_data.pct_change()\n",
    "ir_returns.dropna(inplace=True)\n",
    "ir_returns.info()\n"
   ]
  },
  {
   "cell_type": "code",
   "execution_count": null,
   "metadata": {},
   "outputs": [],
   "source": [
    "ir_returns.head()"
   ]
  },
  {
   "cell_type": "code",
   "execution_count": null,
   "metadata": {},
   "outputs": [],
   "source": [
    "real_gdp_pres= real_gdp.iloc[::-1] #backward\n",
    "real_gdp_pres= real_gdp.iloc[0:160:4] #0-160 return every 4\n",
    "real_gdp_pres_plot= real_gdp_pres.iloc[0:160:4].hvplot.line(title=\"GDP (1981 - 2020)\")\n",
    "SP500_pres_data = yf.download('^GSPC',\n",
    "    start='1970-01-01',\n",
    "    end='2020-10-01',\n",
    "    interval='3mo',\n",
    "    progress=False)\n",
    "\n",
    "# Display sample data\n",
    "SP500_pres_data.drop(columns= {'Open','High','Low','Adj Close','Volume'},inplace =True)\n",
    "SP500_pres_data. rename (columns = {\"Close\": \"SP_500\"},inplace = True)\n",
    "SP500_pres= SP500_pres_data.iloc[::-1]\n",
    "SP500_pres= SP500_pres.iloc[0:160:4] \n",
    "SP500_pres_plot =SP500_pres .iloc[0:160:4].hvplot.line(title=\" S&P 500 (1981 - 2020)\", xlabel=\"Date\")"
   ]
  },
  {
   "cell_type": "markdown",
   "metadata": {},
   "source": [
    "### Plot Graph according to Presidental Duration"
   ]
  },
  {
   "cell_type": "code",
   "execution_count": null,
   "metadata": {},
   "outputs": [],
   "source": [
    "reagan_gdp= real_gdp_pres.iloc[0:9].hvplot.line(title=\"GDP 1981 - 1988 (Ronald Regan)\")\n",
    "reagan_SP = SP500_pres.iloc[32:40].hvplot.line(title=\"S&P500 - 1981 - 1988 (Ronald Regan)\")\n",
    "bush_SR_gdp= real_gdp_pres.iloc[9:13].hvplot.line(title=\"GDP 1989 - 1992 (George H.W.Bush)\")\n",
    "bush_SR_SP = SP500_pres.iloc[28:33].hvplot.line(title=\"S&P500 - 1989 - 1992 (George H.W.Bush)\")\n",
    "clinton_gdp = real_gdp_pres.iloc[13:21].hvplot.line(title=\"Real GDP 1993 - 2000 (Bill Cliton)\")\n",
    "clinton_SP= SP500_pres.iloc[20:28].hvplot.line(title=\"S&P500 - 1993 - 2000 (Bill Cliton)\")\n",
    "bush_JR_gdp = real_gdp_pres.iloc[21:29].hvplot.line(title=\"GDP 2001 - 2008 (George W.Bush)\")\n",
    "bush_JR_SP= SP500_pres.iloc[12:20].hvplot.line(title=\"S&P500 - 2001 - 2008 (George W.Bush)\")\n",
    "obama_gdp = real_gdp_pres.iloc[29:37].hvplot.line(title=\"GDP 2009 - 2016 (Barack Obama)\")\n",
    "obama_SP = SP500_pres.iloc[4:12].hvplot.line(title=\"S&P500 - 2009 - 2016 (Barack Obama)\")\n",
    "trump_gdp = real_gdp.iloc[150:164:4].hvplot.line(title=\"GDP 2017 - 2020 (Donald Trump)\")\n",
    "trump_SP= SP500_pres.iloc[0:5].hvplot.line(title=\" S&P500 - 2017 - 2020 (Donald Trump)\")"
   ]
  },
  {
   "cell_type": "code",
   "execution_count": null,
   "metadata": {},
   "outputs": [],
   "source": [
    "reagan = pn.Row(reagan_SP,reagan_gdp)\n",
    "bush_SR = pn.Row(bush_SR_SP, bush_SR_gdp)\n",
    "clinton = pn.Row(clinton_SP, clinton_gdp)\n",
    "bush_JR = pn.Row(bush_JR_SP, bush_JR_gdp)\n",
    "obama = pn.Row(obama_SP, obama_gdp)\n",
    "trump = pn.Row(trump_SP, trump_gdp)"
   ]
  },
  {
   "cell_type": "markdown",
   "metadata": {},
   "source": [
    "### Dashboard"
   ]
  },
  {
   "cell_type": "code",
   "execution_count": 107,
   "metadata": {},
   "outputs": [
    {
     "data": {},
     "metadata": {},
     "output_type": "display_data"
    },
    {
     "data": {},
     "metadata": {},
     "output_type": "display_data"
    },
    {
     "data": {
      "application/vnd.holoviews_exec.v0+json": "",
      "text/html": [
       "<div id='7258'>\n",
       "\n",
       "\n",
       "\n",
       "\n",
       "\n",
       "  <div class=\"bk-root\" id=\"958dedf5-ee06-4a5d-be6a-a26a52478613\" data-root-id=\"7258\"></div>\n",
       "</div>\n",
       "<script type=\"application/javascript\">(function(root) {\n",
       "  function embed_document(root) {\n",
       "    var docs_json = {\"1b744356-9276-4874-a8e7-e2fc527c147b\":{\"roots\":{\"references\":[{\"attributes\":{\"axis\":{\"id\":\"7280\"},\"dimension\":1,\"grid_line_color\":null,\"ticker\":null},\"id\":\"7283\",\"type\":\"Grid\"},{\"attributes\":{\"source\":{\"id\":\"7395\"}},\"id\":\"7402\",\"type\":\"CDSView\"},{\"attributes\":{\"active_drag\":\"auto\",\"active_inspect\":\"auto\",\"active_multi\":null,\"active_scroll\":\"auto\",\"active_tap\":\"auto\",\"tools\":[{\"id\":\"7738\"},{\"id\":\"7757\"},{\"id\":\"7758\"},{\"id\":\"7759\"},{\"id\":\"7760\"},{\"id\":\"7761\"}]},\"id\":\"7763\",\"type\":\"Toolbar\"},{\"attributes\":{},\"id\":\"7697\",\"type\":\"Selection\"},{\"attributes\":{\"client_comm_id\":\"85236663e1aa43cca6dba06477e96412\",\"comm_id\":\"7faf859318dd4d81aa8302e2df836bfb\",\"plot_id\":\"7258\"},\"id\":\"8354\",\"type\":\"panel.models.comm_manager.CommManager\"},{\"attributes\":{\"source\":{\"id\":\"7362\"}},\"id\":\"7369\",\"type\":\"CDSView\"},{\"attributes\":{\"line_alpha\":0.2,\"line_color\":\"#1f77b3\",\"line_width\":2,\"x\":{\"field\":\"index\"},\"y\":{\"field\":\"value\"}},\"id\":\"7779\",\"type\":\"Line\"},{\"attributes\":{},\"id\":\"7281\",\"type\":\"BasicTicker\"},{\"attributes\":{\"axis_label\":\"Monthly Close Price\",\"bounds\":\"auto\",\"formatter\":{\"id\":\"7300\"},\"major_label_orientation\":\"horizontal\",\"ticker\":{\"id\":\"7281\"}},\"id\":\"7280\",\"type\":\"LinearAxis\"},{\"attributes\":{\"line_alpha\":0.2,\"line_color\":\"#d62628\",\"line_width\":2,\"x\":{\"field\":\"index\"},\"y\":{\"field\":\"value\"}},\"id\":\"7400\",\"type\":\"Line\"},{\"attributes\":{\"label\":{\"value\":\"sp500\"},\"renderers\":[{\"id\":\"7307\"}]},\"id\":\"7330\",\"type\":\"LegendItem\"},{\"attributes\":{\"line_color\":\"#1f77b3\",\"line_width\":2,\"x\":{\"field\":\"index\"},\"y\":{\"field\":\"value\"}},\"id\":\"7777\",\"type\":\"Line\"},{\"attributes\":{\"data_source\":{\"id\":\"7395\"},\"glyph\":{\"id\":\"7398\"},\"hover_glyph\":null,\"muted_glyph\":{\"id\":\"7400\"},\"nonselection_glyph\":{\"id\":\"7399\"},\"selection_glyph\":null,\"view\":{\"id\":\"7402\"}},\"id\":\"7401\",\"type\":\"GlyphRenderer\"},{\"attributes\":{\"line_alpha\":0.1,\"line_color\":\"#2ba02b\",\"line_width\":2,\"x\":{\"field\":\"index\"},\"y\":{\"field\":\"value\"}},\"id\":\"7366\",\"type\":\"Line\"},{\"attributes\":{\"fill_alpha\":{\"value\":0.1},\"fill_color\":{\"field\":\"zvalues\",\"transform\":{\"id\":\"7695\"}},\"height\":{\"units\":\"data\",\"value\":1},\"line_alpha\":{\"value\":0},\"line_color\":{\"value\":\"#1f77b4\"},\"width\":{\"units\":\"data\",\"value\":1},\"x\":{\"field\":\"columns\"},\"y\":{\"field\":\"index\"}},\"id\":\"7700\",\"type\":\"Rect\"},{\"attributes\":{},\"id\":\"7346\",\"type\":\"UnionRenderers\"},{\"attributes\":{\"days\":[1,15]},\"id\":\"8096\",\"type\":\"DaysTicker\"},{\"attributes\":{\"source\":{\"id\":\"7331\"}},\"id\":\"7338\",\"type\":\"CDSView\"},{\"attributes\":{\"days\":[1,8,15,22]},\"id\":\"8095\",\"type\":\"DaysTicker\"},{\"attributes\":{\"source\":{\"id\":\"7774\"}},\"id\":\"7781\",\"type\":\"CDSView\"},{\"attributes\":{\"fill_color\":{\"field\":\"zvalues\",\"transform\":{\"id\":\"7695\"}},\"height\":{\"units\":\"data\",\"value\":1},\"line_alpha\":{\"value\":0},\"line_color\":{\"value\":\"#1f77b4\"},\"width\":{\"units\":\"data\",\"value\":1},\"x\":{\"field\":\"columns\"},\"y\":{\"field\":\"index\"}},\"id\":\"7699\",\"type\":\"Rect\"},{\"attributes\":{\"data_source\":{\"id\":\"7774\"},\"glyph\":{\"id\":\"7777\"},\"hover_glyph\":null,\"muted_glyph\":{\"id\":\"7779\"},\"nonselection_glyph\":{\"id\":\"7778\"},\"selection_glyph\":null,\"view\":{\"id\":\"7781\"}},\"id\":\"7780\",\"type\":\"GlyphRenderer\"},{\"attributes\":{},\"id\":\"7747\",\"type\":\"LinearScale\"},{\"attributes\":{},\"id\":\"7704\",\"type\":\"BasicTicker\"},{\"attributes\":{\"line_alpha\":0.1,\"line_color\":\"#ff7e0e\",\"line_width\":2,\"x\":{\"field\":\"index\"},\"y\":{\"field\":\"value\"}},\"id\":\"7335\",\"type\":\"Line\"},{\"attributes\":{},\"id\":\"7284\",\"type\":\"SaveTool\"},{\"attributes\":{\"months\":[0,1,2,3,4,5,6,7,8,9,10,11]},\"id\":\"8097\",\"type\":\"MonthsTicker\"},{\"attributes\":{\"data\":{\"Variable\":[\"silver\",\"silver\",\"silver\",\"silver\",\"silver\",\"silver\",\"silver\",\"silver\",\"silver\",\"silver\",\"silver\",\"silver\",\"silver\",\"silver\",\"silver\",\"silver\",\"silver\",\"silver\",\"silver\",\"silver\",\"silver\",\"silver\",\"silver\",\"silver\",\"silver\",\"silver\",\"silver\",\"silver\",\"silver\",\"silver\",\"silver\",\"silver\",\"silver\",\"silver\",\"silver\",\"silver\",\"silver\",\"silver\",\"silver\",\"silver\",\"silver\",\"silver\",\"silver\",\"silver\",\"silver\",\"silver\",\"silver\",\"silver\",\"silver\",\"silver\",\"silver\",\"silver\",\"silver\",\"silver\",\"silver\",\"silver\",\"silver\",\"silver\",\"silver\",\"silver\",\"silver\",\"silver\",\"silver\",\"silver\",\"silver\",\"silver\",\"silver\",\"silver\",\"silver\",\"silver\",\"silver\",\"silver\",\"silver\",\"silver\",\"silver\",\"silver\",\"silver\",\"silver\",\"silver\",\"silver\",\"silver\",\"silver\",\"silver\",\"silver\",\"silver\",\"silver\",\"silver\",\"silver\",\"silver\",\"silver\",\"silver\",\"silver\",\"silver\",\"silver\",\"silver\",\"silver\",\"silver\",\"silver\",\"silver\",\"silver\",\"silver\",\"silver\",\"silver\",\"silver\",\"silver\",\"silver\",\"silver\",\"silver\",\"silver\",\"silver\",\"silver\",\"silver\",\"silver\",\"silver\",\"silver\",\"silver\",\"silver\",\"silver\",\"silver\",\"silver\",\"silver\",\"silver\",\"silver\",\"silver\",\"silver\",\"silver\",\"silver\",\"silver\",\"silver\",\"silver\",\"silver\",\"silver\",\"silver\",\"silver\",\"silver\",\"silver\",\"silver\",\"silver\",\"silver\",\"silver\",\"silver\",\"silver\",\"silver\",\"silver\",\"silver\",\"silver\",\"silver\",\"silver\",\"silver\",\"silver\",\"silver\",\"silver\",\"silver\",\"silver\",\"silver\",\"silver\",\"silver\",\"silver\",\"silver\",\"silver\",\"silver\",\"silver\",\"silver\",\"silver\",\"silver\",\"silver\",\"silver\",\"silver\",\"silver\",\"silver\",\"silver\",\"silver\",\"silver\",\"silver\",\"silver\",\"silver\",\"silver\",\"silver\",\"silver\",\"silver\",\"silver\",\"silver\",\"silver\",\"silver\",\"silver\",\"silver\",\"silver\",\"silver\",\"silver\",\"silver\",\"silver\",\"silver\",\"silver\",\"silver\",\"silver\",\"silver\",\"silver\",\"silver\",\"silver\",\"silver\",\"silver\",\"silver\",\"silver\",\"silver\",\"silver\",\"silver\",\"silver\",\"silver\",\"silver\",\"silver\",\"silver\",\"silver\",\"silver\",\"silver\",\"silver\",\"silver\",\"silver\",\"silver\",\"silver\",\"silver\",\"silver\",\"silver\",\"silver\",\"silver\",\"silver\",\"silver\",\"silver\",\"silver\",\"silver\",\"silver\",\"silver\",\"silver\",\"silver\",\"silver\",\"silver\",\"silver\",\"silver\",\"silver\",\"silver\",\"silver\",\"silver\",\"silver\",\"silver\",\"silver\",\"silver\",\"silver\",\"silver\",\"silver\",\"silver\",\"silver\",\"silver\",\"silver\",\"silver\",\"silver\",\"silver\",\"silver\",\"silver\",\"silver\",\"silver\",\"silver\",\"silver\",\"silver\",\"silver\",\"silver\",\"silver\",\"silver\",\"silver\",\"silver\",\"silver\",\"silver\",\"silver\",\"silver\",\"silver\",\"silver\",\"silver\",\"silver\",\"silver\",\"silver\",\"silver\",\"silver\",\"silver\",\"silver\",\"silver\",\"silver\",\"silver\",\"silver\",\"silver\",\"silver\",\"silver\",\"silver\",\"silver\",\"silver\",\"silver\",\"silver\",\"silver\",\"silver\",\"silver\",\"silver\",\"silver\",\"silver\",\"silver\",\"silver\",\"silver\",\"silver\",\"silver\",\"silver\",\"silver\",\"silver\",\"silver\",\"silver\",\"silver\",\"silver\",\"silver\",\"silver\",\"silver\",\"silver\",\"silver\",\"silver\",\"silver\",\"silver\",\"silver\",\"silver\",\"silver\",\"silver\",\"silver\",\"silver\",\"silver\",\"silver\",\"silver\",\"silver\",\"silver\",\"silver\",\"silver\",\"silver\",\"silver\",\"silver\",\"silver\",\"silver\",\"silver\",\"silver\",\"silver\",\"silver\",\"silver\",\"silver\",\"silver\",\"silver\",\"silver\",\"silver\",\"silver\",\"silver\",\"silver\",\"silver\",\"silver\",\"silver\",\"silver\",\"silver\",\"silver\",\"silver\",\"silver\",\"silver\",\"silver\",\"silver\",\"silver\",\"silver\",\"silver\",\"silver\",\"silver\",\"silver\",\"silver\",\"silver\",\"silver\",\"silver\",\"silver\",\"silver\",\"silver\",\"silver\",\"silver\",\"silver\",\"silver\",\"silver\",\"silver\",\"silver\",\"silver\",\"silver\",\"silver\",\"silver\",\"silver\",\"silver\",\"silver\",\"silver\",\"silver\",\"silver\",\"silver\",\"silver\",\"silver\",\"silver\",\"silver\",\"silver\",\"silver\",\"silver\",\"silver\",\"silver\",\"silver\",\"silver\",\"silver\",\"silver\",\"silver\",\"silver\",\"silver\",\"silver\",\"silver\",\"silver\",\"silver\",\"silver\",\"silver\",\"silver\",\"silver\",\"silver\",\"silver\",\"silver\"],\"index\":{\"__ndarray__\":\"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\",\"dtype\":\"float64\",\"order\":\"little\",\"shape\":[420]},\"value\":{\"__ndarray__\":\"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\",\"dtype\":\"float64\",\"order\":\"little\",\"shape\":[420]}},\"selected\":{\"id\":\"7363\"},\"selection_policy\":{\"id\":\"7379\"}},\"id\":\"7362\",\"type\":\"ColumnDataSource\"},{\"attributes\":{},\"id\":\"7285\",\"type\":\"PanTool\"},{\"attributes\":{},\"id\":\"7717\",\"type\":\"UnionRenderers\"},{\"attributes\":{\"text\":\"Price of gold and S&P500\",\"text_color\":{\"value\":\"black\"},\"text_font_size\":{\"value\":\"12pt\"}},\"id\":\"7741\",\"type\":\"Title\"},{\"attributes\":{\"bar_line_color\":\"black\",\"color_mapper\":{\"id\":\"7695\"},\"formatter\":{\"id\":\"7714\"},\"label_standoff\":8,\"location\":[0,0],\"major_tick_line_color\":\"black\",\"ticker\":{\"id\":\"7704\"}},\"id\":\"7705\",\"type\":\"ColorBar\"},{\"attributes\":{},\"id\":\"7288\",\"type\":\"ResetTool\"},{\"attributes\":{\"line_alpha\":0.1,\"line_color\":\"#1f77b3\",\"line_width\":2,\"x\":{\"field\":\"index\"},\"y\":{\"field\":\"value\"}},\"id\":\"7778\",\"type\":\"Line\"},{\"attributes\":{\"months\":[0,2,4,6,8,10]},\"id\":\"8098\",\"type\":\"MonthsTicker\"},{\"attributes\":{},\"id\":\"7286\",\"type\":\"WheelZoomTool\"},{\"attributes\":{\"end\":1606780800000.0,\"reset_end\":1606780800000.0,\"reset_start\":504921600000.0,\"start\":504921600000.0,\"tags\":[[[\"index\",\"index\",null]]]},\"id\":\"7261\",\"type\":\"Range1d\"},{\"attributes\":{\"axis_label\":\"Date\",\"bounds\":\"auto\",\"formatter\":{\"id\":\"7771\"},\"major_label_orientation\":\"horizontal\",\"ticker\":{\"id\":\"7750\"}},\"id\":\"7749\",\"type\":\"DatetimeAxis\"},{\"attributes\":{\"months\":[0,4,8]},\"id\":\"8099\",\"type\":\"MonthsTicker\"},{\"attributes\":{\"overlay\":{\"id\":\"7289\"}},\"id\":\"7287\",\"type\":\"BoxZoomTool\"},{\"attributes\":{},\"id\":\"7396\",\"type\":\"Selection\"},{\"attributes\":{},\"id\":\"7745\",\"type\":\"LinearScale\"},{\"attributes\":{\"line_alpha\":0.2,\"line_color\":\"#ff7e0e\",\"line_width\":2,\"x\":{\"field\":\"index\"},\"y\":{\"field\":\"value\"}},\"id\":\"7336\",\"type\":\"Line\"},{\"attributes\":{\"num_minor_ticks\":5,\"tickers\":[{\"id\":\"7790\"},{\"id\":\"7791\"},{\"id\":\"7792\"},{\"id\":\"7793\"},{\"id\":\"7794\"},{\"id\":\"7795\"},{\"id\":\"7796\"},{\"id\":\"7797\"},{\"id\":\"7798\"},{\"id\":\"7799\"},{\"id\":\"7800\"},{\"id\":\"7801\"}]},\"id\":\"7750\",\"type\":\"DatetimeTicker\"},{\"attributes\":{\"months\":[0,6]},\"id\":\"8100\",\"type\":\"MonthsTicker\"},{\"attributes\":{\"children\":[{\"id\":\"7740\"}],\"margin\":[0,0,0,0],\"name\":\"Row18950\"},\"id\":\"7735\",\"type\":\"Row\"},{\"attributes\":{\"axis\":{\"id\":\"7753\"},\"dimension\":1,\"grid_line_color\":null,\"ticker\":null},\"id\":\"7756\",\"type\":\"Grid\"},{\"attributes\":{\"axis\":{\"id\":\"7749\"},\"grid_line_color\":null,\"ticker\":null},\"id\":\"7752\",\"type\":\"Grid\"},{\"attributes\":{\"end\":4131.3205,\"reset_end\":4131.3205,\"reset_start\":-371.68550000000005,\"start\":-371.68550000000005,\"tags\":[[[\"value\",\"value\",null]]]},\"id\":\"7262\",\"type\":\"Range1d\"},{\"attributes\":{\"line_alpha\":0.2,\"line_color\":\"#2ba02b\",\"line_width\":2,\"x\":{\"field\":\"index\"},\"y\":{\"field\":\"value\"}},\"id\":\"7367\",\"type\":\"Line\"},{\"attributes\":{\"data_source\":{\"id\":\"7362\"},\"glyph\":{\"id\":\"7365\"},\"hover_glyph\":null,\"muted_glyph\":{\"id\":\"7367\"},\"nonselection_glyph\":{\"id\":\"7366\"},\"selection_glyph\":null,\"view\":{\"id\":\"7369\"}},\"id\":\"7368\",\"type\":\"GlyphRenderer\"},{\"attributes\":{\"line_color\":\"#2ba02b\",\"line_width\":2,\"x\":{\"field\":\"index\"},\"y\":{\"field\":\"value\"}},\"id\":\"7365\",\"type\":\"Line\"},{\"attributes\":{\"data_source\":{\"id\":\"7331\"},\"glyph\":{\"id\":\"7334\"},\"hover_glyph\":null,\"muted_glyph\":{\"id\":\"7336\"},\"nonselection_glyph\":{\"id\":\"7335\"},\"selection_glyph\":null,\"view\":{\"id\":\"7338\"}},\"id\":\"7337\",\"type\":\"GlyphRenderer\"},{\"attributes\":{\"line_color\":\"#ff7e0e\",\"line_width\":2,\"x\":{\"field\":\"index\"},\"y\":{\"field\":\"value\"}},\"id\":\"7334\",\"type\":\"Line\"},{\"attributes\":{\"months\":[0,1,2,3,4,5,6,7,8,9,10,11]},\"id\":\"7324\",\"type\":\"MonthsTicker\"},{\"attributes\":{},\"id\":\"7754\",\"type\":\"BasicTicker\"},{\"attributes\":{\"axis_label\":\"Monthly Close Price\",\"bounds\":\"auto\",\"formatter\":{\"id\":\"7773\"},\"major_label_orientation\":\"horizontal\",\"ticker\":{\"id\":\"7754\"}},\"id\":\"7753\",\"type\":\"LinearAxis\"},{\"attributes\":{},\"id\":\"8101\",\"type\":\"YearsTicker\"},{\"attributes\":{\"days\":[1,4,7,10,13,16,19,22,25,28]},\"id\":\"7321\",\"type\":\"DaysTicker\"},{\"attributes\":{\"children\":[{\"id\":\"7260\"},{\"id\":\"7267\"},{\"id\":\"7667\"}],\"margin\":[0,0,0,0],\"name\":\"Column18653\"},\"id\":\"7259\",\"type\":\"Column\"},{\"attributes\":{\"num_minor_ticks\":5,\"tickers\":[{\"id\":\"7317\"},{\"id\":\"7318\"},{\"id\":\"7319\"},{\"id\":\"7320\"},{\"id\":\"7321\"},{\"id\":\"7322\"},{\"id\":\"7323\"},{\"id\":\"7324\"},{\"id\":\"7325\"},{\"id\":\"7326\"},{\"id\":\"7327\"},{\"id\":\"7328\"}]},\"id\":\"7277\",\"type\":\"DatetimeTicker\"},{\"attributes\":{},\"id\":\"7302\",\"type\":\"Selection\"},{\"attributes\":{\"days\":[1,2,3,4,5,6,7,8,9,10,11,12,13,14,15,16,17,18,19,20,21,22,23,24,25,26,27,28,29,30,31]},\"id\":\"7320\",\"type\":\"DaysTicker\"},{\"attributes\":{\"active_drag\":\"auto\",\"active_inspect\":\"auto\",\"active_multi\":null,\"active_scroll\":\"auto\",\"active_tap\":\"auto\",\"tools\":[{\"id\":\"7263\"},{\"id\":\"7284\"},{\"id\":\"7285\"},{\"id\":\"7286\"},{\"id\":\"7287\"},{\"id\":\"7288\"}]},\"id\":\"7290\",\"type\":\"Toolbar\"},{\"attributes\":{\"days\":[1,8,15,22]},\"id\":\"7322\",\"type\":\"DaysTicker\"},{\"attributes\":{\"bottom_units\":\"screen\",\"fill_alpha\":0.5,\"fill_color\":\"lightgrey\",\"left_units\":\"screen\",\"level\":\"overlay\",\"line_alpha\":1.0,\"line_color\":\"black\",\"line_dash\":[4,4],\"line_width\":2,\"right_units\":\"screen\",\"top_units\":\"screen\"},\"id\":\"7289\",\"type\":\"BoxAnnotation\"},{\"attributes\":{},\"id\":\"7757\",\"type\":\"SaveTool\"},{\"attributes\":{},\"id\":\"7758\",\"type\":\"PanTool\"},{\"attributes\":{},\"id\":\"7761\",\"type\":\"ResetTool\"},{\"attributes\":{},\"id\":\"7759\",\"type\":\"WheelZoomTool\"},{\"attributes\":{\"overlay\":{\"id\":\"7762\"}},\"id\":\"7760\",\"type\":\"BoxZoomTool\"},{\"attributes\":{\"children\":[{\"id\":\"7731\"},{\"id\":\"7732\"},{\"id\":\"8033\"}],\"margin\":[0,0,0,0],\"name\":\"Column19038\"},\"id\":\"7730\",\"type\":\"Column\"},{\"attributes\":{\"months\":[0,2,4,6,8,10]},\"id\":\"7798\",\"type\":\"MonthsTicker\"},{\"attributes\":{\"margin\":[0,0,0,0],\"tabs\":[{\"id\":\"7729\"},{\"id\":\"8122\"}]},\"id\":\"7258\",\"type\":\"Tabs\"},{\"attributes\":{\"days\":[1,15]},\"id\":\"7796\",\"type\":\"DaysTicker\"},{\"attributes\":{},\"id\":\"7714\",\"type\":\"BasicTickFormatter\"},{\"attributes\":{},\"id\":\"7414\",\"type\":\"UnionRenderers\"},{\"attributes\":{},\"id\":\"7787\",\"type\":\"UnionRenderers\"},{\"attributes\":{},\"id\":\"8071\",\"type\":\"Selection\"},{\"attributes\":{\"months\":[0,1,2,3,4,5,6,7,8,9,10,11]},\"id\":\"7797\",\"type\":\"MonthsTicker\"},{\"attributes\":{\"base\":60,\"mantissas\":[1,2,5,10,15,20,30],\"max_interval\":1800000.0,\"min_interval\":1000.0,\"num_minor_ticks\":0},\"id\":\"7791\",\"type\":\"AdaptiveTicker\"},{\"attributes\":{\"months\":[0,4,8]},\"id\":\"7799\",\"type\":\"MonthsTicker\"},{\"attributes\":{\"child\":{\"id\":\"7259\"},\"name\":\"Column18653\",\"title\":\"Commodities Summary\"},\"id\":\"7729\",\"type\":\"Panel\"},{\"attributes\":{\"days\":[1,4,7,10,13,16,19,22,25,28]},\"id\":\"7794\",\"type\":\"DaysTicker\"},{\"attributes\":{\"months\":[0,6]},\"id\":\"7800\",\"type\":\"MonthsTicker\"},{\"attributes\":{\"data\":{\"Date\":{\"__ndarray__\":\"AAAAz/JMXkIAAAAY3HReQgAAAGHFnF5CAAAAE2XDXkIAAABcTuteQgAAgCztc2BCAAAA0eGHYEIAAIB11ptgQgAAAIOBrmBCAACAJ3bCYEIAAIAAxtVgQgAAAKW66WBCAAAAfgr9YEIAAIAi/xBhQgAAAMfzJGFCAAAAoEM4YUIAAIBEOExhQgAAgB2IX2FCAAAAwnxzYUIAAIBmcYdhQgAAgKh3mWFCAAAATWytYUIAAAAmvMBhQgAAgMqw1GFCAACAowDoYUIAAABI9fthQgAAgOzpD2JCAACAxTkjYkIAAABqLjdiQgAAgGh0NWNCAAAADWlJY0IAAICxXV1jQgAAgPNjb2NCAAAAmFiDY0IAAABxqJZjQgAAgBWdqmNCAACA7uy9Y0IAAACT4dFjQgAAgDfW5WNCAACAECb5Y0IAAAC1Gg1kQgAAAI5qIGRCAACAMl80ZEIAAADXU0hkQgAAgOT+WmRCAAAAifNuZEIAAABiQ4JkQgAAgAY4lmRCAAAAUGpqZ0IAAID0Xn5nQgAAAJlTkmdCAAAAcqOlZ0IAAIAWmLlnQgAAgOCCuGhCAAAAhXfMaEIAAIApbOBoQgAAgGty8mhCAAAAEGcGaUIAAADpthlpQgAAgI2rLWlCAACAZvtAaUIAAAAL8FRpQgAAgK/kaGlCAACAiDR8aUIAAAC0nCduQgAAAI3sOm5CAACAMeFObkIAAADW1WJuQgAAABjcdG5CAACAvNCIbkIAAICVIJxuQgAAADoVsG5CAAAAE2XDbkIAAIC3WdduQgAAAFxO625CAAAANZ7+bkIAAIDZkhJvQgAAgLLiJW9CAAAAV9c5b0IAAID7y01vQgAAAAl3YG9CAACArWt0b0IAAICGu4dvQgAAACuwm29CAAAABACvb0IAAICo9MJvQgAAAE3p1m9CAAAAJjnqb0IAAIDKLf5vQgAAwNG+CHBCAAAAJLkScEIAAEB2sxxwQgAAQJe2JXBCAACA6bAvcEIAAADWWDlwQgAAQChTQ3BCAADAFPtMcEIAAABn9VZwQgAAQLnvYHBCAADApZdqcEIAAAD4kXRwQgAAgOQ5fnBCAADANjSIcEIAAACJLpJwQgAAAKoxm3BCAABA/CulcEIAAMDo065wQgAAADvOuHBCAACAJ3bCcEIAAMB5cMxwQgAAAMxq1nBCAACAuBLgcEIAAMAKDepwQgAAQPe083BCAACASa/9cEIAAMCbqQdxQgAAwLysEHFCAAAAD6cacUIAAID7TiRxQgAAwE1JLnFCAABAOvE3cUIAAICM60FxQgAAwN7lS3FCAABAy41VcUIAAIAdiF9xQgAAAAowaXFCAABAXCpzcUIAAICuJH1xQgAAQDV6hnFCAACAh3SQcUIAAAB0HJpxQgAAQMYWpHFCAADAsr6tcUIAAAAFubdxQgAAQFezwXFCAADAQ1vLcUIAAACWVdVxQgAAgIL93nFCAADA1PfocUIAAAAn8vJxQgAAAEj1+3FCAABAmu8FckIAAMCGlw9yQgAAANmRGXJCAACAxTkjckIAAMAXNC1yQgAAAGouN3JCAACAVtZAckIAAMCo0EpyQgAAQJV4VHJCAACA53JeckIAAMA5bWhyQgAAwFpwcXJCAAAArWp7ckIAAICZEoVyQgAAwOsMj3JCAABA2LSYckIAAIAqr6JyQgAAwHyprHJCAABAaVG2ckIAAIC7S8ByQgAAAKjzyXJCAABA+u3TckIAAIBM6N1yQgAAgG3r5nJCAADAv+XwckIAAECsjfpyQgAAgP6HBHNCAAAA6y8Oc0IAAEA9KhhzQgAAgI8kInNCAAAAfMwrc0IAAEDOxjVzQgAAwLpuP3NCAAAADWlJc0IAAEBfY1NzQgAAAOa4XHNCAABAOLNmc0IAAMAkW3BzQgAAAHdVenNCAACAY/2Dc0IAAMC1941zQgAAAAjyl3NCAACA9Jmhc0IAAMBGlKtzQgAAQDM8tXNCAACAhTa/c0IAAMDXMMlzQgAAwPgz0nNCAAAASy7cc0IAAIA31uVzQgAAwInQ73NCAABAdnj5c0IAAIDIcgN0QgAAwBptDXRCAABABxUXdEIAAIBZDyF0QgAAAEa3KnRCAABAmLE0dEIAAIDqqz50QgAAgAuvR3RCAADAXalRdEIAAEBKUVt0QgAAgJxLZXRCAAAAifNudEIAAEDb7Xh0QgAAgC3ognRCAAAAGpCMdEIAAEBsipZ0QgAAwFgyoHRCAAAAqyyqdEIAAED9JrR0QgAAQB4qvXRCAACAcCTHdEIAAABdzNB0QgAAQK/G2nRCAADAm27kdEIAAADuaO50QgAAQEBj+HRCAADALAsCdUIAAAB/BQx1QgAAgGutFXVCAADAvacfdUIAAAAQoil1QgAAwJb3MnVCAAAA6fE8dUIAAIDVmUZ1QgAAwCeUUHVCAABAFDxadUIAAIBmNmR1QgAAwLgwbnVCAABApdh3dUIAAEAKTvd1QgAAwPb1AHZCAAAASfAKdkIAAECb6hR2QgAAQLztHXZCAACADugndkIAAAD7jzF2QgAAQE2KO3ZCAADAOTJFdkIAAACMLE92QgAAQN4mWXZCAADAys5idkIAAAAdyWx2QgAAgAlxdnZCAADAW2uAdkIAAACuZYp2QgAAAM9ok3ZCAABAIWOddkI=\",\"dtype\":\"float64\",\"order\":\"little\",\"shape\":[250]},\"sp500\":{\"__ndarray__\":\"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\",\"dtype\":\"float64\",\"order\":\"little\",\"shape\":[250]}},\"selected\":{\"id\":\"8071\"},\"selection_policy\":{\"id\":\"8087\"}},\"id\":\"8070\",\"type\":\"ColumnDataSource\"},{\"attributes\":{\"days\":[1,8,15,22]},\"id\":\"7795\",\"type\":\"DaysTicker\"},{\"attributes\":{},\"id\":\"7298\",\"type\":\"DatetimeTickFormatter\"},{\"attributes\":{},\"id\":\"7379\",\"type\":\"UnionRenderers\"},{\"attributes\":{},\"id\":\"8079\",\"type\":\"DatetimeTickFormatter\"},{\"attributes\":{\"mantissas\":[1,2,5],\"max_interval\":500.0,\"num_minor_ticks\":0},\"id\":\"7790\",\"type\":\"AdaptiveTicker\"},{\"attributes\":{\"base\":24,\"mantissas\":[1,2,4,6,8,12],\"max_interval\":43200000.0,\"min_interval\":3600000.0,\"num_minor_ticks\":0},\"id\":\"7792\",\"type\":\"AdaptiveTicker\"},{\"attributes\":{\"line_color\":\"#d62628\",\"line_width\":2,\"x\":{\"field\":\"index\"},\"y\":{\"field\":\"value\"}},\"id\":\"7398\",\"type\":\"Line\"},{\"attributes\":{},\"id\":\"7801\",\"type\":\"YearsTicker\"},{\"attributes\":{\"data_source\":{\"id\":\"7696\"},\"glyph\":{\"id\":\"7699\"},\"hover_glyph\":null,\"muted_glyph\":null,\"nonselection_glyph\":{\"id\":\"7700\"},\"selection_glyph\":{\"id\":\"7701\"},\"view\":{\"id\":\"7703\"}},\"id\":\"7702\",\"type\":\"GlyphRenderer\"},{\"attributes\":{\"line_alpha\":0.1,\"line_color\":\"#d62628\",\"line_width\":2,\"x\":{\"field\":\"index\"},\"y\":{\"field\":\"value\"}},\"id\":\"7399\",\"type\":\"Line\"},{\"attributes\":{},\"id\":\"7332\",\"type\":\"Selection\"},{\"attributes\":{\"click_policy\":\"mute\",\"items\":[{\"id\":\"7803\"},{\"id\":\"7834\"}],\"location\":[0,0],\"title\":\"Variable\"},\"id\":\"7802\",\"type\":\"Legend\"},{\"attributes\":{\"source\":{\"id\":\"7696\"}},\"id\":\"7703\",\"type\":\"CDSView\"},{\"attributes\":{\"days\":[1,2,3,4,5,6,7,8,9,10,11,12,13,14,15,16,17,18,19,20,21,22,23,24,25,26,27,28,29,30,31]},\"id\":\"7793\",\"type\":\"DaysTicker\"},{\"attributes\":{\"data\":{\"Variable\":[\"gold\",\"gold\",\"gold\",\"gold\",\"gold\",\"gold\",\"gold\",\"gold\",\"gold\",\"gold\",\"gold\",\"gold\",\"gold\",\"gold\",\"gold\",\"gold\",\"gold\",\"gold\",\"gold\",\"gold\",\"gold\",\"gold\",\"gold\",\"gold\",\"gold\",\"gold\",\"gold\",\"gold\",\"gold\",\"gold\",\"gold\",\"gold\",\"gold\",\"gold\",\"gold\",\"gold\",\"gold\",\"gold\",\"gold\",\"gold\",\"gold\",\"gold\",\"gold\",\"gold\",\"gold\",\"gold\",\"gold\",\"gold\",\"gold\",\"gold\",\"gold\",\"gold\",\"gold\",\"gold\",\"gold\",\"gold\",\"gold\",\"gold\",\"gold\",\"gold\",\"gold\",\"gold\",\"gold\",\"gold\",\"gold\",\"gold\",\"gold\",\"gold\",\"gold\",\"gold\",\"gold\",\"gold\",\"gold\",\"gold\",\"gold\",\"gold\",\"gold\",\"gold\",\"gold\",\"gold\",\"gold\",\"gold\",\"gold\",\"gold\",\"gold\",\"gold\",\"gold\",\"gold\",\"gold\",\"gold\",\"gold\",\"gold\",\"gold\",\"gold\",\"gold\",\"gold\",\"gold\",\"gold\",\"gold\",\"gold\",\"gold\",\"gold\",\"gold\",\"gold\",\"gold\",\"gold\",\"gold\",\"gold\",\"gold\",\"gold\",\"gold\",\"gold\",\"gold\",\"gold\",\"gold\",\"gold\",\"gold\",\"gold\",\"gold\",\"gold\",\"gold\",\"gold\",\"gold\",\"gold\",\"gold\",\"gold\",\"gold\",\"gold\",\"gold\",\"gold\",\"gold\",\"gold\",\"gold\",\"gold\",\"gold\",\"gold\",\"gold\",\"gold\",\"gold\",\"gold\",\"gold\",\"gold\",\"gold\",\"gold\",\"gold\",\"gold\",\"gold\",\"gold\",\"gold\",\"gold\",\"gold\",\"gold\",\"gold\",\"gold\",\"gold\",\"gold\",\"gold\",\"gold\",\"gold\",\"gold\",\"gold\",\"gold\",\"gold\",\"gold\",\"gold\",\"gold\",\"gold\",\"gold\",\"gold\",\"gold\",\"gold\",\"gold\",\"gold\",\"gold\",\"gold\",\"gold\",\"gold\",\"gold\",\"gold\",\"gold\",\"gold\",\"gold\",\"gold\",\"gold\",\"gold\",\"gold\",\"gold\",\"gold\",\"gold\",\"gold\",\"gold\",\"gold\",\"gold\",\"gold\",\"gold\",\"gold\",\"gold\",\"gold\",\"gold\",\"gold\",\"gold\",\"gold\",\"gold\",\"gold\",\"gold\",\"gold\",\"gold\",\"gold\",\"gold\",\"gold\",\"gold\",\"gold\",\"gold\",\"gold\",\"gold\",\"gold\",\"gold\",\"gold\",\"gold\",\"gold\",\"gold\",\"gold\",\"gold\",\"gold\",\"gold\",\"gold\",\"gold\",\"gold\",\"gold\",\"gold\",\"gold\",\"gold\",\"gold\",\"gold\",\"gold\",\"gold\",\"gold\",\"gold\",\"gold\",\"gold\",\"gold\",\"gold\",\"gold\",\"gold\",\"gold\",\"gold\",\"gold\",\"gold\",\"gold\",\"gold\",\"gold\",\"gold\",\"gold\",\"gold\",\"gold\",\"gold\",\"gold\",\"gold\",\"gold\",\"gold\",\"gold\",\"gold\",\"gold\",\"gold\",\"gold\",\"gold\",\"gold\",\"gold\",\"gold\",\"gold\",\"gold\",\"gold\",\"gold\",\"gold\",\"gold\",\"gold\",\"gold\",\"gold\",\"gold\",\"gold\",\"gold\",\"gold\",\"gold\",\"gold\",\"gold\",\"gold\",\"gold\",\"gold\",\"gold\",\"gold\",\"gold\",\"gold\",\"gold\",\"gold\",\"gold\",\"gold\",\"gold\",\"gold\",\"gold\",\"gold\",\"gold\",\"gold\",\"gold\",\"gold\",\"gold\",\"gold\",\"gold\",\"gold\",\"gold\",\"gold\",\"gold\",\"gold\",\"gold\",\"gold\",\"gold\",\"gold\",\"gold\",\"gold\",\"gold\",\"gold\",\"gold\",\"gold\",\"gold\",\"gold\",\"gold\",\"gold\",\"gold\",\"gold\",\"gold\",\"gold\",\"gold\",\"gold\",\"gold\",\"gold\",\"gold\",\"gold\",\"gold\",\"gold\",\"gold\",\"gold\",\"gold\",\"gold\",\"gold\",\"gold\",\"gold\",\"gold\",\"gold\",\"gold\",\"gold\",\"gold\",\"gold\",\"gold\",\"gold\",\"gold\",\"gold\",\"gold\",\"gold\",\"gold\",\"gold\",\"gold\",\"gold\",\"gold\",\"gold\",\"gold\",\"gold\",\"gold\",\"gold\",\"gold\",\"gold\",\"gold\",\"gold\",\"gold\",\"gold\",\"gold\",\"gold\",\"gold\",\"gold\",\"gold\",\"gold\",\"gold\",\"gold\",\"gold\",\"gold\",\"gold\",\"gold\",\"gold\",\"gold\",\"gold\",\"gold\",\"gold\",\"gold\",\"gold\",\"gold\",\"gold\",\"gold\",\"gold\",\"gold\",\"gold\",\"gold\",\"gold\",\"gold\",\"gold\",\"gold\",\"gold\",\"gold\",\"gold\",\"gold\",\"gold\",\"gold\",\"gold\",\"gold\",\"gold\",\"gold\",\"gold\",\"gold\",\"gold\",\"gold\",\"gold\",\"gold\",\"gold\"],\"index\":{\"__ndarray__\":\"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\",\"dtype\":\"float64\",\"order\":\"little\",\"shape\":[420]},\"value\":{\"__ndarray__\":\"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\",\"dtype\":\"float64\",\"order\":\"little\",\"shape\":[420]}},\"selected\":{\"id\":\"7332\"},\"selection_policy\":{\"id\":\"7346\"}},\"id\":\"7331\",\"type\":\"ColumnDataSource\"},{\"attributes\":{\"fill_color\":{\"field\":\"zvalues\",\"transform\":{\"id\":\"7695\"}},\"height\":{\"units\":\"data\",\"value\":1},\"line_alpha\":{\"value\":0},\"line_color\":{\"value\":\"#1f77b4\"},\"width\":{\"units\":\"data\",\"value\":1},\"x\":{\"field\":\"columns\"},\"y\":{\"field\":\"index\"}},\"id\":\"7701\",\"type\":\"Rect\"},{\"attributes\":{\"data\":{\"Variable\":[\"gold\",\"gold\",\"gold\",\"gold\",\"gold\",\"gold\",\"gold\",\"gold\",\"gold\",\"gold\",\"gold\",\"gold\",\"gold\",\"gold\",\"gold\",\"gold\",\"gold\",\"gold\",\"gold\",\"gold\",\"gold\",\"gold\",\"gold\",\"gold\",\"gold\",\"gold\",\"gold\",\"gold\",\"gold\",\"gold\",\"gold\",\"gold\",\"gold\",\"gold\",\"gold\",\"gold\",\"gold\",\"gold\",\"gold\",\"gold\",\"gold\",\"gold\",\"gold\",\"gold\",\"gold\",\"gold\",\"gold\",\"gold\",\"gold\",\"gold\",\"gold\",\"gold\",\"gold\",\"gold\",\"gold\",\"gold\",\"gold\",\"gold\",\"gold\",\"gold\",\"gold\",\"gold\",\"gold\",\"gold\",\"gold\",\"gold\",\"gold\",\"gold\",\"gold\",\"gold\",\"gold\",\"gold\",\"gold\",\"gold\",\"gold\",\"gold\",\"gold\",\"gold\",\"gold\",\"gold\",\"gold\",\"gold\",\"gold\",\"gold\",\"gold\",\"gold\",\"gold\",\"gold\",\"gold\",\"gold\",\"gold\",\"gold\",\"gold\",\"gold\",\"gold\",\"gold\",\"gold\",\"gold\",\"gold\",\"gold\",\"gold\",\"gold\",\"gold\",\"gold\",\"gold\",\"gold\",\"gold\",\"gold\",\"gold\",\"gold\",\"gold\",\"gold\",\"gold\",\"gold\",\"gold\",\"gold\",\"gold\",\"gold\",\"gold\",\"gold\",\"gold\",\"gold\",\"gold\",\"gold\",\"gold\",\"gold\",\"gold\",\"gold\",\"gold\",\"gold\",\"gold\",\"gold\",\"gold\",\"gold\",\"gold\",\"gold\",\"gold\",\"gold\",\"gold\",\"gold\",\"gold\",\"gold\",\"gold\",\"gold\",\"gold\",\"gold\",\"gold\",\"gold\",\"gold\",\"gold\",\"gold\",\"gold\",\"gold\",\"gold\",\"gold\",\"gold\",\"gold\",\"gold\",\"gold\",\"gold\",\"gold\",\"gold\",\"gold\",\"gold\",\"gold\",\"gold\",\"gold\",\"gold\",\"gold\",\"gold\",\"gold\",\"gold\",\"gold\",\"gold\",\"gold\",\"gold\",\"gold\",\"gold\",\"gold\",\"gold\",\"gold\",\"gold\",\"gold\",\"gold\",\"gold\",\"gold\",\"gold\",\"gold\",\"gold\",\"gold\",\"gold\",\"gold\",\"gold\",\"gold\",\"gold\",\"gold\",\"gold\",\"gold\",\"gold\",\"gold\",\"gold\",\"gold\",\"gold\",\"gold\",\"gold\",\"gold\",\"gold\",\"gold\",\"gold\",\"gold\",\"gold\",\"gold\",\"gold\",\"gold\",\"gold\",\"gold\",\"gold\",\"gold\",\"gold\",\"gold\",\"gold\",\"gold\",\"gold\",\"gold\",\"gold\",\"gold\",\"gold\",\"gold\",\"gold\",\"gold\",\"gold\",\"gold\",\"gold\",\"gold\",\"gold\",\"gold\",\"gold\",\"gold\",\"gold\",\"gold\",\"gold\",\"gold\",\"gold\",\"gold\",\"gold\",\"gold\",\"gold\",\"gold\",\"gold\",\"gold\",\"gold\",\"gold\",\"gold\",\"gold\",\"gold\",\"gold\",\"gold\",\"gold\",\"gold\",\"gold\",\"gold\",\"gold\",\"gold\",\"gold\",\"gold\",\"gold\",\"gold\",\"gold\",\"gold\",\"gold\",\"gold\",\"gold\",\"gold\",\"gold\",\"gold\",\"gold\",\"gold\",\"gold\",\"gold\",\"gold\",\"gold\",\"gold\",\"gold\",\"gold\",\"gold\",\"gold\",\"gold\",\"gold\",\"gold\",\"gold\",\"gold\",\"gold\",\"gold\",\"gold\",\"gold\",\"gold\",\"gold\",\"gold\",\"gold\",\"gold\",\"gold\",\"gold\",\"gold\",\"gold\",\"gold\",\"gold\",\"gold\",\"gold\",\"gold\",\"gold\",\"gold\",\"gold\",\"gold\",\"gold\",\"gold\",\"gold\",\"gold\",\"gold\",\"gold\",\"gold\",\"gold\",\"gold\",\"gold\",\"gold\",\"gold\",\"gold\",\"gold\",\"gold\",\"gold\",\"gold\",\"gold\",\"gold\",\"gold\",\"gold\",\"gold\",\"gold\",\"gold\",\"gold\",\"gold\",\"gold\",\"gold\",\"gold\",\"gold\",\"gold\",\"gold\",\"gold\",\"gold\",\"gold\",\"gold\",\"gold\",\"gold\",\"gold\",\"gold\",\"gold\",\"gold\",\"gold\",\"gold\",\"gold\",\"gold\",\"gold\",\"gold\",\"gold\",\"gold\",\"gold\",\"gold\",\"gold\",\"gold\",\"gold\",\"gold\",\"gold\",\"gold\",\"gold\",\"gold\",\"gold\",\"gold\",\"gold\",\"gold\",\"gold\",\"gold\",\"gold\",\"gold\",\"gold\",\"gold\",\"gold\",\"gold\",\"gold\",\"gold\",\"gold\",\"gold\",\"gold\",\"gold\",\"gold\",\"gold\",\"gold\",\"gold\",\"gold\",\"gold\",\"gold\",\"gold\",\"gold\",\"gold\",\"gold\",\"gold\",\"gold\",\"gold\",\"gold\",\"gold\",\"gold\",\"gold\",\"gold\",\"gold\",\"gold\",\"gold\",\"gold\",\"gold\",\"gold\",\"gold\",\"gold\",\"gold\",\"gold\"],\"index\":{\"__ndarray__\":\"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\",\"dtype\":\"float64\",\"order\":\"little\",\"shape\":[420]},\"value\":{\"__ndarray__\":\"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\",\"dtype\":\"float64\",\"order\":\"little\",\"shape\":[420]}},\"selected\":{\"id\":\"7805\"},\"selection_policy\":{\"id\":\"7819\"}},\"id\":\"7804\",\"type\":\"ColumnDataSource\"},{\"attributes\":{\"bottom_units\":\"screen\",\"fill_alpha\":0.5,\"fill_color\":\"lightgrey\",\"left_units\":\"screen\",\"level\":\"overlay\",\"line_alpha\":1.0,\"line_color\":\"black\",\"line_dash\":[4,4],\"line_width\":2,\"right_units\":\"screen\",\"top_units\":\"screen\"},\"id\":\"7762\",\"type\":\"BoxAnnotation\"},{\"attributes\":{\"factors\":[\"sp500\",\"dowjones\",\"nasdaq\",\"gold\",\"silver\",\"crude oil\",\"usd\",\"wti oil\",\"prime rate\"],\"tags\":[[[\"index\",\"index\",null]]]},\"id\":\"7665\",\"type\":\"FactorRange\"},{\"attributes\":{\"end\":1554076800000.0,\"reset_end\":1554076800000.0,\"reset_start\":520560000000.0,\"start\":520560000000.0,\"tags\":[[[\"Date\",\"Date\",null]]]},\"id\":\"8037\",\"type\":\"Range1d\"},{\"attributes\":{\"label\":{\"value\":\"silver\"},\"renderers\":[{\"id\":\"7368\"}]},\"id\":\"7394\",\"type\":\"LegendItem\"},{\"attributes\":{\"label\":{\"value\":\"sp500\"},\"renderers\":[{\"id\":\"7780\"}]},\"id\":\"7803\",\"type\":\"LegendItem\"},{\"attributes\":{\"days\":[1,2,3,4,5,6,7,8,9,10,11,12,13,14,15,16,17,18,19,20,21,22,23,24,25,26,27,28,29,30,31]},\"id\":\"8093\",\"type\":\"DaysTicker\"},{\"attributes\":{},\"id\":\"7707\",\"type\":\"CategoricalTickFormatter\"},{\"attributes\":{\"active_drag\":\"auto\",\"active_inspect\":\"auto\",\"active_multi\":null,\"active_scroll\":\"auto\",\"active_tap\":\"auto\",\"tools\":[{\"id\":\"8039\"},{\"id\":\"8057\"},{\"id\":\"8058\"},{\"id\":\"8059\"},{\"id\":\"8060\"},{\"id\":\"8061\"}]},\"id\":\"8063\",\"type\":\"Toolbar\"},{\"attributes\":{\"children\":[{\"id\":\"8034\"},{\"id\":\"8036\"}],\"margin\":[0,0,0,0],\"name\":\"Column18953\"},\"id\":\"8033\",\"type\":\"Column\"},{\"attributes\":{\"text\":\"\",\"text_color\":{\"value\":\"black\"},\"text_font_size\":{\"value\":\"12pt\"}},\"id\":\"7268\",\"type\":\"Title\"},{\"attributes\":{\"label\":{\"value\":\"gold\"},\"renderers\":[{\"id\":\"7337\"}]},\"id\":\"7361\",\"type\":\"LegendItem\"},{\"attributes\":{\"below\":[{\"id\":\"7676\"}],\"center\":[{\"id\":\"7678\"},{\"id\":\"7681\"}],\"left\":[{\"id\":\"7679\"}],\"margin\":[5,5,5,5],\"min_border_bottom\":10,\"min_border_left\":10,\"min_border_right\":10,\"min_border_top\":10,\"plot_height\":300,\"plot_width\":700,\"renderers\":[{\"id\":\"7702\"}],\"right\":[{\"id\":\"7705\"}],\"sizing_mode\":\"fixed\",\"title\":{\"id\":\"7668\"},\"toolbar\":{\"id\":\"7688\"},\"x_range\":{\"id\":\"7664\"},\"x_scale\":{\"id\":\"7672\"},\"y_range\":{\"id\":\"7665\"},\"y_scale\":{\"id\":\"7674\"}},\"id\":\"7667\",\"subtype\":\"Figure\",\"type\":\"Plot\"},{\"attributes\":{\"days\":[1,4,7,10,13,16,19,22,25,28]},\"id\":\"8094\",\"type\":\"DaysTicker\"},{\"attributes\":{},\"id\":\"7686\",\"type\":\"ResetTool\"},{\"attributes\":{\"end\":0.8480658123182566,\"reset_end\":0.8480658123182566,\"reset_start\":-0.8466228347745564,\"start\":-0.8466228347745564,\"tags\":[[[\"sp500\",\"sp500\",null]]]},\"id\":\"8038\",\"type\":\"Range1d\"},{\"attributes\":{\"text\":\"Commodities and Indices Correlation\",\"text_color\":{\"value\":\"black\"},\"text_font_size\":{\"value\":\"12pt\"}},\"id\":\"7668\",\"type\":\"Title\"},{\"attributes\":{\"line_alpha\":0.1,\"line_color\":\"#ff7e0e\",\"line_width\":2,\"x\":{\"field\":\"index\"},\"y\":{\"field\":\"value\"}},\"id\":\"7808\",\"type\":\"Line\"},{\"attributes\":{\"bottom_units\":\"screen\",\"fill_alpha\":0.5,\"fill_color\":\"lightgrey\",\"left_units\":\"screen\",\"level\":\"overlay\",\"line_alpha\":1.0,\"line_color\":\"black\",\"line_dash\":[4,4],\"line_width\":2,\"right_units\":\"screen\",\"top_units\":\"screen\"},\"id\":\"8062\",\"type\":\"BoxAnnotation\"},{\"attributes\":{\"line_alpha\":0.1,\"line_color\":\"#1f77b3\",\"line_width\":2,\"x\":{\"field\":\"index\"},\"y\":{\"field\":\"value\"}},\"id\":\"7305\",\"type\":\"Line\"},{\"attributes\":{\"below\":[{\"id\":\"7276\"}],\"center\":[{\"id\":\"7279\"},{\"id\":\"7283\"}],\"left\":[{\"id\":\"7280\"}],\"margin\":[5,5,5,5],\"min_border_bottom\":10,\"min_border_left\":10,\"min_border_right\":10,\"min_border_top\":10,\"plot_height\":300,\"plot_width\":700,\"renderers\":[{\"id\":\"7307\"},{\"id\":\"7337\"},{\"id\":\"7368\"},{\"id\":\"7401\"}],\"right\":[{\"id\":\"7329\"}],\"sizing_mode\":\"fixed\",\"title\":{\"id\":\"7268\"},\"toolbar\":{\"id\":\"7290\"},\"x_range\":{\"id\":\"7261\"},\"x_scale\":{\"id\":\"7272\"},\"y_range\":{\"id\":\"7262\"},\"y_scale\":{\"id\":\"7274\"}},\"id\":\"7267\",\"subtype\":\"Figure\",\"type\":\"Plot\"},{\"attributes\":{\"data\":{\"Variable\":[\"crude oil\",\"crude oil\",\"crude oil\",\"crude oil\",\"crude oil\",\"crude oil\",\"crude oil\",\"crude oil\",\"crude oil\",\"crude oil\",\"crude oil\",\"crude oil\",\"crude oil\",\"crude oil\",\"crude oil\",\"crude oil\",\"crude oil\",\"crude oil\",\"crude oil\",\"crude oil\",\"crude oil\",\"crude oil\",\"crude oil\",\"crude oil\",\"crude oil\",\"crude oil\",\"crude oil\",\"crude oil\",\"crude oil\",\"crude oil\",\"crude oil\",\"crude oil\",\"crude oil\",\"crude oil\",\"crude oil\",\"crude oil\",\"crude oil\",\"crude oil\",\"crude oil\",\"crude oil\",\"crude oil\",\"crude oil\",\"crude oil\",\"crude oil\",\"crude oil\",\"crude oil\",\"crude oil\",\"crude oil\",\"crude oil\",\"crude oil\",\"crude oil\",\"crude oil\",\"crude oil\",\"crude oil\",\"crude oil\",\"crude oil\",\"crude oil\",\"crude oil\",\"crude oil\",\"crude oil\",\"crude oil\",\"crude oil\",\"crude oil\",\"crude oil\",\"crude oil\",\"crude oil\",\"crude oil\",\"crude oil\",\"crude oil\",\"crude oil\",\"crude oil\",\"crude oil\",\"crude oil\",\"crude oil\",\"crude oil\",\"crude oil\",\"crude oil\",\"crude oil\",\"crude oil\",\"crude oil\",\"crude oil\",\"crude oil\",\"crude oil\",\"crude oil\",\"crude oil\",\"crude oil\",\"crude oil\",\"crude oil\",\"crude oil\",\"crude oil\",\"crude oil\",\"crude oil\",\"crude oil\",\"crude oil\",\"crude oil\",\"crude oil\",\"crude oil\",\"crude oil\",\"crude oil\",\"crude oil\",\"crude oil\",\"crude oil\",\"crude oil\",\"crude oil\",\"crude oil\",\"crude oil\",\"crude oil\",\"crude oil\",\"crude oil\",\"crude oil\",\"crude oil\",\"crude oil\",\"crude oil\",\"crude oil\",\"crude oil\",\"crude oil\",\"crude oil\",\"crude oil\",\"crude oil\",\"crude oil\",\"crude oil\",\"crude oil\",\"crude oil\",\"crude oil\",\"crude oil\",\"crude oil\",\"crude oil\",\"crude oil\",\"crude oil\",\"crude oil\",\"crude oil\",\"crude oil\",\"crude oil\",\"crude oil\",\"crude oil\",\"crude oil\",\"crude oil\",\"crude oil\",\"crude oil\",\"crude oil\",\"crude oil\",\"crude oil\",\"crude oil\",\"crude oil\",\"crude oil\",\"crude oil\",\"crude oil\",\"crude oil\",\"crude oil\",\"crude oil\",\"crude oil\",\"crude oil\",\"crude oil\",\"crude oil\",\"crude oil\",\"crude oil\",\"crude oil\",\"crude oil\",\"crude oil\",\"crude oil\",\"crude oil\",\"crude oil\",\"crude oil\",\"crude oil\",\"crude oil\",\"crude oil\",\"crude oil\",\"crude oil\",\"crude oil\",\"crude oil\",\"crude oil\",\"crude oil\",\"crude oil\",\"crude oil\",\"crude oil\",\"crude oil\",\"crude oil\",\"crude oil\",\"crude oil\",\"crude oil\",\"crude oil\",\"crude oil\",\"crude oil\",\"crude oil\",\"crude oil\",\"crude oil\",\"crude oil\",\"crude oil\",\"crude oil\",\"crude oil\",\"crude oil\",\"crude oil\",\"crude oil\",\"crude oil\",\"crude oil\",\"crude oil\",\"crude oil\",\"crude oil\",\"crude oil\",\"crude oil\",\"crude oil\",\"crude oil\",\"crude oil\",\"crude oil\",\"crude oil\",\"crude oil\",\"crude oil\",\"crude oil\",\"crude oil\",\"crude oil\",\"crude oil\",\"crude oil\",\"crude oil\",\"crude oil\",\"crude oil\",\"crude oil\",\"crude oil\",\"crude oil\",\"crude oil\",\"crude oil\",\"crude oil\",\"crude oil\",\"crude oil\",\"crude oil\",\"crude oil\",\"crude oil\",\"crude oil\",\"crude oil\",\"crude oil\",\"crude oil\",\"crude oil\",\"crude oil\",\"crude oil\",\"crude oil\",\"crude oil\",\"crude oil\",\"crude oil\",\"crude oil\",\"crude oil\",\"crude oil\",\"crude oil\",\"crude oil\",\"crude oil\",\"crude oil\",\"crude oil\",\"crude oil\",\"crude oil\",\"crude oil\",\"crude oil\",\"crude oil\",\"crude oil\",\"crude oil\",\"crude oil\",\"crude oil\",\"crude oil\",\"crude oil\",\"crude oil\",\"crude oil\",\"crude oil\",\"crude oil\",\"crude oil\",\"crude oil\",\"crude oil\",\"crude oil\",\"crude oil\",\"crude oil\",\"crude oil\",\"crude oil\",\"crude oil\",\"crude oil\",\"crude oil\",\"crude oil\",\"crude oil\",\"crude oil\",\"crude oil\",\"crude oil\",\"crude oil\",\"crude oil\",\"crude oil\",\"crude oil\",\"crude oil\",\"crude oil\",\"crude oil\",\"crude oil\",\"crude oil\",\"crude oil\",\"crude oil\",\"crude oil\",\"crude oil\",\"crude oil\",\"crude oil\",\"crude oil\",\"crude oil\",\"crude oil\",\"crude oil\",\"crude oil\",\"crude oil\",\"crude oil\",\"crude oil\",\"crude oil\",\"crude oil\",\"crude oil\",\"crude oil\",\"crude oil\",\"crude oil\",\"crude oil\",\"crude oil\",\"crude oil\",\"crude oil\",\"crude oil\",\"crude oil\",\"crude oil\",\"crude oil\",\"crude oil\",\"crude oil\",\"crude oil\",\"crude oil\",\"crude oil\",\"crude oil\",\"crude oil\",\"crude oil\",\"crude oil\",\"crude oil\",\"crude oil\",\"crude oil\",\"crude oil\",\"crude oil\",\"crude oil\",\"crude oil\",\"crude oil\",\"crude oil\",\"crude oil\",\"crude oil\",\"crude oil\",\"crude oil\",\"crude oil\",\"crude oil\",\"crude oil\",\"crude oil\",\"crude oil\",\"crude oil\",\"crude oil\",\"crude oil\",\"crude oil\",\"crude oil\",\"crude oil\",\"crude oil\",\"crude oil\",\"crude oil\",\"crude oil\",\"crude oil\",\"crude oil\",\"crude oil\",\"crude oil\",\"crude oil\",\"crude oil\",\"crude oil\",\"crude oil\",\"crude oil\",\"crude oil\",\"crude oil\",\"crude oil\",\"crude oil\",\"crude oil\",\"crude oil\",\"crude oil\",\"crude oil\",\"crude oil\",\"crude oil\",\"crude oil\",\"crude oil\",\"crude oil\",\"crude oil\",\"crude oil\",\"crude oil\",\"crude oil\",\"crude oil\",\"crude oil\",\"crude oil\",\"crude oil\",\"crude oil\",\"crude oil\",\"crude oil\",\"crude oil\",\"crude oil\",\"crude oil\",\"crude oil\",\"crude oil\",\"crude oil\",\"crude oil\",\"crude oil\",\"crude oil\",\"crude oil\",\"crude oil\",\"crude oil\",\"crude oil\",\"crude oil\",\"crude oil\",\"crude oil\",\"crude oil\",\"crude oil\",\"crude oil\",\"crude oil\",\"crude oil\",\"crude oil\",\"crude oil\",\"crude oil\",\"crude oil\",\"crude oil\",\"crude oil\",\"crude oil\",\"crude oil\",\"crude oil\",\"crude oil\",\"crude oil\",\"crude oil\",\"crude oil\",\"crude oil\",\"crude oil\",\"crude oil\"],\"index\":{\"__ndarray__\":\"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\",\"dtype\":\"float64\",\"order\":\"little\",\"shape\":[420]},\"value\":{\"__ndarray__\":\"FK5H4XrUMkCF61G4HoUqQNejcD0K1yRArkfhehSuKkCamZmZmZksQI/C9ShcjylAzczMzMxMJkDNzMzMzMwvQArXo3A9ii1ACtejcD2KLkAAAAAAAAAuQHE9Ctej8DFAAAAAAADAMkCamZmZmZkwQBSuR+F61DJAexSuR+G6MkDhehSuR2EzQArXo3A9SjRAH4XrUbheNUB7FK5H4bozQNejcD0KlzNA9ihcj8L1M0DD9Shcj4IyQDMzMzMzszBAcT0K16PwMEDD9ShcjwIwQBSuR+F6FDFAPQrXo3D9MUDD9Shcj4IxQFK4HoXrUS5Aj8L1KFxPMEBcj8L1KFwuQD0K16NwvSpAKVyPwvUoK0CkcD0K16MuQD0K16NwPTFASOF6FK4HMUBmZmZmZiYyQHE9CtejMDRA7FG4HoVrNEBmZmZmZuYzQIXrUbgeRTRAj8L1KFxPMkAUrkfhetQyQOF6FK5HITRAcT0K16PwM0CkcD0K1+MzQFK4HoXr0TVArkfhehSuNkAK16NwPYo1QEjhehSuRzRACtejcD2KMkBmZmZmZmYxQFK4HoXrETFAcT0K16OwNEBSuB6F61E7QOF6FK5HwUNAPQrXo3CdQUCamZmZmdk8QHE9CtejcDxACtejcD2KNUApXI/C9SgzQOF6FK5HoTNA9ihcj8L1NEDhehSuRyE1QI/C9ShcjzRArkfhehSuNUDD9Shcj0I2QHsUrkfhOjZAH4XrUbheN0B7FK5H4Xo1QB+F61G4HjNAZmZmZmbmMkCuR+F6FK4yQHE9CtejcDNAmpmZmZnZNEBcj8L1KBw2QJqZmZmZmTVAH4XrUbjeNUB7FK5H4Xo1QPYoXI/CtTVAH4XrUbieNECkcD0K1+MzQAAAAAAAgDNAw/UoXI9CNECamZmZmZk0QHE9CtejcDRASOF6FK6HNECF61G4HgU0QJqZmZmZ2TJA4XoUrkfhMUAK16NwPUoyQArXo3A9yjJA7FG4HoXrMEBcj8L1KNwuQNejcD0KVyxA4XoUrkdhLkD2KFyPwvUsQBSuR+F6lC1AZmZmZmbmMECPwvUoXE8yQB+F61G4XjNAzczMzMxMNECPwvUoXI8xQKRwPQrXYzJAcT0K16MwMkDNzMzMzAwyQMP1KFyPwjFApHA9CtdjMkA9CtejcH0yQOxRuB6FKzNA4XoUrkdhNECkcD0K1+MyQGZmZmZmZjFAj8L1KFyPMUDXo3A9CtcxQArXo3A9ijFApHA9CtejMUCuR+F6FC4yQM3MzMzMjDNAPQrXo3C9MUAK16NwPYozQLgehetReDVAMzMzMzMzNUDD9Shcj8IzQOxRuB6F6zRA7FG4HoVrNEAAAAAAAEA2QOF6FK5HYThAmpmZmZlZN0AAAAAAAMA3QOxRuB6F6zlAZmZmZmYmOEDNzMzMzEw0QClcj8L1aDRA9ihcj8I1NEDhehSuR+E0QM3MzMzMzDNApHA9CtcjNEBcj8L1KJwzQK5H4XoULjVAFK5H4XoUNUBmZmZmZiYzQKRwPQrXozFA9ihcj8I1MUDhehSuR+EuQLgehetROC9ASOF6FK7HLkBmZmZmZmYuQFyPwvUoXCxA7FG4HoVrLECuR+F6FK4qQKRwPQrXIzBA16NwPQrXLEBxPQrXo3AmQJqZmZmZGShAAAAAAACAKUAK16NwPYooQMP1KFyPwjBAKVyPwvWoMkDXo3A9CtcwQArXo3A9SjNASOF6FK6HNEBcj8L1KBw2QMP1KFyPgjhAAAAAAADANUDXo3A9Cpc4QJqZmZmZmTlApHA9CtejO0CuR+F6FG4+QGZmZmZm5jpAPQrXo3C9OUDD9ShcjwI9QAAAAAAAQEBArkfhehRuO0CPwvUoXI9AQNejcD0K1z5AmpmZmZlZQEApXI/C9ehAQM3MzMzMzDpAKVyPwvWoPECkcD0K12M7QArXo3A9SjpA9ihcj8J1PEAfhetRuF48QAAAAAAAQDpAmpmZmZlZOkAzMzMzMzM7QK5H4XoUbjdArkfhehQuNUBxPQrXo3AzQNejcD0K1zNAexSuR+F6M0A9CtejcL01QI/C9ShcTzpACtejcD1KO0CPwvUoXE85QFyPwvUo3DpAhetRuB4FO0B7FK5H4fo8QDMzMzMzcz5AuB6F61E4O0CkcD0K1+M6QDMzMzMzMz9A4XoUrkfBQEDNzMzMzExCQArXo3A9Cj9AzczMzMzMOUCPwvUoXI89QHE9CtejMD5ACtejcD2KPkBSuB6F65E/QDMzMzMzMz1AXI/C9SgcPUApXI/C9Wg+QMP1KFyPQkBAZmZmZmaGQEAUrkfhehRCQOF6FK5H4UFAcT0K16OwQkBxPQrXo/BDQGZmZmZmhkJAZmZmZmbmRUCPwvUoXA9FQFK4HoXr0UhA4XoUrkfhSUBxPQrXo5BIQJqZmZmZuUVAmpmZmZkZSEAAAAAAAOBJQDMzMzMzs0tAXI/C9SjcSEBcj8L1KPxJQAAAAAAAQExAKVyPwvVITkBcj8L1KDxRQI/C9Shcj1BA4XoUrkfhTUApXI/C9ahMQIXrUbgehU5AexSuR+H6UEAUrkfherROQLgehetRqFBAuB6F61H4UUDD9Shcj9JRQOxRuB6Fe1JAmpmZmZmZUkBxPQrXo5BRQBSuR+F6dE9APQrXo3BdTUBxPQrXo5BPQGZmZmZmhk5AUrgehesRTUCF61G4HuVOQEjhehSud1BAPQrXo3BtUEBxPQrXowBQQOxRuB6Fq1FAPQrXo3CNU0DD9Shcj4JSQArXo3A9alRAUrgeheuhV0A9CtejcC1WQB+F61G4/ldAAAAAAADwVkD2KFyPwnVZQIXrUbgeZVlAPQrXo3BdXEBmZmZmZtZfQAAAAAAAgGFAhetRuB4FX0A9CtejcN1cQClcj8L1KFlApHA9CtfzUEDXo3A9CjdLQM3MzMzMTEZA16NwPQrXREDhehSuR2FGQBSuR+F61EhAj8L1KFyPSUCkcD0K15NQQClcj8L1eFFAzczMzMxcUUA9CtejcH1RQNejcD0Kp1FAAAAAAABAU0BSuB6F61FTQNejcD0K11NAKVyPwvU4UkAK16NwPepTQHE9Ctej8FRAmpmZmZmJVUCuR+F6FH5SQLgehetR6FJAzczMzMy8U0B7FK5H4fpRQK5H4XoU/lNA7FG4HoVbVEDXo3A9CgdVQLgehetR2FZAXI/C9SgMV0CuR+F6FD5YQK5H4XoUrlpA7FG4HoV7XEDNzMzMzKxZQHsUrkfh2ldAzczMzMzsV0CkcD0K1zNWQM3MzMzMzFNAXI/C9ShMV0DXo3A9ChdZQIXrUbgetVhAH4XrUbieWEAUrkfhesRaQOF6FK5HwVlASOF6FK43WkBSuB6F66FVQD0K16NwPVVApHA9CtcDVkCuR+F6FB5YQFyPwvUoDFdAj8L1KFyPVUAK16NwPTpWQBSuR+F69FZAj8L1KFxfWEAzMzMzMwNXQB+F61G4TlhAPQrXo3BdV0CuR+F6FP5WQKRwPQrXI1hAUrgehetBWkCamZmZmelaQIXrUbgelVlAuB6F61EYWECuR+F6FC5XQHsUrkfhmlhAj8L1KFxfWED2KFyPwqVZQIXrUbgeZVlAj8L1KFzvWEA9CtejcK1ZQEjhehSuV1pAexSuR+GKWEA9CtejcP1XQArXo3A9ylZAw/UoXI8iVECamZmZmYlQQMP1KFyPokpAH4XrUbgeSEDhehSuR+FIQM3MzMzMzEdAcT0K16PQTUBmZmZmZiZOQFyPwvUovE1Aj8L1KFyPR0CamZmZmZlIQOxRuB6Fi0ZA7FG4HoVLR0AzMzMzM9NEQIXrUbgehUJAj8L1KFzPQEAAAAAAAOBAQOxRuB6FK0NA9ihcj8L1RkDNzMzMzIxIQArXo3A9KkhAzczMzMzMRECamZmZmVlGQB+F61G4HkhArkfhehRuR0C4HoXrUbhIQFyPwvUo3EpASOF6FK5nSkDhehSuRwFLQM3MzMzMTElACtejcD2qSEApXI/C9ShIQIXrUbgeBUdA9ihcj8IVSUA9CtejcJ1HQPYoXI/C1UlAcT0K16MwS0AzMzMzM7NMQPYoXI/CNU5AH4XrUbguUEBSuB6F69FOQFyPwvUoPFBAFK5H4XokUUDD9Shcj8JQQJqZmZmZiVJAcT0K16MwUUAzMzMzM3NRQAAAAAAAUFJApHA9CtdTUEDXo3A9CndJQBSuR+F6tEZAhetRuB7lSkBcj8L1KJxMQFK4HoXrEU5AFK5H4Xr0T0AAAAAAAMBKQFyPwvUoPE1ACtejcD1KTUDNzMzMzIxLQClcj8L1CEtA16NwPQoXS0D2KFyPwpVLQEjhehSuh05ASOF6FK7HSUDhehSuR2FGQHsUrkfhejRA16NwPQrXMkAfhetRuL5BQMP1KFyPokNAw/UoXI8iRECuR+F6FE5FQFyPwvUoHERAhetRuB7lQUDsUbgehatGQMP1KFyPQkhA\",\"dtype\":\"float64\",\"order\":\"little\",\"shape\":[420]}},\"selected\":{\"id\":\"7396\"},\"selection_policy\":{\"id\":\"7414\"}},\"id\":\"7395\",\"type\":\"ColumnDataSource\"},{\"attributes\":{\"text\":\"gold & S&P500 12 month Rolling Correlation\",\"text_color\":{\"value\":\"black\"},\"text_font_size\":{\"value\":\"12pt\"}},\"id\":\"8041\",\"type\":\"Title\"},{\"attributes\":{\"below\":[{\"id\":\"7749\"}],\"center\":[{\"id\":\"7752\"},{\"id\":\"7756\"}],\"left\":[{\"id\":\"7753\"}],\"margin\":[5,5,5,5],\"min_border_bottom\":10,\"min_border_left\":10,\"min_border_right\":10,\"min_border_top\":10,\"plot_height\":300,\"plot_width\":700,\"renderers\":[{\"id\":\"7780\"},{\"id\":\"7810\"}],\"right\":[{\"id\":\"7802\"}],\"sizing_mode\":\"fixed\",\"title\":{\"id\":\"7741\"},\"toolbar\":{\"id\":\"7763\"},\"x_range\":{\"id\":\"7261\"},\"x_scale\":{\"id\":\"7745\"},\"y_range\":{\"id\":\"7262\"},\"y_scale\":{\"id\":\"7747\"}},\"id\":\"7740\",\"subtype\":\"Figure\",\"type\":\"Plot\"},{\"attributes\":{\"below\":[{\"id\":\"8049\"}],\"center\":[{\"id\":\"8052\"},{\"id\":\"8056\"}],\"left\":[{\"id\":\"8053\"}],\"margin\":[5,5,5,5],\"min_border_bottom\":10,\"min_border_left\":10,\"min_border_right\":10,\"min_border_top\":10,\"plot_height\":300,\"plot_width\":700,\"renderers\":[{\"id\":\"8076\"}],\"sizing_mode\":\"fixed\",\"title\":{\"id\":\"8041\"},\"toolbar\":{\"id\":\"8063\"},\"x_range\":{\"id\":\"8037\"},\"x_scale\":{\"id\":\"8045\"},\"y_range\":{\"id\":\"8038\"},\"y_scale\":{\"id\":\"8047\"}},\"id\":\"8040\",\"subtype\":\"Figure\",\"type\":\"Plot\"},{\"attributes\":{},\"id\":\"7672\",\"type\":\"CategoricalScale\"},{\"attributes\":{\"line_alpha\":0.2,\"line_color\":\"#1f77b3\",\"line_width\":2,\"x\":{\"field\":\"index\"},\"y\":{\"field\":\"value\"}},\"id\":\"7306\",\"type\":\"Line\"},{\"attributes\":{\"line_alpha\":0.1,\"line_color\":\"#1f77b3\",\"line_width\":2,\"x\":{\"field\":\"Date\"},\"y\":{\"field\":\"sp500\"}},\"id\":\"8074\",\"type\":\"Line\"},{\"attributes\":{\"axis\":{\"id\":\"7676\"},\"grid_line_color\":null,\"ticker\":null},\"id\":\"7678\",\"type\":\"Grid\"},{\"attributes\":{\"label\":{\"value\":\"crude oil\"},\"renderers\":[{\"id\":\"7401\"}]},\"id\":\"7429\",\"type\":\"LegendItem\"},{\"attributes\":{},\"id\":\"7677\",\"type\":\"CategoricalTicker\"},{\"attributes\":{\"margin\":[5,10,5,10],\"options\":[\"gold\",\"silver\",\"crude oil\"],\"title\":\"commodities\",\"value\":\"gold\"},\"id\":\"8035\",\"type\":\"Select\"},{\"attributes\":{\"mantissas\":[1,2,5],\"max_interval\":500.0,\"num_minor_ticks\":0},\"id\":\"7317\",\"type\":\"AdaptiveTicker\"},{\"attributes\":{},\"id\":\"8081\",\"type\":\"BasicTickFormatter\"},{\"attributes\":{},\"id\":\"7674\",\"type\":\"CategoricalScale\"},{\"attributes\":{\"callback\":null,\"formatters\":{\"@{Date}\":\"datetime\"},\"renderers\":[{\"id\":\"8076\"}],\"tags\":[\"hv_created\"],\"tooltips\":[[\"Date\",\"@{Date}{%F %T}\"],[\"sp500\",\"@{sp500}\"]]},\"id\":\"8039\",\"type\":\"HoverTool\"},{\"attributes\":{\"axis_label\":\"\",\"bounds\":\"auto\",\"formatter\":{\"id\":\"7707\"},\"major_label_orientation\":\"horizontal\",\"ticker\":{\"id\":\"7677\"}},\"id\":\"7676\",\"type\":\"CategoricalAxis\"},{\"attributes\":{\"children\":[{\"id\":\"8040\"}],\"margin\":[0,0,0,0],\"name\":\"Row19034\"},\"id\":\"8036\",\"type\":\"Row\"},{\"attributes\":{\"base\":24,\"mantissas\":[1,2,4,6,8,12],\"max_interval\":43200000.0,\"min_interval\":3600000.0,\"num_minor_ticks\":0},\"id\":\"7319\",\"type\":\"AdaptiveTicker\"},{\"attributes\":{\"days\":[1,15]},\"id\":\"7323\",\"type\":\"DaysTicker\"},{\"attributes\":{\"axis_label\":\"\",\"bounds\":\"auto\",\"formatter\":{\"id\":\"7709\"},\"major_label_orientation\":\"horizontal\",\"ticker\":{\"id\":\"7680\"}},\"id\":\"7679\",\"type\":\"CategoricalAxis\"},{\"attributes\":{\"months\":[0,6]},\"id\":\"7327\",\"type\":\"MonthsTicker\"},{\"attributes\":{},\"id\":\"8047\",\"type\":\"LinearScale\"},{\"attributes\":{},\"id\":\"7300\",\"type\":\"BasicTickFormatter\"},{\"attributes\":{\"source\":{\"id\":\"7301\"}},\"id\":\"7308\",\"type\":\"CDSView\"},{\"attributes\":{\"data_source\":{\"id\":\"7804\"},\"glyph\":{\"id\":\"7807\"},\"hover_glyph\":null,\"muted_glyph\":{\"id\":\"7809\"},\"nonselection_glyph\":{\"id\":\"7808\"},\"selection_glyph\":null,\"view\":{\"id\":\"7811\"}},\"id\":\"7810\",\"type\":\"GlyphRenderer\"},{\"attributes\":{\"line_color\":\"#1f77b3\",\"line_width\":2,\"x\":{\"field\":\"Date\"},\"y\":{\"field\":\"sp500\"}},\"id\":\"8073\",\"type\":\"Line\"},{\"attributes\":{},\"id\":\"7680\",\"type\":\"CategoricalTicker\"},{\"attributes\":{\"high\":1.0,\"low\":-0.3507676068219425,\"nan_color\":\"white\",\"palette\":[\"#b3fef5\",\"#b0fef5\",\"#adfdf5\",\"#a9fcf5\",\"#a6fbf6\",\"#a3faf6\",\"#a0faf6\",\"#9df9f6\",\"#9af8f6\",\"#97f7f6\",\"#93f7f6\",\"#90f6f6\",\"#8df5f6\",\"#8af4f7\",\"#87f3f7\",\"#83f2f7\",\"#80f2f7\",\"#7df1f7\",\"#79f0f7\",\"#76eff7\",\"#73eef7\",\"#6fedf8\",\"#6cecf8\",\"#68ecf8\",\"#65ebf8\",\"#61eaf8\",\"#5ee9f8\",\"#5ae8f8\",\"#57e7f8\",\"#53e6f8\",\"#50e5f9\",\"#4ce4f9\",\"#49e3f9\",\"#45e2f9\",\"#42e1f9\",\"#3ee0f9\",\"#3bdff9\",\"#38def9\",\"#35ddf9\",\"#32dcf9\",\"#30dbfa\",\"#2ed9fa\",\"#2dd8fa\",\"#2cd7fa\",\"#2bd6fa\",\"#2bd5fa\",\"#2ad3fa\",\"#2ad2fa\",\"#29d1fa\",\"#29d0fb\",\"#29cffb\",\"#28cdfb\",\"#28ccfb\",\"#28cbfb\",\"#28cafb\",\"#28c8fb\",\"#28c7fb\",\"#29c6fb\",\"#29c5fb\",\"#29c4fb\",\"#29c2fb\",\"#2ac1fb\",\"#2ac0fb\",\"#2bbffb\",\"#2bbdfc\",\"#2cbcfc\",\"#2dbbfc\",\"#2db9fc\",\"#2eb8fc\",\"#2fb7fc\",\"#2fb6fc\",\"#30b4fc\",\"#31b3fc\",\"#32b2fc\",\"#32b0fc\",\"#33affc\",\"#33aefc\",\"#34adfc\",\"#34abfc\",\"#34aafc\",\"#35a9fc\",\"#35a8fc\",\"#35a6fc\",\"#35a5fc\",\"#35a4fc\",\"#35a3fc\",\"#35a1fc\",\"#35a0fc\",\"#359ffc\",\"#359dfc\",\"#359cfc\",\"#359bfc\",\"#349afd\",\"#3498fd\",\"#3497fd\",\"#3396fd\",\"#3395fd\",\"#3293fd\",\"#3292fd\",\"#3191fd\",\"#3090fd\",\"#308ffd\",\"#2f8dfd\",\"#2f8cfd\",\"#2e8bfd\",\"#2e8afd\",\"#2d88fd\",\"#2d87fd\",\"#2c86fd\",\"#2c84fd\",\"#2c83fd\",\"#2c82fd\",\"#2b81fd\",\"#2b7ffd\",\"#2b7efd\",\"#2b7dfd\",\"#2b7bfd\",\"#2b7afd\",\"#2b79fd\",\"#2b77fd\",\"#2b76fd\",\"#2b75fd\",\"#2b73fd\",\"#2c72fd\",\"#2c71fd\",\"#2c6ffd\",\"#2c6efd\",\"#2d6cfd\",\"#2d6bfd\",\"#2d6afc\",\"#2e68fc\",\"#2e67fc\",\"#2e65fc\",\"#2e64fc\",\"#2f62fc\",\"#2f61fc\",\"#2f5ffc\",\"#2f5efc\",\"#2f5dfc\",\"#2f5bfc\",\"#2f5afc\",\"#2f58fb\",\"#2f57fb\",\"#2f55fb\",\"#2f53fb\",\"#2f52fb\",\"#2f50fb\",\"#2f4ffb\",\"#2f4dfb\",\"#2e4cfb\",\"#2e4afb\",\"#2e48fb\",\"#2e47fa\",\"#2d45fa\",\"#2d43fa\",\"#2d42fa\",\"#2d40fa\",\"#2c3efa\",\"#2c3dfa\",\"#2b3bf9\",\"#2b39f9\",\"#2a37f9\",\"#2a36f8\",\"#2934f8\",\"#2832f7\",\"#2831f7\",\"#272ff6\",\"#262ef5\",\"#252cf5\",\"#252af4\",\"#2429f3\",\"#2327f2\",\"#2226f1\",\"#2124f0\",\"#2023ef\",\"#1f22ee\",\"#1e20ed\",\"#1d1feb\",\"#1c1eea\",\"#1b1ce9\",\"#1a1be7\",\"#181ae6\",\"#1719e5\",\"#1618e3\",\"#1417e1\",\"#1316e0\",\"#1215de\",\"#1014dc\",\"#0f13db\",\"#0e12d9\",\"#0d11d7\",\"#0c10d5\",\"#0b0fd3\",\"#0a0ed1\",\"#090dd0\",\"#080dce\",\"#080ccc\",\"#070bca\",\"#070ac8\",\"#0709c6\",\"#0708c4\",\"#0707c2\",\"#0707bf\",\"#0806bd\",\"#0806bb\",\"#0905b9\",\"#0904b7\",\"#0a04b5\",\"#0a04b2\",\"#0b03b0\",\"#0c03ae\",\"#0d02ab\",\"#0e02a9\",\"#0e02a7\",\"#0f02a4\",\"#0f01a2\",\"#1001a0\",\"#10019d\",\"#10019b\",\"#100199\",\"#100197\",\"#100194\",\"#0f0192\",\"#0f0190\",\"#0f018e\",\"#0e018b\",\"#0e0189\",\"#0d0187\",\"#0d0185\",\"#0c0183\",\"#0b0181\",\"#0b017e\",\"#0a017c\",\"#09017a\",\"#090178\",\"#080276\",\"#070274\",\"#060272\",\"#060270\",\"#05026e\",\"#04026c\",\"#030269\",\"#030267\",\"#020265\",\"#010263\",\"#010261\",\"#00025f\",\"#00025d\",\"#00025b\",\"#000259\",\"#000257\",\"#000255\",\"#000154\",\"#000152\",\"#000150\",\"#00004e\"]},\"id\":\"7695\",\"type\":\"LinearColorMapper\"},{\"attributes\":{\"axis_label\":\"Date\",\"bounds\":\"auto\",\"formatter\":{\"id\":\"8079\"},\"major_label_orientation\":\"horizontal\",\"ticker\":{\"id\":\"8050\"}},\"id\":\"8049\",\"type\":\"DatetimeAxis\"},{\"attributes\":{\"child\":{\"id\":\"7730\"},\"name\":\"Column19038\",\"title\":\"Commodities Analysis\"},\"id\":\"8122\",\"type\":\"Panel\"},{\"attributes\":{\"axis\":{\"id\":\"7679\"},\"dimension\":1,\"grid_line_color\":null,\"ticker\":null},\"id\":\"7681\",\"type\":\"Grid\"},{\"attributes\":{},\"id\":\"8045\",\"type\":\"LinearScale\"},{\"attributes\":{\"data_source\":{\"id\":\"7301\"},\"glyph\":{\"id\":\"7304\"},\"hover_glyph\":null,\"muted_glyph\":{\"id\":\"7306\"},\"nonselection_glyph\":{\"id\":\"7305\"},\"selection_glyph\":null,\"view\":{\"id\":\"7308\"}},\"id\":\"7307\",\"type\":\"GlyphRenderer\"},{\"attributes\":{\"line_alpha\":0.2,\"line_color\":\"#ff7e0e\",\"line_width\":2,\"x\":{\"field\":\"index\"},\"y\":{\"field\":\"value\"}},\"id\":\"7809\",\"type\":\"Line\"},{\"attributes\":{\"num_minor_ticks\":5,\"tickers\":[{\"id\":\"8090\"},{\"id\":\"8091\"},{\"id\":\"8092\"},{\"id\":\"8093\"},{\"id\":\"8094\"},{\"id\":\"8095\"},{\"id\":\"8096\"},{\"id\":\"8097\"},{\"id\":\"8098\"},{\"id\":\"8099\"},{\"id\":\"8100\"},{\"id\":\"8101\"}]},\"id\":\"8050\",\"type\":\"DatetimeTicker\"},{\"attributes\":{\"axis\":{\"id\":\"8053\"},\"dimension\":1,\"grid_line_color\":null,\"ticker\":null},\"id\":\"8056\",\"type\":\"Grid\"},{\"attributes\":{\"axis\":{\"id\":\"8049\"},\"grid_line_color\":null,\"ticker\":null},\"id\":\"8052\",\"type\":\"Grid\"},{\"attributes\":{},\"id\":\"7819\",\"type\":\"UnionRenderers\"},{\"attributes\":{},\"id\":\"7314\",\"type\":\"UnionRenderers\"},{\"attributes\":{},\"id\":\"7363\",\"type\":\"Selection\"},{\"attributes\":{},\"id\":\"7328\",\"type\":\"YearsTicker\"},{\"attributes\":{\"source\":{\"id\":\"7804\"}},\"id\":\"7811\",\"type\":\"CDSView\"},{\"attributes\":{\"axis_label\":\"Correlation\",\"bounds\":\"auto\",\"formatter\":{\"id\":\"8081\"},\"major_label_orientation\":\"horizontal\",\"ticker\":{\"id\":\"8054\"}},\"id\":\"8053\",\"type\":\"LinearAxis\"},{\"attributes\":{},\"id\":\"8054\",\"type\":\"BasicTicker\"},{\"attributes\":{},\"id\":\"7682\",\"type\":\"SaveTool\"},{\"attributes\":{\"label\":{\"value\":\"gold\"},\"renderers\":[{\"id\":\"7810\"}]},\"id\":\"7834\",\"type\":\"LegendItem\"},{\"attributes\":{\"css_classes\":[\"markdown\"],\"margin\":[5,5,5,5],\"name\":\"Markdown18641\",\"text\":\"&lt;h1&gt;S&amp;amp;P 500 and Commodities Summary&lt;/h1&gt;\"},\"id\":\"7260\",\"type\":\"panel.models.markup.HTML\"},{\"attributes\":{},\"id\":\"7683\",\"type\":\"PanTool\"},{\"attributes\":{\"data_source\":{\"id\":\"8070\"},\"glyph\":{\"id\":\"8073\"},\"hover_glyph\":null,\"muted_glyph\":{\"id\":\"8075\"},\"nonselection_glyph\":{\"id\":\"8074\"},\"selection_glyph\":null,\"view\":{\"id\":\"8077\"}},\"id\":\"8076\",\"type\":\"GlyphRenderer\"},{\"attributes\":{\"line_color\":\"#1f77b3\",\"line_width\":2,\"x\":{\"field\":\"index\"},\"y\":{\"field\":\"value\"}},\"id\":\"7304\",\"type\":\"Line\"},{\"attributes\":{\"line_color\":\"#ff7e0e\",\"line_width\":2,\"x\":{\"field\":\"index\"},\"y\":{\"field\":\"value\"}},\"id\":\"7807\",\"type\":\"Line\"},{\"attributes\":{},\"id\":\"7684\",\"type\":\"WheelZoomTool\"},{\"attributes\":{\"css_classes\":[\"markdown\"],\"margin\":[5,5,5,5],\"name\":\"Markdown19036\",\"text\":\"&lt;h1&gt;Commodities Analysis&lt;/h1&gt;\"},\"id\":\"7731\",\"type\":\"panel.models.markup.HTML\"},{\"attributes\":{\"source\":{\"id\":\"8070\"}},\"id\":\"8077\",\"type\":\"CDSView\"},{\"attributes\":{\"overlay\":{\"id\":\"7687\"}},\"id\":\"7685\",\"type\":\"BoxZoomTool\"},{\"attributes\":{\"line_alpha\":0.2,\"line_color\":\"#1f77b3\",\"line_width\":2,\"x\":{\"field\":\"Date\"},\"y\":{\"field\":\"sp500\"}},\"id\":\"8075\",\"type\":\"Line\"},{\"attributes\":{},\"id\":\"7709\",\"type\":\"CategoricalTickFormatter\"},{\"attributes\":{},\"id\":\"7771\",\"type\":\"DatetimeTickFormatter\"},{\"attributes\":{\"click_policy\":\"mute\",\"items\":[{\"id\":\"7330\"},{\"id\":\"7361\"},{\"id\":\"7394\"},{\"id\":\"7429\"}],\"location\":[0,0],\"title\":\"Variable\"},\"id\":\"7329\",\"type\":\"Legend\"},{\"attributes\":{\"active_drag\":\"auto\",\"active_inspect\":\"auto\",\"active_multi\":null,\"active_scroll\":\"auto\",\"active_tap\":\"auto\",\"tools\":[{\"id\":\"7666\"},{\"id\":\"7682\"},{\"id\":\"7683\"},{\"id\":\"7684\"},{\"id\":\"7685\"},{\"id\":\"7686\"}]},\"id\":\"7688\",\"type\":\"Toolbar\"},{\"attributes\":{\"callback\":null,\"formatters\":{\"@{index}\":\"datetime\"},\"renderers\":[{\"id\":\"7780\"},{\"id\":\"7810\"}],\"tags\":[\"hv_created\"],\"tooltips\":[[\"Variable\",\"@{Variable}\"],[\"index\",\"@{index}{%F %T}\"],[\"value\",\"@{value}\"]]},\"id\":\"7738\",\"type\":\"HoverTool\"},{\"attributes\":{},\"id\":\"8057\",\"type\":\"SaveTool\"},{\"attributes\":{\"months\":[0,2,4,6,8,10]},\"id\":\"7325\",\"type\":\"MonthsTicker\"},{\"attributes\":{},\"id\":\"8058\",\"type\":\"PanTool\"},{\"attributes\":{\"children\":[{\"id\":\"7733\"},{\"id\":\"7735\"}],\"margin\":[0,0,0,0],\"name\":\"Column18846\"},\"id\":\"7732\",\"type\":\"Column\"},{\"attributes\":{},\"id\":\"7773\",\"type\":\"BasicTickFormatter\"},{\"attributes\":{},\"id\":\"8061\",\"type\":\"ResetTool\"},{\"attributes\":{},\"id\":\"7805\",\"type\":\"Selection\"},{\"attributes\":{\"callback\":null,\"formatters\":{\"@{index}\":\"datetime\"},\"renderers\":[{\"id\":\"7307\"},{\"id\":\"7337\"},{\"id\":\"7368\"},{\"id\":\"7401\"}],\"tags\":[\"hv_created\"],\"tooltips\":[[\"Variable\",\"@{Variable}\"],[\"index\",\"@{index}{%F %T}\"],[\"value\",\"@{value}\"]]},\"id\":\"7263\",\"type\":\"HoverTool\"},{\"attributes\":{},\"id\":\"8059\",\"type\":\"WheelZoomTool\"},{\"attributes\":{},\"id\":\"8087\",\"type\":\"UnionRenderers\"},{\"attributes\":{\"base\":24,\"mantissas\":[1,2,4,6,8,12],\"max_interval\":43200000.0,\"min_interval\":3600000.0,\"num_minor_ticks\":0},\"id\":\"8092\",\"type\":\"AdaptiveTicker\"},{\"attributes\":{\"months\":[0,4,8]},\"id\":\"7326\",\"type\":\"MonthsTicker\"},{\"attributes\":{\"factors\":[\"sp500\",\"dowjones\",\"nasdaq\",\"gold\",\"silver\",\"crude oil\",\"usd\",\"wti oil\",\"prime rate\"],\"tags\":[[[\"columns\",\"columns\",null]]]},\"id\":\"7664\",\"type\":\"FactorRange\"},{\"attributes\":{\"children\":[{\"id\":\"7734\"}],\"margin\":[0,0,0,0],\"name\":\"Column18951\"},\"id\":\"7733\",\"type\":\"Column\"},{\"attributes\":{\"bottom_units\":\"screen\",\"fill_alpha\":0.5,\"fill_color\":\"lightgrey\",\"left_units\":\"screen\",\"level\":\"overlay\",\"line_alpha\":1.0,\"line_color\":\"black\",\"line_dash\":[4,4],\"line_width\":2,\"right_units\":\"screen\",\"top_units\":\"screen\"},\"id\":\"7687\",\"type\":\"BoxAnnotation\"},{\"attributes\":{\"overlay\":{\"id\":\"8062\"}},\"id\":\"8060\",\"type\":\"BoxZoomTool\"},{\"attributes\":{\"children\":[{\"id\":\"8035\"}],\"margin\":[0,0,0,0],\"name\":\"Column19035\"},\"id\":\"8034\",\"type\":\"Column\"},{\"attributes\":{\"mantissas\":[1,2,5],\"max_interval\":500.0,\"num_minor_ticks\":0},\"id\":\"8090\",\"type\":\"AdaptiveTicker\"},{\"attributes\":{\"data\":{\"Variable\":[\"sp500\",\"sp500\",\"sp500\",\"sp500\",\"sp500\",\"sp500\",\"sp500\",\"sp500\",\"sp500\",\"sp500\",\"sp500\",\"sp500\",\"sp500\",\"sp500\",\"sp500\",\"sp500\",\"sp500\",\"sp500\",\"sp500\",\"sp500\",\"sp500\",\"sp500\",\"sp500\",\"sp500\",\"sp500\",\"sp500\",\"sp500\",\"sp500\",\"sp500\",\"sp500\",\"sp500\",\"sp500\",\"sp500\",\"sp500\",\"sp500\",\"sp500\",\"sp500\",\"sp500\",\"sp500\",\"sp500\",\"sp500\",\"sp500\",\"sp500\",\"sp500\",\"sp500\",\"sp500\",\"sp500\",\"sp500\",\"sp500\",\"sp500\",\"sp500\",\"sp500\",\"sp500\",\"sp500\",\"sp500\",\"sp500\",\"sp500\",\"sp500\",\"sp500\",\"sp500\",\"sp500\",\"sp500\",\"sp500\",\"sp500\",\"sp500\",\"sp500\",\"sp500\",\"sp500\",\"sp500\",\"sp500\",\"sp500\",\"sp500\",\"sp500\",\"sp500\",\"sp500\",\"sp500\",\"sp500\",\"sp500\",\"sp500\",\"sp500\",\"sp500\",\"sp500\",\"sp500\",\"sp500\",\"sp500\",\"sp500\",\"sp500\",\"sp500\",\"sp500\",\"sp500\",\"sp500\",\"sp500\",\"sp500\",\"sp500\",\"sp500\",\"sp500\",\"sp500\",\"sp500\",\"sp500\",\"sp500\",\"sp500\",\"sp500\",\"sp500\",\"sp500\",\"sp500\",\"sp500\",\"sp500\",\"sp500\",\"sp500\",\"sp500\",\"sp500\",\"sp500\",\"sp500\",\"sp500\",\"sp500\",\"sp500\",\"sp500\",\"sp500\",\"sp500\",\"sp500\",\"sp500\",\"sp500\",\"sp500\",\"sp500\",\"sp500\",\"sp500\",\"sp500\",\"sp500\",\"sp500\",\"sp500\",\"sp500\",\"sp500\",\"sp500\",\"sp500\",\"sp500\",\"sp500\",\"sp500\",\"sp500\",\"sp500\",\"sp500\",\"sp500\",\"sp500\",\"sp500\",\"sp500\",\"sp500\",\"sp500\",\"sp500\",\"sp500\",\"sp500\",\"sp500\",\"sp500\",\"sp500\",\"sp500\",\"sp500\",\"sp500\",\"sp500\",\"sp500\",\"sp500\",\"sp500\",\"sp500\",\"sp500\",\"sp500\",\"sp500\",\"sp500\",\"sp500\",\"sp500\",\"sp500\",\"sp500\",\"sp500\",\"sp500\",\"sp500\",\"sp500\",\"sp500\",\"sp500\",\"sp500\",\"sp500\",\"sp500\",\"sp500\",\"sp500\",\"sp500\",\"sp500\",\"sp500\",\"sp500\",\"sp500\",\"sp500\",\"sp500\",\"sp500\",\"sp500\",\"sp500\",\"sp500\",\"sp500\",\"sp500\",\"sp500\",\"sp500\",\"sp500\",\"sp500\",\"sp500\",\"sp500\",\"sp500\",\"sp500\",\"sp500\",\"sp500\",\"sp500\",\"sp500\",\"sp500\",\"sp500\",\"sp500\",\"sp500\",\"sp500\",\"sp500\",\"sp500\",\"sp500\",\"sp500\",\"sp500\",\"sp500\",\"sp500\",\"sp500\",\"sp500\",\"sp500\",\"sp500\",\"sp500\",\"sp500\",\"sp500\",\"sp500\",\"sp500\",\"sp500\",\"sp500\",\"sp500\",\"sp500\",\"sp500\",\"sp500\",\"sp500\",\"sp500\",\"sp500\",\"sp500\",\"sp500\",\"sp500\",\"sp500\",\"sp500\",\"sp500\",\"sp500\",\"sp500\",\"sp500\",\"sp500\",\"sp500\",\"sp500\",\"sp500\",\"sp500\",\"sp500\",\"sp500\",\"sp500\",\"sp500\",\"sp500\",\"sp500\",\"sp500\",\"sp500\",\"sp500\",\"sp500\",\"sp500\",\"sp500\",\"sp500\",\"sp500\",\"sp500\",\"sp500\",\"sp500\",\"sp500\",\"sp500\",\"sp500\",\"sp500\",\"sp500\",\"sp500\",\"sp500\",\"sp500\",\"sp500\",\"sp500\",\"sp500\",\"sp500\",\"sp500\",\"sp500\",\"sp500\",\"sp500\",\"sp500\",\"sp500\",\"sp500\",\"sp500\",\"sp500\",\"sp500\",\"sp500\",\"sp500\",\"sp500\",\"sp500\",\"sp500\",\"sp500\",\"sp500\",\"sp500\",\"sp500\",\"sp500\",\"sp500\",\"sp500\",\"sp500\",\"sp500\",\"sp500\",\"sp500\",\"sp500\",\"sp500\",\"sp500\",\"sp500\",\"sp500\",\"sp500\",\"sp500\",\"sp500\",\"sp500\",\"sp500\",\"sp500\",\"sp500\",\"sp500\",\"sp500\",\"sp500\",\"sp500\",\"sp500\",\"sp500\",\"sp500\",\"sp500\",\"sp500\",\"sp500\",\"sp500\",\"sp500\",\"sp500\",\"sp500\",\"sp500\",\"sp500\",\"sp500\",\"sp500\",\"sp500\",\"sp500\",\"sp500\",\"sp500\",\"sp500\",\"sp500\",\"sp500\",\"sp500\",\"sp500\",\"sp500\",\"sp500\",\"sp500\",\"sp500\",\"sp500\",\"sp500\",\"sp500\",\"sp500\",\"sp500\",\"sp500\",\"sp500\",\"sp500\",\"sp500\",\"sp500\",\"sp500\",\"sp500\",\"sp500\",\"sp500\",\"sp500\",\"sp500\",\"sp500\",\"sp500\",\"sp500\",\"sp500\",\"sp500\",\"sp500\",\"sp500\",\"sp500\",\"sp500\",\"sp500\",\"sp500\",\"sp500\",\"sp500\",\"sp500\",\"sp500\",\"sp500\",\"sp500\",\"sp500\",\"sp500\",\"sp500\",\"sp500\",\"sp500\",\"sp500\",\"sp500\",\"sp500\",\"sp500\",\"sp500\",\"sp500\",\"sp500\",\"sp500\",\"sp500\",\"sp500\",\"sp500\",\"sp500\",\"sp500\",\"sp500\",\"sp500\",\"sp500\",\"sp500\",\"sp500\",\"sp500\",\"sp500\",\"sp500\",\"sp500\",\"sp500\",\"sp500\",\"sp500\",\"sp500\",\"sp500\",\"sp500\",\"sp500\",\"sp500\",\"sp500\",\"sp500\",\"sp500\",\"sp500\",\"sp500\",\"sp500\"],\"index\":{\"__ndarray__\":\"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\",\"dtype\":\"float64\",\"order\":\"little\",\"shape\":[420]},\"value\":{\"__ndarray__\":\"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\",\"dtype\":\"float64\",\"order\":\"little\",\"shape\":[420]}},\"selected\":{\"id\":\"7302\"},\"selection_policy\":{\"id\":\"7314\"}},\"id\":\"7301\",\"type\":\"ColumnDataSource\"},{\"attributes\":{\"margin\":[5,10,5,10],\"options\":[\"gold\",\"silver\",\"crude oil\"],\"title\":\"commodities\",\"value\":\"gold\"},\"id\":\"7734\",\"type\":\"Select\"},{\"attributes\":{\"axis\":{\"id\":\"7276\"},\"grid_line_color\":null,\"ticker\":null},\"id\":\"7279\",\"type\":\"Grid\"},{\"attributes\":{\"base\":60,\"mantissas\":[1,2,5,10,15,20,30],\"max_interval\":1800000.0,\"min_interval\":1000.0,\"num_minor_ticks\":0},\"id\":\"7318\",\"type\":\"AdaptiveTicker\"},{\"attributes\":{\"data\":{\"Variable\":[\"sp500\",\"sp500\",\"sp500\",\"sp500\",\"sp500\",\"sp500\",\"sp500\",\"sp500\",\"sp500\",\"sp500\",\"sp500\",\"sp500\",\"sp500\",\"sp500\",\"sp500\",\"sp500\",\"sp500\",\"sp500\",\"sp500\",\"sp500\",\"sp500\",\"sp500\",\"sp500\",\"sp500\",\"sp500\",\"sp500\",\"sp500\",\"sp500\",\"sp500\",\"sp500\",\"sp500\",\"sp500\",\"sp500\",\"sp500\",\"sp500\",\"sp500\",\"sp500\",\"sp500\",\"sp500\",\"sp500\",\"sp500\",\"sp500\",\"sp500\",\"sp500\",\"sp500\",\"sp500\",\"sp500\",\"sp500\",\"sp500\",\"sp500\",\"sp500\",\"sp500\",\"sp500\",\"sp500\",\"sp500\",\"sp500\",\"sp500\",\"sp500\",\"sp500\",\"sp500\",\"sp500\",\"sp500\",\"sp500\",\"sp500\",\"sp500\",\"sp500\",\"sp500\",\"sp500\",\"sp500\",\"sp500\",\"sp500\",\"sp500\",\"sp500\",\"sp500\",\"sp500\",\"sp500\",\"sp500\",\"sp500\",\"sp500\",\"sp500\",\"sp500\",\"sp500\",\"sp500\",\"sp500\",\"sp500\",\"sp500\",\"sp500\",\"sp500\",\"sp500\",\"sp500\",\"sp500\",\"sp500\",\"sp500\",\"sp500\",\"sp500\",\"sp500\",\"sp500\",\"sp500\",\"sp500\",\"sp500\",\"sp500\",\"sp500\",\"sp500\",\"sp500\",\"sp500\",\"sp500\",\"sp500\",\"sp500\",\"sp500\",\"sp500\",\"sp500\",\"sp500\",\"sp500\",\"sp500\",\"sp500\",\"sp500\",\"sp500\",\"sp500\",\"sp500\",\"sp500\",\"sp500\",\"sp500\",\"sp500\",\"sp500\",\"sp500\",\"sp500\",\"sp500\",\"sp500\",\"sp500\",\"sp500\",\"sp500\",\"sp500\",\"sp500\",\"sp500\",\"sp500\",\"sp500\",\"sp500\",\"sp500\",\"sp500\",\"sp500\",\"sp500\",\"sp500\",\"sp500\",\"sp500\",\"sp500\",\"sp500\",\"sp500\",\"sp500\",\"sp500\",\"sp500\",\"sp500\",\"sp500\",\"sp500\",\"sp500\",\"sp500\",\"sp500\",\"sp500\",\"sp500\",\"sp500\",\"sp500\",\"sp500\",\"sp500\",\"sp500\",\"sp500\",\"sp500\",\"sp500\",\"sp500\",\"sp500\",\"sp500\",\"sp500\",\"sp500\",\"sp500\",\"sp500\",\"sp500\",\"sp500\",\"sp500\",\"sp500\",\"sp500\",\"sp500\",\"sp500\",\"sp500\",\"sp500\",\"sp500\",\"sp500\",\"sp500\",\"sp500\",\"sp500\",\"sp500\",\"sp500\",\"sp500\",\"sp500\",\"sp500\",\"sp500\",\"sp500\",\"sp500\",\"sp500\",\"sp500\",\"sp500\",\"sp500\",\"sp500\",\"sp500\",\"sp500\",\"sp500\",\"sp500\",\"sp500\",\"sp500\",\"sp500\",\"sp500\",\"sp500\",\"sp500\",\"sp500\",\"sp500\",\"sp500\",\"sp500\",\"sp500\",\"sp500\",\"sp500\",\"sp500\",\"sp500\",\"sp500\",\"sp500\",\"sp500\",\"sp500\",\"sp500\",\"sp500\",\"sp500\",\"sp500\",\"sp500\",\"sp500\",\"sp500\",\"sp500\",\"sp500\",\"sp500\",\"sp500\",\"sp500\",\"sp500\",\"sp500\",\"sp500\",\"sp500\",\"sp500\",\"sp500\",\"sp500\",\"sp500\",\"sp500\",\"sp500\",\"sp500\",\"sp500\",\"sp500\",\"sp500\",\"sp500\",\"sp500\",\"sp500\",\"sp500\",\"sp500\",\"sp500\",\"sp500\",\"sp500\",\"sp500\",\"sp500\",\"sp500\",\"sp500\",\"sp500\",\"sp500\",\"sp500\",\"sp500\",\"sp500\",\"sp500\",\"sp500\",\"sp500\",\"sp500\",\"sp500\",\"sp500\",\"sp500\",\"sp500\",\"sp500\",\"sp500\",\"sp500\",\"sp500\",\"sp500\",\"sp500\",\"sp500\",\"sp500\",\"sp500\",\"sp500\",\"sp500\",\"sp500\",\"sp500\",\"sp500\",\"sp500\",\"sp500\",\"sp500\",\"sp500\",\"sp500\",\"sp500\",\"sp500\",\"sp500\",\"sp500\",\"sp500\",\"sp500\",\"sp500\",\"sp500\",\"sp500\",\"sp500\",\"sp500\",\"sp500\",\"sp500\",\"sp500\",\"sp500\",\"sp500\",\"sp500\",\"sp500\",\"sp500\",\"sp500\",\"sp500\",\"sp500\",\"sp500\",\"sp500\",\"sp500\",\"sp500\",\"sp500\",\"sp500\",\"sp500\",\"sp500\",\"sp500\",\"sp500\",\"sp500\",\"sp500\",\"sp500\",\"sp500\",\"sp500\",\"sp500\",\"sp500\",\"sp500\",\"sp500\",\"sp500\",\"sp500\",\"sp500\",\"sp500\",\"sp500\",\"sp500\",\"sp500\",\"sp500\",\"sp500\",\"sp500\",\"sp500\",\"sp500\",\"sp500\",\"sp500\",\"sp500\",\"sp500\",\"sp500\",\"sp500\",\"sp500\",\"sp500\",\"sp500\",\"sp500\",\"sp500\",\"sp500\",\"sp500\",\"sp500\",\"sp500\",\"sp500\",\"sp500\",\"sp500\",\"sp500\",\"sp500\",\"sp500\",\"sp500\",\"sp500\",\"sp500\",\"sp500\",\"sp500\",\"sp500\",\"sp500\",\"sp500\",\"sp500\",\"sp500\",\"sp500\",\"sp500\",\"sp500\",\"sp500\",\"sp500\",\"sp500\",\"sp500\",\"sp500\",\"sp500\",\"sp500\",\"sp500\",\"sp500\",\"sp500\",\"sp500\",\"sp500\",\"sp500\",\"sp500\",\"sp500\",\"sp500\",\"sp500\",\"sp500\",\"sp500\",\"sp500\",\"sp500\",\"sp500\",\"sp500\",\"sp500\",\"sp500\",\"sp500\",\"sp500\",\"sp500\",\"sp500\",\"sp500\",\"sp500\",\"sp500\",\"sp500\",\"sp500\",\"sp500\",\"sp500\",\"sp500\",\"sp500\",\"sp500\",\"sp500\"],\"index\":{\"__ndarray__\":\"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\",\"dtype\":\"float64\",\"order\":\"little\",\"shape\":[420]},\"value\":{\"__ndarray__\":\"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\",\"dtype\":\"float64\",\"order\":\"little\",\"shape\":[420]}},\"selected\":{\"id\":\"7775\"},\"selection_policy\":{\"id\":\"7787\"}},\"id\":\"7774\",\"type\":\"ColumnDataSource\"},{\"attributes\":{\"base\":60,\"mantissas\":[1,2,5,10,15,20,30],\"max_interval\":1800000.0,\"min_interval\":1000.0,\"num_minor_ticks\":0},\"id\":\"8091\",\"type\":\"AdaptiveTicker\"},{\"attributes\":{},\"id\":\"7274\",\"type\":\"LinearScale\"},{\"attributes\":{\"callback\":null,\"renderers\":[{\"id\":\"7702\"}],\"tags\":[\"hv_created\"],\"tooltips\":[[\"columns\",\"@{columns}\"],[\"index\",\"@{index}\"],[\"value\",\"@{value}\"]]},\"id\":\"7666\",\"type\":\"HoverTool\"},{\"attributes\":{},\"id\":\"7775\",\"type\":\"Selection\"},{\"attributes\":{},\"id\":\"7272\",\"type\":\"LinearScale\"},{\"attributes\":{\"data\":{\"columns\":[\"sp500\",\"sp500\",\"sp500\",\"sp500\",\"sp500\",\"sp500\",\"sp500\",\"sp500\",\"sp500\",\"dowjones\",\"dowjones\",\"dowjones\",\"dowjones\",\"dowjones\",\"dowjones\",\"dowjones\",\"dowjones\",\"dowjones\",\"nasdaq\",\"nasdaq\",\"nasdaq\",\"nasdaq\",\"nasdaq\",\"nasdaq\",\"nasdaq\",\"nasdaq\",\"nasdaq\",\"gold\",\"gold\",\"gold\",\"gold\",\"gold\",\"gold\",\"gold\",\"gold\",\"gold\",\"silver\",\"silver\",\"silver\",\"silver\",\"silver\",\"silver\",\"silver\",\"silver\",\"silver\",\"crude oil\",\"crude oil\",\"crude oil\",\"crude oil\",\"crude oil\",\"crude oil\",\"crude oil\",\"crude oil\",\"crude oil\",\"usd\",\"usd\",\"usd\",\"usd\",\"usd\",\"usd\",\"usd\",\"usd\",\"usd\",\"wti oil\",\"wti oil\",\"wti oil\",\"wti oil\",\"wti oil\",\"wti oil\",\"wti oil\",\"wti oil\",\"wti oil\",\"prime rate\",\"prime rate\",\"prime rate\",\"prime rate\",\"prime rate\",\"prime rate\",\"prime rate\",\"prime rate\",\"prime rate\"],\"index\":[\"sp500\",\"dowjones\",\"nasdaq\",\"gold\",\"silver\",\"crude oil\",\"usd\",\"wti oil\",\"prime rate\",\"sp500\",\"dowjones\",\"nasdaq\",\"gold\",\"silver\",\"crude oil\",\"usd\",\"wti oil\",\"prime rate\",\"sp500\",\"dowjones\",\"nasdaq\",\"gold\",\"silver\",\"crude oil\",\"usd\",\"wti oil\",\"prime rate\",\"sp500\",\"dowjones\",\"nasdaq\",\"gold\",\"silver\",\"crude oil\",\"usd\",\"wti oil\",\"prime rate\",\"sp500\",\"dowjones\",\"nasdaq\",\"gold\",\"silver\",\"crude oil\",\"usd\",\"wti oil\",\"prime rate\",\"sp500\",\"dowjones\",\"nasdaq\",\"gold\",\"silver\",\"crude oil\",\"usd\",\"wti oil\",\"prime rate\",\"sp500\",\"dowjones\",\"nasdaq\",\"gold\",\"silver\",\"crude oil\",\"usd\",\"wti oil\",\"prime rate\",\"sp500\",\"dowjones\",\"nasdaq\",\"gold\",\"silver\",\"crude oil\",\"usd\",\"wti oil\",\"prime rate\",\"sp500\",\"dowjones\",\"nasdaq\",\"gold\",\"silver\",\"crude oil\",\"usd\",\"wti oil\",\"prime rate\"],\"value\":[\"1\",\"0.95915\",\"0.86144\",\"-0.047171\",\"0.16852\",\"0.1929\",\"-0.11466\",\"0.090555\",\"-0.023702\",\"0.95915\",\"1\",\"0.77269\",\"-0.065531\",\"0.14815\",\"0.1718\",\"-0.084694\",\"0.085366\",\"-0.018323\",\"0.86144\",\"0.77269\",\"1\",\"-0.033415\",\"0.14711\",\"0.15928\",\"-0.057104\",\"0.056424\",\"0.015671\",\"-0.047171\",\"-0.065531\",\"-0.033415\",\"1\",\"0.70926\",\"0.175\",\"-0.35077\",\"0.067412\",\"0.031369\",\"0.16852\",\"0.14815\",\"0.14711\",\"0.70926\",\"1\",\"0.25558\",\"-0.23866\",\"0.15915\",\"0.035773\",\"0.1929\",\"0.1718\",\"0.15928\",\"0.175\",\"0.25558\",\"1\",\"-0.18937\",\"0.74604\",\"0.03021\",\"-0.11466\",\"-0.084694\",\"-0.057104\",\"-0.35077\",\"-0.23866\",\"-0.18937\",\"1\",\"-0.10836\",\"0.017936\",\"0.090555\",\"0.085366\",\"0.056424\",\"0.067412\",\"0.15915\",\"0.74604\",\"-0.10836\",\"1\",\"0.064596\",\"-0.023702\",\"-0.018323\",\"0.015671\",\"0.031369\",\"0.035773\",\"0.03021\",\"0.017936\",\"0.064596\",\"1\"],\"zvalues\":{\"__ndarray__\":\"AAAAAAAA8D873LtiVrHuPzcdZfDtkOs/f04Hx8omqL+ue/3oCpLFP8pRjubRsMg/4GqoJCJavb+NAOonnS63P3BxPAM1RZi/O9y7Ylax7j8AAAAAAADwPycGT3HXueg/ljteWaDGsL+lPOcKfPbCP4HYnNKn/cU/FYyNgIiutb+3cmwih9q1PxMmBhU5w5K/Nx1l8O2Q6z8nBk9x17noPwAAAAAAAPA/P39vAcIbob9rE3ghcdTCP9WPzZQhY8Q/GsXftrA8rb8glJg2muOsP/QPe8bvC5A/f04Hx8omqL+WO15ZoMawvz9/bwHCG6G/AAAAAAAA8D/h/dw9TLLmP03pvCNNZsY/tPjy+fly1r8a5SV+7EGxP9JSfZelD6A/rnv96AqSxT+lPOcKfPbCP2sTeCFx1MI/4f3cPUyy5j8AAAAAAADwP5Q8A897W9A/jGRDynmMzr+J0ru/Dl/EP73shMXhUKI/ylGO5tGwyD+B2JzSp/3FP9WPzZQhY8Q/Tem8I01mxj+UPAPPe1vQPwAAAAAAAPA/75M8qk49yL/kNdMjl9/nP3bOBNJs754/4GqoJCJavb8VjI2AiK61vxrF37awPK2/tPjy+fly1r+MZEPKeYzOv++TPKpOPci/AAAAAAAA8D9zm3RhVL27vx+7sPrEXZI/jQDqJ50utz+3cmwih9q1PyCUmDaa46w/GuUlfuxBsT+J0ru/Dl/EP+Q10yOX3+c/c5t0YVS9u78AAAAAAADwPxjCPvxdibA/cHE8AzVFmL8TJgYVOcOSv/QPe8bvC5A/0lJ9l6UPoD+97ITF4VCiP3bOBNJs754/H7uw+sRdkj8Ywj78XYmwPwAAAAAAAPA/\",\"dtype\":\"float64\",\"order\":\"little\",\"shape\":[81]}},\"selected\":{\"id\":\"7697\"},\"selection_policy\":{\"id\":\"7717\"}},\"id\":\"7696\",\"type\":\"ColumnDataSource\"},{\"attributes\":{\"axis_label\":\"Date\",\"bounds\":\"auto\",\"formatter\":{\"id\":\"7298\"},\"major_label_orientation\":\"horizontal\",\"ticker\":{\"id\":\"7277\"}},\"id\":\"7276\",\"type\":\"DatetimeAxis\"}],\"root_ids\":[\"7258\",\"8354\"]},\"title\":\"Bokeh Application\",\"version\":\"2.2.3\"}};\n",
       "    var render_items = [{\"docid\":\"1b744356-9276-4874-a8e7-e2fc527c147b\",\"root_ids\":[\"7258\"],\"roots\":{\"7258\":\"958dedf5-ee06-4a5d-be6a-a26a52478613\"}}];\n",
       "    root.Bokeh.embed.embed_items_notebook(docs_json, render_items);\n",
       "  }\n",
       "  if (root.Bokeh !== undefined && root.Bokeh.Panel !== undefined && root['Plotly'] !== undefined ) {\n",
       "    embed_document(root);\n",
       "  } else {\n",
       "    var attempts = 0;\n",
       "    var timer = setInterval(function(root) {\n",
       "      if (root.Bokeh !== undefined && root.Bokeh.Panel !== undefined && root['Plotly'] !== undefined) {\n",
       "        clearInterval(timer);\n",
       "        embed_document(root);\n",
       "      } else if (document.readyState == \"complete\") {\n",
       "        attempts++;\n",
       "        if (attempts > 100) {\n",
       "          clearInterval(timer);\n",
       "          console.log(\"Bokeh: ERROR: Unable to run BokehJS code because BokehJS library is missing\");\n",
       "        }\n",
       "      }\n",
       "    }, 10, root)\n",
       "  }\n",
       "})(window);</script>"
      ],
      "text/plain": [
       "Tabs\n",
       "    [0] Column\n",
       "        [0] Markdown(str)\n",
       "        [1] HoloViews(NdOverlay)\n",
       "        [2] HoloViews(HeatMap)\n",
       "    [1] Column\n",
       "        [0] Markdown(str)\n",
       "        [1] Column\n",
       "            [0] Column\n",
       "                [0] Select(name='commodities', options=['gold', 'silver', ...], value='gold')\n",
       "            [1] Row\n",
       "                [0] HoloViews(NdOverlay, name='interactive18845')\n",
       "        [2] Column\n",
       "            [0] Column\n",
       "                [0] Select(name='commodities', options=['gold', 'silver', ...], value='gold')\n",
       "            [1] Row\n",
       "                [0] HoloViews(Curve, name='interactive18952')"
      ]
     },
     "execution_count": 107,
     "metadata": {
      "application/vnd.holoviews_exec.v0+json": {
       "id": "7258"
      }
     },
     "output_type": "execute_result"
    }
   ],
   "source": [
    "panel1.servable()"
   ]
  },
  {
   "cell_type": "markdown",
   "metadata": {},
   "source": [
    "From 1985 to early 2000, gold was used to hedge against market downturn. When investers were expecting a bear market, they sell shares in stock market and buy gold, causing decline in stock market indices and rise in gold prices. Hence, gold price moved in the opposite direction of S&P500 index.\n",
    "This is also shown as negative (inverse) correlation until early 2000. The correlation started to change to be more positive due to creation of paper gold and commodities market in 1970's. However, it took some time for the paper gold and commdities futures market to be popularized and accessible to retial investors; therefore, the transition was not apparent until mid 2000's. The commodities market allowed traders and investors to speculate on future commodities prices. As a result, the gold price correlation began to shift to possitive territory. Since 2007, we noticed that Crude Oil has become more collerated to S&P500, possibly due to the start of oil price war.\n",
    "\n"
   ]
  },
  {
   "cell_type": "markdown",
   "metadata": {},
   "source": [
    "Cryptocurrencies has weak correlation to S&P500."
   ]
  },
  {
   "cell_type": "code",
   "execution_count": null,
   "metadata": {},
   "outputs": [],
   "source": [
    "panel2.servable()"
   ]
  },
  {
   "cell_type": "code",
   "execution_count": null,
   "metadata": {},
   "outputs": [],
   "source": [
    "panel3.servable()"
   ]
  },
  {
   "cell_type": "code",
   "execution_count": null,
   "metadata": {},
   "outputs": [],
   "source": [
    "panel4.servable()"
   ]
  },
  {
   "cell_type": "markdown",
   "metadata": {},
   "source": [
    "From the heat map we could observe that there is little to no correlation between the Stock market and interest rate.\n",
    "GDP seems similar to S&P 500 line trends postively and the heat map show little to no correlation"
   ]
  },
  {
   "cell_type": "code",
   "execution_count": null,
   "metadata": {},
   "outputs": [],
   "source": [
    "reagan"
   ]
  },
  {
   "cell_type": "code",
   "execution_count": null,
   "metadata": {},
   "outputs": [],
   "source": [
    "bush_SR"
   ]
  },
  {
   "cell_type": "code",
   "execution_count": null,
   "metadata": {},
   "outputs": [],
   "source": [
    "clinton "
   ]
  },
  {
   "cell_type": "code",
   "execution_count": null,
   "metadata": {},
   "outputs": [],
   "source": [
    "bush_JR "
   ]
  },
  {
   "cell_type": "code",
   "execution_count": null,
   "metadata": {},
   "outputs": [],
   "source": [
    "obama   "
   ]
  },
  {
   "cell_type": "code",
   "execution_count": null,
   "metadata": {},
   "outputs": [],
   "source": [
    "trump"
   ]
  },
  {
   "cell_type": "markdown",
   "metadata": {},
   "source": [
    "President's impact on the economy (Stock Market) has a little impact on growth and changes in stock market observing the S&P 500 growing postively through all years regardless of the president.\n",
    "\n",
    "GDP seems similar to S&P 500 line trends postively regardless of president."
   ]
  },
  {
   "cell_type": "markdown",
   "metadata": {},
   "source": [
    "## Aidan's Section"
   ]
  },
  {
   "cell_type": "code",
   "execution_count": null,
   "metadata": {},
   "outputs": [],
   "source": [
    "##Rolling beta S&P500 and USD\n",
    "rolling_cov = oil_commodities_return['sp500'].rolling(window=14).cov(oil_commodities_return[\"usd\"])\n",
    "rolling_var = oil_commodities_return['sp500'].rolling(window=14).var()\n",
    "rolling_beta = rolling_cov / rolling_var\n",
    "rolling_beta.plot(figsize=(15,10), title = \"Rolling 14-day Beta USD and S&P 500\")"
   ]
  },
  {
   "cell_type": "code",
   "execution_count": null,
   "metadata": {},
   "outputs": [],
   "source": [
    "##Rolling beta S&P500 and WTI\n",
    "rolling_cov = oil_commodities_return['sp500'].rolling(window=14).cov(oil_commodities_return[\"wti oil\"])\n",
    "rolling_var = oil_commodities_return['sp500'].rolling(window=14).var()\n",
    "rolling_beta = rolling_cov / rolling_var\n",
    "rolling_beta.plot(figsize=(15,10), title = \"Rolling 14-day Beta WTI Oil and S&P 500\")"
   ]
  },
  {
   "cell_type": "code",
   "execution_count": null,
   "metadata": {},
   "outputs": [],
   "source": []
  }
 ],
 "metadata": {
  "kernelspec": {
   "display_name": "Python [conda env:pyvizenv] *",
   "language": "python",
   "name": "conda-env-pyvizenv-py"
  },
  "language_info": {
   "codemirror_mode": {
    "name": "ipython",
    "version": 3
   },
   "file_extension": ".py",
   "mimetype": "text/x-python",
   "name": "python",
   "nbconvert_exporter": "python",
   "pygments_lexer": "ipython3",
   "version": "3.7.9"
  }
 },
 "nbformat": 4,
 "nbformat_minor": 4
}
