{
 "cells": [
  {
   "cell_type": "markdown",
   "metadata": {},
   "source": [
    "### GROUP PROJECT MASTER"
   ]
  },
  {
   "cell_type": "code",
   "execution_count": 240,
   "metadata": {},
   "outputs": [],
   "source": [
    "# import libraries and dependencies\n",
    "import os\n",
    "import numpy as np\n",
    "import pandas as pd\n",
    "import alpaca_trade_api as tradeapi\n",
    "from MCForecastTools import MCSimulation\n",
    "from pathlib import Path\n",
    "from dotenv import load_dotenv\n",
    "import yfinance as yf\n",
    "import panel as pn\n",
    "from panel.interact import interact\n",
    "import plotly.express as px\n",
    "pn.extension('plotly')\n",
    "import hvplot.pandas\n",
    "\n",
    "load_dotenv()\n",
    "%matplotlib inline"
   ]
  },
  {
   "cell_type": "code",
   "execution_count": 241,
   "metadata": {},
   "outputs": [],
   "source": [
    "# read in datasets\n",
    "df_sp500 = pd.read_csv(\"DATA SOURCES/sp500_historical.csv\", index_col=\"Date\", infer_datetime_format=True, parse_dates=True)\n",
    "df_dowjones = pd.read_csv(\"DATA SOURCES/dowjones_historical.csv\", index_col=\"Date\", infer_datetime_format=True, parse_dates=True)\n",
    "df_nasdaq = pd.read_csv(\"DATA SOURCES/nasdaq_historical.csv\", index_col=\"Date\", infer_datetime_format=True, parse_dates=True)\n",
    "df_gold = pd.read_csv(\"DATA SOURCES/gold_historical.csv\", index_col=\"Date\", infer_datetime_format=True, parse_dates=True)\n",
    "df_silver = pd.read_csv(\"DATA SOURCES/silver_historical.csv\", index_col=\"Date\", infer_datetime_format=True, parse_dates=True)\n",
    "df_crudeoil = pd.read_csv(\"DATA SOURCES/crudeoil_historical.csv\", index_col=\"Date\", infer_datetime_format=True, parse_dates=True)\n",
    "wti_df = pd.read_csv(\"DATA SOURCES/Crude_Oil_WTI.csv\", index_col =\"DATE\", infer_datetime_format = True, parse_dates = True)\n"
   ]
  },
  {
   "cell_type": "code",
   "execution_count": 242,
   "metadata": {},
   "outputs": [
    {
     "data": {
      "text/html": [
       "<div>\n",
       "<style scoped>\n",
       "    .dataframe tbody tr th:only-of-type {\n",
       "        vertical-align: middle;\n",
       "    }\n",
       "\n",
       "    .dataframe tbody tr th {\n",
       "        vertical-align: top;\n",
       "    }\n",
       "\n",
       "    .dataframe thead th {\n",
       "        text-align: right;\n",
       "    }\n",
       "</style>\n",
       "<table border=\"1\" class=\"dataframe\">\n",
       "  <thead>\n",
       "    <tr style=\"text-align: right;\">\n",
       "      <th></th>\n",
       "      <th>Open</th>\n",
       "      <th>High</th>\n",
       "      <th>Low</th>\n",
       "      <th>Close</th>\n",
       "      <th>Adj Close</th>\n",
       "      <th>Volume</th>\n",
       "    </tr>\n",
       "    <tr>\n",
       "      <th>Date</th>\n",
       "      <th></th>\n",
       "      <th></th>\n",
       "      <th></th>\n",
       "      <th></th>\n",
       "      <th></th>\n",
       "      <th></th>\n",
       "    </tr>\n",
       "  </thead>\n",
       "  <tbody>\n",
       "    <tr>\n",
       "      <th>1985-01-01</th>\n",
       "      <td>152.229996</td>\n",
       "      <td>153.889999</td>\n",
       "      <td>151.800003</td>\n",
       "      <td>152.720001</td>\n",
       "      <td>152.720001</td>\n",
       "      <td>0</td>\n",
       "    </tr>\n",
       "    <tr>\n",
       "      <th>1985-02-01</th>\n",
       "      <td>153.470001</td>\n",
       "      <td>164.720001</td>\n",
       "      <td>153.470001</td>\n",
       "      <td>160.410004</td>\n",
       "      <td>160.410004</td>\n",
       "      <td>0</td>\n",
       "    </tr>\n",
       "    <tr>\n",
       "      <th>1985-03-01</th>\n",
       "      <td>161.039993</td>\n",
       "      <td>163.830002</td>\n",
       "      <td>149.179993</td>\n",
       "      <td>149.179993</td>\n",
       "      <td>149.179993</td>\n",
       "      <td>0</td>\n",
       "    </tr>\n",
       "    <tr>\n",
       "      <th>1985-04-01</th>\n",
       "      <td>150.649994</td>\n",
       "      <td>153.160004</td>\n",
       "      <td>144.830002</td>\n",
       "      <td>149.699997</td>\n",
       "      <td>149.699997</td>\n",
       "      <td>0</td>\n",
       "    </tr>\n",
       "    <tr>\n",
       "      <th>1985-05-01</th>\n",
       "      <td>151.570007</td>\n",
       "      <td>154.520004</td>\n",
       "      <td>147.059998</td>\n",
       "      <td>147.860001</td>\n",
       "      <td>147.860001</td>\n",
       "      <td>0</td>\n",
       "    </tr>\n",
       "  </tbody>\n",
       "</table>\n",
       "</div>"
      ],
      "text/plain": [
       "                  Open        High         Low       Close   Adj Close  Volume\n",
       "Date                                                                          \n",
       "1985-01-01  152.229996  153.889999  151.800003  152.720001  152.720001       0\n",
       "1985-02-01  153.470001  164.720001  153.470001  160.410004  160.410004       0\n",
       "1985-03-01  161.039993  163.830002  149.179993  149.179993  149.179993       0\n",
       "1985-04-01  150.649994  153.160004  144.830002  149.699997  149.699997       0\n",
       "1985-05-01  151.570007  154.520004  147.059998  147.860001  147.860001       0"
      ]
     },
     "execution_count": 242,
     "metadata": {},
     "output_type": "execute_result"
    }
   ],
   "source": [
    "# set, pull and display data from YFinance\n",
    "dxy_df = yf.download('DX-Y.NYB',\n",
    "                       start='1980-01-01',\n",
    "                       end='2021-01-31',\n",
    "                       progress=False,\n",
    "                       index_col ='Date',\n",
    "                        interval =\"1mo\",\n",
    "                       infer_datetime_format= True,\n",
    "                       parse_dates = True,\n",
    "\n",
    ")\n",
    "dxy_df.head()"
   ]
  },
  {
   "cell_type": "markdown",
   "metadata": {},
   "source": [
    "## Data Cleaning"
   ]
  },
  {
   "cell_type": "code",
   "execution_count": 243,
   "metadata": {},
   "outputs": [],
   "source": [
    "# drop unnecessary columns\n",
    "df_sp500.drop(columns=[\"Open\",\"High\",\"Low\",\"Vol.\",\"Change %\"],inplace=True)\n",
    "df_dowjones.drop(columns=[\"Open\",\"High\",\"Low\",\"Vol.\",\"Change %\"],inplace=True)\n",
    "df_nasdaq.drop(columns=[\"Open\",\"High\",\"Low\",\"Vol.\",\"Change %\"],inplace=True)\n",
    "df_gold.drop(columns=[\"Open\",\"High\",\"Low\",\"Vol.\",\"Change %\"],inplace=True)\n",
    "df_silver.drop(columns=[\"Open\",\"High\",\"Low\",\"Vol.\",\"Change %\"],inplace=True)\n",
    "df_crudeoil.drop(columns=[\"Open\",\"High\",\"Low\",\"Vol.\",\"Change %\"],inplace=True)\n",
    "dxy_df.drop(['Open', 'High','Low', 'Adj Close', 'Volume'],axis=1, inplace=True)"
   ]
  },
  {
   "cell_type": "code",
   "execution_count": 244,
   "metadata": {},
   "outputs": [],
   "source": [
    "# rename columns to indicate index / symbol\n",
    "df_sp500.rename(columns={\"Price\":\"sp500\"},inplace=True)\n",
    "df_dowjones.rename(columns={\"Price\":\"dowjones\"},inplace=True)\n",
    "df_nasdaq.rename(columns={\"Price\":\"nasdaq\"},inplace=True)\n",
    "df_gold.rename(columns={\"Price\":\"gold\"},inplace=True)\n",
    "df_silver.rename(columns={\"Price\":\"silver\"},inplace=True)\n",
    "df_crudeoil.rename(columns={\"Price\":\"crudeoil\"},inplace=True)\n",
    "dxy_df.rename(columns={'Close':'dxy_mthly'}, inplace= True)\n",
    "wti_df.rename(columns={'MCOILWTICO':'wti_mthly'}, inplace = True)"
   ]
  },
  {
   "cell_type": "markdown",
   "metadata": {},
   "source": [
    "## Park & Aidan's Datasets Combined"
   ]
  },
  {
   "cell_type": "code",
   "execution_count": 245,
   "metadata": {},
   "outputs": [
    {
     "data": {
      "text/html": [
       "<div>\n",
       "<style scoped>\n",
       "    .dataframe tbody tr th:only-of-type {\n",
       "        vertical-align: middle;\n",
       "    }\n",
       "\n",
       "    .dataframe tbody tr th {\n",
       "        vertical-align: top;\n",
       "    }\n",
       "\n",
       "    .dataframe thead th {\n",
       "        text-align: right;\n",
       "    }\n",
       "</style>\n",
       "<table border=\"1\" class=\"dataframe\">\n",
       "  <thead>\n",
       "    <tr style=\"text-align: right;\">\n",
       "      <th></th>\n",
       "      <th>sp500</th>\n",
       "      <th>dowjones</th>\n",
       "      <th>nasdaq</th>\n",
       "      <th>gold</th>\n",
       "    </tr>\n",
       "    <tr>\n",
       "      <th>Date</th>\n",
       "      <th></th>\n",
       "      <th></th>\n",
       "      <th></th>\n",
       "      <th></th>\n",
       "    </tr>\n",
       "  </thead>\n",
       "  <tbody>\n",
       "    <tr>\n",
       "      <th>2021-01-21</th>\n",
       "      <td>3,714.24</td>\n",
       "      <td>29,982.62</td>\n",
       "      <td>13,070.70</td>\n",
       "      <td>1,850.30</td>\n",
       "    </tr>\n",
       "    <tr>\n",
       "      <th>2020-12-20</th>\n",
       "      <td>3,756.07</td>\n",
       "      <td>30,606.48</td>\n",
       "      <td>12,888.28</td>\n",
       "      <td>1,895.10</td>\n",
       "    </tr>\n",
       "    <tr>\n",
       "      <th>2020-11-20</th>\n",
       "      <td>3,621.63</td>\n",
       "      <td>29,638.64</td>\n",
       "      <td>12,198.74</td>\n",
       "      <td>1,780.90</td>\n",
       "    </tr>\n",
       "    <tr>\n",
       "      <th>2020-10-20</th>\n",
       "      <td>3,269.96</td>\n",
       "      <td>26,501.60</td>\n",
       "      <td>10,911.59</td>\n",
       "      <td>1,887.20</td>\n",
       "    </tr>\n",
       "    <tr>\n",
       "      <th>2020-09-20</th>\n",
       "      <td>3,363.00</td>\n",
       "      <td>27,781.70</td>\n",
       "      <td>11,167.51</td>\n",
       "      <td>1,902.60</td>\n",
       "    </tr>\n",
       "  </tbody>\n",
       "</table>\n",
       "</div>"
      ],
      "text/plain": [
       "               sp500   dowjones     nasdaq      gold\n",
       "Date                                                \n",
       "2021-01-21  3,714.24  29,982.62  13,070.70  1,850.30\n",
       "2020-12-20  3,756.07  30,606.48  12,888.28  1,895.10\n",
       "2020-11-20  3,621.63  29,638.64  12,198.74  1,780.90\n",
       "2020-10-20  3,269.96  26,501.60  10,911.59  1,887.20\n",
       "2020-09-20  3,363.00  27,781.70  11,167.51  1,902.60"
      ]
     },
     "execution_count": 245,
     "metadata": {},
     "output_type": "execute_result"
    }
   ],
   "source": [
    "# combine datasets\n",
    "df_commodities = pd.concat([df_sp500,df_dowjones,df_nasdaq,df_gold], join=\"inner\", axis=\"columns\")\n",
    "df_commodities.head()"
   ]
  },
  {
   "cell_type": "code",
   "execution_count": 246,
   "metadata": {},
   "outputs": [
    {
     "name": "stdout",
     "output_type": "stream",
     "text": [
      "<class 'pandas.core.frame.DataFrame'>\n",
      "DatetimeIndex: 432 entries, 2021-01-21 to 1985-02-01\n",
      "Data columns (total 4 columns):\n",
      "sp500       432 non-null float64\n",
      "dowjones    432 non-null float64\n",
      "nasdaq      432 non-null float64\n",
      "gold        432 non-null float64\n",
      "dtypes: float64(4)\n",
      "memory usage: 16.9 KB\n"
     ]
    }
   ],
   "source": [
    "# convert string (object) to float\n",
    "df_commodities = df_commodities.apply(lambda x: x.str.replace(\",\",\"\"))\n",
    "df_commodities = df_commodities.astype('float')\n",
    "df_commodities.info()"
   ]
  },
  {
   "cell_type": "code",
   "execution_count": 247,
   "metadata": {},
   "outputs": [
    {
     "name": "stdout",
     "output_type": "stream",
     "text": [
      "<class 'pandas.core.frame.DataFrame'>\n",
      "DatetimeIndex: 192 entries, 2001-12-01 to 1986-01-01\n",
      "Freq: -1MS\n",
      "Data columns (total 8 columns):\n",
      "sp500        192 non-null float64\n",
      "dowjones     192 non-null float64\n",
      "nasdaq       192 non-null float64\n",
      "gold         192 non-null float64\n",
      "silver       192 non-null float64\n",
      "crudeoil     192 non-null float64\n",
      "dxy_mthly    192 non-null float64\n",
      "wti_mthly    192 non-null float64\n",
      "dtypes: float64(8)\n",
      "memory usage: 13.5 KB\n"
     ]
    }
   ],
   "source": [
    "# combine datasets\n",
    "oil_commodities_sp500 = pd.concat([df_commodities,df_silver,df_crudeoil,dxy_df, wti_df], join=\"inner\", axis=\"columns\")\n",
    "oil_commodities_sp500.info()"
   ]
  },
  {
   "cell_type": "code",
   "execution_count": 248,
   "metadata": {},
   "outputs": [
    {
     "data": {
      "text/html": [
       "<div>\n",
       "<style scoped>\n",
       "    .dataframe tbody tr th:only-of-type {\n",
       "        vertical-align: middle;\n",
       "    }\n",
       "\n",
       "    .dataframe tbody tr th {\n",
       "        vertical-align: top;\n",
       "    }\n",
       "\n",
       "    .dataframe thead th {\n",
       "        text-align: right;\n",
       "    }\n",
       "</style>\n",
       "<table border=\"1\" class=\"dataframe\">\n",
       "  <thead>\n",
       "    <tr style=\"text-align: right;\">\n",
       "      <th></th>\n",
       "      <th>sp500</th>\n",
       "      <th>dowjones</th>\n",
       "      <th>nasdaq</th>\n",
       "      <th>gold</th>\n",
       "      <th>silver</th>\n",
       "      <th>crudeoil</th>\n",
       "      <th>dxy_mthly</th>\n",
       "      <th>wti_mthly</th>\n",
       "    </tr>\n",
       "  </thead>\n",
       "  <tbody>\n",
       "    <tr>\n",
       "      <th>2001-12-01</th>\n",
       "      <td>1148.08</td>\n",
       "      <td>10021.57</td>\n",
       "      <td>1950.40</td>\n",
       "      <td>278.7</td>\n",
       "      <td>4.579</td>\n",
       "      <td>19.84</td>\n",
       "      <td>116.750000</td>\n",
       "      <td>19.39</td>\n",
       "    </tr>\n",
       "    <tr>\n",
       "      <th>2001-11-01</th>\n",
       "      <td>1139.45</td>\n",
       "      <td>9851.56</td>\n",
       "      <td>1930.58</td>\n",
       "      <td>273.9</td>\n",
       "      <td>4.128</td>\n",
       "      <td>19.44</td>\n",
       "      <td>116.129997</td>\n",
       "      <td>19.64</td>\n",
       "    </tr>\n",
       "    <tr>\n",
       "      <th>2001-10-01</th>\n",
       "      <td>1059.78</td>\n",
       "      <td>9075.14</td>\n",
       "      <td>1690.20</td>\n",
       "      <td>279.5</td>\n",
       "      <td>4.214</td>\n",
       "      <td>21.18</td>\n",
       "      <td>114.860001</td>\n",
       "      <td>22.17</td>\n",
       "    </tr>\n",
       "    <tr>\n",
       "      <th>2001-09-01</th>\n",
       "      <td>1040.94</td>\n",
       "      <td>8847.56</td>\n",
       "      <td>1498.80</td>\n",
       "      <td>292.4</td>\n",
       "      <td>4.647</td>\n",
       "      <td>23.43</td>\n",
       "      <td>113.480003</td>\n",
       "      <td>26.20</td>\n",
       "    </tr>\n",
       "    <tr>\n",
       "      <th>2001-08-01</th>\n",
       "      <td>1133.58</td>\n",
       "      <td>9949.75</td>\n",
       "      <td>1805.43</td>\n",
       "      <td>274.4</td>\n",
       "      <td>4.162</td>\n",
       "      <td>27.20</td>\n",
       "      <td>113.419998</td>\n",
       "      <td>27.37</td>\n",
       "    </tr>\n",
       "  </tbody>\n",
       "</table>\n",
       "</div>"
      ],
      "text/plain": [
       "              sp500  dowjones   nasdaq   gold  silver  crudeoil   dxy_mthly  \\\n",
       "2001-12-01  1148.08  10021.57  1950.40  278.7   4.579     19.84  116.750000   \n",
       "2001-11-01  1139.45   9851.56  1930.58  273.9   4.128     19.44  116.129997   \n",
       "2001-10-01  1059.78   9075.14  1690.20  279.5   4.214     21.18  114.860001   \n",
       "2001-09-01  1040.94   8847.56  1498.80  292.4   4.647     23.43  113.480003   \n",
       "2001-08-01  1133.58   9949.75  1805.43  274.4   4.162     27.20  113.419998   \n",
       "\n",
       "            wti_mthly  \n",
       "2001-12-01      19.39  \n",
       "2001-11-01      19.64  \n",
       "2001-10-01      22.17  \n",
       "2001-09-01      26.20  \n",
       "2001-08-01      27.37  "
      ]
     },
     "execution_count": 248,
     "metadata": {},
     "output_type": "execute_result"
    }
   ],
   "source": [
    "oil_commodities_sp500.head()"
   ]
  },
  {
   "cell_type": "code",
   "execution_count": 249,
   "metadata": {},
   "outputs": [
    {
     "data": {
      "text/html": [
       "<div>\n",
       "<style scoped>\n",
       "    .dataframe tbody tr th:only-of-type {\n",
       "        vertical-align: middle;\n",
       "    }\n",
       "\n",
       "    .dataframe tbody tr th {\n",
       "        vertical-align: top;\n",
       "    }\n",
       "\n",
       "    .dataframe thead th {\n",
       "        text-align: right;\n",
       "    }\n",
       "</style>\n",
       "<table border=\"1\" class=\"dataframe\">\n",
       "  <thead>\n",
       "    <tr style=\"text-align: right;\">\n",
       "      <th></th>\n",
       "      <th>sp500</th>\n",
       "      <th>dowjones</th>\n",
       "      <th>nasdaq</th>\n",
       "      <th>gold</th>\n",
       "      <th>silver</th>\n",
       "      <th>crudeoil</th>\n",
       "      <th>dxy_mthly</th>\n",
       "      <th>wti_mthly</th>\n",
       "    </tr>\n",
       "  </thead>\n",
       "  <tbody>\n",
       "    <tr>\n",
       "      <th>sp500</th>\n",
       "      <td>1.000000</td>\n",
       "      <td>0.949933</td>\n",
       "      <td>0.822128</td>\n",
       "      <td>-0.239009</td>\n",
       "      <td>0.051095</td>\n",
       "      <td>-0.097420</td>\n",
       "      <td>0.113776</td>\n",
       "      <td>-0.107075</td>\n",
       "    </tr>\n",
       "    <tr>\n",
       "      <th>dowjones</th>\n",
       "      <td>0.949933</td>\n",
       "      <td>1.000000</td>\n",
       "      <td>0.713949</td>\n",
       "      <td>-0.226363</td>\n",
       "      <td>0.073807</td>\n",
       "      <td>-0.113708</td>\n",
       "      <td>0.129404</td>\n",
       "      <td>-0.110274</td>\n",
       "    </tr>\n",
       "    <tr>\n",
       "      <th>nasdaq</th>\n",
       "      <td>0.822128</td>\n",
       "      <td>0.713949</td>\n",
       "      <td>1.000000</td>\n",
       "      <td>-0.134197</td>\n",
       "      <td>0.075868</td>\n",
       "      <td>-0.012470</td>\n",
       "      <td>0.106656</td>\n",
       "      <td>-0.070637</td>\n",
       "    </tr>\n",
       "    <tr>\n",
       "      <th>gold</th>\n",
       "      <td>-0.239009</td>\n",
       "      <td>-0.226363</td>\n",
       "      <td>-0.134197</td>\n",
       "      <td>1.000000</td>\n",
       "      <td>0.593983</td>\n",
       "      <td>0.215851</td>\n",
       "      <td>-0.260711</td>\n",
       "      <td>0.130105</td>\n",
       "    </tr>\n",
       "    <tr>\n",
       "      <th>silver</th>\n",
       "      <td>0.051095</td>\n",
       "      <td>0.073807</td>\n",
       "      <td>0.075868</td>\n",
       "      <td>0.593983</td>\n",
       "      <td>1.000000</td>\n",
       "      <td>0.112093</td>\n",
       "      <td>0.019583</td>\n",
       "      <td>0.052613</td>\n",
       "    </tr>\n",
       "    <tr>\n",
       "      <th>crudeoil</th>\n",
       "      <td>-0.097420</td>\n",
       "      <td>-0.113708</td>\n",
       "      <td>-0.012470</td>\n",
       "      <td>0.215851</td>\n",
       "      <td>0.112093</td>\n",
       "      <td>1.000000</td>\n",
       "      <td>-0.041537</td>\n",
       "      <td>0.749053</td>\n",
       "    </tr>\n",
       "    <tr>\n",
       "      <th>dxy_mthly</th>\n",
       "      <td>0.113776</td>\n",
       "      <td>0.129404</td>\n",
       "      <td>0.106656</td>\n",
       "      <td>-0.260711</td>\n",
       "      <td>0.019583</td>\n",
       "      <td>-0.041537</td>\n",
       "      <td>1.000000</td>\n",
       "      <td>0.006578</td>\n",
       "    </tr>\n",
       "    <tr>\n",
       "      <th>wti_mthly</th>\n",
       "      <td>-0.107075</td>\n",
       "      <td>-0.110274</td>\n",
       "      <td>-0.070637</td>\n",
       "      <td>0.130105</td>\n",
       "      <td>0.052613</td>\n",
       "      <td>0.749053</td>\n",
       "      <td>0.006578</td>\n",
       "      <td>1.000000</td>\n",
       "    </tr>\n",
       "  </tbody>\n",
       "</table>\n",
       "</div>"
      ],
      "text/plain": [
       "              sp500  dowjones    nasdaq      gold    silver  crudeoil  \\\n",
       "sp500      1.000000  0.949933  0.822128 -0.239009  0.051095 -0.097420   \n",
       "dowjones   0.949933  1.000000  0.713949 -0.226363  0.073807 -0.113708   \n",
       "nasdaq     0.822128  0.713949  1.000000 -0.134197  0.075868 -0.012470   \n",
       "gold      -0.239009 -0.226363 -0.134197  1.000000  0.593983  0.215851   \n",
       "silver     0.051095  0.073807  0.075868  0.593983  1.000000  0.112093   \n",
       "crudeoil  -0.097420 -0.113708 -0.012470  0.215851  0.112093  1.000000   \n",
       "dxy_mthly  0.113776  0.129404  0.106656 -0.260711  0.019583 -0.041537   \n",
       "wti_mthly -0.107075 -0.110274 -0.070637  0.130105  0.052613  0.749053   \n",
       "\n",
       "           dxy_mthly  wti_mthly  \n",
       "sp500       0.113776  -0.107075  \n",
       "dowjones    0.129404  -0.110274  \n",
       "nasdaq      0.106656  -0.070637  \n",
       "gold       -0.260711   0.130105  \n",
       "silver      0.019583   0.052613  \n",
       "crudeoil   -0.041537   0.749053  \n",
       "dxy_mthly   1.000000   0.006578  \n",
       "wti_mthly   0.006578   1.000000  "
      ]
     },
     "execution_count": 249,
     "metadata": {},
     "output_type": "execute_result"
    }
   ],
   "source": [
    "# calculate monthly returns\n",
    "oil_commodities_return = oil_commodities_sp500.pct_change()\n",
    "\n",
    "# calculate correlation\n",
    "oil_commodities_corr = oil_commodities_return.corr()\n",
    "oil_commodities_corr"
   ]
  },
  {
   "cell_type": "markdown",
   "metadata": {},
   "source": [
    "## Park's Data"
   ]
  },
  {
   "cell_type": "code",
   "execution_count": 250,
   "metadata": {},
   "outputs": [],
   "source": [
    "prices_commodities = oil_commodities_sp500[[\"sp500\",\"gold\",\"silver\",\"crudeoil\"]].hvplot.line(title=\"Commodities Prices and S&P500\", xlabel=\"Date\", ylabel=\"Monthly Close Price\")\n",
    "prices_gold = oil_commodities_sp500[[\"sp500\",\"gold\"]].hvplot.line(xlabel=\"Date\", ylabel=\"Monthly Close Price\")\n",
    "prices_silver = oil_commodities_sp500[[\"sp500\",\"silver\"]].hvplot.line(xlabel=\"Date\", ylabel=\"Monthly Close Price\")\n",
    "prices_crudeoil = oil_commodities_sp500[[\"sp500\",\"crudeoil\"]].hvplot.line(xlabel=\"Date\", ylabel=\"Monthly Close Price\")"
   ]
  },
  {
   "cell_type": "code",
   "execution_count": 251,
   "metadata": {},
   "outputs": [
    {
     "data": {
      "text/html": [
       "<div>\n",
       "<style scoped>\n",
       "    .dataframe tbody tr th:only-of-type {\n",
       "        vertical-align: middle;\n",
       "    }\n",
       "\n",
       "    .dataframe tbody tr th {\n",
       "        vertical-align: top;\n",
       "    }\n",
       "\n",
       "    .dataframe thead th {\n",
       "        text-align: right;\n",
       "    }\n",
       "</style>\n",
       "<table border=\"1\" class=\"dataframe\">\n",
       "  <thead>\n",
       "    <tr style=\"text-align: right;\">\n",
       "      <th></th>\n",
       "      <th>level_1</th>\n",
       "      <th>sp500</th>\n",
       "      <th>dowjones</th>\n",
       "      <th>nasdaq</th>\n",
       "      <th>gold</th>\n",
       "      <th>silver</th>\n",
       "      <th>crudeoil</th>\n",
       "      <th>dxy_mthly</th>\n",
       "      <th>wti_mthly</th>\n",
       "    </tr>\n",
       "    <tr>\n",
       "      <th>Date</th>\n",
       "      <th></th>\n",
       "      <th></th>\n",
       "      <th></th>\n",
       "      <th></th>\n",
       "      <th></th>\n",
       "      <th></th>\n",
       "      <th></th>\n",
       "      <th></th>\n",
       "      <th></th>\n",
       "    </tr>\n",
       "  </thead>\n",
       "  <tbody>\n",
       "    <tr>\n",
       "      <th>2000-12-01</th>\n",
       "      <td>sp500</td>\n",
       "      <td>1.000000</td>\n",
       "      <td>0.914598</td>\n",
       "      <td>0.949551</td>\n",
       "      <td>-0.348228</td>\n",
       "      <td>0.052083</td>\n",
       "      <td>0.363213</td>\n",
       "      <td>-0.060841</td>\n",
       "      <td>-0.151563</td>\n",
       "    </tr>\n",
       "    <tr>\n",
       "      <th>2000-12-01</th>\n",
       "      <td>dowjones</td>\n",
       "      <td>0.914598</td>\n",
       "      <td>1.000000</td>\n",
       "      <td>0.803027</td>\n",
       "      <td>-0.437436</td>\n",
       "      <td>-0.178638</td>\n",
       "      <td>0.431131</td>\n",
       "      <td>-0.034105</td>\n",
       "      <td>-0.135100</td>\n",
       "    </tr>\n",
       "    <tr>\n",
       "      <th>2000-12-01</th>\n",
       "      <td>nasdaq</td>\n",
       "      <td>0.949551</td>\n",
       "      <td>0.803027</td>\n",
       "      <td>1.000000</td>\n",
       "      <td>-0.349392</td>\n",
       "      <td>0.011145</td>\n",
       "      <td>0.282354</td>\n",
       "      <td>-0.080068</td>\n",
       "      <td>-0.202669</td>\n",
       "    </tr>\n",
       "    <tr>\n",
       "      <th>2000-12-01</th>\n",
       "      <td>gold</td>\n",
       "      <td>-0.348228</td>\n",
       "      <td>-0.437436</td>\n",
       "      <td>-0.349392</td>\n",
       "      <td>1.000000</td>\n",
       "      <td>0.635165</td>\n",
       "      <td>-0.064549</td>\n",
       "      <td>-0.464135</td>\n",
       "      <td>0.517887</td>\n",
       "    </tr>\n",
       "    <tr>\n",
       "      <th>2000-12-01</th>\n",
       "      <td>silver</td>\n",
       "      <td>0.052083</td>\n",
       "      <td>-0.178638</td>\n",
       "      <td>0.011145</td>\n",
       "      <td>0.635165</td>\n",
       "      <td>1.000000</td>\n",
       "      <td>0.153137</td>\n",
       "      <td>-0.170194</td>\n",
       "      <td>0.474653</td>\n",
       "    </tr>\n",
       "    <tr>\n",
       "      <th>2000-12-01</th>\n",
       "      <td>crudeoil</td>\n",
       "      <td>0.363213</td>\n",
       "      <td>0.431131</td>\n",
       "      <td>0.282354</td>\n",
       "      <td>-0.064549</td>\n",
       "      <td>0.153137</td>\n",
       "      <td>1.000000</td>\n",
       "      <td>-0.299916</td>\n",
       "      <td>0.667736</td>\n",
       "    </tr>\n",
       "    <tr>\n",
       "      <th>2000-12-01</th>\n",
       "      <td>dxy_mthly</td>\n",
       "      <td>-0.060841</td>\n",
       "      <td>-0.034105</td>\n",
       "      <td>-0.080068</td>\n",
       "      <td>-0.464135</td>\n",
       "      <td>-0.170194</td>\n",
       "      <td>-0.299916</td>\n",
       "      <td>1.000000</td>\n",
       "      <td>-0.293921</td>\n",
       "    </tr>\n",
       "    <tr>\n",
       "      <th>2000-12-01</th>\n",
       "      <td>wti_mthly</td>\n",
       "      <td>-0.151563</td>\n",
       "      <td>-0.135100</td>\n",
       "      <td>-0.202669</td>\n",
       "      <td>0.517887</td>\n",
       "      <td>0.474653</td>\n",
       "      <td>0.667736</td>\n",
       "      <td>-0.293921</td>\n",
       "      <td>1.000000</td>\n",
       "    </tr>\n",
       "    <tr>\n",
       "      <th>2000-11-01</th>\n",
       "      <td>sp500</td>\n",
       "      <td>1.000000</td>\n",
       "      <td>0.908617</td>\n",
       "      <td>0.940613</td>\n",
       "      <td>-0.364544</td>\n",
       "      <td>-0.010149</td>\n",
       "      <td>0.189586</td>\n",
       "      <td>-0.106918</td>\n",
       "      <td>-0.187988</td>\n",
       "    </tr>\n",
       "    <tr>\n",
       "      <th>2000-11-01</th>\n",
       "      <td>dowjones</td>\n",
       "      <td>0.908617</td>\n",
       "      <td>1.000000</td>\n",
       "      <td>0.773972</td>\n",
       "      <td>-0.442756</td>\n",
       "      <td>-0.291187</td>\n",
       "      <td>0.151006</td>\n",
       "      <td>-0.159688</td>\n",
       "      <td>-0.244317</td>\n",
       "    </tr>\n",
       "  </tbody>\n",
       "</table>\n",
       "</div>"
      ],
      "text/plain": [
       "              level_1     sp500  dowjones    nasdaq      gold    silver  \\\n",
       "Date                                                                      \n",
       "2000-12-01      sp500  1.000000  0.914598  0.949551 -0.348228  0.052083   \n",
       "2000-12-01   dowjones  0.914598  1.000000  0.803027 -0.437436 -0.178638   \n",
       "2000-12-01     nasdaq  0.949551  0.803027  1.000000 -0.349392  0.011145   \n",
       "2000-12-01       gold -0.348228 -0.437436 -0.349392  1.000000  0.635165   \n",
       "2000-12-01     silver  0.052083 -0.178638  0.011145  0.635165  1.000000   \n",
       "2000-12-01   crudeoil  0.363213  0.431131  0.282354 -0.064549  0.153137   \n",
       "2000-12-01  dxy_mthly -0.060841 -0.034105 -0.080068 -0.464135 -0.170194   \n",
       "2000-12-01  wti_mthly -0.151563 -0.135100 -0.202669  0.517887  0.474653   \n",
       "2000-11-01      sp500  1.000000  0.908617  0.940613 -0.364544 -0.010149   \n",
       "2000-11-01   dowjones  0.908617  1.000000  0.773972 -0.442756 -0.291187   \n",
       "\n",
       "            crudeoil  dxy_mthly  wti_mthly  \n",
       "Date                                        \n",
       "2000-12-01  0.363213  -0.060841  -0.151563  \n",
       "2000-12-01  0.431131  -0.034105  -0.135100  \n",
       "2000-12-01  0.282354  -0.080068  -0.202669  \n",
       "2000-12-01 -0.064549  -0.464135   0.517887  \n",
       "2000-12-01  0.153137  -0.170194   0.474653  \n",
       "2000-12-01  1.000000  -0.299916   0.667736  \n",
       "2000-12-01 -0.299916   1.000000  -0.293921  \n",
       "2000-12-01  0.667736  -0.293921   1.000000  \n",
       "2000-11-01  0.189586  -0.106918  -0.187988  \n",
       "2000-11-01  0.151006  -0.159688  -0.244317  "
      ]
     },
     "execution_count": 251,
     "metadata": {},
     "output_type": "execute_result"
    }
   ],
   "source": [
    "df_rolling_corr = oil_commodities_return.rolling(window=12).corr().dropna()\n",
    "df_rolling_corr.reset_index(inplace=True)\n",
    "df_rolling_corr.rename(columns={\"level_0\":\"Date\"},inplace=True)\n",
    "df_rolling_corr.set_index(\"Date\",inplace=True)\n",
    "df_rolling_corr.head(10)"
   ]
  },
  {
   "cell_type": "code",
   "execution_count": 252,
   "metadata": {},
   "outputs": [],
   "source": [
    "gold_corr = df_rolling_corr[df_rolling_corr['level_1'] == 'gold'].sp500\n",
    "crude_oil_corr = df_rolling_corr[df_rolling_corr['level_1'] == 'crudeoil'].sp500\n",
    "silver_corr = df_rolling_corr[df_rolling_corr['level_1'] == 'silver'].sp500\n",
    "dowjones_corr = df_rolling_corr[df_rolling_corr['level_1'] == 'dowjones'].sp500"
   ]
  },
  {
   "cell_type": "code",
   "execution_count": 253,
   "metadata": {},
   "outputs": [],
   "source": [
    "tickers = [\n",
    "          \"BTC-USD\",\n",
    "          \"ETH-USD\",\n",
    "          \"^GSPC\"\n",
    "          ]\n",
    "\n",
    "df_crypto = yf.download(tickers,\n",
    "start=\"1980-01-01\",\n",
    "end=\"2021-01-29\",\n",
    "progress=False,\n",
    "interval = \"1mo\",\n",
    "groupby = \"ticker\"\n",
    "                )"
   ]
  },
  {
   "cell_type": "code",
   "execution_count": 254,
   "metadata": {},
   "outputs": [],
   "source": [
    "df_crypto.drop(columns=['Open', 'High', 'Low', 'Volume', 'Adj Close'], inplace=True)"
   ]
  },
  {
   "cell_type": "code",
   "execution_count": null,
   "metadata": {},
   "outputs": [],
   "source": [
    "\n"
   ]
  },
  {
   "cell_type": "code",
   "execution_count": 255,
   "metadata": {},
   "outputs": [],
   "source": [
    "df_crypto.rename(columns=\n",
    "          {\"BTC-USD\":\"btc\",\n",
    "             \"ETH-USD\":\"eth\",\n",
    "             \"^GSPC\":\"sp500\",\n",
    "            },inplace=True)"
   ]
  },
  {
   "cell_type": "code",
   "execution_count": 256,
   "metadata": {},
   "outputs": [],
   "source": [
    "df_crypto.columns = df_crypto.columns.droplevel(level=0)"
   ]
  },
  {
   "cell_type": "code",
   "execution_count": 257,
   "metadata": {},
   "outputs": [],
   "source": [
    "df_crypto.dropna(inplace=True)"
   ]
  },
  {
   "cell_type": "code",
   "execution_count": 258,
   "metadata": {},
   "outputs": [],
   "source": [
    "df_crypto_return = df_crypto.pct_change()"
   ]
  },
  {
   "cell_type": "code",
   "execution_count": 259,
   "metadata": {},
   "outputs": [],
   "source": [
    "df_crypto_corr = df_crypto_return.corr()"
   ]
  },
  {
   "cell_type": "code",
   "execution_count": 260,
   "metadata": {},
   "outputs": [
    {
     "data": {
      "text/html": [
       "<div>\n",
       "<style scoped>\n",
       "    .dataframe tbody tr th:only-of-type {\n",
       "        vertical-align: middle;\n",
       "    }\n",
       "\n",
       "    .dataframe tbody tr th {\n",
       "        vertical-align: top;\n",
       "    }\n",
       "\n",
       "    .dataframe thead th {\n",
       "        text-align: right;\n",
       "    }\n",
       "</style>\n",
       "<table border=\"1\" class=\"dataframe\">\n",
       "  <thead>\n",
       "    <tr style=\"text-align: right;\">\n",
       "      <th></th>\n",
       "      <th>level_1</th>\n",
       "      <th>btc</th>\n",
       "      <th>eth</th>\n",
       "      <th>sp500</th>\n",
       "    </tr>\n",
       "    <tr>\n",
       "      <th>Date</th>\n",
       "      <th></th>\n",
       "      <th></th>\n",
       "      <th></th>\n",
       "      <th></th>\n",
       "    </tr>\n",
       "  </thead>\n",
       "  <tbody>\n",
       "    <tr>\n",
       "      <th>2016-09-01</th>\n",
       "      <td>btc</td>\n",
       "      <td>1.000000</td>\n",
       "      <td>-0.177658</td>\n",
       "      <td>0.287968</td>\n",
       "    </tr>\n",
       "    <tr>\n",
       "      <th>2016-09-01</th>\n",
       "      <td>eth</td>\n",
       "      <td>-0.177658</td>\n",
       "      <td>1.000000</td>\n",
       "      <td>-0.207934</td>\n",
       "    </tr>\n",
       "    <tr>\n",
       "      <th>2016-09-01</th>\n",
       "      <td>sp500</td>\n",
       "      <td>0.287968</td>\n",
       "      <td>-0.207934</td>\n",
       "      <td>1.000000</td>\n",
       "    </tr>\n",
       "    <tr>\n",
       "      <th>2016-10-01</th>\n",
       "      <td>btc</td>\n",
       "      <td>1.000000</td>\n",
       "      <td>-0.199912</td>\n",
       "      <td>-0.077153</td>\n",
       "    </tr>\n",
       "    <tr>\n",
       "      <th>2016-10-01</th>\n",
       "      <td>eth</td>\n",
       "      <td>-0.199912</td>\n",
       "      <td>1.000000</td>\n",
       "      <td>-0.141507</td>\n",
       "    </tr>\n",
       "  </tbody>\n",
       "</table>\n",
       "</div>"
      ],
      "text/plain": [
       "           level_1       btc       eth     sp500\n",
       "Date                                            \n",
       "2016-09-01     btc  1.000000 -0.177658  0.287968\n",
       "2016-09-01     eth -0.177658  1.000000 -0.207934\n",
       "2016-09-01   sp500  0.287968 -0.207934  1.000000\n",
       "2016-10-01     btc  1.000000 -0.199912 -0.077153\n",
       "2016-10-01     eth -0.199912  1.000000 -0.141507"
      ]
     },
     "execution_count": 260,
     "metadata": {},
     "output_type": "execute_result"
    }
   ],
   "source": [
    "df_crypto_rolling_corr = df_crypto_return.rolling(window=12).corr().dropna()\n",
    "df_crypto_rolling_corr.reset_index(inplace=True)\n",
    "df_crypto_rolling_corr.set_index(\"Date\",inplace=True)\n",
    "df_crypto_rolling_corr.head()"
   ]
  },
  {
   "cell_type": "code",
   "execution_count": 261,
   "metadata": {},
   "outputs": [],
   "source": [
    "btc_corr = df_crypto_rolling_corr[df_crypto_rolling_corr['level_1'] == 'btc'].sp500\n",
    "eth_corr = df_crypto_rolling_corr[df_crypto_rolling_corr['level_1'] == 'eth'].sp500\n"
   ]
  },
  {
   "cell_type": "code",
   "execution_count": 262,
   "metadata": {},
   "outputs": [],
   "source": [
    "def comm_correlation():\n",
    "    comm_corr = oil_commodities_corr.hvplot.heatmap(title = \"Commodities and Indices Correlation\")    \n",
    "    return comm_corr\n",
    "def crypto_correlation():\n",
    "    crypto_corr = df_crypto_corr.hvplot.heatmap(title = \"Crytocurrencies and Indices Correlation\")    \n",
    "    return crypto_corr\n",
    "\n",
    "list_of_commodities = [\"gold\",\"silver\",\"crudeoil\"]\n",
    "def commodities_price(commodities):\n",
    "    comm_price = oil_commodities_sp500[[\"sp500\",commodities]].hvplot.line(title = f\"Price of {commodities} and S&P500\",\n",
    "                                                                           xlabel=\"Date\", ylabel=\"Monthly Close Price\",ylim=(0,4000))\n",
    "    return comm_price\n",
    "def commodities_correlation(commodities):\n",
    "    comm_corr = df_rolling_corr[df_rolling_corr['level_1'] == commodities].sp500\n",
    "    return comm_corr.hvplot.line(title = f\"{commodities} & S&P500 12 month Rolling Correlation\", xlabel=\"Date\", ylabel=\"Correlation\")\n",
    "\n",
    "\n",
    "list_of_crypto = [\"btc\",\"eth\"]\n",
    "def cryptocurrency_price(crypto):\n",
    "    crypto_price = df_crypto[[\"sp500\",crypto]].hvplot.line(title = f\"Price of {crypto} and S&P500\",\n",
    "                                                                           xlabel=\"Date\", ylabel=\"Monthly Close Price\")\n",
    "    return crypto_price\n",
    "def cryptocurrency_corr(crypto):\n",
    "    crypto_corr = df_crypto_rolling_corr[df_crypto_rolling_corr['level_1'] == crypto]\n",
    "    return crypto_corr.sp500.hvplot.line(title = f\"{crypto} and S&P500 12 month Rolling Correlation\",\n",
    "                                                                           xlabel=\"Date\", ylabel=\"Correlation\")\n"
   ]
  },
  {
   "cell_type": "code",
   "execution_count": 263,
   "metadata": {},
   "outputs": [],
   "source": [
    "comm_summary = pn.Column(\"#S&P 500 and Commodities Summary\", prices_commodities, comm_correlation())\n",
    "crypto_summary = pn.Column(\"#S&P 500 and Cryptocurrencies Summary\", df_crypto.hvplot.line(xlabel=\"Date\", ylabel=\"Monthly Close Price\"), crypto_correlation())\n",
    "comm_analysis = pn.Column(\"#Commodities Analysis\", interact(commodities_price, commodities=list_of_commodities), interact(commodities_correlation,commodities=list_of_commodities))\n",
    "crypto_analysis = pn.Column(\"#Cryptocurrencies Analysis\", interact(cryptocurrency_price, crypto=list_of_crypto), interact(cryptocurrency_corr,crypto=list_of_crypto))\n",
    "panel1=pn.Tabs(\n",
    "    (\"Commodities Summary\",comm_summary), (\"Commodities Analysis\",comm_analysis))\n",
    "panel2=pn.Tabs((\"Cryptocurrencies Summary\", crypto_summary),(\"Cryptocurrencies Analysis\",crypto_analysis))"
   ]
  },
  {
   "cell_type": "markdown",
   "metadata": {},
   "source": [
    "### Dashboard"
   ]
  },
  {
   "cell_type": "code",
   "execution_count": 264,
   "metadata": {},
   "outputs": [
    {
     "data": {},
     "metadata": {},
     "output_type": "display_data"
    },
    {
     "data": {},
     "metadata": {},
     "output_type": "display_data"
    },
    {
     "data": {
      "application/vnd.holoviews_exec.v0+json": "",
      "text/html": [
       "<div id='19396'>\n",
       "\n",
       "\n",
       "\n",
       "\n",
       "\n",
       "  <div class=\"bk-root\" id=\"5257ba20-1f25-42c4-b9a5-89dea0581ea3\" data-root-id=\"19396\"></div>\n",
       "</div>\n",
       "<script type=\"application/javascript\">(function(root) {\n",
       "  function embed_document(root) {\n",
       "    var docs_json = {\"24c11152-b424-46a6-af46-fb96524ece1e\":{\"roots\":{\"references\":[{\"attributes\":{\"days\":[1,8,15,22]},\"id\":\"19931\",\"type\":\"DaysTicker\"},{\"attributes\":{},\"id\":\"19410\",\"type\":\"LinearScale\"},{\"attributes\":{\"months\":[0,1,2,3,4,5,6,7,8,9,10,11]},\"id\":\"19933\",\"type\":\"MonthsTicker\"},{\"attributes\":{\"days\":[1,15]},\"id\":\"19932\",\"type\":\"DaysTicker\"},{\"attributes\":{\"months\":[0,2,4,6,8,10]},\"id\":\"19934\",\"type\":\"MonthsTicker\"},{\"attributes\":{\"children\":[{\"id\":\"19398\"},{\"id\":\"19405\"},{\"id\":\"19805\"}],\"margin\":[0,0,0,0],\"name\":\"Column27434\"},\"id\":\"19397\",\"type\":\"Column\"},{\"attributes\":{\"click_policy\":\"mute\",\"items\":[{\"id\":\"19468\"},{\"id\":\"19499\"},{\"id\":\"19532\"},{\"id\":\"19567\"}],\"location\":[0,0],\"title\":\"Variable\"},\"id\":\"19467\",\"type\":\"Legend\"},{\"attributes\":{\"line_color\":\"#1f77b3\",\"line_width\":2,\"x\":{\"field\":\"index\"},\"y\":{\"field\":\"value\"}},\"id\":\"19442\",\"type\":\"Line\"},{\"attributes\":{},\"id\":\"19835\",\"type\":\"Selection\"},{\"attributes\":{\"months\":[0,4,8]},\"id\":\"19935\",\"type\":\"MonthsTicker\"},{\"attributes\":{\"line_alpha\":0.1,\"line_color\":\"#1f77b3\",\"line_width\":2,\"x\":{\"field\":\"index\"},\"y\":{\"field\":\"value\"}},\"id\":\"19443\",\"type\":\"Line\"},{\"attributes\":{\"fill_alpha\":{\"value\":0.1},\"fill_color\":{\"field\":\"zvalues\",\"transform\":{\"id\":\"19833\"}},\"height\":{\"units\":\"data\",\"value\":1},\"line_alpha\":{\"value\":0},\"line_color\":{\"value\":\"#1f77b4\"},\"width\":{\"units\":\"data\",\"value\":1},\"x\":{\"field\":\"columns\"},\"y\":{\"field\":\"index\"}},\"id\":\"19838\",\"type\":\"Rect\"},{\"attributes\":{},\"id\":\"19565\",\"type\":\"UnionRenderers\"},{\"attributes\":{\"num_minor_ticks\":5,\"tickers\":[{\"id\":\"19453\"},{\"id\":\"19454\"},{\"id\":\"19455\"},{\"id\":\"19456\"},{\"id\":\"19457\"},{\"id\":\"19458\"},{\"id\":\"19459\"},{\"id\":\"19460\"},{\"id\":\"19461\"},{\"id\":\"19462\"},{\"id\":\"19463\"},{\"id\":\"19464\"}]},\"id\":\"19415\",\"type\":\"DatetimeTicker\"},{\"attributes\":{\"months\":[0,6]},\"id\":\"19936\",\"type\":\"MonthsTicker\"},{\"attributes\":{\"axis_label\":\"Date\",\"bounds\":\"auto\",\"formatter\":{\"id\":\"19435\"},\"major_label_orientation\":\"horizontal\",\"ticker\":{\"id\":\"19415\"}},\"id\":\"19414\",\"type\":\"DatetimeAxis\"},{\"attributes\":{\"margin\":[5,10,5,10],\"options\":[\"gold\",\"silver\",\"crudeoil\"],\"title\":\"commodities\",\"value\":\"gold\"},\"id\":\"20173\",\"type\":\"Select\"},{\"attributes\":{},\"id\":\"19842\",\"type\":\"BasicTicker\"},{\"attributes\":{\"click_policy\":\"mute\",\"items\":[{\"id\":\"19941\"},{\"id\":\"19972\"}],\"location\":[0,0],\"title\":\"Variable\"},\"id\":\"19940\",\"type\":\"Legend\"},{\"attributes\":{\"data\":{\"Variable\":[\"sp500\",\"sp500\",\"sp500\",\"sp500\",\"sp500\",\"sp500\",\"sp500\",\"sp500\",\"sp500\",\"sp500\",\"sp500\",\"sp500\",\"sp500\",\"sp500\",\"sp500\",\"sp500\",\"sp500\",\"sp500\",\"sp500\",\"sp500\",\"sp500\",\"sp500\",\"sp500\",\"sp500\",\"sp500\",\"sp500\",\"sp500\",\"sp500\",\"sp500\",\"sp500\",\"sp500\",\"sp500\",\"sp500\",\"sp500\",\"sp500\",\"sp500\",\"sp500\",\"sp500\",\"sp500\",\"sp500\",\"sp500\",\"sp500\",\"sp500\",\"sp500\",\"sp500\",\"sp500\",\"sp500\",\"sp500\",\"sp500\",\"sp500\",\"sp500\",\"sp500\",\"sp500\",\"sp500\",\"sp500\",\"sp500\",\"sp500\",\"sp500\",\"sp500\",\"sp500\",\"sp500\",\"sp500\",\"sp500\",\"sp500\",\"sp500\",\"sp500\",\"sp500\",\"sp500\",\"sp500\",\"sp500\",\"sp500\",\"sp500\",\"sp500\",\"sp500\",\"sp500\",\"sp500\",\"sp500\",\"sp500\",\"sp500\",\"sp500\",\"sp500\",\"sp500\",\"sp500\",\"sp500\",\"sp500\",\"sp500\",\"sp500\",\"sp500\",\"sp500\",\"sp500\",\"sp500\",\"sp500\",\"sp500\",\"sp500\",\"sp500\",\"sp500\",\"sp500\",\"sp500\",\"sp500\",\"sp500\",\"sp500\",\"sp500\",\"sp500\",\"sp500\",\"sp500\",\"sp500\",\"sp500\",\"sp500\",\"sp500\",\"sp500\",\"sp500\",\"sp500\",\"sp500\",\"sp500\",\"sp500\",\"sp500\",\"sp500\",\"sp500\",\"sp500\",\"sp500\",\"sp500\",\"sp500\",\"sp500\",\"sp500\",\"sp500\",\"sp500\",\"sp500\",\"sp500\",\"sp500\",\"sp500\",\"sp500\",\"sp500\",\"sp500\",\"sp500\",\"sp500\",\"sp500\",\"sp500\",\"sp500\",\"sp500\",\"sp500\",\"sp500\",\"sp500\",\"sp500\",\"sp500\",\"sp500\",\"sp500\",\"sp500\",\"sp500\",\"sp500\",\"sp500\",\"sp500\",\"sp500\",\"sp500\",\"sp500\",\"sp500\",\"sp500\",\"sp500\",\"sp500\",\"sp500\",\"sp500\",\"sp500\",\"sp500\",\"sp500\",\"sp500\",\"sp500\",\"sp500\",\"sp500\",\"sp500\",\"sp500\",\"sp500\",\"sp500\",\"sp500\",\"sp500\",\"sp500\",\"sp500\",\"sp500\",\"sp500\",\"sp500\",\"sp500\",\"sp500\",\"sp500\",\"sp500\",\"sp500\",\"sp500\",\"sp500\",\"sp500\",\"sp500\",\"sp500\",\"sp500\",\"sp500\",\"sp500\",\"sp500\"],\"index\":{\"__ndarray__\":\"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\",\"dtype\":\"float64\",\"order\":\"little\",\"shape\":[192]},\"value\":{\"__ndarray__\":\"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\",\"dtype\":\"float64\",\"order\":\"little\",\"shape\":[192]}},\"selected\":{\"id\":\"19440\"},\"selection_policy\":{\"id\":\"19465\"}},\"id\":\"19439\",\"type\":\"ColumnDataSource\"},{\"attributes\":{\"fill_color\":{\"field\":\"zvalues\",\"transform\":{\"id\":\"19833\"}},\"height\":{\"units\":\"data\",\"value\":1},\"line_alpha\":{\"value\":0},\"line_color\":{\"value\":\"#1f77b4\"},\"width\":{\"units\":\"data\",\"value\":1},\"x\":{\"field\":\"columns\"},\"y\":{\"field\":\"index\"}},\"id\":\"19839\",\"type\":\"Rect\"},{\"attributes\":{},\"id\":\"19937\",\"type\":\"YearsTicker\"},{\"attributes\":{\"fill_color\":{\"field\":\"zvalues\",\"transform\":{\"id\":\"19833\"}},\"height\":{\"units\":\"data\",\"value\":1},\"line_alpha\":{\"value\":0},\"line_color\":{\"value\":\"#1f77b4\"},\"width\":{\"units\":\"data\",\"value\":1},\"x\":{\"field\":\"columns\"},\"y\":{\"field\":\"index\"}},\"id\":\"19837\",\"type\":\"Rect\"},{\"attributes\":{},\"id\":\"19938\",\"type\":\"UnionRenderers\"},{\"attributes\":{\"axis_label\":\"Date\",\"bounds\":\"auto\",\"formatter\":{\"id\":\"19908\"},\"major_label_orientation\":\"horizontal\",\"ticker\":{\"id\":\"19888\"}},\"id\":\"19887\",\"type\":\"DatetimeAxis\"},{\"attributes\":{\"source\":{\"id\":\"19439\"}},\"id\":\"19446\",\"type\":\"CDSView\"},{\"attributes\":{\"source\":{\"id\":\"19834\"}},\"id\":\"19841\",\"type\":\"CDSView\"},{\"attributes\":{\"axis_label\":\"Monthly Close Price\",\"bounds\":\"auto\",\"formatter\":{\"id\":\"19437\"},\"major_label_orientation\":\"horizontal\",\"ticker\":{\"id\":\"19419\"}},\"id\":\"19418\",\"type\":\"LinearAxis\"},{\"attributes\":{},\"id\":\"19821\",\"type\":\"PanTool\"},{\"attributes\":{\"data_source\":{\"id\":\"19834\"},\"glyph\":{\"id\":\"19837\"},\"hover_glyph\":null,\"muted_glyph\":null,\"nonselection_glyph\":{\"id\":\"19838\"},\"selection_glyph\":{\"id\":\"19839\"},\"view\":{\"id\":\"19841\"}},\"id\":\"19840\",\"type\":\"GlyphRenderer\"},{\"attributes\":{\"line_alpha\":0.1,\"line_color\":\"#2ba02b\",\"line_width\":2,\"x\":{\"field\":\"index\"},\"y\":{\"field\":\"value\"}},\"id\":\"19504\",\"type\":\"Line\"},{\"attributes\":{\"line_alpha\":0.2,\"line_color\":\"#1f77b3\",\"line_width\":2,\"x\":{\"field\":\"index\"},\"y\":{\"field\":\"value\"}},\"id\":\"19444\",\"type\":\"Line\"},{\"attributes\":{\"label\":{\"value\":\"sp500\"},\"renderers\":[{\"id\":\"19918\"}]},\"id\":\"19941\",\"type\":\"LegendItem\"},{\"attributes\":{\"line_color\":\"#2ba02b\",\"line_width\":2,\"x\":{\"field\":\"index\"},\"y\":{\"field\":\"value\"}},\"id\":\"19503\",\"type\":\"Line\"},{\"attributes\":{\"line_alpha\":0.1,\"line_color\":\"#ff7e0e\",\"line_width\":2,\"x\":{\"field\":\"index\"},\"y\":{\"field\":\"value\"}},\"id\":\"19946\",\"type\":\"Line\"},{\"attributes\":{\"callback\":null,\"formatters\":{\"@{Date}\":\"datetime\"},\"renderers\":[{\"id\":\"20214\"}],\"tags\":[\"hv_created\"],\"tooltips\":[[\"Date\",\"@{Date}{%F %T}\"],[\"sp500\",\"@{sp500}\"]]},\"id\":\"20177\",\"type\":\"HoverTool\"},{\"attributes\":{\"bar_line_color\":\"black\",\"color_mapper\":{\"id\":\"19833\"},\"formatter\":{\"id\":\"19850\"},\"label_standoff\":8,\"location\":[0,0],\"major_tick_line_color\":\"black\",\"ticker\":{\"id\":\"19842\"}},\"id\":\"19843\",\"type\":\"ColorBar\"},{\"attributes\":{\"source\":{\"id\":\"19942\"}},\"id\":\"19949\",\"type\":\"CDSView\"},{\"attributes\":{\"data_source\":{\"id\":\"19439\"},\"glyph\":{\"id\":\"19442\"},\"hover_glyph\":null,\"muted_glyph\":{\"id\":\"19444\"},\"nonselection_glyph\":{\"id\":\"19443\"},\"selection_glyph\":null,\"view\":{\"id\":\"19446\"}},\"id\":\"19445\",\"type\":\"GlyphRenderer\"},{\"attributes\":{\"line_alpha\":0.1,\"line_color\":\"#1f77b3\",\"line_width\":2,\"x\":{\"field\":\"Date\"},\"y\":{\"field\":\"sp500\"}},\"id\":\"20212\",\"type\":\"Line\"},{\"attributes\":{\"axis\":{\"id\":\"19414\"},\"grid_line_color\":null,\"ticker\":null},\"id\":\"19417\",\"type\":\"Grid\"},{\"attributes\":{\"line_alpha\":0.2,\"line_color\":\"#2ba02b\",\"line_width\":2,\"x\":{\"field\":\"index\"},\"y\":{\"field\":\"value\"}},\"id\":\"19505\",\"type\":\"Line\"},{\"attributes\":{\"end\":1007164800000.0,\"reset_end\":1007164800000.0,\"reset_start\":504921600000.0,\"start\":504921600000.0,\"tags\":[[[\"index\",\"index\",null]]]},\"id\":\"19399\",\"type\":\"Range1d\"},{\"attributes\":{},\"id\":\"19470\",\"type\":\"Selection\"},{\"attributes\":{},\"id\":\"19419\",\"type\":\"BasicTicker\"},{\"attributes\":{},\"id\":\"19501\",\"type\":\"Selection\"},{\"attributes\":{},\"id\":\"19497\",\"type\":\"UnionRenderers\"},{\"attributes\":{},\"id\":\"19913\",\"type\":\"Selection\"},{\"attributes\":{},\"id\":\"19910\",\"type\":\"BasicTickFormatter\"},{\"attributes\":{\"text\":\"Price of gold and S&P500\",\"text_color\":{\"value\":\"black\"},\"text_font_size\":{\"value\":\"12pt\"}},\"id\":\"19879\",\"type\":\"Title\"},{\"attributes\":{\"data_source\":{\"id\":\"19942\"},\"glyph\":{\"id\":\"19945\"},\"hover_glyph\":null,\"muted_glyph\":{\"id\":\"19947\"},\"nonselection_glyph\":{\"id\":\"19946\"},\"selection_glyph\":null,\"view\":{\"id\":\"19949\"}},\"id\":\"19948\",\"type\":\"GlyphRenderer\"},{\"attributes\":{},\"id\":\"19435\",\"type\":\"DatetimeTickFormatter\"},{\"attributes\":{\"line_alpha\":0.2,\"line_color\":\"#ff7e0e\",\"line_width\":2,\"x\":{\"field\":\"index\"},\"y\":{\"field\":\"value\"}},\"id\":\"19947\",\"type\":\"Line\"},{\"attributes\":{},\"id\":\"19883\",\"type\":\"LinearScale\"},{\"attributes\":{\"data_source\":{\"id\":\"19500\"},\"glyph\":{\"id\":\"19503\"},\"hover_glyph\":null,\"muted_glyph\":{\"id\":\"19505\"},\"nonselection_glyph\":{\"id\":\"19504\"},\"selection_glyph\":null,\"view\":{\"id\":\"19507\"}},\"id\":\"19506\",\"type\":\"GlyphRenderer\"},{\"attributes\":{\"num_minor_ticks\":5,\"tickers\":[{\"id\":\"19926\"},{\"id\":\"19927\"},{\"id\":\"19928\"},{\"id\":\"19929\"},{\"id\":\"19930\"},{\"id\":\"19931\"},{\"id\":\"19932\"},{\"id\":\"19933\"},{\"id\":\"19934\"},{\"id\":\"19935\"},{\"id\":\"19936\"},{\"id\":\"19937\"}]},\"id\":\"19888\",\"type\":\"DatetimeTicker\"},{\"attributes\":{\"source\":{\"id\":\"19500\"}},\"id\":\"19507\",\"type\":\"CDSView\"},{\"attributes\":{},\"id\":\"19908\",\"type\":\"DatetimeTickFormatter\"},{\"attributes\":{\"axis\":{\"id\":\"19887\"},\"grid_line_color\":null,\"ticker\":null},\"id\":\"19890\",\"type\":\"Grid\"},{\"attributes\":{\"css_classes\":[\"markdown\"],\"margin\":[5,5,5,5],\"name\":\"Markdown27422\",\"text\":\"&lt;h1&gt;S&amp;amp;P 500 and Commodities Summary&lt;/h1&gt;\"},\"id\":\"19398\",\"type\":\"panel.models.markup.HTML\"},{\"attributes\":{\"data\":{\"Variable\":[\"crudeoil\",\"crudeoil\",\"crudeoil\",\"crudeoil\",\"crudeoil\",\"crudeoil\",\"crudeoil\",\"crudeoil\",\"crudeoil\",\"crudeoil\",\"crudeoil\",\"crudeoil\",\"crudeoil\",\"crudeoil\",\"crudeoil\",\"crudeoil\",\"crudeoil\",\"crudeoil\",\"crudeoil\",\"crudeoil\",\"crudeoil\",\"crudeoil\",\"crudeoil\",\"crudeoil\",\"crudeoil\",\"crudeoil\",\"crudeoil\",\"crudeoil\",\"crudeoil\",\"crudeoil\",\"crudeoil\",\"crudeoil\",\"crudeoil\",\"crudeoil\",\"crudeoil\",\"crudeoil\",\"crudeoil\",\"crudeoil\",\"crudeoil\",\"crudeoil\",\"crudeoil\",\"crudeoil\",\"crudeoil\",\"crudeoil\",\"crudeoil\",\"crudeoil\",\"crudeoil\",\"crudeoil\",\"crudeoil\",\"crudeoil\",\"crudeoil\",\"crudeoil\",\"crudeoil\",\"crudeoil\",\"crudeoil\",\"crudeoil\",\"crudeoil\",\"crudeoil\",\"crudeoil\",\"crudeoil\",\"crudeoil\",\"crudeoil\",\"crudeoil\",\"crudeoil\",\"crudeoil\",\"crudeoil\",\"crudeoil\",\"crudeoil\",\"crudeoil\",\"crudeoil\",\"crudeoil\",\"crudeoil\",\"crudeoil\",\"crudeoil\",\"crudeoil\",\"crudeoil\",\"crudeoil\",\"crudeoil\",\"crudeoil\",\"crudeoil\",\"crudeoil\",\"crudeoil\",\"crudeoil\",\"crudeoil\",\"crudeoil\",\"crudeoil\",\"crudeoil\",\"crudeoil\",\"crudeoil\",\"crudeoil\",\"crudeoil\",\"crudeoil\",\"crudeoil\",\"crudeoil\",\"crudeoil\",\"crudeoil\",\"crudeoil\",\"crudeoil\",\"crudeoil\",\"crudeoil\",\"crudeoil\",\"crudeoil\",\"crudeoil\",\"crudeoil\",\"crudeoil\",\"crudeoil\",\"crudeoil\",\"crudeoil\",\"crudeoil\",\"crudeoil\",\"crudeoil\",\"crudeoil\",\"crudeoil\",\"crudeoil\",\"crudeoil\",\"crudeoil\",\"crudeoil\",\"crudeoil\",\"crudeoil\",\"crudeoil\",\"crudeoil\",\"crudeoil\",\"crudeoil\",\"crudeoil\",\"crudeoil\",\"crudeoil\",\"crudeoil\",\"crudeoil\",\"crudeoil\",\"crudeoil\",\"crudeoil\",\"crudeoil\",\"crudeoil\",\"crudeoil\",\"crudeoil\",\"crudeoil\",\"crudeoil\",\"crudeoil\",\"crudeoil\",\"crudeoil\",\"crudeoil\",\"crudeoil\",\"crudeoil\",\"crudeoil\",\"crudeoil\",\"crudeoil\",\"crudeoil\",\"crudeoil\",\"crudeoil\",\"crudeoil\",\"crudeoil\",\"crudeoil\",\"crudeoil\",\"crudeoil\",\"crudeoil\",\"crudeoil\",\"crudeoil\",\"crudeoil\",\"crudeoil\",\"crudeoil\",\"crudeoil\",\"crudeoil\",\"crudeoil\",\"crudeoil\",\"crudeoil\",\"crudeoil\",\"crudeoil\",\"crudeoil\",\"crudeoil\",\"crudeoil\",\"crudeoil\",\"crudeoil\",\"crudeoil\",\"crudeoil\",\"crudeoil\",\"crudeoil\",\"crudeoil\",\"crudeoil\",\"crudeoil\",\"crudeoil\",\"crudeoil\",\"crudeoil\",\"crudeoil\",\"crudeoil\",\"crudeoil\",\"crudeoil\",\"crudeoil\",\"crudeoil\",\"crudeoil\",\"crudeoil\",\"crudeoil\",\"crudeoil\"],\"index\":{\"__ndarray__\":\"AAAADOtjXUIAAABV1ItdQgAAANngr11CAAAAIsrXXUIAAADUaf5dQgAAAB1TJl5CAAAAz/JMXkIAAAAY3HReQgAAAGHFnF5CAAAAE2XDXkIAAABcTuteQgAAAA7uEV9CAAAAV9c5X0IAAACgwGFfQgAAACTNhV9CAAAAbbatX0IAAAAfVtRfQgAAAGg//F9CAAAAjW8RYEIAAIAxZCVgQgAAANZYOWBCAAAAr6hMYEIAAIBTnWBgQgAAgCztc2BCAAAA0eGHYEIAAIB11ptgQgAAAIOBrmBCAACAJ3bCYEIAAIAAxtVgQgAAAKW66WBCAAAAfgr9YEIAAIAi/xBhQgAAAMfzJGFCAAAAoEM4YUIAAIBEOExhQgAAgB2IX2FCAAAAwnxzYUIAAIBmcYdhQgAAgKh3mWFCAAAATWytYUIAAAAmvMBhQgAAgMqw1GFCAACAowDoYUIAAABI9fthQgAAgOzpD2JCAACAxTkjYkIAAABqLjdiQgAAAEN+SmJCAACA53JeYkIAAACMZ3JiQgAAAM5thGJCAACAcmKYYkIAAIBLsqtiQgAAAPCmv2JCAAAAyfbSYkIAAIBt6+ZiQgAAABLg+mJCAAAA6y8OY0IAAICPJCJjQgAAgGh0NWNCAAAADWlJY0IAAICxXV1jQgAAgPNjb2NCAAAAmFiDY0IAAABxqJZjQgAAgBWdqmNCAACA7uy9Y0IAAACT4dFjQgAAgDfW5WNCAACAECb5Y0IAAAC1Gg1kQgAAAI5qIGRCAACAMl80ZEIAAADXU0hkQgAAgOT+WmRCAAAAifNuZEIAAABiQ4JkQgAAgAY4lmRCAACA34epZEIAAACEfL1kQgAAgChx0WRCAACAAcHkZEIAAACmtfhkQgAAAH8FDGVCAACAI/ofZUIAAADI7jNlQgAAAAr1RWVCAACArulZZUIAAICHOW1lQgAAACwugWVCAAAABX6UZUIAAICpcqhlQgAAAE5nvGVCAAAAJ7fPZUIAAIDLq+NlQgAAgKT79mVCAAAASfAKZkIAAIDt5B5mQgAAgC/rMGZCAAAA1N9EZkIAAACtL1hmQgAAgFEkbGZCAACAKnR/ZkIAAADPaJNmQgAAgHNdp2ZCAACATK26ZkIAAADxoc5mQgAAAMrx4WZCAACAbub1ZkIAAAAT2wlnQgAAAFXhG2dCAACA+dUvZ0IAAIDSJUNnQgAAAHcaV2dCAAAAUGpqZ0IAAID0Xn5nQgAAAJlTkmdCAAAAcqOlZ0IAAIAWmLlnQgAAgO/nzGdCAAAAlNzgZ0IAAIA40fRnQgAAAEZ8B2hCAACA6nAbaEIAAIDDwC5oQgAAAGi1QmhCAAAAQQVWaEIAAIDl+WloQgAAAIrufWhCAAAAYz6RaEIAAIAHM6VoQgAAgOCCuGhCAAAAhXfMaEIAAIApbOBoQgAAgGty8mhCAAAAEGcGaUIAAADpthlpQgAAgI2rLWlCAACAZvtAaUIAAAAL8FRpQgAAgK/kaGlCAACAiDR8aUIAAAAtKZBpQgAAAAZ5o2lCAACAqm23aUIAAABPYstpQgAAAJFo3WlCAACANV3xaUIAAIAOrQRqQgAAALOhGGpCAAAAjPErakIAAIAw5j9qQgAAANXaU2pCAAAAripnakIAAIBSH3tqQgAAgCtvjmpCAAAA0GOiakIAAIB0WLZqQgAAgLZeyGpCAAAAW1PcakIAAAA0o+9qQgAAgNiXA2tCAACAsecWa0IAAABW3CprQgAAgPrQPmtCAACA0yBSa0IAAAB4FWZrQgAAAFFleWtCAACA9VmNa0IAAACaTqFrQgAAgKf5s2tCAAAATO7Ha0IAAAAlPttrQgAAgMky72tCAACAooICbEIAAABHdxZsQgAAgOtrKmxCAACAxLs9bEIAAABpsFFsQgAAAEIAZWxCAACA5vR4bEIAAACL6YxsQgAAAM3vnmxCAACAceSybEIAAIBKNMZsQgAAAO8o2mxCAAAAyHjtbEIAAIBsbQFtQgAAABFiFW1CAAAA6rEobUIAAICOpjxtQgAAgGf2T21C\",\"dtype\":\"float64\",\"order\":\"little\",\"shape\":[192]},\"value\":{\"__ndarray__\":\"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\",\"dtype\":\"float64\",\"order\":\"little\",\"shape\":[192]}},\"selected\":{\"id\":\"19534\"},\"selection_policy\":{\"id\":\"19565\"}},\"id\":\"19533\",\"type\":\"ColumnDataSource\"},{\"attributes\":{},\"id\":\"19534\",\"type\":\"Selection\"},{\"attributes\":{},\"id\":\"19892\",\"type\":\"BasicTicker\"},{\"attributes\":{\"axis_label\":\"Monthly Close Price\",\"bounds\":\"auto\",\"formatter\":{\"id\":\"19910\"},\"major_label_orientation\":\"horizontal\",\"ticker\":{\"id\":\"19892\"}},\"id\":\"19891\",\"type\":\"LinearAxis\"},{\"attributes\":{\"mantissas\":[1,2,5],\"max_interval\":500.0,\"num_minor_ticks\":0},\"id\":\"19453\",\"type\":\"AdaptiveTicker\"},{\"attributes\":{},\"id\":\"19440\",\"type\":\"Selection\"},{\"attributes\":{},\"id\":\"19943\",\"type\":\"Selection\"},{\"attributes\":{\"axis\":{\"id\":\"19891\"},\"dimension\":1,\"grid_line_color\":null,\"ticker\":null},\"id\":\"19894\",\"type\":\"Grid\"},{\"attributes\":{},\"id\":\"19899\",\"type\":\"ResetTool\"},{\"attributes\":{},\"id\":\"19437\",\"type\":\"BasicTickFormatter\"},{\"attributes\":{},\"id\":\"19856\",\"type\":\"UnionRenderers\"},{\"attributes\":{},\"id\":\"19812\",\"type\":\"CategoricalScale\"},{\"attributes\":{},\"id\":\"19850\",\"type\":\"BasicTickFormatter\"},{\"attributes\":{},\"id\":\"20185\",\"type\":\"LinearScale\"},{\"attributes\":{\"line_color\":\"#1f77b3\",\"line_width\":2,\"x\":{\"field\":\"Date\"},\"y\":{\"field\":\"sp500\"}},\"id\":\"20211\",\"type\":\"Line\"},{\"attributes\":{},\"id\":\"19465\",\"type\":\"UnionRenderers\"},{\"attributes\":{\"data\":{\"Date\":{\"__ndarray__\":\"AAAADOtjXUIAAABV1ItdQgAAANngr11CAAAAIsrXXUIAAADUaf5dQgAAAB1TJl5CAAAAz/JMXkIAAAAY3HReQgAAAGHFnF5CAAAAE2XDXkIAAABcTuteQgAAAA7uEV9CAAAAV9c5X0IAAACgwGFfQgAAACTNhV9CAAAAbbatX0IAAAAfVtRfQgAAAGg//F9CAAAAjW8RYEIAAIAxZCVgQgAAANZYOWBCAAAAr6hMYEIAAIBTnWBgQgAAgCztc2BCAAAA0eGHYEIAAIB11ptgQgAAAIOBrmBCAACAJ3bCYEIAAIAAxtVgQgAAAKW66WBCAAAAfgr9YEIAAIAi/xBhQgAAAMfzJGFCAAAAoEM4YUIAAIBEOExhQgAAgB2IX2FCAAAAwnxzYUIAAIBmcYdhQgAAgKh3mWFCAAAATWytYUIAAAAmvMBhQgAAgMqw1GFCAACAowDoYUIAAABI9fthQgAAgOzpD2JCAACAxTkjYkIAAABqLjdiQgAAAEN+SmJCAACA53JeYkIAAACMZ3JiQgAAAM5thGJCAACAcmKYYkIAAIBLsqtiQgAAAPCmv2JCAAAAyfbSYkIAAIBt6+ZiQgAAABLg+mJCAAAA6y8OY0IAAICPJCJjQgAAgGh0NWNCAAAADWlJY0IAAICxXV1jQgAAgPNjb2NCAAAAmFiDY0IAAABxqJZjQgAAgBWdqmNCAACA7uy9Y0IAAACT4dFjQgAAgDfW5WNCAACAECb5Y0IAAAC1Gg1kQgAAAI5qIGRCAACAMl80ZEIAAADXU0hkQgAAgOT+WmRCAAAAifNuZEIAAABiQ4JkQgAAgAY4lmRCAACA34epZEIAAACEfL1kQgAAgChx0WRCAACAAcHkZEIAAACmtfhkQgAAAH8FDGVCAACAI/ofZUIAAADI7jNlQgAAAAr1RWVCAACArulZZUIAAICHOW1lQgAAACwugWVCAAAABX6UZUIAAICpcqhlQgAAAE5nvGVCAAAAJ7fPZUIAAIDLq+NlQgAAgKT79mVCAAAASfAKZkIAAIDt5B5mQgAAgC/rMGZCAAAA1N9EZkIAAACtL1hmQgAAgFEkbGZCAACAKnR/ZkIAAADPaJNmQgAAgHNdp2ZCAACATK26ZkIAAADxoc5mQgAAAMrx4WZCAACAbub1ZkIAAAAT2wlnQgAAAFXhG2dCAACA+dUvZ0IAAIDSJUNnQgAAAHcaV2dCAAAAUGpqZ0IAAID0Xn5nQgAAAJlTkmdCAAAAcqOlZ0IAAIAWmLlnQgAAgO/nzGdCAAAAlNzgZ0IAAIA40fRnQgAAAEZ8B2hCAACA6nAbaEIAAIDDwC5oQgAAAGi1QmhCAAAAQQVWaEIAAIDl+WloQgAAAIrufWhCAAAAYz6RaEIAAIAHM6VoQgAAgOCCuGhCAAAAhXfMaEIAAIApbOBoQgAAgGty8mhCAAAAEGcGaUIAAADpthlpQgAAgI2rLWlCAACAZvtAaUIAAAAL8FRpQgAAgK/kaGlCAACAiDR8aUIAAAAtKZBpQgAAAAZ5o2lCAACAqm23aUIAAABPYstpQgAAAJFo3WlCAACANV3xaUIAAIAOrQRqQgAAALOhGGpCAAAAjPErakIAAIAw5j9qQgAAANXaU2pCAAAAripnakIAAIBSH3tqQgAAgCtvjmpCAAAA0GOiakIAAIB0WLZqQgAAgLZeyGpCAAAAW1PcakIAAAA0o+9qQgAAgNiXA2tCAACAsecWa0IAAABW3CprQgAAgPrQPmtCAACA0yBSa0IAAAB4FWZrQgAAAFFleWtCAACA9VmNa0IAAACaTqFrQgAAgKf5s2tCAAAATO7Ha0IAAAAlPttrQgAAgMky72tCAACAooICbEIAAABHdxZsQgAAgOtrKmxCAACAxLs9bEIAAABpsFFsQgAAAEIAZWxC\",\"dtype\":\"float64\",\"order\":\"little\",\"shape\":[180]},\"sp500\":{\"__ndarray__\":\"K4ZTYGL7479+9X9fTjTjv8uYN5IhXOK/kgdS5ZUW4r83Tq6Yd/TgvxH0CzETcOG/NoNrpmkp4L+KCoWJLlXkv588bY9oy9e/+o3LqUkl1b+NaRhmgozYvygHCKJOi9q/Ma0ygCyA2b94+9YaA+bav12D7x2bx9y/M6UVYKoC4b8thKYv9sbgv6SzqDEOreG/TvmIYARm5L/sX8lOZNXjv2Ce8XMSlOO/dhtX/Krl47+JTcRMMoXivyJsXIPu1eW/ZJbEzVH75L/N4aR2aMDiv7uR5N+BOd+/rlVXZHol3r/dysA2tqXev55x/FE9xN6/5ZTjX6PY2L99ShMNXcrav4Dqil1oPt6/pdUthLhM5L/ZVcGHlV7Zvwmh4TWT09q/1oXvjGtG1r/I9RwxhW7Zv7590Ww9hNe/Uqp5QiGv1b+O8PsHzXzSv15qsH5EUtC/tA9Y1+en0b+0ccsrhqfUvyD/BqzkNNi/f2XlEXKq1r8Vj4x/KGjdv1FlIlCA3ti/UYzd0i/q2b+hD6OfaVjWv5t/IB0Iwte/FG77mhtg2L+HQJphNr7Wv/Y+2964Ktm/Or8GZNzG2b8zNRerAZzSvwDcQWe+Rbq//UFDfo+T0L+Vd05YXbTbvzMQHnaOteG/38B9Si/7479pmQEcfWjmv0mu0jbwE+O/jKejJ0tp479VeMx2oJLmv472TWwhsOW/N9qkN3HF3L/LQP4rfxnSv+e6OJyrB8+/MDKddqr2zr/7yqR338+9v0eocYEtO9Y/4maintqo3D/72lpa6fzcPw0FyTka+tk/bkgzK5anuD9kJPIaKgfJP65PHIZBpNA/+NPIvUgmVz+kFS6D1ZzhvyX+yiMo5te/meZnsIAi1r+kpGVsF3fSvyKgwKWH7c+/nmNPeToD1L/6qmyNK+3Mv14hinS+69C/oeURDFa0zL/xPkWoAQ7Uv2WH1qHRatK/pn9VIs5g0r/t26Zzi/ugv9ubcJbt88S/KB7z8wn307/NrmaCKA/Pv1kDASD6Mti/G4YW54eu1r8wSofFCnvUv6SzaXzLg2E/+ojx/ie7nr+criuZ9iKuvydnxp8qPbe/Do1FUFv4tr8QZuW8s9TBvzxWbW1V1bc/kMb8rgzHvz8eQOKcjOGxPzHDNEHgLLk/q/AG1arwxj/G4hykoM/RPy3a60P5mNQ/bZ8YLPk92T8IzmXPqsvcP+TI7HFRyOA/M7DnVq+/uT+9WPmu1G65P+KfyBeNO7m/vqCvxTEPub/mfLdU5IvNv6qrJvTomcS/WL93KlR74r8jEm78iKbfv3au2k66cdG//tIoTdpU1L/1jCp6UrDNv+sL7WREE9K/m2Bp9OPoyL+3Gti3oybPvwWsvuxPjMK//5KABwg/qz+9b6vEZpd7P6m/iQnnppk/pXuyW58kuT92CL7JFcvFP4ch87EyI7w/onucr+gmuz8sGSVJb/jCP79EqVyfBso/Su6z0UqZ1T/1ftZQlOjaPzTYjqtvldw/UmBPFLzk1z/sglZqPM/cP9ue4CE+ids/fqx4zIMe3z+C0LBaiRbfP7nAHGjfNtw/3zXTerv93T/A9tWL/1vePxokRhvrBds/7UVppjcn2z+Fzcu40nDWP8h+KsovC8+//PORLywVy7+8+NU+xJrMvzL1050VOsq/R7d6VFS6wL8V5NKXmrjEvwawnFwHa9C/TUv3wcOT0L9ngnb+uSjWv4ArAN6+HM+/vrVP5V67zr9kqS0r39nNv3G91zP6MpQ/VwlHv70igL+RoHvnJsm7vzIj9r4Zpbu/qi5aIxyrx7/m7MeD9DbJv3qrwmUxasA/XWCKY5nOzT/DM4SVIGvOPwQbnknX+r0/agxG9HaEwD+grmNniIylv84Af4lrENK/J8A0ZmKf1b/J+Cj0sFTXv0AHaoRfSda/\",\"dtype\":\"float64\",\"order\":\"little\",\"shape\":[180]}},\"selected\":{\"id\":\"20209\"},\"selection_policy\":{\"id\":\"20238\"}},\"id\":\"20208\",\"type\":\"ColumnDataSource\"},{\"attributes\":{},\"id\":\"19822\",\"type\":\"WheelZoomTool\"},{\"attributes\":{\"callback\":null,\"formatters\":{\"@{index}\":\"datetime\"},\"renderers\":[{\"id\":\"19918\"},{\"id\":\"19948\"}],\"tags\":[\"hv_created\"],\"tooltips\":[[\"Variable\",\"@{Variable}\"],[\"index\",\"@{index}{%F %T}\"],[\"value\",\"@{value}\"]]},\"id\":\"19876\",\"type\":\"HoverTool\"},{\"attributes\":{},\"id\":\"19824\",\"type\":\"ResetTool\"},{\"attributes\":{\"base\":60,\"mantissas\":[1,2,5,10,15,20,30],\"max_interval\":1800000.0,\"min_interval\":1000.0,\"num_minor_ticks\":0},\"id\":\"19454\",\"type\":\"AdaptiveTicker\"},{\"attributes\":{\"active_drag\":\"auto\",\"active_inspect\":\"auto\",\"active_multi\":null,\"active_scroll\":\"auto\",\"active_tap\":\"auto\",\"tools\":[{\"id\":\"19876\"},{\"id\":\"19895\"},{\"id\":\"19896\"},{\"id\":\"19897\"},{\"id\":\"19898\"},{\"id\":\"19899\"}]},\"id\":\"19901\",\"type\":\"Toolbar\"},{\"attributes\":{\"line_alpha\":0.1,\"line_color\":\"#1f77b3\",\"line_width\":2,\"x\":{\"field\":\"index\"},\"y\":{\"field\":\"value\"}},\"id\":\"19916\",\"type\":\"Line\"},{\"attributes\":{\"overlay\":{\"id\":\"19825\"}},\"id\":\"19823\",\"type\":\"BoxZoomTool\"},{\"attributes\":{\"days\":[1,2,3,4,5,6,7,8,9,10,11,12,13,14,15,16,17,18,19,20,21,22,23,24,25,26,27,28,29,30,31]},\"id\":\"19456\",\"type\":\"DaysTicker\"},{\"attributes\":{\"source\":{\"id\":\"19912\"}},\"id\":\"19919\",\"type\":\"CDSView\"},{\"attributes\":{\"bottom_units\":\"screen\",\"fill_alpha\":0.5,\"fill_color\":\"lightgrey\",\"left_units\":\"screen\",\"level\":\"overlay\",\"line_alpha\":1.0,\"line_color\":\"black\",\"line_dash\":[4,4],\"line_width\":2,\"right_units\":\"screen\",\"top_units\":\"screen\"},\"id\":\"20200\",\"type\":\"BoxAnnotation\"},{\"attributes\":{\"children\":[{\"id\":\"19871\"},{\"id\":\"19873\"}],\"margin\":[0,0,0,0],\"name\":\"Column27627\"},\"id\":\"19870\",\"type\":\"Column\"},{\"attributes\":{\"base\":24,\"mantissas\":[1,2,4,6,8,12],\"max_interval\":43200000.0,\"min_interval\":3600000.0,\"num_minor_ticks\":0},\"id\":\"19455\",\"type\":\"AdaptiveTicker\"},{\"attributes\":{\"active_drag\":\"auto\",\"active_inspect\":\"auto\",\"active_multi\":null,\"active_scroll\":\"auto\",\"active_tap\":\"auto\",\"tools\":[{\"id\":\"20177\"},{\"id\":\"20195\"},{\"id\":\"20196\"},{\"id\":\"20197\"},{\"id\":\"20198\"},{\"id\":\"20199\"}]},\"id\":\"20201\",\"type\":\"Toolbar\"},{\"attributes\":{\"line_color\":\"#ff7e0e\",\"line_width\":2,\"x\":{\"field\":\"index\"},\"y\":{\"field\":\"value\"}},\"id\":\"19945\",\"type\":\"Line\"},{\"attributes\":{\"bottom_units\":\"screen\",\"fill_alpha\":0.5,\"fill_color\":\"lightgrey\",\"left_units\":\"screen\",\"level\":\"overlay\",\"line_alpha\":1.0,\"line_color\":\"black\",\"line_dash\":[4,4],\"line_width\":2,\"right_units\":\"screen\",\"top_units\":\"screen\"},\"id\":\"19900\",\"type\":\"BoxAnnotation\"},{\"attributes\":{\"children\":[{\"id\":\"19872\"}],\"margin\":[0,0,0,0],\"name\":\"Column27732\"},\"id\":\"19871\",\"type\":\"Column\"},{\"attributes\":{\"days\":[1,4,7,10,13,16,19,22,25,28]},\"id\":\"19457\",\"type\":\"DaysTicker\"},{\"attributes\":{\"callback\":null,\"formatters\":{\"@{index}\":\"datetime\"},\"renderers\":[{\"id\":\"19445\"},{\"id\":\"19475\"},{\"id\":\"19506\"},{\"id\":\"19539\"}],\"tags\":[\"hv_created\"],\"tooltips\":[[\"Variable\",\"@{Variable}\"],[\"index\",\"@{index}{%F %T}\"],[\"value\",\"@{value}\"]]},\"id\":\"19401\",\"type\":\"HoverTool\"},{\"attributes\":{\"end\":975628800000.0,\"reset_end\":975628800000.0,\"reset_start\":504921600000.0,\"start\":504921600000.0,\"tags\":[[[\"Date\",\"Date\",null]]]},\"id\":\"20175\",\"type\":\"Range1d\"},{\"attributes\":{\"child\":{\"id\":\"19868\"},\"name\":\"Column27819\",\"title\":\"Commodities Analysis\"},\"id\":\"20260\",\"type\":\"Panel\"},{\"attributes\":{\"callback\":null,\"renderers\":[{\"id\":\"19840\"}],\"tags\":[\"hv_created\"],\"tooltips\":[[\"columns\",\"@{columns}\"],[\"index\",\"@{index}\"],[\"value\",\"@{value}\"]]},\"id\":\"19804\",\"type\":\"HoverTool\"},{\"attributes\":{\"months\":[0,1,2,3,4,5,6,7,8,9,10,11]},\"id\":\"19460\",\"type\":\"MonthsTicker\"},{\"attributes\":{\"data\":{\"Variable\":[\"gold\",\"gold\",\"gold\",\"gold\",\"gold\",\"gold\",\"gold\",\"gold\",\"gold\",\"gold\",\"gold\",\"gold\",\"gold\",\"gold\",\"gold\",\"gold\",\"gold\",\"gold\",\"gold\",\"gold\",\"gold\",\"gold\",\"gold\",\"gold\",\"gold\",\"gold\",\"gold\",\"gold\",\"gold\",\"gold\",\"gold\",\"gold\",\"gold\",\"gold\",\"gold\",\"gold\",\"gold\",\"gold\",\"gold\",\"gold\",\"gold\",\"gold\",\"gold\",\"gold\",\"gold\",\"gold\",\"gold\",\"gold\",\"gold\",\"gold\",\"gold\",\"gold\",\"gold\",\"gold\",\"gold\",\"gold\",\"gold\",\"gold\",\"gold\",\"gold\",\"gold\",\"gold\",\"gold\",\"gold\",\"gold\",\"gold\",\"gold\",\"gold\",\"gold\",\"gold\",\"gold\",\"gold\",\"gold\",\"gold\",\"gold\",\"gold\",\"gold\",\"gold\",\"gold\",\"gold\",\"gold\",\"gold\",\"gold\",\"gold\",\"gold\",\"gold\",\"gold\",\"gold\",\"gold\",\"gold\",\"gold\",\"gold\",\"gold\",\"gold\",\"gold\",\"gold\",\"gold\",\"gold\",\"gold\",\"gold\",\"gold\",\"gold\",\"gold\",\"gold\",\"gold\",\"gold\",\"gold\",\"gold\",\"gold\",\"gold\",\"gold\",\"gold\",\"gold\",\"gold\",\"gold\",\"gold\",\"gold\",\"gold\",\"gold\",\"gold\",\"gold\",\"gold\",\"gold\",\"gold\",\"gold\",\"gold\",\"gold\",\"gold\",\"gold\",\"gold\",\"gold\",\"gold\",\"gold\",\"gold\",\"gold\",\"gold\",\"gold\",\"gold\",\"gold\",\"gold\",\"gold\",\"gold\",\"gold\",\"gold\",\"gold\",\"gold\",\"gold\",\"gold\",\"gold\",\"gold\",\"gold\",\"gold\",\"gold\",\"gold\",\"gold\",\"gold\",\"gold\",\"gold\",\"gold\",\"gold\",\"gold\",\"gold\",\"gold\",\"gold\",\"gold\",\"gold\",\"gold\",\"gold\",\"gold\",\"gold\",\"gold\",\"gold\",\"gold\",\"gold\",\"gold\",\"gold\",\"gold\",\"gold\",\"gold\",\"gold\",\"gold\",\"gold\",\"gold\",\"gold\",\"gold\",\"gold\",\"gold\",\"gold\",\"gold\",\"gold\",\"gold\",\"gold\"],\"index\":{\"__ndarray__\":\"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\",\"dtype\":\"float64\",\"order\":\"little\",\"shape\":[192]},\"value\":{\"__ndarray__\":\"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\",\"dtype\":\"float64\",\"order\":\"little\",\"shape\":[192]}},\"selected\":{\"id\":\"19943\"},\"selection_policy\":{\"id\":\"19970\"}},\"id\":\"19942\",\"type\":\"ColumnDataSource\"},{\"attributes\":{\"base\":60,\"mantissas\":[1,2,5,10,15,20,30],\"max_interval\":1800000.0,\"min_interval\":1000.0,\"num_minor_ticks\":0},\"id\":\"20227\",\"type\":\"AdaptiveTicker\"},{\"attributes\":{\"days\":[1,8,15,22]},\"id\":\"19458\",\"type\":\"DaysTicker\"},{\"attributes\":{\"margin\":[5,10,5,10],\"options\":[\"gold\",\"silver\",\"crudeoil\"],\"title\":\"commodities\",\"value\":\"gold\"},\"id\":\"19872\",\"type\":\"Select\"},{\"attributes\":{\"days\":[1,15]},\"id\":\"19459\",\"type\":\"DaysTicker\"},{\"attributes\":{\"end\":0.6474380664477227,\"reset_end\":0.6474380664477227,\"reset_start\":-0.8283839487863263,\"start\":-0.8283839487863263,\"tags\":[[[\"sp500\",\"sp500\",null]]]},\"id\":\"20176\",\"type\":\"Range1d\"},{\"attributes\":{\"days\":[1,2,3,4,5,6,7,8,9,10,11,12,13,14,15,16,17,18,19,20,21,22,23,24,25,26,27,28,29,30,31]},\"id\":\"20229\",\"type\":\"DaysTicker\"},{\"attributes\":{\"label\":{\"value\":\"gold\"},\"renderers\":[{\"id\":\"19948\"}]},\"id\":\"19972\",\"type\":\"LegendItem\"},{\"attributes\":{\"base\":24,\"mantissas\":[1,2,4,6,8,12],\"max_interval\":43200000.0,\"min_interval\":3600000.0,\"num_minor_ticks\":0},\"id\":\"20228\",\"type\":\"AdaptiveTicker\"},{\"attributes\":{\"data_source\":{\"id\":\"19912\"},\"glyph\":{\"id\":\"19915\"},\"hover_glyph\":null,\"muted_glyph\":{\"id\":\"19917\"},\"nonselection_glyph\":{\"id\":\"19916\"},\"selection_glyph\":null,\"view\":{\"id\":\"19919\"}},\"id\":\"19918\",\"type\":\"GlyphRenderer\"},{\"attributes\":{\"axis\":{\"id\":\"20191\"},\"dimension\":1,\"grid_line_color\":null,\"ticker\":null},\"id\":\"20194\",\"type\":\"Grid\"},{\"attributes\":{\"months\":[0,2,4,6,8,10]},\"id\":\"19461\",\"type\":\"MonthsTicker\"},{\"attributes\":{\"text\":\"gold & S&P500 12 month Rolling Correlation\",\"text_color\":{\"value\":\"black\"},\"text_font_size\":{\"value\":\"12pt\"}},\"id\":\"20179\",\"type\":\"Title\"},{\"attributes\":{},\"id\":\"20192\",\"type\":\"BasicTicker\"},{\"attributes\":{\"days\":[1,4,7,10,13,16,19,22,25,28]},\"id\":\"20230\",\"type\":\"DaysTicker\"},{\"attributes\":{\"active_drag\":\"auto\",\"active_inspect\":\"auto\",\"active_multi\":null,\"active_scroll\":\"auto\",\"active_tap\":\"auto\",\"tools\":[{\"id\":\"19804\"},{\"id\":\"19820\"},{\"id\":\"19821\"},{\"id\":\"19822\"},{\"id\":\"19823\"},{\"id\":\"19824\"}]},\"id\":\"19826\",\"type\":\"Toolbar\"},{\"attributes\":{\"below\":[{\"id\":\"20187\"}],\"center\":[{\"id\":\"20190\"},{\"id\":\"20194\"}],\"left\":[{\"id\":\"20191\"}],\"margin\":[5,5,5,5],\"min_border_bottom\":10,\"min_border_left\":10,\"min_border_right\":10,\"min_border_top\":10,\"plot_height\":300,\"plot_width\":700,\"renderers\":[{\"id\":\"20214\"}],\"sizing_mode\":\"fixed\",\"title\":{\"id\":\"20179\"},\"toolbar\":{\"id\":\"20201\"},\"x_range\":{\"id\":\"20175\"},\"x_scale\":{\"id\":\"20183\"},\"y_range\":{\"id\":\"20176\"},\"y_scale\":{\"id\":\"20185\"}},\"id\":\"20178\",\"subtype\":\"Figure\",\"type\":\"Plot\"},{\"attributes\":{\"line_alpha\":0.2,\"line_color\":\"#1f77b3\",\"line_width\":2,\"x\":{\"field\":\"index\"},\"y\":{\"field\":\"value\"}},\"id\":\"19917\",\"type\":\"Line\"},{\"attributes\":{},\"id\":\"19885\",\"type\":\"LinearScale\"},{\"attributes\":{\"client_comm_id\":\"66c3d9f8d710467caeacadb01d4e3eb6\",\"comm_id\":\"4f5e161ddaa54c31a908b4ee98d69443\",\"plot_id\":\"19396\"},\"id\":\"20492\",\"type\":\"panel.models.comm_manager.CommManager\"},{\"attributes\":{\"months\":[0,4,8]},\"id\":\"19462\",\"type\":\"MonthsTicker\"},{\"attributes\":{\"months\":[0,1,2,3,4,5,6,7,8,9,10,11]},\"id\":\"20233\",\"type\":\"MonthsTicker\"},{\"attributes\":{\"bottom_units\":\"screen\",\"fill_alpha\":0.5,\"fill_color\":\"lightgrey\",\"left_units\":\"screen\",\"level\":\"overlay\",\"line_alpha\":1.0,\"line_color\":\"black\",\"line_dash\":[4,4],\"line_width\":2,\"right_units\":\"screen\",\"top_units\":\"screen\"},\"id\":\"19825\",\"type\":\"BoxAnnotation\"},{\"attributes\":{},\"id\":\"19970\",\"type\":\"UnionRenderers\"},{\"attributes\":{\"children\":[{\"id\":\"19869\"},{\"id\":\"19870\"},{\"id\":\"20171\"}],\"margin\":[0,0,0,0],\"name\":\"Column27819\"},\"id\":\"19868\",\"type\":\"Column\"},{\"attributes\":{\"days\":[1,8,15,22]},\"id\":\"20231\",\"type\":\"DaysTicker\"},{\"attributes\":{\"data\":{\"columns\":[\"sp500\",\"sp500\",\"sp500\",\"sp500\",\"sp500\",\"sp500\",\"sp500\",\"sp500\",\"dowjones\",\"dowjones\",\"dowjones\",\"dowjones\",\"dowjones\",\"dowjones\",\"dowjones\",\"dowjones\",\"nasdaq\",\"nasdaq\",\"nasdaq\",\"nasdaq\",\"nasdaq\",\"nasdaq\",\"nasdaq\",\"nasdaq\",\"gold\",\"gold\",\"gold\",\"gold\",\"gold\",\"gold\",\"gold\",\"gold\",\"silver\",\"silver\",\"silver\",\"silver\",\"silver\",\"silver\",\"silver\",\"silver\",\"crudeoil\",\"crudeoil\",\"crudeoil\",\"crudeoil\",\"crudeoil\",\"crudeoil\",\"crudeoil\",\"crudeoil\",\"dxy_mthly\",\"dxy_mthly\",\"dxy_mthly\",\"dxy_mthly\",\"dxy_mthly\",\"dxy_mthly\",\"dxy_mthly\",\"dxy_mthly\",\"wti_mthly\",\"wti_mthly\",\"wti_mthly\",\"wti_mthly\",\"wti_mthly\",\"wti_mthly\",\"wti_mthly\",\"wti_mthly\"],\"index\":[\"sp500\",\"dowjones\",\"nasdaq\",\"gold\",\"silver\",\"crudeoil\",\"dxy_mthly\",\"wti_mthly\",\"sp500\",\"dowjones\",\"nasdaq\",\"gold\",\"silver\",\"crudeoil\",\"dxy_mthly\",\"wti_mthly\",\"sp500\",\"dowjones\",\"nasdaq\",\"gold\",\"silver\",\"crudeoil\",\"dxy_mthly\",\"wti_mthly\",\"sp500\",\"dowjones\",\"nasdaq\",\"gold\",\"silver\",\"crudeoil\",\"dxy_mthly\",\"wti_mthly\",\"sp500\",\"dowjones\",\"nasdaq\",\"gold\",\"silver\",\"crudeoil\",\"dxy_mthly\",\"wti_mthly\",\"sp500\",\"dowjones\",\"nasdaq\",\"gold\",\"silver\",\"crudeoil\",\"dxy_mthly\",\"wti_mthly\",\"sp500\",\"dowjones\",\"nasdaq\",\"gold\",\"silver\",\"crudeoil\",\"dxy_mthly\",\"wti_mthly\",\"sp500\",\"dowjones\",\"nasdaq\",\"gold\",\"silver\",\"crudeoil\",\"dxy_mthly\",\"wti_mthly\"],\"value\":[\"1\",\"0.94993\",\"0.82213\",\"-0.23901\",\"0.051095\",\"-0.09742\",\"0.11378\",\"-0.10707\",\"0.94993\",\"1\",\"0.71395\",\"-0.22636\",\"0.073807\",\"-0.11371\",\"0.1294\",\"-0.11027\",\"0.82213\",\"0.71395\",\"1\",\"-0.1342\",\"0.075868\",\"-0.01247\",\"0.10666\",\"-0.070637\",\"-0.23901\",\"-0.22636\",\"-0.1342\",\"1\",\"0.59398\",\"0.21585\",\"-0.26071\",\"0.1301\",\"0.051095\",\"0.073807\",\"0.075868\",\"0.59398\",\"1\",\"0.11209\",\"0.019583\",\"0.052613\",\"-0.09742\",\"-0.11371\",\"-0.01247\",\"0.21585\",\"0.11209\",\"1\",\"-0.041537\",\"0.74905\",\"0.11378\",\"0.1294\",\"0.10666\",\"-0.26071\",\"0.019583\",\"-0.041537\",\"1\",\"0.006578\",\"-0.10707\",\"-0.11027\",\"-0.070637\",\"0.1301\",\"0.052613\",\"0.74905\",\"0.006578\",\"1\"],\"zvalues\":{\"__ndarray__\":\"AAAAAAAA8D8qJiUi2WXuP5HDkvLeTuo/ank4J9eXzr+4UVesISmqPzgnpZqF8Li/q0ON92kgvT/whIzzQ2m7vyomJSLZZe4/AAAAAAAA8D8kaoeOqtjmP6ABjtN3+cy/4m5vA/7ksj9IgZeo9hu9v66ETcxRkMA/WFDrlOk6vL+Rw5Ly3k7qPyRqh46q2OY/AAAAAAAA8D+RzBTUXi3Bv/JXFrISbLM/uJ3gG6uJib/cd9q+1U27P1GLqeQ8FbK/ank4J9eXzr+gAY7Td/nMv5HMFNReLcG/AAAAAAAA8D/2tDOx5wHjP3HhQqkAocs/X20yT3yv0L+HC7+oRafAP7hRV6whKao/4m5vA/7ksj/yVxayEmyzP/a0M7HnAeM/AAAAAAAA8D9JXFXOIbK8P9HTNbx4DZQ/cnbMmA/wqj84J6WahfC4v0iBl6j2G72/uJ3gG6uJib9x4UKpAKHLP0lcVc4hsrw/AAAAAAAA8D8B/u9vW0Slv/Um4GY9+Oc/q0ON92kgvT+uhE3MUZDAP9x32r7VTbs/X20yT3yv0L/R0zW8eA2UPwH+729bRKW/AAAAAAAA8D/sBGzblPF6P/CEjPNDabu/WFDrlOk6vL9Ri6nkPBWyv4cLv6hFp8A/cnbMmA/wqj/1JuBmPfjnP+wEbNuU8Xo/AAAAAAAA8D8=\",\"dtype\":\"float64\",\"order\":\"little\",\"shape\":[64]}},\"selected\":{\"id\":\"19835\"},\"selection_policy\":{\"id\":\"19856\"}},\"id\":\"19834\",\"type\":\"ColumnDataSource\"},{\"attributes\":{\"months\":[0,6]},\"id\":\"19463\",\"type\":\"MonthsTicker\"},{\"attributes\":{\"data_source\":{\"id\":\"20208\"},\"glyph\":{\"id\":\"20211\"},\"hover_glyph\":null,\"muted_glyph\":{\"id\":\"20213\"},\"nonselection_glyph\":{\"id\":\"20212\"},\"selection_glyph\":null,\"view\":{\"id\":\"20215\"}},\"id\":\"20214\",\"type\":\"GlyphRenderer\"},{\"attributes\":{\"days\":[1,15]},\"id\":\"20232\",\"type\":\"DaysTicker\"},{\"attributes\":{\"line_alpha\":0.1,\"line_color\":\"#d62628\",\"line_width\":2,\"x\":{\"field\":\"index\"},\"y\":{\"field\":\"value\"}},\"id\":\"19537\",\"type\":\"Line\"},{\"attributes\":{\"children\":[{\"id\":\"20172\"},{\"id\":\"20174\"}],\"margin\":[0,0,0,0],\"name\":\"Column27734\"},\"id\":\"20171\",\"type\":\"Column\"},{\"attributes\":{\"children\":[{\"id\":\"20178\"}],\"margin\":[0,0,0,0],\"name\":\"Row27815\"},\"id\":\"20174\",\"type\":\"Row\"},{\"attributes\":{\"child\":{\"id\":\"19397\"},\"name\":\"Column27434\",\"title\":\"Commodities Summary\"},\"id\":\"19867\",\"type\":\"Panel\"},{\"attributes\":{\"source\":{\"id\":\"20208\"}},\"id\":\"20215\",\"type\":\"CDSView\"},{\"attributes\":{\"line_color\":\"#ff7e0e\",\"line_width\":2,\"x\":{\"field\":\"index\"},\"y\":{\"field\":\"value\"}},\"id\":\"19472\",\"type\":\"Line\"},{\"attributes\":{\"line_alpha\":0.2,\"line_color\":\"#1f77b3\",\"line_width\":2,\"x\":{\"field\":\"Date\"},\"y\":{\"field\":\"sp500\"}},\"id\":\"20213\",\"type\":\"Line\"},{\"attributes\":{\"line_color\":\"#d62628\",\"line_width\":2,\"x\":{\"field\":\"index\"},\"y\":{\"field\":\"value\"}},\"id\":\"19536\",\"type\":\"Line\"},{\"attributes\":{\"overlay\":{\"id\":\"19900\"}},\"id\":\"19898\",\"type\":\"BoxZoomTool\"},{\"attributes\":{\"months\":[0,2,4,6,8,10]},\"id\":\"20234\",\"type\":\"MonthsTicker\"},{\"attributes\":{},\"id\":\"19464\",\"type\":\"YearsTicker\"},{\"attributes\":{\"below\":[{\"id\":\"19414\"}],\"center\":[{\"id\":\"19417\"},{\"id\":\"19421\"}],\"left\":[{\"id\":\"19418\"}],\"margin\":[5,5,5,5],\"min_border_bottom\":10,\"min_border_left\":10,\"min_border_right\":10,\"min_border_top\":10,\"plot_height\":300,\"plot_width\":700,\"renderers\":[{\"id\":\"19445\"},{\"id\":\"19475\"},{\"id\":\"19506\"},{\"id\":\"19539\"}],\"right\":[{\"id\":\"19467\"}],\"sizing_mode\":\"fixed\",\"title\":{\"id\":\"19406\"},\"toolbar\":{\"id\":\"19428\"},\"x_range\":{\"id\":\"19399\"},\"x_scale\":{\"id\":\"19410\"},\"y_range\":{\"id\":\"19400\"},\"y_scale\":{\"id\":\"19412\"}},\"id\":\"19405\",\"subtype\":\"Figure\",\"type\":\"Plot\"},{\"attributes\":{\"factors\":[\"sp500\",\"dowjones\",\"nasdaq\",\"gold\",\"silver\",\"crudeoil\",\"dxy_mthly\",\"wti_mthly\"],\"tags\":[[[\"index\",\"index\",null]]]},\"id\":\"19803\",\"type\":\"FactorRange\"},{\"attributes\":{\"axis_label\":\"Date\",\"bounds\":\"auto\",\"formatter\":{\"id\":\"20216\"},\"major_label_orientation\":\"horizontal\",\"ticker\":{\"id\":\"20188\"}},\"id\":\"20187\",\"type\":\"DatetimeAxis\"},{\"attributes\":{},\"id\":\"19897\",\"type\":\"WheelZoomTool\"},{\"attributes\":{\"below\":[{\"id\":\"19814\"}],\"center\":[{\"id\":\"19816\"},{\"id\":\"19819\"}],\"left\":[{\"id\":\"19817\"}],\"margin\":[5,5,5,5],\"min_border_bottom\":10,\"min_border_left\":10,\"min_border_right\":10,\"min_border_top\":10,\"plot_height\":300,\"plot_width\":700,\"renderers\":[{\"id\":\"19840\"}],\"right\":[{\"id\":\"19843\"}],\"sizing_mode\":\"fixed\",\"title\":{\"id\":\"19806\"},\"toolbar\":{\"id\":\"19826\"},\"x_range\":{\"id\":\"19802\"},\"x_scale\":{\"id\":\"19810\"},\"y_range\":{\"id\":\"19803\"},\"y_scale\":{\"id\":\"19812\"}},\"id\":\"19805\",\"subtype\":\"Figure\",\"type\":\"Plot\"},{\"attributes\":{\"months\":[0,4,8]},\"id\":\"20235\",\"type\":\"MonthsTicker\"},{\"attributes\":{\"text\":\"Commodities and Indices Correlation\",\"text_color\":{\"value\":\"black\"},\"text_font_size\":{\"value\":\"12pt\"}},\"id\":\"19806\",\"type\":\"Title\"},{\"attributes\":{\"bottom_units\":\"screen\",\"fill_alpha\":0.5,\"fill_color\":\"lightgrey\",\"left_units\":\"screen\",\"level\":\"overlay\",\"line_alpha\":1.0,\"line_color\":\"black\",\"line_dash\":[4,4],\"line_width\":2,\"right_units\":\"screen\",\"top_units\":\"screen\"},\"id\":\"19427\",\"type\":\"BoxAnnotation\"},{\"attributes\":{\"months\":[0,6]},\"id\":\"20236\",\"type\":\"MonthsTicker\"},{\"attributes\":{\"line_alpha\":0.2,\"line_color\":\"#d62628\",\"line_width\":2,\"x\":{\"field\":\"index\"},\"y\":{\"field\":\"value\"}},\"id\":\"19538\",\"type\":\"Line\"},{\"attributes\":{},\"id\":\"20183\",\"type\":\"LinearScale\"},{\"attributes\":{\"num_minor_ticks\":5,\"tickers\":[{\"id\":\"20226\"},{\"id\":\"20227\"},{\"id\":\"20228\"},{\"id\":\"20229\"},{\"id\":\"20230\"},{\"id\":\"20231\"},{\"id\":\"20232\"},{\"id\":\"20233\"},{\"id\":\"20234\"},{\"id\":\"20235\"},{\"id\":\"20236\"},{\"id\":\"20237\"}]},\"id\":\"20188\",\"type\":\"DatetimeTicker\"},{\"attributes\":{\"margin\":[0,0,0,0],\"tabs\":[{\"id\":\"19867\"},{\"id\":\"20260\"}]},\"id\":\"19396\",\"type\":\"Tabs\"},{\"attributes\":{\"active_drag\":\"auto\",\"active_inspect\":\"auto\",\"active_multi\":null,\"active_scroll\":\"auto\",\"active_tap\":\"auto\",\"tools\":[{\"id\":\"19401\"},{\"id\":\"19422\"},{\"id\":\"19423\"},{\"id\":\"19424\"},{\"id\":\"19425\"},{\"id\":\"19426\"}]},\"id\":\"19428\",\"type\":\"Toolbar\"},{\"attributes\":{\"children\":[{\"id\":\"20173\"}],\"margin\":[0,0,0,0],\"name\":\"Column27816\"},\"id\":\"20172\",\"type\":\"Column\"},{\"attributes\":{\"label\":{\"value\":\"crudeoil\"},\"renderers\":[{\"id\":\"19539\"}]},\"id\":\"19567\",\"type\":\"LegendItem\"},{\"attributes\":{\"label\":{\"value\":\"sp500\"},\"renderers\":[{\"id\":\"19445\"}]},\"id\":\"19468\",\"type\":\"LegendItem\"},{\"attributes\":{\"axis\":{\"id\":\"20187\"},\"grid_line_color\":null,\"ticker\":null},\"id\":\"20190\",\"type\":\"Grid\"},{\"attributes\":{},\"id\":\"19896\",\"type\":\"PanTool\"},{\"attributes\":{},\"id\":\"20195\",\"type\":\"SaveTool\"},{\"attributes\":{\"data\":{\"Variable\":[\"silver\",\"silver\",\"silver\",\"silver\",\"silver\",\"silver\",\"silver\",\"silver\",\"silver\",\"silver\",\"silver\",\"silver\",\"silver\",\"silver\",\"silver\",\"silver\",\"silver\",\"silver\",\"silver\",\"silver\",\"silver\",\"silver\",\"silver\",\"silver\",\"silver\",\"silver\",\"silver\",\"silver\",\"silver\",\"silver\",\"silver\",\"silver\",\"silver\",\"silver\",\"silver\",\"silver\",\"silver\",\"silver\",\"silver\",\"silver\",\"silver\",\"silver\",\"silver\",\"silver\",\"silver\",\"silver\",\"silver\",\"silver\",\"silver\",\"silver\",\"silver\",\"silver\",\"silver\",\"silver\",\"silver\",\"silver\",\"silver\",\"silver\",\"silver\",\"silver\",\"silver\",\"silver\",\"silver\",\"silver\",\"silver\",\"silver\",\"silver\",\"silver\",\"silver\",\"silver\",\"silver\",\"silver\",\"silver\",\"silver\",\"silver\",\"silver\",\"silver\",\"silver\",\"silver\",\"silver\",\"silver\",\"silver\",\"silver\",\"silver\",\"silver\",\"silver\",\"silver\",\"silver\",\"silver\",\"silver\",\"silver\",\"silver\",\"silver\",\"silver\",\"silver\",\"silver\",\"silver\",\"silver\",\"silver\",\"silver\",\"silver\",\"silver\",\"silver\",\"silver\",\"silver\",\"silver\",\"silver\",\"silver\",\"silver\",\"silver\",\"silver\",\"silver\",\"silver\",\"silver\",\"silver\",\"silver\",\"silver\",\"silver\",\"silver\",\"silver\",\"silver\",\"silver\",\"silver\",\"silver\",\"silver\",\"silver\",\"silver\",\"silver\",\"silver\",\"silver\",\"silver\",\"silver\",\"silver\",\"silver\",\"silver\",\"silver\",\"silver\",\"silver\",\"silver\",\"silver\",\"silver\",\"silver\",\"silver\",\"silver\",\"silver\",\"silver\",\"silver\",\"silver\",\"silver\",\"silver\",\"silver\",\"silver\",\"silver\",\"silver\",\"silver\",\"silver\",\"silver\",\"silver\",\"silver\",\"silver\",\"silver\",\"silver\",\"silver\",\"silver\",\"silver\",\"silver\",\"silver\",\"silver\",\"silver\",\"silver\",\"silver\",\"silver\",\"silver\",\"silver\",\"silver\",\"silver\",\"silver\",\"silver\",\"silver\",\"silver\",\"silver\",\"silver\",\"silver\",\"silver\",\"silver\",\"silver\",\"silver\",\"silver\",\"silver\",\"silver\",\"silver\",\"silver\"],\"index\":{\"__ndarray__\":\"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\",\"dtype\":\"float64\",\"order\":\"little\",\"shape\":[192]},\"value\":{\"__ndarray__\":\"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\",\"dtype\":\"float64\",\"order\":\"little\",\"shape\":[192]}},\"selected\":{\"id\":\"19501\"},\"selection_policy\":{\"id\":\"19530\"}},\"id\":\"19500\",\"type\":\"ColumnDataSource\"},{\"attributes\":{},\"id\":\"19895\",\"type\":\"SaveTool\"},{\"attributes\":{},\"id\":\"20237\",\"type\":\"YearsTicker\"},{\"attributes\":{},\"id\":\"19810\",\"type\":\"CategoricalScale\"},{\"attributes\":{},\"id\":\"20238\",\"type\":\"UnionRenderers\"},{\"attributes\":{\"label\":{\"value\":\"gold\"},\"renderers\":[{\"id\":\"19475\"}]},\"id\":\"19499\",\"type\":\"LegendItem\"},{\"attributes\":{\"text\":\"Commodities Prices and S&P500\",\"text_color\":{\"value\":\"black\"},\"text_font_size\":{\"value\":\"12pt\"}},\"id\":\"19406\",\"type\":\"Title\"},{\"attributes\":{\"axis_label\":\"Correlation\",\"bounds\":\"auto\",\"formatter\":{\"id\":\"20218\"},\"major_label_orientation\":\"horizontal\",\"ticker\":{\"id\":\"20192\"}},\"id\":\"20191\",\"type\":\"LinearAxis\"},{\"attributes\":{\"data\":{\"Variable\":[\"sp500\",\"sp500\",\"sp500\",\"sp500\",\"sp500\",\"sp500\",\"sp500\",\"sp500\",\"sp500\",\"sp500\",\"sp500\",\"sp500\",\"sp500\",\"sp500\",\"sp500\",\"sp500\",\"sp500\",\"sp500\",\"sp500\",\"sp500\",\"sp500\",\"sp500\",\"sp500\",\"sp500\",\"sp500\",\"sp500\",\"sp500\",\"sp500\",\"sp500\",\"sp500\",\"sp500\",\"sp500\",\"sp500\",\"sp500\",\"sp500\",\"sp500\",\"sp500\",\"sp500\",\"sp500\",\"sp500\",\"sp500\",\"sp500\",\"sp500\",\"sp500\",\"sp500\",\"sp500\",\"sp500\",\"sp500\",\"sp500\",\"sp500\",\"sp500\",\"sp500\",\"sp500\",\"sp500\",\"sp500\",\"sp500\",\"sp500\",\"sp500\",\"sp500\",\"sp500\",\"sp500\",\"sp500\",\"sp500\",\"sp500\",\"sp500\",\"sp500\",\"sp500\",\"sp500\",\"sp500\",\"sp500\",\"sp500\",\"sp500\",\"sp500\",\"sp500\",\"sp500\",\"sp500\",\"sp500\",\"sp500\",\"sp500\",\"sp500\",\"sp500\",\"sp500\",\"sp500\",\"sp500\",\"sp500\",\"sp500\",\"sp500\",\"sp500\",\"sp500\",\"sp500\",\"sp500\",\"sp500\",\"sp500\",\"sp500\",\"sp500\",\"sp500\",\"sp500\",\"sp500\",\"sp500\",\"sp500\",\"sp500\",\"sp500\",\"sp500\",\"sp500\",\"sp500\",\"sp500\",\"sp500\",\"sp500\",\"sp500\",\"sp500\",\"sp500\",\"sp500\",\"sp500\",\"sp500\",\"sp500\",\"sp500\",\"sp500\",\"sp500\",\"sp500\",\"sp500\",\"sp500\",\"sp500\",\"sp500\",\"sp500\",\"sp500\",\"sp500\",\"sp500\",\"sp500\",\"sp500\",\"sp500\",\"sp500\",\"sp500\",\"sp500\",\"sp500\",\"sp500\",\"sp500\",\"sp500\",\"sp500\",\"sp500\",\"sp500\",\"sp500\",\"sp500\",\"sp500\",\"sp500\",\"sp500\",\"sp500\",\"sp500\",\"sp500\",\"sp500\",\"sp500\",\"sp500\",\"sp500\",\"sp500\",\"sp500\",\"sp500\",\"sp500\",\"sp500\",\"sp500\",\"sp500\",\"sp500\",\"sp500\",\"sp500\",\"sp500\",\"sp500\",\"sp500\",\"sp500\",\"sp500\",\"sp500\",\"sp500\",\"sp500\",\"sp500\",\"sp500\",\"sp500\",\"sp500\",\"sp500\",\"sp500\",\"sp500\",\"sp500\",\"sp500\",\"sp500\",\"sp500\",\"sp500\",\"sp500\",\"sp500\",\"sp500\",\"sp500\",\"sp500\",\"sp500\",\"sp500\",\"sp500\",\"sp500\",\"sp500\"],\"index\":{\"__ndarray__\":\"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\",\"dtype\":\"float64\",\"order\":\"little\",\"shape\":[192]},\"value\":{\"__ndarray__\":\"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\",\"dtype\":\"float64\",\"order\":\"little\",\"shape\":[192]}},\"selected\":{\"id\":\"19913\"},\"selection_policy\":{\"id\":\"19938\"}},\"id\":\"19912\",\"type\":\"ColumnDataSource\"},{\"attributes\":{\"base\":60,\"mantissas\":[1,2,5,10,15,20,30],\"max_interval\":1800000.0,\"min_interval\":1000.0,\"num_minor_ticks\":0},\"id\":\"19927\",\"type\":\"AdaptiveTicker\"},{\"attributes\":{\"axis\":{\"id\":\"19814\"},\"grid_line_color\":null,\"ticker\":null},\"id\":\"19816\",\"type\":\"Grid\"},{\"attributes\":{\"line_alpha\":0.1,\"line_color\":\"#ff7e0e\",\"line_width\":2,\"x\":{\"field\":\"index\"},\"y\":{\"field\":\"value\"}},\"id\":\"19473\",\"type\":\"Line\"},{\"attributes\":{},\"id\":\"20196\",\"type\":\"PanTool\"},{\"attributes\":{},\"id\":\"19815\",\"type\":\"CategoricalTicker\"},{\"attributes\":{\"line_color\":\"#1f77b3\",\"line_width\":2,\"x\":{\"field\":\"index\"},\"y\":{\"field\":\"value\"}},\"id\":\"19915\",\"type\":\"Line\"},{\"attributes\":{\"data_source\":{\"id\":\"19533\"},\"glyph\":{\"id\":\"19536\"},\"hover_glyph\":null,\"muted_glyph\":{\"id\":\"19538\"},\"nonselection_glyph\":{\"id\":\"19537\"},\"selection_glyph\":null,\"view\":{\"id\":\"19540\"}},\"id\":\"19539\",\"type\":\"GlyphRenderer\"},{\"attributes\":{\"axis_label\":\"\",\"bounds\":\"auto\",\"formatter\":{\"id\":\"19845\"},\"major_label_orientation\":\"horizontal\",\"ticker\":{\"id\":\"19815\"}},\"id\":\"19814\",\"type\":\"CategoricalAxis\"},{\"attributes\":{\"line_alpha\":0.2,\"line_color\":\"#ff7e0e\",\"line_width\":2,\"x\":{\"field\":\"index\"},\"y\":{\"field\":\"value\"}},\"id\":\"19474\",\"type\":\"Line\"},{\"attributes\":{},\"id\":\"20199\",\"type\":\"ResetTool\"},{\"attributes\":{},\"id\":\"19412\",\"type\":\"LinearScale\"},{\"attributes\":{\"source\":{\"id\":\"19469\"}},\"id\":\"19476\",\"type\":\"CDSView\"},{\"attributes\":{\"source\":{\"id\":\"19533\"}},\"id\":\"19540\",\"type\":\"CDSView\"},{\"attributes\":{},\"id\":\"20197\",\"type\":\"WheelZoomTool\"},{\"attributes\":{\"axis_label\":\"\",\"bounds\":\"auto\",\"formatter\":{\"id\":\"19847\"},\"major_label_orientation\":\"horizontal\",\"ticker\":{\"id\":\"19818\"}},\"id\":\"19817\",\"type\":\"CategoricalAxis\"},{\"attributes\":{\"below\":[{\"id\":\"19887\"}],\"center\":[{\"id\":\"19890\"},{\"id\":\"19894\"}],\"left\":[{\"id\":\"19891\"}],\"margin\":[5,5,5,5],\"min_border_bottom\":10,\"min_border_left\":10,\"min_border_right\":10,\"min_border_top\":10,\"plot_height\":300,\"plot_width\":700,\"renderers\":[{\"id\":\"19918\"},{\"id\":\"19948\"}],\"right\":[{\"id\":\"19940\"}],\"sizing_mode\":\"fixed\",\"title\":{\"id\":\"19879\"},\"toolbar\":{\"id\":\"19901\"},\"x_range\":{\"id\":\"19399\"},\"x_scale\":{\"id\":\"19883\"},\"y_range\":{\"id\":\"19400\"},\"y_scale\":{\"id\":\"19885\"}},\"id\":\"19878\",\"subtype\":\"Figure\",\"type\":\"Plot\"},{\"attributes\":{\"mantissas\":[1,2,5],\"max_interval\":500.0,\"num_minor_ticks\":0},\"id\":\"20226\",\"type\":\"AdaptiveTicker\"},{\"attributes\":{\"overlay\":{\"id\":\"20200\"}},\"id\":\"20198\",\"type\":\"BoxZoomTool\"},{\"attributes\":{\"axis\":{\"id\":\"19418\"},\"dimension\":1,\"grid_line_color\":null,\"ticker\":null},\"id\":\"19421\",\"type\":\"Grid\"},{\"attributes\":{\"data_source\":{\"id\":\"19469\"},\"glyph\":{\"id\":\"19472\"},\"hover_glyph\":null,\"muted_glyph\":{\"id\":\"19474\"},\"nonselection_glyph\":{\"id\":\"19473\"},\"selection_glyph\":null,\"view\":{\"id\":\"19476\"}},\"id\":\"19475\",\"type\":\"GlyphRenderer\"},{\"attributes\":{},\"id\":\"19847\",\"type\":\"CategoricalTickFormatter\"},{\"attributes\":{\"end\":4000.0,\"reset_end\":1669.0915,\"reset_start\":-147.84650000000002,\"start\":-147.84650000000002,\"tags\":[[[\"value\",\"value\",null]]]},\"id\":\"19400\",\"type\":\"Range1d\"},{\"attributes\":{\"label\":{\"value\":\"silver\"},\"renderers\":[{\"id\":\"19506\"}]},\"id\":\"19532\",\"type\":\"LegendItem\"},{\"attributes\":{},\"id\":\"20218\",\"type\":\"BasicTickFormatter\"},{\"attributes\":{},\"id\":\"19818\",\"type\":\"CategoricalTicker\"},{\"attributes\":{\"axis\":{\"id\":\"19817\"},\"dimension\":1,\"grid_line_color\":null,\"ticker\":null},\"id\":\"19819\",\"type\":\"Grid\"},{\"attributes\":{\"children\":[{\"id\":\"19878\"}],\"margin\":[0,0,0,0],\"name\":\"Row27731\"},\"id\":\"19873\",\"type\":\"Row\"},{\"attributes\":{\"overlay\":{\"id\":\"19427\"}},\"id\":\"19425\",\"type\":\"BoxZoomTool\"},{\"attributes\":{\"high\":1.0,\"low\":-0.2607107900054952,\"nan_color\":\"white\",\"palette\":[\"#b3fef5\",\"#b0fef5\",\"#adfdf5\",\"#a9fcf5\",\"#a6fbf6\",\"#a3faf6\",\"#a0faf6\",\"#9df9f6\",\"#9af8f6\",\"#97f7f6\",\"#93f7f6\",\"#90f6f6\",\"#8df5f6\",\"#8af4f7\",\"#87f3f7\",\"#83f2f7\",\"#80f2f7\",\"#7df1f7\",\"#79f0f7\",\"#76eff7\",\"#73eef7\",\"#6fedf8\",\"#6cecf8\",\"#68ecf8\",\"#65ebf8\",\"#61eaf8\",\"#5ee9f8\",\"#5ae8f8\",\"#57e7f8\",\"#53e6f8\",\"#50e5f9\",\"#4ce4f9\",\"#49e3f9\",\"#45e2f9\",\"#42e1f9\",\"#3ee0f9\",\"#3bdff9\",\"#38def9\",\"#35ddf9\",\"#32dcf9\",\"#30dbfa\",\"#2ed9fa\",\"#2dd8fa\",\"#2cd7fa\",\"#2bd6fa\",\"#2bd5fa\",\"#2ad3fa\",\"#2ad2fa\",\"#29d1fa\",\"#29d0fb\",\"#29cffb\",\"#28cdfb\",\"#28ccfb\",\"#28cbfb\",\"#28cafb\",\"#28c8fb\",\"#28c7fb\",\"#29c6fb\",\"#29c5fb\",\"#29c4fb\",\"#29c2fb\",\"#2ac1fb\",\"#2ac0fb\",\"#2bbffb\",\"#2bbdfc\",\"#2cbcfc\",\"#2dbbfc\",\"#2db9fc\",\"#2eb8fc\",\"#2fb7fc\",\"#2fb6fc\",\"#30b4fc\",\"#31b3fc\",\"#32b2fc\",\"#32b0fc\",\"#33affc\",\"#33aefc\",\"#34adfc\",\"#34abfc\",\"#34aafc\",\"#35a9fc\",\"#35a8fc\",\"#35a6fc\",\"#35a5fc\",\"#35a4fc\",\"#35a3fc\",\"#35a1fc\",\"#35a0fc\",\"#359ffc\",\"#359dfc\",\"#359cfc\",\"#359bfc\",\"#349afd\",\"#3498fd\",\"#3497fd\",\"#3396fd\",\"#3395fd\",\"#3293fd\",\"#3292fd\",\"#3191fd\",\"#3090fd\",\"#308ffd\",\"#2f8dfd\",\"#2f8cfd\",\"#2e8bfd\",\"#2e8afd\",\"#2d88fd\",\"#2d87fd\",\"#2c86fd\",\"#2c84fd\",\"#2c83fd\",\"#2c82fd\",\"#2b81fd\",\"#2b7ffd\",\"#2b7efd\",\"#2b7dfd\",\"#2b7bfd\",\"#2b7afd\",\"#2b79fd\",\"#2b77fd\",\"#2b76fd\",\"#2b75fd\",\"#2b73fd\",\"#2c72fd\",\"#2c71fd\",\"#2c6ffd\",\"#2c6efd\",\"#2d6cfd\",\"#2d6bfd\",\"#2d6afc\",\"#2e68fc\",\"#2e67fc\",\"#2e65fc\",\"#2e64fc\",\"#2f62fc\",\"#2f61fc\",\"#2f5ffc\",\"#2f5efc\",\"#2f5dfc\",\"#2f5bfc\",\"#2f5afc\",\"#2f58fb\",\"#2f57fb\",\"#2f55fb\",\"#2f53fb\",\"#2f52fb\",\"#2f50fb\",\"#2f4ffb\",\"#2f4dfb\",\"#2e4cfb\",\"#2e4afb\",\"#2e48fb\",\"#2e47fa\",\"#2d45fa\",\"#2d43fa\",\"#2d42fa\",\"#2d40fa\",\"#2c3efa\",\"#2c3dfa\",\"#2b3bf9\",\"#2b39f9\",\"#2a37f9\",\"#2a36f8\",\"#2934f8\",\"#2832f7\",\"#2831f7\",\"#272ff6\",\"#262ef5\",\"#252cf5\",\"#252af4\",\"#2429f3\",\"#2327f2\",\"#2226f1\",\"#2124f0\",\"#2023ef\",\"#1f22ee\",\"#1e20ed\",\"#1d1feb\",\"#1c1eea\",\"#1b1ce9\",\"#1a1be7\",\"#181ae6\",\"#1719e5\",\"#1618e3\",\"#1417e1\",\"#1316e0\",\"#1215de\",\"#1014dc\",\"#0f13db\",\"#0e12d9\",\"#0d11d7\",\"#0c10d5\",\"#0b0fd3\",\"#0a0ed1\",\"#090dd0\",\"#080dce\",\"#080ccc\",\"#070bca\",\"#070ac8\",\"#0709c6\",\"#0708c4\",\"#0707c2\",\"#0707bf\",\"#0806bd\",\"#0806bb\",\"#0905b9\",\"#0904b7\",\"#0a04b5\",\"#0a04b2\",\"#0b03b0\",\"#0c03ae\",\"#0d02ab\",\"#0e02a9\",\"#0e02a7\",\"#0f02a4\",\"#0f01a2\",\"#1001a0\",\"#10019d\",\"#10019b\",\"#100199\",\"#100197\",\"#100194\",\"#0f0192\",\"#0f0190\",\"#0f018e\",\"#0e018b\",\"#0e0189\",\"#0d0187\",\"#0d0185\",\"#0c0183\",\"#0b0181\",\"#0b017e\",\"#0a017c\",\"#09017a\",\"#090178\",\"#080276\",\"#070274\",\"#060272\",\"#060270\",\"#05026e\",\"#04026c\",\"#030269\",\"#030267\",\"#020265\",\"#010263\",\"#010261\",\"#00025f\",\"#00025d\",\"#00025b\",\"#000259\",\"#000257\",\"#000255\",\"#000154\",\"#000152\",\"#000150\",\"#00004e\"]},\"id\":\"19833\",\"type\":\"LinearColorMapper\"},{\"attributes\":{\"days\":[1,2,3,4,5,6,7,8,9,10,11,12,13,14,15,16,17,18,19,20,21,22,23,24,25,26,27,28,29,30,31]},\"id\":\"19929\",\"type\":\"DaysTicker\"},{\"attributes\":{\"data\":{\"Variable\":[\"gold\",\"gold\",\"gold\",\"gold\",\"gold\",\"gold\",\"gold\",\"gold\",\"gold\",\"gold\",\"gold\",\"gold\",\"gold\",\"gold\",\"gold\",\"gold\",\"gold\",\"gold\",\"gold\",\"gold\",\"gold\",\"gold\",\"gold\",\"gold\",\"gold\",\"gold\",\"gold\",\"gold\",\"gold\",\"gold\",\"gold\",\"gold\",\"gold\",\"gold\",\"gold\",\"gold\",\"gold\",\"gold\",\"gold\",\"gold\",\"gold\",\"gold\",\"gold\",\"gold\",\"gold\",\"gold\",\"gold\",\"gold\",\"gold\",\"gold\",\"gold\",\"gold\",\"gold\",\"gold\",\"gold\",\"gold\",\"gold\",\"gold\",\"gold\",\"gold\",\"gold\",\"gold\",\"gold\",\"gold\",\"gold\",\"gold\",\"gold\",\"gold\",\"gold\",\"gold\",\"gold\",\"gold\",\"gold\",\"gold\",\"gold\",\"gold\",\"gold\",\"gold\",\"gold\",\"gold\",\"gold\",\"gold\",\"gold\",\"gold\",\"gold\",\"gold\",\"gold\",\"gold\",\"gold\",\"gold\",\"gold\",\"gold\",\"gold\",\"gold\",\"gold\",\"gold\",\"gold\",\"gold\",\"gold\",\"gold\",\"gold\",\"gold\",\"gold\",\"gold\",\"gold\",\"gold\",\"gold\",\"gold\",\"gold\",\"gold\",\"gold\",\"gold\",\"gold\",\"gold\",\"gold\",\"gold\",\"gold\",\"gold\",\"gold\",\"gold\",\"gold\",\"gold\",\"gold\",\"gold\",\"gold\",\"gold\",\"gold\",\"gold\",\"gold\",\"gold\",\"gold\",\"gold\",\"gold\",\"gold\",\"gold\",\"gold\",\"gold\",\"gold\",\"gold\",\"gold\",\"gold\",\"gold\",\"gold\",\"gold\",\"gold\",\"gold\",\"gold\",\"gold\",\"gold\",\"gold\",\"gold\",\"gold\",\"gold\",\"gold\",\"gold\",\"gold\",\"gold\",\"gold\",\"gold\",\"gold\",\"gold\",\"gold\",\"gold\",\"gold\",\"gold\",\"gold\",\"gold\",\"gold\",\"gold\",\"gold\",\"gold\",\"gold\",\"gold\",\"gold\",\"gold\",\"gold\",\"gold\",\"gold\",\"gold\",\"gold\",\"gold\",\"gold\",\"gold\",\"gold\",\"gold\",\"gold\",\"gold\",\"gold\",\"gold\",\"gold\",\"gold\",\"gold\"],\"index\":{\"__ndarray__\":\"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\",\"dtype\":\"float64\",\"order\":\"little\",\"shape\":[192]},\"value\":{\"__ndarray__\":\"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\",\"dtype\":\"float64\",\"order\":\"little\",\"shape\":[192]}},\"selected\":{\"id\":\"19470\"},\"selection_policy\":{\"id\":\"19497\"}},\"id\":\"19469\",\"type\":\"ColumnDataSource\"},{\"attributes\":{},\"id\":\"19424\",\"type\":\"WheelZoomTool\"},{\"attributes\":{},\"id\":\"19845\",\"type\":\"CategoricalTickFormatter\"},{\"attributes\":{},\"id\":\"19426\",\"type\":\"ResetTool\"},{\"attributes\":{\"base\":24,\"mantissas\":[1,2,4,6,8,12],\"max_interval\":43200000.0,\"min_interval\":3600000.0,\"num_minor_ticks\":0},\"id\":\"19928\",\"type\":\"AdaptiveTicker\"},{\"attributes\":{},\"id\":\"20209\",\"type\":\"Selection\"},{\"attributes\":{},\"id\":\"19423\",\"type\":\"PanTool\"},{\"attributes\":{\"mantissas\":[1,2,5],\"max_interval\":500.0,\"num_minor_ticks\":0},\"id\":\"19926\",\"type\":\"AdaptiveTicker\"},{\"attributes\":{\"days\":[1,4,7,10,13,16,19,22,25,28]},\"id\":\"19930\",\"type\":\"DaysTicker\"},{\"attributes\":{\"css_classes\":[\"markdown\"],\"margin\":[5,5,5,5],\"name\":\"Markdown27817\",\"text\":\"&lt;h1&gt;Commodities Analysis&lt;/h1&gt;\"},\"id\":\"19869\",\"type\":\"panel.models.markup.HTML\"},{\"attributes\":{},\"id\":\"19820\",\"type\":\"SaveTool\"},{\"attributes\":{},\"id\":\"19530\",\"type\":\"UnionRenderers\"},{\"attributes\":{},\"id\":\"20216\",\"type\":\"DatetimeTickFormatter\"},{\"attributes\":{\"factors\":[\"sp500\",\"dowjones\",\"nasdaq\",\"gold\",\"silver\",\"crudeoil\",\"dxy_mthly\",\"wti_mthly\"],\"tags\":[[[\"columns\",\"columns\",null]]]},\"id\":\"19802\",\"type\":\"FactorRange\"},{\"attributes\":{},\"id\":\"19422\",\"type\":\"SaveTool\"}],\"root_ids\":[\"19396\",\"20492\"]},\"title\":\"Bokeh Application\",\"version\":\"2.2.3\"}};\n",
       "    var render_items = [{\"docid\":\"24c11152-b424-46a6-af46-fb96524ece1e\",\"root_ids\":[\"19396\"],\"roots\":{\"19396\":\"5257ba20-1f25-42c4-b9a5-89dea0581ea3\"}}];\n",
       "    root.Bokeh.embed.embed_items_notebook(docs_json, render_items);\n",
       "  }\n",
       "  if (root.Bokeh !== undefined && root.Bokeh.Panel !== undefined && root['Plotly'] !== undefined ) {\n",
       "    embed_document(root);\n",
       "  } else {\n",
       "    var attempts = 0;\n",
       "    var timer = setInterval(function(root) {\n",
       "      if (root.Bokeh !== undefined && root.Bokeh.Panel !== undefined && root['Plotly'] !== undefined) {\n",
       "        clearInterval(timer);\n",
       "        embed_document(root);\n",
       "      } else if (document.readyState == \"complete\") {\n",
       "        attempts++;\n",
       "        if (attempts > 100) {\n",
       "          clearInterval(timer);\n",
       "          console.log(\"Bokeh: ERROR: Unable to run BokehJS code because BokehJS library is missing\");\n",
       "        }\n",
       "      }\n",
       "    }, 10, root)\n",
       "  }\n",
       "})(window);</script>"
      ],
      "text/plain": [
       "Tabs\n",
       "    [0] Column\n",
       "        [0] Markdown(str)\n",
       "        [1] HoloViews(NdOverlay)\n",
       "        [2] HoloViews(HeatMap)\n",
       "    [1] Column\n",
       "        [0] Markdown(str)\n",
       "        [1] Column\n",
       "            [0] Column\n",
       "                [0] Select(name='commodities', options=['gold', 'silver', ...], value='gold')\n",
       "            [1] Row\n",
       "                [0] HoloViews(NdOverlay, name='interactive27626')\n",
       "        [2] Column\n",
       "            [0] Column\n",
       "                [0] Select(name='commodities', options=['gold', 'silver', ...], value='gold')\n",
       "            [1] Row\n",
       "                [0] HoloViews(Curve, name='interactive27733')"
      ]
     },
     "execution_count": 264,
     "metadata": {
      "application/vnd.holoviews_exec.v0+json": {
       "id": "19396"
      }
     },
     "output_type": "execute_result"
    }
   ],
   "source": [
    "panel1.servable()"
   ]
  },
  {
   "cell_type": "markdown",
   "metadata": {},
   "source": [
    "From 1985 to early 2000, gold was used to hedge against market downturn. When investers were expecting a bear market, they sell shares in stock market and buy gold, causing decline in stock market indices and rise in gold prices. Hence, gold price moved in the opposite direction of S&P500 index.\n",
    "This is also shown as negative (inverse) correlation until early 2000. The correlation started to change to be more positive due to creation of paper gold and commodities market in 1970's. However, it took some time for the paper gold and commdities futures market to be popularized and accessible to retial investors; therefore, the transition was not apparent until mid 2000's. The commodities market allowed traders and investors to speculate on future commodities prices. As a result, the gold price correlation began to shift to possitive territory. Since 2007, we noticed that Crude Oil has become more collerated to S&P500, possibly due to the start of oil price war.\n"
   ]
  },
  {
   "cell_type": "code",
   "execution_count": 265,
   "metadata": {},
   "outputs": [
    {
     "data": {},
     "metadata": {},
     "output_type": "display_data"
    },
    {
     "data": {},
     "metadata": {},
     "output_type": "display_data"
    },
    {
     "data": {
      "application/vnd.holoviews_exec.v0+json": "",
      "text/html": [
       "<div id='20878'>\n",
       "\n",
       "\n",
       "\n",
       "\n",
       "\n",
       "  <div class=\"bk-root\" id=\"8da927da-280d-4201-9567-075ffb699e01\" data-root-id=\"20878\"></div>\n",
       "</div>\n",
       "<script type=\"application/javascript\">(function(root) {\n",
       "  function embed_document(root) {\n",
       "    var docs_json = {\"ac052233-40d0-464d-b38f-ee2744efed61\":{\"roots\":{\"references\":[{\"attributes\":{\"months\":[0,6]},\"id\":\"21364\",\"type\":\"MonthsTicker\"},{\"attributes\":{\"click_policy\":\"mute\",\"items\":[{\"id\":\"21369\"},{\"id\":\"21400\"}],\"location\":[0,0],\"title\":\"Variable\"},\"id\":\"21368\",\"type\":\"Legend\"},{\"attributes\":{\"bottom_units\":\"screen\",\"fill_alpha\":0.5,\"fill_color\":\"lightgrey\",\"left_units\":\"screen\",\"level\":\"overlay\",\"line_alpha\":1.0,\"line_color\":\"black\",\"line_dash\":[4,4],\"line_width\":2,\"right_units\":\"screen\",\"top_units\":\"screen\"},\"id\":\"21628\",\"type\":\"BoxAnnotation\"},{\"attributes\":{\"children\":[{\"id\":\"20880\"},{\"id\":\"20886\"},{\"id\":\"21233\"}],\"margin\":[0,0,0,0],\"name\":\"Column27625\"},\"id\":\"20879\",\"type\":\"Column\"},{\"attributes\":{},\"id\":\"21365\",\"type\":\"YearsTicker\"},{\"attributes\":{},\"id\":\"21366\",\"type\":\"UnionRenderers\"},{\"attributes\":{},\"id\":\"21644\",\"type\":\"DatetimeTickFormatter\"},{\"attributes\":{},\"id\":\"21637\",\"type\":\"Selection\"},{\"attributes\":{\"active_drag\":\"auto\",\"active_inspect\":\"auto\",\"active_multi\":null,\"active_scroll\":\"auto\",\"active_tap\":\"auto\",\"tools\":[{\"id\":\"21605\"},{\"id\":\"21623\"},{\"id\":\"21624\"},{\"id\":\"21625\"},{\"id\":\"21626\"},{\"id\":\"21627\"}]},\"id\":\"21629\",\"type\":\"Toolbar\"},{\"attributes\":{\"text\":\"btc and S&P500 12 month Rolling Correlation\",\"text_color\":{\"value\":\"black\"},\"text_font_size\":{\"value\":\"12pt\"}},\"id\":\"21607\",\"type\":\"Title\"},{\"attributes\":{\"end\":1609459200000.0,\"reset_end\":1609459200000.0,\"reset_start\":1441065600000.0,\"start\":1441065600000.0,\"tags\":[[[\"Date\",\"Date\",null]]]},\"id\":\"20881\",\"type\":\"Range1d\"},{\"attributes\":{\"label\":{\"value\":\"btc\"},\"renderers\":[{\"id\":\"20926\"}]},\"id\":\"20949\",\"type\":\"LegendItem\"},{\"attributes\":{\"below\":[{\"id\":\"21615\"}],\"center\":[{\"id\":\"21618\"},{\"id\":\"21622\"}],\"left\":[{\"id\":\"21619\"}],\"margin\":[5,5,5,5],\"min_border_bottom\":10,\"min_border_left\":10,\"min_border_right\":10,\"min_border_top\":10,\"plot_height\":300,\"plot_width\":700,\"renderers\":[{\"id\":\"21642\"}],\"sizing_mode\":\"fixed\",\"title\":{\"id\":\"21607\"},\"toolbar\":{\"id\":\"21629\"},\"x_range\":{\"id\":\"20881\"},\"x_scale\":{\"id\":\"21611\"},\"y_range\":{\"id\":\"21604\"},\"y_scale\":{\"id\":\"21613\"}},\"id\":\"21606\",\"subtype\":\"Figure\",\"type\":\"Plot\"},{\"attributes\":{\"css_classes\":[\"markdown\"],\"margin\":[5,5,5,5],\"name\":\"Markdown27613\",\"text\":\"&lt;h1&gt;S&amp;amp;P 500 and Cryptocurrencies Summary&lt;/h1&gt;\"},\"id\":\"20880\",\"type\":\"panel.models.markup.HTML\"},{\"attributes\":{\"source\":{\"id\":\"21340\"}},\"id\":\"21347\",\"type\":\"CDSView\"},{\"attributes\":{\"line_alpha\":0.1,\"line_color\":\"#1f77b3\",\"line_width\":2,\"x\":{\"field\":\"Date\"},\"y\":{\"field\":\"sp500\"}},\"id\":\"21640\",\"type\":\"Line\"},{\"attributes\":{\"active_drag\":\"auto\",\"active_inspect\":\"auto\",\"active_multi\":null,\"active_scroll\":\"auto\",\"active_tap\":\"auto\",\"tools\":[{\"id\":\"21304\"},{\"id\":\"21323\"},{\"id\":\"21324\"},{\"id\":\"21325\"},{\"id\":\"21326\"},{\"id\":\"21327\"}]},\"id\":\"21329\",\"type\":\"Toolbar\"},{\"attributes\":{\"end\":0.8330164076555868,\"reset_end\":0.8330164076555868,\"reset_start\":-0.5332808298779185,\"start\":-0.5332808298779185,\"tags\":[[[\"sp500\",\"sp500\",null]]]},\"id\":\"21604\",\"type\":\"Range1d\"},{\"attributes\":{\"child\":{\"id\":\"21296\"},\"name\":\"Column28013\",\"title\":\"Cryptocurrencies Analysis\"},\"id\":\"21688\",\"type\":\"Panel\"},{\"attributes\":{\"mantissas\":[1,2,5],\"max_interval\":500.0,\"num_minor_ticks\":0},\"id\":\"20934\",\"type\":\"AdaptiveTicker\"},{\"attributes\":{\"children\":[{\"id\":\"21600\"},{\"id\":\"21602\"}],\"margin\":[0,0,0,0],\"name\":\"Column27928\"},\"id\":\"21599\",\"type\":\"Column\"},{\"attributes\":{\"axis_label\":\"Date\",\"bounds\":\"auto\",\"formatter\":{\"id\":\"21336\"},\"major_label_orientation\":\"horizontal\",\"ticker\":{\"id\":\"21316\"}},\"id\":\"21315\",\"type\":\"DatetimeAxis\"},{\"attributes\":{\"label\":{\"value\":\"sp500\"},\"renderers\":[{\"id\":\"21346\"}]},\"id\":\"21369\",\"type\":\"LegendItem\"},{\"attributes\":{\"label\":{\"value\":\"btc\"},\"renderers\":[{\"id\":\"21376\"}]},\"id\":\"21400\",\"type\":\"LegendItem\"},{\"attributes\":{\"axis\":{\"id\":\"20895\"},\"grid_line_color\":null,\"ticker\":null},\"id\":\"20898\",\"type\":\"Grid\"},{\"attributes\":{\"bottom_units\":\"screen\",\"fill_alpha\":0.5,\"fill_color\":\"lightgrey\",\"left_units\":\"screen\",\"level\":\"overlay\",\"line_alpha\":1.0,\"line_color\":\"black\",\"line_dash\":[4,4],\"line_width\":2,\"right_units\":\"screen\",\"top_units\":\"screen\"},\"id\":\"21328\",\"type\":\"BoxAnnotation\"},{\"attributes\":{\"axis_label\":\"Monthly Close Price\",\"bounds\":\"auto\",\"formatter\":{\"id\":\"20918\"},\"major_label_orientation\":\"horizontal\",\"ticker\":{\"id\":\"20900\"}},\"id\":\"20899\",\"type\":\"LinearAxis\"},{\"attributes\":{\"callback\":null,\"formatters\":{\"@{Date}\":\"datetime\"},\"renderers\":[{\"id\":\"21642\"}],\"tags\":[\"hv_created\"],\"tooltips\":[[\"Date\",\"@{Date}{%F %T}\"],[\"sp500\",\"@{sp500}\"]]},\"id\":\"21605\",\"type\":\"HoverTool\"},{\"attributes\":{\"line_alpha\":0.1,\"line_color\":\"#1f77b3\",\"line_width\":2,\"x\":{\"field\":\"Date\"},\"y\":{\"field\":\"value\"}},\"id\":\"20924\",\"type\":\"Line\"},{\"attributes\":{\"axis_label\":\"Date\",\"bounds\":\"auto\",\"formatter\":{\"id\":\"21644\"},\"major_label_orientation\":\"horizontal\",\"ticker\":{\"id\":\"21616\"}},\"id\":\"21615\",\"type\":\"DatetimeAxis\"},{\"attributes\":{},\"id\":\"20900\",\"type\":\"BasicTicker\"},{\"attributes\":{\"line_alpha\":0.2,\"line_color\":\"#1f77b3\",\"line_width\":2,\"x\":{\"field\":\"Date\"},\"y\":{\"field\":\"value\"}},\"id\":\"20925\",\"type\":\"Line\"},{\"attributes\":{\"source\":{\"id\":\"20920\"}},\"id\":\"20927\",\"type\":\"CDSView\"},{\"attributes\":{\"line_alpha\":0.1,\"line_color\":\"#ff7e0e\",\"line_width\":2,\"x\":{\"field\":\"Date\"},\"y\":{\"field\":\"value\"}},\"id\":\"21374\",\"type\":\"Line\"},{\"attributes\":{\"source\":{\"id\":\"21636\"}},\"id\":\"21643\",\"type\":\"CDSView\"},{\"attributes\":{\"data_source\":{\"id\":\"20920\"},\"glyph\":{\"id\":\"20923\"},\"hover_glyph\":null,\"muted_glyph\":{\"id\":\"20925\"},\"nonselection_glyph\":{\"id\":\"20924\"},\"selection_glyph\":null,\"view\":{\"id\":\"20927\"}},\"id\":\"20926\",\"type\":\"GlyphRenderer\"},{\"attributes\":{},\"id\":\"21611\",\"type\":\"LinearScale\"},{\"attributes\":{\"data\":{\"Date\":{\"__ndarray__\":\"AABAQGP4dEIAAMAsCwJ1QgAAAH8FDHVCAACAa60VdUIAAMC9px91QgAAABCiKXVCAADAlvcydUIAAADp8Tx1QgAAgNWZRnVCAADAJ5RQdUIAAEAUPFp1QgAAgGY2ZHVCAADAuDBudUIAAECl2Hd1QgAAgPfSgXVCAAAA5HqLdUIAAEA2dZV1QgAAgIhvn3VCAACAqXKodUIAAMD7bLJ1QgAAQOgUvHVCAACAOg/GdUIAAAAnt891QgAAQHmx2XVCAACAy6vjdUIAAAC4U+11QgAAQApO93VCAADA9vUAdkIAAABJ8Ap2QgAAQJvqFHZCAABAvO0ddkIAAIAO6Cd2QgAAAPuPMXZCAABATYo7dkIAAMA5MkV2QgAAAIwsT3ZCAABA3iZZdkIAAMDKzmJ2QgAAAB3JbHZCAACACXF2dkIAAMBba4B2QgAAAK5linZCAAAAz2iTdkIAAEAhY512QgAAwA0Lp3ZCAAAAYAWxdkIAAIBMrbp2QgAAwJ6nxHZCAAAA8aHOdkIAAIDdSdh2QgAAwC9E4nZCAABAHOzrdkIAAIBu5vV2QgAAwMDg/3ZCAACARzYJd0IAAMCZMBN3QgAAQIbYHHdCAACA2NImd0IAAADFejB3QgAAQBd1OndCAACAaW9Ed0IAAABWF053QgAAQKgRWHdCAADAlLlhd0IAAADns2t3Qg==\",\"dtype\":\"float64\",\"order\":\"little\",\"shape\":[65]},\"Variable\":[\"sp500\",\"sp500\",\"sp500\",\"sp500\",\"sp500\",\"sp500\",\"sp500\",\"sp500\",\"sp500\",\"sp500\",\"sp500\",\"sp500\",\"sp500\",\"sp500\",\"sp500\",\"sp500\",\"sp500\",\"sp500\",\"sp500\",\"sp500\",\"sp500\",\"sp500\",\"sp500\",\"sp500\",\"sp500\",\"sp500\",\"sp500\",\"sp500\",\"sp500\",\"sp500\",\"sp500\",\"sp500\",\"sp500\",\"sp500\",\"sp500\",\"sp500\",\"sp500\",\"sp500\",\"sp500\",\"sp500\",\"sp500\",\"sp500\",\"sp500\",\"sp500\",\"sp500\",\"sp500\",\"sp500\",\"sp500\",\"sp500\",\"sp500\",\"sp500\",\"sp500\",\"sp500\",\"sp500\",\"sp500\",\"sp500\",\"sp500\",\"sp500\",\"sp500\",\"sp500\",\"sp500\",\"sp500\",\"sp500\",\"sp500\",\"sp500\"],\"value\":{\"__ndarray__\":\"AAAAwB4AnkAAAABguD6gQAAAAODRQKBAAAAAgMLvn0AAAADA9VCeQAAAAIDrMJ5AAAAA4HoXoEAAAACgmSKgQAAAAGDmYaBAAAAAYLhloEAAAABAM/ugQAAAAGDm9aBAAAAAQIrwoEAAAADATJygQAAAAMCeLaFAAAAAAKl9oUAAAACAvc2hQAAAAKBHd6JAAAAAoHB1okAAAABgZqCiQAAAAKCZ16JAAAAA4NHuokAAAACgmUyjQAAAAMBMT6NAAAAAYLiuo0AAAAAghR6kQAAAAAApr6RAAAAAYDjjpEAAAADAng+mQAAAAACpM6VAAAAAgL2hpEAAAACgGbCkQAAAAECKIqVAAAAAgL08pUAAAACAlACmQAAAAEAKq6ZAAAAAwPXDpkAAAADgei+lQAAAAABXkKVAAAAAQLOVo0AAAABAMyClQAAAAOD6wKVAAAAAwMwkpkAAAAAAqQOnQAAAAMAegKVAAAAAIIX7pkAAAACAwkinQAAAAIDr3KZAAAAA4HpBp0AAAADAHrunQAAAAMD1iahAAAAAYI89qUAAAABACjOpQAAAAKBwFKdAAAAAIC4xpEAAAAAg3MCmQAAAAMCeyKdAAAAAgJQ4qEAAAACAPY6pQAAAAMCeWKtAAAAAAABGqkAAAACA64upQAAAAIBCS6xAAAAA4CNYrUAAAADgegStQA==\",\"dtype\":\"float64\",\"order\":\"little\",\"shape\":[65]}},\"selected\":{\"id\":\"20982\"},\"selection_policy\":{\"id\":\"21011\"}},\"id\":\"20981\",\"type\":\"ColumnDataSource\"},{\"attributes\":{\"callback\":null,\"renderers\":[{\"id\":\"21268\"}],\"tags\":[\"hv_created\"],\"tooltips\":[[\"columns\",\"@{columns}\"],[\"index\",\"@{index}\"],[\"value\",\"@{value}\"]]},\"id\":\"21232\",\"type\":\"HoverTool\"},{\"attributes\":{\"line_color\":\"#1f77b3\",\"line_width\":2,\"x\":{\"field\":\"Date\"},\"y\":{\"field\":\"value\"}},\"id\":\"21343\",\"type\":\"Line\"},{\"attributes\":{\"num_minor_ticks\":5,\"tickers\":[{\"id\":\"21654\"},{\"id\":\"21655\"},{\"id\":\"21656\"},{\"id\":\"21657\"},{\"id\":\"21658\"},{\"id\":\"21659\"},{\"id\":\"21660\"},{\"id\":\"21661\"},{\"id\":\"21662\"},{\"id\":\"21663\"},{\"id\":\"21664\"},{\"id\":\"21665\"}]},\"id\":\"21616\",\"type\":\"DatetimeTicker\"},{\"attributes\":{\"axis\":{\"id\":\"21619\"},\"dimension\":1,\"grid_line_color\":null,\"ticker\":null},\"id\":\"21622\",\"type\":\"Grid\"},{\"attributes\":{\"axis\":{\"id\":\"21615\"},\"grid_line_color\":null,\"ticker\":null},\"id\":\"21618\",\"type\":\"Grid\"},{\"attributes\":{\"base\":60,\"mantissas\":[1,2,5,10,15,20,30],\"max_interval\":1800000.0,\"min_interval\":1000.0,\"num_minor_ticks\":0},\"id\":\"21355\",\"type\":\"AdaptiveTicker\"},{\"attributes\":{\"below\":[{\"id\":\"20895\"}],\"center\":[{\"id\":\"20898\"},{\"id\":\"20902\"}],\"left\":[{\"id\":\"20899\"}],\"margin\":[5,5,5,5],\"min_border_bottom\":10,\"min_border_left\":10,\"min_border_right\":10,\"min_border_top\":10,\"plot_height\":300,\"plot_width\":700,\"renderers\":[{\"id\":\"20926\"},{\"id\":\"20956\"},{\"id\":\"20987\"}],\"right\":[{\"id\":\"20948\"}],\"sizing_mode\":\"fixed\",\"title\":{\"id\":\"20887\"},\"toolbar\":{\"id\":\"20909\"},\"x_range\":{\"id\":\"20881\"},\"x_scale\":{\"id\":\"20891\"},\"y_range\":{\"id\":\"20882\"},\"y_scale\":{\"id\":\"20893\"}},\"id\":\"20886\",\"subtype\":\"Figure\",\"type\":\"Plot\"},{\"attributes\":{\"factors\":[\"btc\",\"eth\",\"sp500\"],\"tags\":[[[\"columns\",\"columns\",null]]]},\"id\":\"21230\",\"type\":\"FactorRange\"},{\"attributes\":{\"data\":{\"Date\":{\"__ndarray__\":\"AABAQGP4dEIAAMAsCwJ1QgAAAH8FDHVCAACAa60VdUIAAMC9px91QgAAABCiKXVCAADAlvcydUIAAADp8Tx1QgAAgNWZRnVCAADAJ5RQdUIAAEAUPFp1QgAAgGY2ZHVCAADAuDBudUIAAECl2Hd1QgAAgPfSgXVCAAAA5HqLdUIAAEA2dZV1QgAAgIhvn3VCAACAqXKodUIAAMD7bLJ1QgAAQOgUvHVCAACAOg/GdUIAAAAnt891QgAAQHmx2XVCAACAy6vjdUIAAAC4U+11QgAAQApO93VCAADA9vUAdkIAAABJ8Ap2QgAAQJvqFHZCAABAvO0ddkIAAIAO6Cd2QgAAAPuPMXZCAABATYo7dkIAAMA5MkV2QgAAAIwsT3ZCAABA3iZZdkIAAMDKzmJ2QgAAAB3JbHZCAACACXF2dkIAAMBba4B2QgAAAK5linZCAAAAz2iTdkIAAEAhY512QgAAwA0Lp3ZCAAAAYAWxdkIAAIBMrbp2QgAAwJ6nxHZCAAAA8aHOdkIAAIDdSdh2QgAAwC9E4nZCAABAHOzrdkIAAIBu5vV2QgAAwMDg/3ZCAACARzYJd0IAAMCZMBN3QgAAQIbYHHdCAACA2NImd0IAAADFejB3QgAAQBd1OndCAACAaW9Ed0IAAABWF053QgAAQKgRWHdCAADAlLlhd0IAAADns2t3Qg==\",\"dtype\":\"float64\",\"order\":\"little\",\"shape\":[65]},\"Variable\":[\"btc\",\"btc\",\"btc\",\"btc\",\"btc\",\"btc\",\"btc\",\"btc\",\"btc\",\"btc\",\"btc\",\"btc\",\"btc\",\"btc\",\"btc\",\"btc\",\"btc\",\"btc\",\"btc\",\"btc\",\"btc\",\"btc\",\"btc\",\"btc\",\"btc\",\"btc\",\"btc\",\"btc\",\"btc\",\"btc\",\"btc\",\"btc\",\"btc\",\"btc\",\"btc\",\"btc\",\"btc\",\"btc\",\"btc\",\"btc\",\"btc\",\"btc\",\"btc\",\"btc\",\"btc\",\"btc\",\"btc\",\"btc\",\"btc\",\"btc\",\"btc\",\"btc\",\"btc\",\"btc\",\"btc\",\"btc\",\"btc\",\"btc\",\"btc\",\"btc\",\"btc\",\"btc\",\"btc\",\"btc\",\"btc\"],\"value\":{\"__ndarray__\":\"AAAAgOuBbUAAAADgp6JzQAAAAOAilXdAAAAAYBLpekAAAACgRQx3QAAAAOAmW3tAAAAAAKoLekAAAACAFgV8QAAAAIAWm4BAAAAAILIKhUAAAADAcoWDQAAAAKDG+4FAAAAAQOENg0AAAACgxueFQAAAACCHTYdAAAAAoPEdjkAAAABgOVOOQAAAAEDhb5JAAAAAACm/kEAAAABgjw+VQAAAAODR3KFAAAAAIK5ho0AAAAAgrnamQAAAAOBjX7JAAAAAwLXysEAAAABgZkS5QAAAAMDM/MNAAAAAQDOmy0AAAADAjPbDQAAAAEDzTsRAAAAAoIc9u0AAAABgRgzCQAAAAIArRr1AAAAAAAAEuUAAAACgcGS+QAAAAICUfbtAAAAAYI/huUAAAAAgnK24QAAAAICJYq9AAAAAoGY9rUAAAADglQOrQAAAACCSHa5AAAAAgGcJsEAAAAAAuua0QAAAAEBAv8BAAAAA4JMgxUAAAABg0LLDQAAAAABVz8JAAAAAIO8ywEAAAADgyvfBQAAAAEChkb1AAAAAYJkZvEAAAADAQ0PCQAAAACDBy8BAAAAAAKUmuUAAAADgRunAQAAAAICHesJAAAAAIP/YwUAAAADAux3GQAAAAABp0MZAAAAAIM8RxUAAAABgf+rKQAAAAIB1KtNAAAAAIG5S3EAAAABgjMHgQA==\",\"dtype\":\"float64\",\"order\":\"little\",\"shape\":[65]}},\"selected\":{\"id\":\"21371\"},\"selection_policy\":{\"id\":\"21398\"}},\"id\":\"21370\",\"type\":\"ColumnDataSource\"},{\"attributes\":{\"line_color\":\"#ff7e0e\",\"line_width\":2,\"x\":{\"field\":\"Date\"},\"y\":{\"field\":\"value\"}},\"id\":\"21373\",\"type\":\"Line\"},{\"attributes\":{},\"id\":\"21620\",\"type\":\"BasicTicker\"},{\"attributes\":{\"text\":\"Price of btc and S&P500\",\"text_color\":{\"value\":\"black\"},\"text_font_size\":{\"value\":\"12pt\"}},\"id\":\"21307\",\"type\":\"Title\"},{\"attributes\":{\"axis_label\":\"Correlation\",\"bounds\":\"auto\",\"formatter\":{\"id\":\"21646\"},\"major_label_orientation\":\"horizontal\",\"ticker\":{\"id\":\"21620\"}},\"id\":\"21619\",\"type\":\"LinearAxis\"},{\"attributes\":{\"end\":37747.95152622461,\"reset_end\":37747.95152622461,\"reset_start\":-3430.826163470745,\"start\":-3430.826163470745,\"tags\":[[[\"value\",\"value\",null]]]},\"id\":\"20882\",\"type\":\"Range1d\"},{\"attributes\":{\"data_source\":{\"id\":\"21636\"},\"glyph\":{\"id\":\"21639\"},\"hover_glyph\":null,\"muted_glyph\":{\"id\":\"21641\"},\"nonselection_glyph\":{\"id\":\"21640\"},\"selection_glyph\":null,\"view\":{\"id\":\"21643\"}},\"id\":\"21642\",\"type\":\"GlyphRenderer\"},{\"attributes\":{\"line_color\":\"#1f77b3\",\"line_width\":2,\"x\":{\"field\":\"Date\"},\"y\":{\"field\":\"sp500\"}},\"id\":\"21639\",\"type\":\"Line\"},{\"attributes\":{},\"id\":\"21311\",\"type\":\"LinearScale\"},{\"attributes\":{\"num_minor_ticks\":5,\"tickers\":[{\"id\":\"21354\"},{\"id\":\"21355\"},{\"id\":\"21356\"},{\"id\":\"21357\"},{\"id\":\"21358\"},{\"id\":\"21359\"},{\"id\":\"21360\"},{\"id\":\"21361\"},{\"id\":\"21362\"},{\"id\":\"21363\"},{\"id\":\"21364\"},{\"id\":\"21365\"}]},\"id\":\"21316\",\"type\":\"DatetimeTicker\"},{\"attributes\":{\"axis\":{\"id\":\"21319\"},\"dimension\":1,\"grid_line_color\":null,\"ticker\":null},\"id\":\"21322\",\"type\":\"Grid\"},{\"attributes\":{\"margin\":[0,0,0,0],\"tabs\":[{\"id\":\"21295\"},{\"id\":\"21688\"}]},\"id\":\"20878\",\"type\":\"Tabs\"},{\"attributes\":{\"axis\":{\"id\":\"21315\"},\"grid_line_color\":null,\"ticker\":null},\"id\":\"21318\",\"type\":\"Grid\"},{\"attributes\":{\"days\":[1,2,3,4,5,6,7,8,9,10,11,12,13,14,15,16,17,18,19,20,21,22,23,24,25,26,27,28,29,30,31]},\"id\":\"21357\",\"type\":\"DaysTicker\"},{\"attributes\":{},\"id\":\"21240\",\"type\":\"CategoricalScale\"},{\"attributes\":{},\"id\":\"21320\",\"type\":\"BasicTicker\"},{\"attributes\":{\"base\":24,\"mantissas\":[1,2,4,6,8,12],\"max_interval\":43200000.0,\"min_interval\":3600000.0,\"num_minor_ticks\":0},\"id\":\"21356\",\"type\":\"AdaptiveTicker\"},{\"attributes\":{\"mantissas\":[1,2,5],\"max_interval\":500.0,\"num_minor_ticks\":0},\"id\":\"21654\",\"type\":\"AdaptiveTicker\"},{\"attributes\":{},\"id\":\"20978\",\"type\":\"UnionRenderers\"},{\"attributes\":{\"axis_label\":\"Monthly Close Price\",\"bounds\":\"auto\",\"formatter\":{\"id\":\"21338\"},\"major_label_orientation\":\"horizontal\",\"ticker\":{\"id\":\"21320\"}},\"id\":\"21319\",\"type\":\"LinearAxis\"},{\"attributes\":{},\"id\":\"21623\",\"type\":\"SaveTool\"},{\"attributes\":{\"mantissas\":[1,2,5],\"max_interval\":500.0,\"num_minor_ticks\":0},\"id\":\"21354\",\"type\":\"AdaptiveTicker\"},{\"attributes\":{},\"id\":\"21624\",\"type\":\"PanTool\"},{\"attributes\":{\"line_color\":\"#1f77b3\",\"line_width\":2,\"x\":{\"field\":\"Date\"},\"y\":{\"field\":\"value\"}},\"id\":\"20923\",\"type\":\"Line\"},{\"attributes\":{},\"id\":\"21627\",\"type\":\"ResetTool\"},{\"attributes\":{},\"id\":\"21625\",\"type\":\"WheelZoomTool\"},{\"attributes\":{\"days\":[1,4,7,10,13,16,19,22,25,28]},\"id\":\"21358\",\"type\":\"DaysTicker\"},{\"attributes\":{},\"id\":\"21371\",\"type\":\"Selection\"},{\"attributes\":{},\"id\":\"21273\",\"type\":\"CategoricalTickFormatter\"},{\"attributes\":{\"data\":{\"Date\":{\"__ndarray__\":\"AABAQGP4dEIAAMAsCwJ1QgAAAH8FDHVCAACAa60VdUIAAMC9px91QgAAABCiKXVCAADAlvcydUIAAADp8Tx1QgAAgNWZRnVCAADAJ5RQdUIAAEAUPFp1QgAAgGY2ZHVCAADAuDBudUIAAECl2Hd1QgAAgPfSgXVCAAAA5HqLdUIAAEA2dZV1QgAAgIhvn3VCAACAqXKodUIAAMD7bLJ1QgAAQOgUvHVCAACAOg/GdUIAAAAnt891QgAAQHmx2XVCAACAy6vjdUIAAAC4U+11QgAAQApO93VCAADA9vUAdkIAAABJ8Ap2QgAAQJvqFHZCAABAvO0ddkIAAIAO6Cd2QgAAAPuPMXZCAABATYo7dkIAAMA5MkV2QgAAAIwsT3ZCAABA3iZZdkIAAMDKzmJ2QgAAAB3JbHZCAACACXF2dkIAAMBba4B2QgAAAK5linZCAAAAz2iTdkIAAEAhY512QgAAwA0Lp3ZCAAAAYAWxdkIAAIBMrbp2QgAAwJ6nxHZCAAAA8aHOdkIAAIDdSdh2QgAAwC9E4nZCAABAHOzrdkIAAIBu5vV2QgAAwMDg/3ZCAACARzYJd0IAAMCZMBN3QgAAQIbYHHdCAACA2NImd0IAAADFejB3QgAAQBd1OndCAACAaW9Ed0IAAABWF053QgAAQKgRWHdCAADAlLlhd0IAAADns2t3Qg==\",\"dtype\":\"float64\",\"order\":\"little\",\"shape\":[65]},\"Variable\":[\"sp500\",\"sp500\",\"sp500\",\"sp500\",\"sp500\",\"sp500\",\"sp500\",\"sp500\",\"sp500\",\"sp500\",\"sp500\",\"sp500\",\"sp500\",\"sp500\",\"sp500\",\"sp500\",\"sp500\",\"sp500\",\"sp500\",\"sp500\",\"sp500\",\"sp500\",\"sp500\",\"sp500\",\"sp500\",\"sp500\",\"sp500\",\"sp500\",\"sp500\",\"sp500\",\"sp500\",\"sp500\",\"sp500\",\"sp500\",\"sp500\",\"sp500\",\"sp500\",\"sp500\",\"sp500\",\"sp500\",\"sp500\",\"sp500\",\"sp500\",\"sp500\",\"sp500\",\"sp500\",\"sp500\",\"sp500\",\"sp500\",\"sp500\",\"sp500\",\"sp500\",\"sp500\",\"sp500\",\"sp500\",\"sp500\",\"sp500\",\"sp500\",\"sp500\",\"sp500\",\"sp500\",\"sp500\",\"sp500\",\"sp500\",\"sp500\"],\"value\":{\"__ndarray__\":\"AAAAwB4AnkAAAABguD6gQAAAAODRQKBAAAAAgMLvn0AAAADA9VCeQAAAAIDrMJ5AAAAA4HoXoEAAAACgmSKgQAAAAGDmYaBAAAAAYLhloEAAAABAM/ugQAAAAGDm9aBAAAAAQIrwoEAAAADATJygQAAAAMCeLaFAAAAAAKl9oUAAAACAvc2hQAAAAKBHd6JAAAAAoHB1okAAAABgZqCiQAAAAKCZ16JAAAAA4NHuokAAAACgmUyjQAAAAMBMT6NAAAAAYLiuo0AAAAAghR6kQAAAAAApr6RAAAAAYDjjpEAAAADAng+mQAAAAACpM6VAAAAAgL2hpEAAAACgGbCkQAAAAECKIqVAAAAAgL08pUAAAACAlACmQAAAAEAKq6ZAAAAAwPXDpkAAAADgei+lQAAAAABXkKVAAAAAQLOVo0AAAABAMyClQAAAAOD6wKVAAAAAwMwkpkAAAAAAqQOnQAAAAMAegKVAAAAAIIX7pkAAAACAwkinQAAAAIDr3KZAAAAA4HpBp0AAAADAHrunQAAAAMD1iahAAAAAYI89qUAAAABACjOpQAAAAKBwFKdAAAAAIC4xpEAAAAAg3MCmQAAAAMCeyKdAAAAAgJQ4qEAAAACAPY6pQAAAAMCeWKtAAAAAAABGqkAAAACA64upQAAAAIBCS6xAAAAA4CNYrUAAAADgegStQA==\",\"dtype\":\"float64\",\"order\":\"little\",\"shape\":[65]}},\"selected\":{\"id\":\"21341\"},\"selection_policy\":{\"id\":\"21366\"}},\"id\":\"21340\",\"type\":\"ColumnDataSource\"},{\"attributes\":{\"source\":{\"id\":\"21370\"}},\"id\":\"21377\",\"type\":\"CDSView\"},{\"attributes\":{\"overlay\":{\"id\":\"21628\"}},\"id\":\"21626\",\"type\":\"BoxZoomTool\"},{\"attributes\":{\"months\":[0,1,2,3,4,5,6,7,8,9,10,11]},\"id\":\"21361\",\"type\":\"MonthsTicker\"},{\"attributes\":{\"line_alpha\":0.1,\"line_color\":\"#2ba02b\",\"line_width\":2,\"x\":{\"field\":\"Date\"},\"y\":{\"field\":\"value\"}},\"id\":\"20985\",\"type\":\"Line\"},{\"attributes\":{\"data_source\":{\"id\":\"21370\"},\"glyph\":{\"id\":\"21373\"},\"hover_glyph\":null,\"muted_glyph\":{\"id\":\"21375\"},\"nonselection_glyph\":{\"id\":\"21374\"},\"selection_glyph\":null,\"view\":{\"id\":\"21377\"}},\"id\":\"21376\",\"type\":\"GlyphRenderer\"},{\"attributes\":{},\"id\":\"21338\",\"type\":\"BasicTickFormatter\"},{\"attributes\":{\"line_alpha\":0.2,\"line_color\":\"#1f77b3\",\"line_width\":2,\"x\":{\"field\":\"Date\"},\"y\":{\"field\":\"sp500\"}},\"id\":\"21641\",\"type\":\"Line\"},{\"attributes\":{\"days\":[1,8,15,22]},\"id\":\"21359\",\"type\":\"DaysTicker\"},{\"attributes\":{\"days\":[1,15]},\"id\":\"21360\",\"type\":\"DaysTicker\"},{\"attributes\":{\"line_alpha\":0.2,\"line_color\":\"#2ba02b\",\"line_width\":2,\"x\":{\"field\":\"Date\"},\"y\":{\"field\":\"value\"}},\"id\":\"20986\",\"type\":\"Line\"},{\"attributes\":{},\"id\":\"21323\",\"type\":\"SaveTool\"},{\"attributes\":{},\"id\":\"21324\",\"type\":\"PanTool\"},{\"attributes\":{\"line_alpha\":0.1,\"line_color\":\"#1f77b3\",\"line_width\":2,\"x\":{\"field\":\"Date\"},\"y\":{\"field\":\"value\"}},\"id\":\"21344\",\"type\":\"Line\"},{\"attributes\":{\"line_alpha\":0.2,\"line_color\":\"#ff7e0e\",\"line_width\":2,\"x\":{\"field\":\"Date\"},\"y\":{\"field\":\"value\"}},\"id\":\"21375\",\"type\":\"Line\"},{\"attributes\":{},\"id\":\"21646\",\"type\":\"BasicTickFormatter\"},{\"attributes\":{\"months\":[0,2,4,6,8,10]},\"id\":\"21362\",\"type\":\"MonthsTicker\"},{\"attributes\":{},\"id\":\"21325\",\"type\":\"WheelZoomTool\"},{\"attributes\":{\"callback\":null,\"formatters\":{\"@{Date}\":\"datetime\"},\"renderers\":[{\"id\":\"20926\"},{\"id\":\"20956\"},{\"id\":\"20987\"}],\"tags\":[\"hv_created\"],\"tooltips\":[[\"Variable\",\"@{Variable}\"],[\"Date\",\"@{Date}{%F %T}\"],[\"value\",\"@{value}\"]]},\"id\":\"20883\",\"type\":\"HoverTool\"},{\"attributes\":{\"source\":{\"id\":\"20981\"}},\"id\":\"20988\",\"type\":\"CDSView\"},{\"attributes\":{},\"id\":\"21336\",\"type\":\"DatetimeTickFormatter\"},{\"attributes\":{\"below\":[{\"id\":\"21242\"}],\"center\":[{\"id\":\"21244\"},{\"id\":\"21247\"}],\"left\":[{\"id\":\"21245\"}],\"margin\":[5,5,5,5],\"min_border_bottom\":10,\"min_border_left\":10,\"min_border_right\":10,\"min_border_top\":10,\"plot_height\":300,\"plot_width\":700,\"renderers\":[{\"id\":\"21268\"}],\"right\":[{\"id\":\"21271\"}],\"sizing_mode\":\"fixed\",\"title\":{\"id\":\"21234\"},\"toolbar\":{\"id\":\"21254\"},\"x_range\":{\"id\":\"21230\"},\"x_scale\":{\"id\":\"21238\"},\"y_range\":{\"id\":\"21231\"},\"y_scale\":{\"id\":\"21240\"}},\"id\":\"21233\",\"subtype\":\"Figure\",\"type\":\"Plot\"},{\"attributes\":{\"data_source\":{\"id\":\"21340\"},\"glyph\":{\"id\":\"21343\"},\"hover_glyph\":null,\"muted_glyph\":{\"id\":\"21345\"},\"nonselection_glyph\":{\"id\":\"21344\"},\"selection_glyph\":null,\"view\":{\"id\":\"21347\"}},\"id\":\"21346\",\"type\":\"GlyphRenderer\"},{\"attributes\":{\"overlay\":{\"id\":\"21328\"}},\"id\":\"21326\",\"type\":\"BoxZoomTool\"},{\"attributes\":{\"months\":[0,4,8]},\"id\":\"21363\",\"type\":\"MonthsTicker\"},{\"attributes\":{\"data_source\":{\"id\":\"20981\"},\"glyph\":{\"id\":\"20984\"},\"hover_glyph\":null,\"muted_glyph\":{\"id\":\"20986\"},\"nonselection_glyph\":{\"id\":\"20985\"},\"selection_glyph\":null,\"view\":{\"id\":\"20988\"}},\"id\":\"20987\",\"type\":\"GlyphRenderer\"},{\"attributes\":{\"axis_label\":\"Date\",\"bounds\":\"auto\",\"formatter\":{\"id\":\"20916\"},\"major_label_orientation\":\"horizontal\",\"ticker\":{\"id\":\"20896\"}},\"id\":\"20895\",\"type\":\"DatetimeAxis\"},{\"attributes\":{},\"id\":\"21327\",\"type\":\"ResetTool\"},{\"attributes\":{\"axis\":{\"id\":\"20899\"},\"dimension\":1,\"grid_line_color\":null,\"ticker\":null},\"id\":\"20902\",\"type\":\"Grid\"},{\"attributes\":{\"line_alpha\":0.2,\"line_color\":\"#1f77b3\",\"line_width\":2,\"x\":{\"field\":\"Date\"},\"y\":{\"field\":\"value\"}},\"id\":\"21345\",\"type\":\"Line\"},{\"attributes\":{\"axis\":{\"id\":\"21242\"},\"grid_line_color\":null,\"ticker\":null},\"id\":\"21244\",\"type\":\"Grid\"},{\"attributes\":{\"line_color\":\"#2ba02b\",\"line_width\":2,\"x\":{\"field\":\"Date\"},\"y\":{\"field\":\"value\"}},\"id\":\"20984\",\"type\":\"Line\"},{\"attributes\":{\"margin\":[5,10,5,10],\"options\":[\"btc\",\"eth\"],\"title\":\"crypto\",\"value\":\"btc\"},\"id\":\"21300\",\"type\":\"Select\"},{\"attributes\":{},\"id\":\"21275\",\"type\":\"CategoricalTickFormatter\"},{\"attributes\":{},\"id\":\"21270\",\"type\":\"BasicTicker\"},{\"attributes\":{\"text\":\"Crytocurrencies and Indices Correlation\",\"text_color\":{\"value\":\"black\"},\"text_font_size\":{\"value\":\"12pt\"}},\"id\":\"21234\",\"type\":\"Title\"},{\"attributes\":{\"data_source\":{\"id\":\"21262\"},\"glyph\":{\"id\":\"21265\"},\"hover_glyph\":null,\"muted_glyph\":null,\"nonselection_glyph\":{\"id\":\"21266\"},\"selection_glyph\":{\"id\":\"21267\"},\"view\":{\"id\":\"21269\"}},\"id\":\"21268\",\"type\":\"GlyphRenderer\"},{\"attributes\":{},\"id\":\"21278\",\"type\":\"BasicTickFormatter\"},{\"attributes\":{\"base\":60,\"mantissas\":[1,2,5,10,15,20,30],\"max_interval\":1800000.0,\"min_interval\":1000.0,\"num_minor_ticks\":0},\"id\":\"21655\",\"type\":\"AdaptiveTicker\"},{\"attributes\":{\"days\":[1,2,3,4,5,6,7,8,9,10,11,12,13,14,15,16,17,18,19,20,21,22,23,24,25,26,27,28,29,30,31]},\"id\":\"21657\",\"type\":\"DaysTicker\"},{\"attributes\":{\"data\":{\"Date\":{\"__ndarray__\":\"AABAQGP4dEIAAMAsCwJ1QgAAAH8FDHVCAACAa60VdUIAAMC9px91QgAAABCiKXVCAADAlvcydUIAAADp8Tx1QgAAgNWZRnVCAADAJ5RQdUIAAEAUPFp1QgAAgGY2ZHVCAADAuDBudUIAAECl2Hd1QgAAgPfSgXVCAAAA5HqLdUIAAEA2dZV1QgAAgIhvn3VCAACAqXKodUIAAMD7bLJ1QgAAQOgUvHVCAACAOg/GdUIAAAAnt891QgAAQHmx2XVCAACAy6vjdUIAAAC4U+11QgAAQApO93VCAADA9vUAdkIAAABJ8Ap2QgAAQJvqFHZCAABAvO0ddkIAAIAO6Cd2QgAAAPuPMXZCAABATYo7dkIAAMA5MkV2QgAAAIwsT3ZCAABA3iZZdkIAAMDKzmJ2QgAAAB3JbHZCAACACXF2dkIAAMBba4B2QgAAAK5linZCAAAAz2iTdkIAAEAhY512QgAAwA0Lp3ZCAAAAYAWxdkIAAIBMrbp2QgAAwJ6nxHZCAAAA8aHOdkIAAIDdSdh2QgAAwC9E4nZCAABAHOzrdkIAAIBu5vV2QgAAwMDg/3ZCAACARzYJd0IAAMCZMBN3QgAAQIbYHHdCAACA2NImd0IAAADFejB3QgAAQBd1OndCAACAaW9Ed0IAAABWF053QgAAQKgRWHdCAADAlLlhd0IAAADns2t3Qg==\",\"dtype\":\"float64\",\"order\":\"little\",\"shape\":[65]},\"Variable\":[\"btc\",\"btc\",\"btc\",\"btc\",\"btc\",\"btc\",\"btc\",\"btc\",\"btc\",\"btc\",\"btc\",\"btc\",\"btc\",\"btc\",\"btc\",\"btc\",\"btc\",\"btc\",\"btc\",\"btc\",\"btc\",\"btc\",\"btc\",\"btc\",\"btc\",\"btc\",\"btc\",\"btc\",\"btc\",\"btc\",\"btc\",\"btc\",\"btc\",\"btc\",\"btc\",\"btc\",\"btc\",\"btc\",\"btc\",\"btc\",\"btc\",\"btc\",\"btc\",\"btc\",\"btc\",\"btc\",\"btc\",\"btc\",\"btc\",\"btc\",\"btc\",\"btc\",\"btc\",\"btc\",\"btc\",\"btc\",\"btc\",\"btc\",\"btc\",\"btc\",\"btc\",\"btc\",\"btc\",\"btc\",\"btc\"],\"value\":{\"__ndarray__\":\"AAAAgOuBbUAAAADgp6JzQAAAAOAilXdAAAAAYBLpekAAAACgRQx3QAAAAOAmW3tAAAAAAKoLekAAAACAFgV8QAAAAIAWm4BAAAAAILIKhUAAAADAcoWDQAAAAKDG+4FAAAAAQOENg0AAAACgxueFQAAAACCHTYdAAAAAoPEdjkAAAABgOVOOQAAAAEDhb5JAAAAAACm/kEAAAABgjw+VQAAAAODR3KFAAAAAIK5ho0AAAAAgrnamQAAAAOBjX7JAAAAAwLXysEAAAABgZkS5QAAAAMDM/MNAAAAAQDOmy0AAAADAjPbDQAAAAEDzTsRAAAAAoIc9u0AAAABgRgzCQAAAAIArRr1AAAAAAAAEuUAAAACgcGS+QAAAAICUfbtAAAAAYI/huUAAAAAgnK24QAAAAICJYq9AAAAAoGY9rUAAAADglQOrQAAAACCSHa5AAAAAgGcJsEAAAAAAuua0QAAAAEBAv8BAAAAA4JMgxUAAAABg0LLDQAAAAABVz8JAAAAAIO8ywEAAAADgyvfBQAAAAEChkb1AAAAAYJkZvEAAAADAQ0PCQAAAACDBy8BAAAAAAKUmuUAAAADgRunAQAAAAICHesJAAAAAIP/YwUAAAADAux3GQAAAAABp0MZAAAAAIM8RxUAAAABgf+rKQAAAAIB1KtNAAAAAIG5S3EAAAABgjMHgQA==\",\"dtype\":\"float64\",\"order\":\"little\",\"shape\":[65]}},\"selected\":{\"id\":\"20921\"},\"selection_policy\":{\"id\":\"20946\"}},\"id\":\"20920\",\"type\":\"ColumnDataSource\"},{\"attributes\":{\"base\":24,\"mantissas\":[1,2,4,6,8,12],\"max_interval\":43200000.0,\"min_interval\":3600000.0,\"num_minor_ticks\":0},\"id\":\"21656\",\"type\":\"AdaptiveTicker\"},{\"attributes\":{},\"id\":\"21238\",\"type\":\"CategoricalScale\"},{\"attributes\":{\"days\":[1,2,3,4,5,6,7,8,9,10,11,12,13,14,15,16,17,18,19,20,21,22,23,24,25,26,27,28,29,30,31]},\"id\":\"20937\",\"type\":\"DaysTicker\"},{\"attributes\":{\"factors\":[\"btc\",\"eth\",\"sp500\"],\"tags\":[[[\"index\",\"index\",null]]]},\"id\":\"21231\",\"type\":\"FactorRange\"},{\"attributes\":{\"days\":[1,4,7,10,13,16,19,22,25,28]},\"id\":\"21658\",\"type\":\"DaysTicker\"},{\"attributes\":{\"bar_line_color\":\"black\",\"color_mapper\":{\"id\":\"21261\"},\"formatter\":{\"id\":\"21278\"},\"label_standoff\":8,\"location\":[0,0],\"major_tick_line_color\":\"black\",\"ticker\":{\"id\":\"21270\"}},\"id\":\"21271\",\"type\":\"ColorBar\"},{\"attributes\":{},\"id\":\"20907\",\"type\":\"ResetTool\"},{\"attributes\":{},\"id\":\"21243\",\"type\":\"CategoricalTicker\"},{\"attributes\":{\"axis_label\":\"\",\"bounds\":\"auto\",\"formatter\":{\"id\":\"21273\"},\"major_label_orientation\":\"horizontal\",\"ticker\":{\"id\":\"21243\"}},\"id\":\"21242\",\"type\":\"CategoricalAxis\"},{\"attributes\":{\"base\":24,\"mantissas\":[1,2,4,6,8,12],\"max_interval\":43200000.0,\"min_interval\":3600000.0,\"num_minor_ticks\":0},\"id\":\"20936\",\"type\":\"AdaptiveTicker\"},{\"attributes\":{\"base\":60,\"mantissas\":[1,2,5,10,15,20,30],\"max_interval\":1800000.0,\"min_interval\":1000.0,\"num_minor_ticks\":0},\"id\":\"20935\",\"type\":\"AdaptiveTicker\"},{\"attributes\":{\"months\":[0,1,2,3,4,5,6,7,8,9,10,11]},\"id\":\"21661\",\"type\":\"MonthsTicker\"},{\"attributes\":{\"axis_label\":\"\",\"bounds\":\"auto\",\"formatter\":{\"id\":\"21275\"},\"major_label_orientation\":\"horizontal\",\"ticker\":{\"id\":\"21246\"}},\"id\":\"21245\",\"type\":\"CategoricalAxis\"},{\"attributes\":{},\"id\":\"21246\",\"type\":\"CategoricalTicker\"},{\"attributes\":{\"days\":[1,4,7,10,13,16,19,22,25,28]},\"id\":\"20938\",\"type\":\"DaysTicker\"},{\"attributes\":{\"days\":[1,8,15,22]},\"id\":\"21659\",\"type\":\"DaysTicker\"},{\"attributes\":{},\"id\":\"21284\",\"type\":\"UnionRenderers\"},{\"attributes\":{\"days\":[1,15]},\"id\":\"21660\",\"type\":\"DaysTicker\"},{\"attributes\":{},\"id\":\"20891\",\"type\":\"LinearScale\"},{\"attributes\":{\"source\":{\"id\":\"21262\"}},\"id\":\"21269\",\"type\":\"CDSView\"},{\"attributes\":{\"months\":[0,1,2,3,4,5,6,7,8,9,10,11]},\"id\":\"20941\",\"type\":\"MonthsTicker\"},{\"attributes\":{},\"id\":\"20982\",\"type\":\"Selection\"},{\"attributes\":{\"axis\":{\"id\":\"21245\"},\"dimension\":1,\"grid_line_color\":null,\"ticker\":null},\"id\":\"21247\",\"type\":\"Grid\"},{\"attributes\":{},\"id\":\"20916\",\"type\":\"DatetimeTickFormatter\"},{\"attributes\":{},\"id\":\"21398\",\"type\":\"UnionRenderers\"},{\"attributes\":{\"days\":[1,8,15,22]},\"id\":\"20939\",\"type\":\"DaysTicker\"},{\"attributes\":{\"months\":[0,2,4,6,8,10]},\"id\":\"21662\",\"type\":\"MonthsTicker\"},{\"attributes\":{\"days\":[1,15]},\"id\":\"20940\",\"type\":\"DaysTicker\"},{\"attributes\":{\"click_policy\":\"mute\",\"items\":[{\"id\":\"20949\"},{\"id\":\"20980\"},{\"id\":\"21013\"}],\"location\":[0,0],\"title\":\"Variable\"},\"id\":\"20948\",\"type\":\"Legend\"},{\"attributes\":{},\"id\":\"21249\",\"type\":\"PanTool\"},{\"attributes\":{},\"id\":\"21341\",\"type\":\"Selection\"},{\"attributes\":{\"months\":[0,4,8]},\"id\":\"21663\",\"type\":\"MonthsTicker\"},{\"attributes\":{},\"id\":\"21263\",\"type\":\"Selection\"},{\"attributes\":{\"fill_color\":{\"field\":\"zvalues\",\"transform\":{\"id\":\"21261\"}},\"height\":{\"units\":\"data\",\"value\":1},\"line_alpha\":{\"value\":0},\"line_color\":{\"value\":\"#1f77b4\"},\"width\":{\"units\":\"data\",\"value\":1},\"x\":{\"field\":\"columns\"},\"y\":{\"field\":\"index\"}},\"id\":\"21265\",\"type\":\"Rect\"},{\"attributes\":{\"months\":[0,2,4,6,8,10]},\"id\":\"20942\",\"type\":\"MonthsTicker\"},{\"attributes\":{\"text\":\"\",\"text_color\":{\"value\":\"black\"},\"text_font_size\":{\"value\":\"12pt\"}},\"id\":\"20887\",\"type\":\"Title\"},{\"attributes\":{\"fill_alpha\":{\"value\":0.1},\"fill_color\":{\"field\":\"zvalues\",\"transform\":{\"id\":\"21261\"}},\"height\":{\"units\":\"data\",\"value\":1},\"line_alpha\":{\"value\":0},\"line_color\":{\"value\":\"#1f77b4\"},\"width\":{\"units\":\"data\",\"value\":1},\"x\":{\"field\":\"columns\"},\"y\":{\"field\":\"index\"}},\"id\":\"21266\",\"type\":\"Rect\"},{\"attributes\":{},\"id\":\"21613\",\"type\":\"LinearScale\"},{\"attributes\":{\"months\":[0,6]},\"id\":\"21664\",\"type\":\"MonthsTicker\"},{\"attributes\":{\"data\":{\"Date\":{\"__ndarray__\":\"AABAQGP4dEIAAMAsCwJ1QgAAAH8FDHVCAACAa60VdUIAAMC9px91QgAAABCiKXVCAADAlvcydUIAAADp8Tx1QgAAgNWZRnVCAADAJ5RQdUIAAEAUPFp1QgAAgGY2ZHVCAADAuDBudUIAAECl2Hd1QgAAgPfSgXVCAAAA5HqLdUIAAEA2dZV1QgAAgIhvn3VCAACAqXKodUIAAMD7bLJ1QgAAQOgUvHVCAACAOg/GdUIAAAAnt891QgAAQHmx2XVCAACAy6vjdUIAAAC4U+11QgAAQApO93VCAADA9vUAdkIAAABJ8Ap2QgAAQJvqFHZCAABAvO0ddkIAAIAO6Cd2QgAAAPuPMXZCAABATYo7dkIAAMA5MkV2QgAAAIwsT3ZCAABA3iZZdkIAAMDKzmJ2QgAAAB3JbHZCAACACXF2dkIAAMBba4B2QgAAAK5linZCAAAAz2iTdkIAAEAhY512QgAAwA0Lp3ZCAAAAYAWxdkIAAIBMrbp2QgAAwJ6nxHZCAAAA8aHOdkIAAIDdSdh2QgAAwC9E4nZCAABAHOzrdkIAAIBu5vV2QgAAwMDg/3ZCAACARzYJd0IAAMCZMBN3QgAAQIbYHHdCAACA2NImd0IAAADFejB3QgAAQBd1OndCAACAaW9Ed0IAAABWF053QgAAQKgRWHdCAADAlLlhd0IAAADns2t3Qg==\",\"dtype\":\"float64\",\"order\":\"little\",\"shape\":[65]},\"Variable\":[\"eth\",\"eth\",\"eth\",\"eth\",\"eth\",\"eth\",\"eth\",\"eth\",\"eth\",\"eth\",\"eth\",\"eth\",\"eth\",\"eth\",\"eth\",\"eth\",\"eth\",\"eth\",\"eth\",\"eth\",\"eth\",\"eth\",\"eth\",\"eth\",\"eth\",\"eth\",\"eth\",\"eth\",\"eth\",\"eth\",\"eth\",\"eth\",\"eth\",\"eth\",\"eth\",\"eth\",\"eth\",\"eth\",\"eth\",\"eth\",\"eth\",\"eth\",\"eth\",\"eth\",\"eth\",\"eth\",\"eth\",\"eth\",\"eth\",\"eth\",\"eth\",\"eth\",\"eth\",\"eth\",\"eth\",\"eth\",\"eth\",\"eth\",\"eth\",\"eth\",\"eth\",\"eth\",\"eth\",\"eth\",\"eth\"],\"value\":{\"__ndarray__\":\"AAAAwPii5z8AAAAgAlXtPwAAAECX8Os/AAAAgJPf7T8AAAAgxXICQAAAAOATWRlAAAAAgJfOJkAAAAAAwqAhQAAAAOCTJyxAAAAAwEnsKEAAAAAAdsAnQAAAAOBEWCdAAAAAABlzKkAAAAAgFP8lQAAAAADSLCFAAAAAwFvgH0AAAADgenQlQAAAAABooi9AAAAAQMYESUAAAABgW8FTQAAAAIBo1WxAAAAA4KduckAAAABA33tpQAAAAACs8HdAAAAAoHDXckAAAABgEB5zQAAAAADT8XtAAAAAIN2lh0AAAACAPXmRQAAAAICXuYpAAAAA4E/HeEAAAABgZO+EQAAAAAApDYJAAAAAQOFyfEAAAABA3x17QAAAAGAQsHFAAAAA4CIbbUAAAAAgMaxoQAAAAID4SlxAAAAAwMirYEAAAACg58NaQAAAAEDhF2FAAAAAgHOwYUAAAAAgUEVkQAAAACDRwXBAAAAAwCIrckAAAADA7lRrQAAAAIAIj2VAAAAAIOl7ZkAAAAAA8f5mQAAAACBFEWNAAAAAIIwzYEAAAAAgIIVmQAAAAAAne2tAAAAAgP6yYEAAAAAARPNpQAAAAAA532xAAAAAgBRKbEAAAADg35h1QAAAAKBGMXtAAAAAoFuAdkAAAAAAcil4QAAAAIC9NoNAAAAAYG0Oh0AAAABgF5qVQA==\",\"dtype\":\"float64\",\"order\":\"little\",\"shape\":[65]}},\"selected\":{\"id\":\"20951\"},\"selection_policy\":{\"id\":\"20978\"}},\"id\":\"20950\",\"type\":\"ColumnDataSource\"},{\"attributes\":{\"below\":[{\"id\":\"21315\"}],\"center\":[{\"id\":\"21318\"},{\"id\":\"21322\"}],\"left\":[{\"id\":\"21319\"}],\"margin\":[5,5,5,5],\"min_border_bottom\":10,\"min_border_left\":10,\"min_border_right\":10,\"min_border_top\":10,\"plot_height\":300,\"plot_width\":700,\"renderers\":[{\"id\":\"21346\"},{\"id\":\"21376\"}],\"right\":[{\"id\":\"21368\"}],\"sizing_mode\":\"fixed\",\"title\":{\"id\":\"21307\"},\"toolbar\":{\"id\":\"21329\"},\"x_range\":{\"id\":\"20881\"},\"x_scale\":{\"id\":\"21311\"},\"y_range\":{\"id\":\"20882\"},\"y_scale\":{\"id\":\"21313\"}},\"id\":\"21306\",\"subtype\":\"Figure\",\"type\":\"Plot\"},{\"attributes\":{\"months\":[0,4,8]},\"id\":\"20943\",\"type\":\"MonthsTicker\"},{\"attributes\":{\"callback\":null,\"formatters\":{\"@{Date}\":\"datetime\"},\"renderers\":[{\"id\":\"21346\"},{\"id\":\"21376\"}],\"tags\":[\"hv_created\"],\"tooltips\":[[\"Variable\",\"@{Variable}\"],[\"Date\",\"@{Date}{%F %T}\"],[\"value\",\"@{value}\"]]},\"id\":\"21304\",\"type\":\"HoverTool\"},{\"attributes\":{\"fill_color\":{\"field\":\"zvalues\",\"transform\":{\"id\":\"21261\"}},\"height\":{\"units\":\"data\",\"value\":1},\"line_alpha\":{\"value\":0},\"line_color\":{\"value\":\"#1f77b4\"},\"width\":{\"units\":\"data\",\"value\":1},\"x\":{\"field\":\"columns\"},\"y\":{\"field\":\"index\"}},\"id\":\"21267\",\"type\":\"Rect\"},{\"attributes\":{},\"id\":\"21248\",\"type\":\"SaveTool\"},{\"attributes\":{\"overlay\":{\"id\":\"20908\"}},\"id\":\"20906\",\"type\":\"BoxZoomTool\"},{\"attributes\":{},\"id\":\"21252\",\"type\":\"ResetTool\"},{\"attributes\":{\"months\":[0,6]},\"id\":\"20944\",\"type\":\"MonthsTicker\"},{\"attributes\":{},\"id\":\"21665\",\"type\":\"YearsTicker\"},{\"attributes\":{},\"id\":\"20904\",\"type\":\"PanTool\"},{\"attributes\":{},\"id\":\"21250\",\"type\":\"WheelZoomTool\"},{\"attributes\":{},\"id\":\"21666\",\"type\":\"UnionRenderers\"},{\"attributes\":{},\"id\":\"20905\",\"type\":\"WheelZoomTool\"},{\"attributes\":{\"overlay\":{\"id\":\"21253\"}},\"id\":\"21251\",\"type\":\"BoxZoomTool\"},{\"attributes\":{\"active_drag\":\"auto\",\"active_inspect\":\"auto\",\"active_multi\":null,\"active_scroll\":\"auto\",\"active_tap\":\"auto\",\"tools\":[{\"id\":\"21232\"},{\"id\":\"21248\"},{\"id\":\"21249\"},{\"id\":\"21250\"},{\"id\":\"21251\"},{\"id\":\"21252\"}]},\"id\":\"21254\",\"type\":\"Toolbar\"},{\"attributes\":{\"high\":1.0,\"low\":0.05890642650679749,\"nan_color\":\"white\",\"palette\":[\"#b3fef5\",\"#b0fef5\",\"#adfdf5\",\"#a9fcf5\",\"#a6fbf6\",\"#a3faf6\",\"#a0faf6\",\"#9df9f6\",\"#9af8f6\",\"#97f7f6\",\"#93f7f6\",\"#90f6f6\",\"#8df5f6\",\"#8af4f7\",\"#87f3f7\",\"#83f2f7\",\"#80f2f7\",\"#7df1f7\",\"#79f0f7\",\"#76eff7\",\"#73eef7\",\"#6fedf8\",\"#6cecf8\",\"#68ecf8\",\"#65ebf8\",\"#61eaf8\",\"#5ee9f8\",\"#5ae8f8\",\"#57e7f8\",\"#53e6f8\",\"#50e5f9\",\"#4ce4f9\",\"#49e3f9\",\"#45e2f9\",\"#42e1f9\",\"#3ee0f9\",\"#3bdff9\",\"#38def9\",\"#35ddf9\",\"#32dcf9\",\"#30dbfa\",\"#2ed9fa\",\"#2dd8fa\",\"#2cd7fa\",\"#2bd6fa\",\"#2bd5fa\",\"#2ad3fa\",\"#2ad2fa\",\"#29d1fa\",\"#29d0fb\",\"#29cffb\",\"#28cdfb\",\"#28ccfb\",\"#28cbfb\",\"#28cafb\",\"#28c8fb\",\"#28c7fb\",\"#29c6fb\",\"#29c5fb\",\"#29c4fb\",\"#29c2fb\",\"#2ac1fb\",\"#2ac0fb\",\"#2bbffb\",\"#2bbdfc\",\"#2cbcfc\",\"#2dbbfc\",\"#2db9fc\",\"#2eb8fc\",\"#2fb7fc\",\"#2fb6fc\",\"#30b4fc\",\"#31b3fc\",\"#32b2fc\",\"#32b0fc\",\"#33affc\",\"#33aefc\",\"#34adfc\",\"#34abfc\",\"#34aafc\",\"#35a9fc\",\"#35a8fc\",\"#35a6fc\",\"#35a5fc\",\"#35a4fc\",\"#35a3fc\",\"#35a1fc\",\"#35a0fc\",\"#359ffc\",\"#359dfc\",\"#359cfc\",\"#359bfc\",\"#349afd\",\"#3498fd\",\"#3497fd\",\"#3396fd\",\"#3395fd\",\"#3293fd\",\"#3292fd\",\"#3191fd\",\"#3090fd\",\"#308ffd\",\"#2f8dfd\",\"#2f8cfd\",\"#2e8bfd\",\"#2e8afd\",\"#2d88fd\",\"#2d87fd\",\"#2c86fd\",\"#2c84fd\",\"#2c83fd\",\"#2c82fd\",\"#2b81fd\",\"#2b7ffd\",\"#2b7efd\",\"#2b7dfd\",\"#2b7bfd\",\"#2b7afd\",\"#2b79fd\",\"#2b77fd\",\"#2b76fd\",\"#2b75fd\",\"#2b73fd\",\"#2c72fd\",\"#2c71fd\",\"#2c6ffd\",\"#2c6efd\",\"#2d6cfd\",\"#2d6bfd\",\"#2d6afc\",\"#2e68fc\",\"#2e67fc\",\"#2e65fc\",\"#2e64fc\",\"#2f62fc\",\"#2f61fc\",\"#2f5ffc\",\"#2f5efc\",\"#2f5dfc\",\"#2f5bfc\",\"#2f5afc\",\"#2f58fb\",\"#2f57fb\",\"#2f55fb\",\"#2f53fb\",\"#2f52fb\",\"#2f50fb\",\"#2f4ffb\",\"#2f4dfb\",\"#2e4cfb\",\"#2e4afb\",\"#2e48fb\",\"#2e47fa\",\"#2d45fa\",\"#2d43fa\",\"#2d42fa\",\"#2d40fa\",\"#2c3efa\",\"#2c3dfa\",\"#2b3bf9\",\"#2b39f9\",\"#2a37f9\",\"#2a36f8\",\"#2934f8\",\"#2832f7\",\"#2831f7\",\"#272ff6\",\"#262ef5\",\"#252cf5\",\"#252af4\",\"#2429f3\",\"#2327f2\",\"#2226f1\",\"#2124f0\",\"#2023ef\",\"#1f22ee\",\"#1e20ed\",\"#1d1feb\",\"#1c1eea\",\"#1b1ce9\",\"#1a1be7\",\"#181ae6\",\"#1719e5\",\"#1618e3\",\"#1417e1\",\"#1316e0\",\"#1215de\",\"#1014dc\",\"#0f13db\",\"#0e12d9\",\"#0d11d7\",\"#0c10d5\",\"#0b0fd3\",\"#0a0ed1\",\"#090dd0\",\"#080dce\",\"#080ccc\",\"#070bca\",\"#070ac8\",\"#0709c6\",\"#0708c4\",\"#0707c2\",\"#0707bf\",\"#0806bd\",\"#0806bb\",\"#0905b9\",\"#0904b7\",\"#0a04b5\",\"#0a04b2\",\"#0b03b0\",\"#0c03ae\",\"#0d02ab\",\"#0e02a9\",\"#0e02a7\",\"#0f02a4\",\"#0f01a2\",\"#1001a0\",\"#10019d\",\"#10019b\",\"#100199\",\"#100197\",\"#100194\",\"#0f0192\",\"#0f0190\",\"#0f018e\",\"#0e018b\",\"#0e0189\",\"#0d0187\",\"#0d0185\",\"#0c0183\",\"#0b0181\",\"#0b017e\",\"#0a017c\",\"#09017a\",\"#090178\",\"#080276\",\"#070274\",\"#060272\",\"#060270\",\"#05026e\",\"#04026c\",\"#030269\",\"#030267\",\"#020265\",\"#010263\",\"#010261\",\"#00025f\",\"#00025d\",\"#00025b\",\"#000259\",\"#000257\",\"#000255\",\"#000154\",\"#000152\",\"#000150\",\"#00004e\"]},\"id\":\"21261\",\"type\":\"LinearColorMapper\"},{\"attributes\":{},\"id\":\"20945\",\"type\":\"YearsTicker\"},{\"attributes\":{},\"id\":\"20946\",\"type\":\"UnionRenderers\"},{\"attributes\":{\"line_alpha\":0.1,\"line_color\":\"#ff7e0e\",\"line_width\":2,\"x\":{\"field\":\"Date\"},\"y\":{\"field\":\"value\"}},\"id\":\"20954\",\"type\":\"Line\"},{\"attributes\":{},\"id\":\"20951\",\"type\":\"Selection\"},{\"attributes\":{},\"id\":\"21313\",\"type\":\"LinearScale\"},{\"attributes\":{\"line_color\":\"#ff7e0e\",\"line_width\":2,\"x\":{\"field\":\"Date\"},\"y\":{\"field\":\"value\"}},\"id\":\"20953\",\"type\":\"Line\"},{\"attributes\":{},\"id\":\"21011\",\"type\":\"UnionRenderers\"},{\"attributes\":{\"css_classes\":[\"markdown\"],\"margin\":[5,5,5,5],\"name\":\"Markdown28011\",\"text\":\"&lt;h1&gt;Cryptocurrencies Analysis&lt;/h1&gt;\"},\"id\":\"21297\",\"type\":\"panel.models.markup.HTML\"},{\"attributes\":{\"label\":{\"value\":\"eth\"},\"renderers\":[{\"id\":\"20956\"}]},\"id\":\"20980\",\"type\":\"LegendItem\"},{\"attributes\":{\"client_comm_id\":\"f5477bb3531c45d1994bb977ddbc1287\",\"comm_id\":\"90eb3ca9a054490291ffed43e8b8779f\",\"plot_id\":\"20878\"},\"id\":\"21914\",\"type\":\"panel.models.comm_manager.CommManager\"},{\"attributes\":{},\"id\":\"20903\",\"type\":\"SaveTool\"},{\"attributes\":{\"active_drag\":\"auto\",\"active_inspect\":\"auto\",\"active_multi\":null,\"active_scroll\":\"auto\",\"active_tap\":\"auto\",\"tools\":[{\"id\":\"20883\"},{\"id\":\"20903\"},{\"id\":\"20904\"},{\"id\":\"20905\"},{\"id\":\"20906\"},{\"id\":\"20907\"}]},\"id\":\"20909\",\"type\":\"Toolbar\"},{\"attributes\":{\"children\":[{\"id\":\"21606\"}],\"margin\":[0,0,0,0],\"name\":\"Row28009\"},\"id\":\"21602\",\"type\":\"Row\"},{\"attributes\":{\"margin\":[5,10,5,10],\"options\":[\"btc\",\"eth\"],\"title\":\"crypto\",\"value\":\"btc\"},\"id\":\"21601\",\"type\":\"Select\"},{\"attributes\":{\"data_source\":{\"id\":\"20950\"},\"glyph\":{\"id\":\"20953\"},\"hover_glyph\":null,\"muted_glyph\":{\"id\":\"20955\"},\"nonselection_glyph\":{\"id\":\"20954\"},\"selection_glyph\":null,\"view\":{\"id\":\"20957\"}},\"id\":\"20956\",\"type\":\"GlyphRenderer\"},{\"attributes\":{\"num_minor_ticks\":5,\"tickers\":[{\"id\":\"20934\"},{\"id\":\"20935\"},{\"id\":\"20936\"},{\"id\":\"20937\"},{\"id\":\"20938\"},{\"id\":\"20939\"},{\"id\":\"20940\"},{\"id\":\"20941\"},{\"id\":\"20942\"},{\"id\":\"20943\"},{\"id\":\"20944\"},{\"id\":\"20945\"}]},\"id\":\"20896\",\"type\":\"DatetimeTicker\"},{\"attributes\":{},\"id\":\"20918\",\"type\":\"BasicTickFormatter\"},{\"attributes\":{\"data\":{\"Date\":{\"__ndarray__\":\"AADAuDBudUIAAECl2Hd1QgAAgPfSgXVCAAAA5HqLdUIAAEA2dZV1QgAAgIhvn3VCAACAqXKodUIAAMD7bLJ1QgAAQOgUvHVCAACAOg/GdUIAAAAnt891QgAAQHmx2XVCAACAy6vjdUIAAAC4U+11QgAAQApO93VCAADA9vUAdkIAAABJ8Ap2QgAAQJvqFHZCAABAvO0ddkIAAIAO6Cd2QgAAAPuPMXZCAABATYo7dkIAAMA5MkV2QgAAAIwsT3ZCAABA3iZZdkIAAMDKzmJ2QgAAAB3JbHZCAACACXF2dkIAAMBba4B2QgAAAK5linZCAAAAz2iTdkIAAEAhY512QgAAwA0Lp3ZCAAAAYAWxdkIAAIBMrbp2QgAAwJ6nxHZCAAAA8aHOdkIAAIDdSdh2QgAAwC9E4nZCAABAHOzrdkIAAIBu5vV2QgAAwMDg/3ZCAACARzYJd0IAAMCZMBN3QgAAQIbYHHdCAACA2NImd0IAAADFejB3QgAAQBd1OndCAACAaW9Ed0IAAABWF053QgAAQKgRWHdCAADAlLlhd0IAAADns2t3Qg==\",\"dtype\":\"float64\",\"order\":\"little\",\"shape\":[53]},\"sp500\":{\"__ndarray__\":\"CmCzPhBu0j9VHoN0T8CzvxOCo7Spm7K/iwvSTCHQmT/ThaZ0vMbav4iSrhSdPtG/wN2uAj7+oz+oDQtuac6LP16aVLXuSl2/0WOGCVsvpT+czGkRCW/IP8GvVlQsr5S/e5PsPMxDvb+W911bczTCv1eAhANbkbM/bfslbsTorD+o7DL0PfTVv6CHsGx+o7S/Au4pWa9Lvj+az1diVkO8PxwSyxjAE6s/EmP6g0VHsD8q+QKpB2e0P3k41eJuRb4/w7PEHAcqwj9fG5elnEHBP4SLnT20wKW/sU4fIeZEtb+EpDJk7xqjP1+Bvkm1Vr4/GGj0eInRqD81x+pJHw3HP/17L+eTU8W/07T2nEmSsb/qOsJ+7Qy7vyVDBafLBbG/fgWv8rYNtb/oh4tngwHCv+gCARIzl8a/6tGla9LX2r+kWfwDekbZv0CcVDHooMK/HW3myT8RxD9skVHLaQDRP1kBxEXSDOU/G2HR1fqt4z+jY78wP7XkP07lQ7DC3OM/XWqNKMQ05T+I9uF11qfhP5iDq5TLneY/o0Ke+8pc5j98/9JGWAPnPw==\",\"dtype\":\"float64\",\"order\":\"little\",\"shape\":[53]}},\"selected\":{\"id\":\"21637\"},\"selection_policy\":{\"id\":\"21666\"}},\"id\":\"21636\",\"type\":\"ColumnDataSource\"},{\"attributes\":{\"source\":{\"id\":\"20950\"}},\"id\":\"20957\",\"type\":\"CDSView\"},{\"attributes\":{\"children\":[{\"id\":\"21299\"},{\"id\":\"21301\"}],\"margin\":[0,0,0,0],\"name\":\"Column27821\"},\"id\":\"21298\",\"type\":\"Column\"},{\"attributes\":{},\"id\":\"20893\",\"type\":\"LinearScale\"},{\"attributes\":{\"bottom_units\":\"screen\",\"fill_alpha\":0.5,\"fill_color\":\"lightgrey\",\"left_units\":\"screen\",\"level\":\"overlay\",\"line_alpha\":1.0,\"line_color\":\"black\",\"line_dash\":[4,4],\"line_width\":2,\"right_units\":\"screen\",\"top_units\":\"screen\"},\"id\":\"21253\",\"type\":\"BoxAnnotation\"},{\"attributes\":{\"children\":[{\"id\":\"21300\"}],\"margin\":[0,0,0,0],\"name\":\"Column27926\"},\"id\":\"21299\",\"type\":\"Column\"},{\"attributes\":{},\"id\":\"20921\",\"type\":\"Selection\"},{\"attributes\":{\"children\":[{\"id\":\"21601\"}],\"margin\":[0,0,0,0],\"name\":\"Column28010\"},\"id\":\"21600\",\"type\":\"Column\"},{\"attributes\":{\"data\":{\"columns\":[\"btc\",\"btc\",\"btc\",\"eth\",\"eth\",\"eth\",\"sp500\",\"sp500\",\"sp500\"],\"index\":[\"btc\",\"eth\",\"sp500\",\"btc\",\"eth\",\"sp500\",\"btc\",\"eth\",\"sp500\"],\"value\":[\"1\",\"0.4088\",\"0.219\",\"0.4088\",\"1\",\"0.058906\",\"0.219\",\"0.058906\",\"1\"],\"zvalues\":{\"__ndarray__\":\"AAAAAAAA8D+2rta6yinaP3+q11wRCMw/tq7Wusop2j8AAAAAAADwP5bpva77KK4/f6rXXBEIzD+W6b2u+yiuPwAAAAAAAPA/\",\"dtype\":\"float64\",\"order\":\"little\",\"shape\":[9]}},\"selected\":{\"id\":\"21263\"},\"selection_policy\":{\"id\":\"21284\"}},\"id\":\"21262\",\"type\":\"ColumnDataSource\"},{\"attributes\":{\"bottom_units\":\"screen\",\"fill_alpha\":0.5,\"fill_color\":\"lightgrey\",\"left_units\":\"screen\",\"level\":\"overlay\",\"line_alpha\":1.0,\"line_color\":\"black\",\"line_dash\":[4,4],\"line_width\":2,\"right_units\":\"screen\",\"top_units\":\"screen\"},\"id\":\"20908\",\"type\":\"BoxAnnotation\"},{\"attributes\":{\"child\":{\"id\":\"20879\"},\"name\":\"Column27625\",\"title\":\"Cryptocurrencies Summary\"},\"id\":\"21295\",\"type\":\"Panel\"},{\"attributes\":{\"line_alpha\":0.2,\"line_color\":\"#ff7e0e\",\"line_width\":2,\"x\":{\"field\":\"Date\"},\"y\":{\"field\":\"value\"}},\"id\":\"20955\",\"type\":\"Line\"},{\"attributes\":{\"children\":[{\"id\":\"21297\"},{\"id\":\"21298\"},{\"id\":\"21599\"}],\"margin\":[0,0,0,0],\"name\":\"Column28013\"},\"id\":\"21296\",\"type\":\"Column\"},{\"attributes\":{\"label\":{\"value\":\"sp500\"},\"renderers\":[{\"id\":\"20987\"}]},\"id\":\"21013\",\"type\":\"LegendItem\"},{\"attributes\":{\"children\":[{\"id\":\"21306\"}],\"margin\":[0,0,0,0],\"name\":\"Row27925\"},\"id\":\"21301\",\"type\":\"Row\"}],\"root_ids\":[\"20878\",\"21914\"]},\"title\":\"Bokeh Application\",\"version\":\"2.2.3\"}};\n",
       "    var render_items = [{\"docid\":\"ac052233-40d0-464d-b38f-ee2744efed61\",\"root_ids\":[\"20878\"],\"roots\":{\"20878\":\"8da927da-280d-4201-9567-075ffb699e01\"}}];\n",
       "    root.Bokeh.embed.embed_items_notebook(docs_json, render_items);\n",
       "  }\n",
       "  if (root.Bokeh !== undefined && root.Bokeh.Panel !== undefined && root['Plotly'] !== undefined ) {\n",
       "    embed_document(root);\n",
       "  } else {\n",
       "    var attempts = 0;\n",
       "    var timer = setInterval(function(root) {\n",
       "      if (root.Bokeh !== undefined && root.Bokeh.Panel !== undefined && root['Plotly'] !== undefined) {\n",
       "        clearInterval(timer);\n",
       "        embed_document(root);\n",
       "      } else if (document.readyState == \"complete\") {\n",
       "        attempts++;\n",
       "        if (attempts > 100) {\n",
       "          clearInterval(timer);\n",
       "          console.log(\"Bokeh: ERROR: Unable to run BokehJS code because BokehJS library is missing\");\n",
       "        }\n",
       "      }\n",
       "    }, 10, root)\n",
       "  }\n",
       "})(window);</script>"
      ],
      "text/plain": [
       "Tabs\n",
       "    [0] Column\n",
       "        [0] Markdown(str)\n",
       "        [1] HoloViews(NdOverlay)\n",
       "        [2] HoloViews(HeatMap)\n",
       "    [1] Column\n",
       "        [0] Markdown(str)\n",
       "        [1] Column\n",
       "            [0] Column\n",
       "                [0] Select(name='crypto', options=['btc', 'eth'], value='btc')\n",
       "            [1] Row\n",
       "                [0] HoloViews(NdOverlay, name='interactive27820')\n",
       "        [2] Column\n",
       "            [0] Column\n",
       "                [0] Select(name='crypto', options=['btc', 'eth'], value='btc')\n",
       "            [1] Row\n",
       "                [0] HoloViews(Curve, name='interactive27927')"
      ]
     },
     "execution_count": 265,
     "metadata": {
      "application/vnd.holoviews_exec.v0+json": {
       "id": "20878"
      }
     },
     "output_type": "execute_result"
    }
   ],
   "source": [
    "panel2.servable()"
   ]
  },
  {
   "cell_type": "markdown",
   "metadata": {},
   "source": [
    "Cryptocurrencies has weak correlation to S&P500."
   ]
  },
  {
   "cell_type": "markdown",
   "metadata": {},
   "source": [
    "## Aidan's Section"
   ]
  },
  {
   "cell_type": "code",
   "execution_count": 266,
   "metadata": {},
   "outputs": [
    {
     "data": {
      "text/html": [
       "<div>\n",
       "<style scoped>\n",
       "    .dataframe tbody tr th:only-of-type {\n",
       "        vertical-align: middle;\n",
       "    }\n",
       "\n",
       "    .dataframe tbody tr th {\n",
       "        vertical-align: top;\n",
       "    }\n",
       "\n",
       "    .dataframe thead th {\n",
       "        text-align: right;\n",
       "    }\n",
       "</style>\n",
       "<table border=\"1\" class=\"dataframe\">\n",
       "  <thead>\n",
       "    <tr style=\"text-align: right;\">\n",
       "      <th></th>\n",
       "      <th>level_0</th>\n",
       "      <th>level_1</th>\n",
       "      <th>sp500</th>\n",
       "      <th>dowjones</th>\n",
       "      <th>nasdaq</th>\n",
       "      <th>gold</th>\n",
       "      <th>silver</th>\n",
       "      <th>crudeoil</th>\n",
       "      <th>dxy_mthly</th>\n",
       "      <th>wti_mthly</th>\n",
       "    </tr>\n",
       "  </thead>\n",
       "  <tbody>\n",
       "    <tr>\n",
       "      <th>0</th>\n",
       "      <td>2000-10-01</td>\n",
       "      <td>sp500</td>\n",
       "      <td>1.000000</td>\n",
       "      <td>0.909769</td>\n",
       "      <td>0.941083</td>\n",
       "      <td>-0.372331</td>\n",
       "      <td>0.064426</td>\n",
       "      <td>0.110100</td>\n",
       "      <td>-0.044363</td>\n",
       "      <td>-0.252094</td>\n",
       "    </tr>\n",
       "    <tr>\n",
       "      <th>1</th>\n",
       "      <td>2000-10-01</td>\n",
       "      <td>dowjones</td>\n",
       "      <td>0.909769</td>\n",
       "      <td>1.000000</td>\n",
       "      <td>0.772631</td>\n",
       "      <td>-0.437845</td>\n",
       "      <td>-0.170661</td>\n",
       "      <td>0.109843</td>\n",
       "      <td>-0.114727</td>\n",
       "      <td>-0.275605</td>\n",
       "    </tr>\n",
       "    <tr>\n",
       "      <th>2</th>\n",
       "      <td>2000-10-01</td>\n",
       "      <td>nasdaq</td>\n",
       "      <td>0.941083</td>\n",
       "      <td>0.772631</td>\n",
       "      <td>1.000000</td>\n",
       "      <td>-0.380687</td>\n",
       "      <td>0.044161</td>\n",
       "      <td>0.095873</td>\n",
       "      <td>0.038490</td>\n",
       "      <td>-0.247894</td>\n",
       "    </tr>\n",
       "    <tr>\n",
       "      <th>3</th>\n",
       "      <td>2000-10-01</td>\n",
       "      <td>gold</td>\n",
       "      <td>-0.372331</td>\n",
       "      <td>-0.437845</td>\n",
       "      <td>-0.380687</td>\n",
       "      <td>1.000000</td>\n",
       "      <td>0.608320</td>\n",
       "      <td>-0.042563</td>\n",
       "      <td>-0.407455</td>\n",
       "      <td>0.411213</td>\n",
       "    </tr>\n",
       "    <tr>\n",
       "      <th>4</th>\n",
       "      <td>2000-10-01</td>\n",
       "      <td>silver</td>\n",
       "      <td>0.064426</td>\n",
       "      <td>-0.170661</td>\n",
       "      <td>0.044161</td>\n",
       "      <td>0.608320</td>\n",
       "      <td>1.000000</td>\n",
       "      <td>0.148156</td>\n",
       "      <td>-0.071430</td>\n",
       "      <td>0.393478</td>\n",
       "    </tr>\n",
       "  </tbody>\n",
       "</table>\n",
       "</div>"
      ],
      "text/plain": [
       "     level_0   level_1     sp500  dowjones    nasdaq      gold    silver  \\\n",
       "0 2000-10-01     sp500  1.000000  0.909769  0.941083 -0.372331  0.064426   \n",
       "1 2000-10-01  dowjones  0.909769  1.000000  0.772631 -0.437845 -0.170661   \n",
       "2 2000-10-01    nasdaq  0.941083  0.772631  1.000000 -0.380687  0.044161   \n",
       "3 2000-10-01      gold -0.372331 -0.437845 -0.380687  1.000000  0.608320   \n",
       "4 2000-10-01    silver  0.064426 -0.170661  0.044161  0.608320  1.000000   \n",
       "\n",
       "   crudeoil  dxy_mthly  wti_mthly  \n",
       "0  0.110100  -0.044363  -0.252094  \n",
       "1  0.109843  -0.114727  -0.275605  \n",
       "2  0.095873   0.038490  -0.247894  \n",
       "3 -0.042563  -0.407455   0.411213  \n",
       "4  0.148156  -0.071430   0.393478  "
      ]
     },
     "execution_count": 266,
     "metadata": {},
     "output_type": "execute_result"
    }
   ],
   "source": [
    "##rolling correlation NEEDNTO WORK ON STILL!\n",
    "rolling_corr = oil_commodities_return.rolling(window=14).corr().dropna()\n",
    "rolling_corr.reset_index(inplace=True)\n",
    "rolling_corr.head()"
   ]
  },
  {
   "cell_type": "code",
   "execution_count": 267,
   "metadata": {},
   "outputs": [
    {
     "data": {
      "text/plain": [
       "<matplotlib.axes._subplots.AxesSubplot at 0x1be61cf9bc8>"
      ]
     },
     "execution_count": 267,
     "metadata": {},
     "output_type": "execute_result"
    },
    {
     "data": {
      "image/png": "[encoded data removed]",
      "text/plain": [
       "<Figure size 1080x720 with 1 Axes>"
      ]
     },
     "metadata": {
      "needs_background": "light"
     },
     "output_type": "display_data"
    }
   ],
   "source": [
    "##Rolling beta S&P500 and USD\n",
    "rolling_cov = oil_commodities_return['sp500'].rolling(window=14).cov(oil_commodities_return[\"dxy_mthly\"])\n",
    "rolling_var = oil_commodities_return['sp500'].rolling(window=14).var()\n",
    "rolling_beta = rolling_cov / rolling_var\n",
    "rolling_beta.plot(figsize=(15,10), title = \"Rolling 14-day Beta\")"
   ]
  },
  {
   "cell_type": "code",
   "execution_count": 268,
   "metadata": {},
   "outputs": [
    {
     "data": {
      "text/plain": [
       "<matplotlib.axes._subplots.AxesSubplot at 0x1be61d81cc8>"
      ]
     },
     "execution_count": 268,
     "metadata": {},
     "output_type": "execute_result"
    },
    {
     "data": {
      "image/png": "[encoded data removed]",
      "text/plain": [
       "<Figure size 1080x720 with 1 Axes>"
      ]
     },
     "metadata": {
      "needs_background": "light"
     },
     "output_type": "display_data"
    }
   ],
   "source": [
    "##Rolling beta S&P500 and WTI\n",
    "rolling_cov = oil_commodities_return['sp500'].rolling(window=14).cov(oil_commodities_return[\"wti_mthly\"])\n",
    "rolling_var = oil_commodities_return['sp500'].rolling(window=14).var()\n",
    "rolling_beta = rolling_cov / rolling_var\n",
    "rolling_beta.plot(figsize=(15,10), title = \"Rolling 14-day Beta\")"
   ]
  },
  {
   "cell_type": "code",
   "execution_count": 269,
   "metadata": {},
   "outputs": [],
   "source": [
    "oil_price = oil_commodities_sp500[['sp500','wti_mthly']].hvplot.line(xlabel=\"Date\", ylabel=\"Monthly Closing Price\")\n",
    "usd_price = oil_commodities_sp500[['sp500','dxy_mthly']].hvplot.line(xlabel=\"Date\", ylabel=\"Monthly Closing Price\")\n",
    "all_price = oil_commodities_sp500[['sp500','wti_mthly', 'dxy_mthly']].hvplot.line(xlabel=\"Date\", ylabel=\"Monthly Closing Price\")"
   ]
  },
  {
   "cell_type": "markdown",
   "metadata": {},
   "source": [
    "### Lauren's section"
   ]
  },
  {
   "cell_type": "code",
   "execution_count": 270,
   "metadata": {},
   "outputs": [
    {
     "data": {
      "text/html": [
       "<div>\n",
       "<style scoped>\n",
       "    .dataframe tbody tr th:only-of-type {\n",
       "        vertical-align: middle;\n",
       "    }\n",
       "\n",
       "    .dataframe tbody tr th {\n",
       "        vertical-align: top;\n",
       "    }\n",
       "\n",
       "    .dataframe thead th {\n",
       "        text-align: right;\n",
       "    }\n",
       "</style>\n",
       "<table border=\"1\" class=\"dataframe\">\n",
       "  <thead>\n",
       "    <tr style=\"text-align: right;\">\n",
       "      <th></th>\n",
       "      <th>House Price Index</th>\n",
       "    </tr>\n",
       "    <tr>\n",
       "      <th>DATE</th>\n",
       "      <th></th>\n",
       "    </tr>\n",
       "  </thead>\n",
       "  <tbody>\n",
       "    <tr>\n",
       "      <th>1975-04-01</th>\n",
       "      <td>0.018030</td>\n",
       "    </tr>\n",
       "    <tr>\n",
       "      <th>1975-07-01</th>\n",
       "      <td>0.003936</td>\n",
       "    </tr>\n",
       "    <tr>\n",
       "      <th>1975-10-01</th>\n",
       "      <td>0.016988</td>\n",
       "    </tr>\n",
       "    <tr>\n",
       "      <th>1976-01-01</th>\n",
       "      <td>0.009476</td>\n",
       "    </tr>\n",
       "    <tr>\n",
       "      <th>1976-04-01</th>\n",
       "      <td>0.040891</td>\n",
       "    </tr>\n",
       "  </tbody>\n",
       "</table>\n",
       "</div>"
      ],
      "text/plain": [
       "            House Price Index\n",
       "DATE                         \n",
       "1975-04-01           0.018030\n",
       "1975-07-01           0.003936\n",
       "1975-10-01           0.016988\n",
       "1976-01-01           0.009476\n",
       "1976-04-01           0.040891"
      ]
     },
     "execution_count": 270,
     "metadata": {},
     "output_type": "execute_result"
    }
   ],
   "source": [
    "# set and read in USA HPI (All Trans, Quarterly) 1975-2020\n",
    "usa_hpi_data = pd.read_csv('DATA SOURCES/USA HPI (All Transactions, Quarterly) Jan 1975-July 2020.csv', index_col=['DATE']) # USA HPI (All Trans, Quarterly) 1975-2020\n",
    "usa_hpi_data.columns=[\"House Price Index\"]\n",
    "usa_hpi_data.describe()\n",
    "\n",
    "# calculate monthly returns\n",
    "hpi_returns = usa_hpi_data.pct_change()\n",
    "hpi_returns.dropna(inplace=True)\n",
    "hpi_returns.head()"
   ]
  },
  {
   "cell_type": "code",
   "execution_count": 271,
   "metadata": {},
   "outputs": [
    {
     "data": {
      "text/html": [
       "<div>\n",
       "<style scoped>\n",
       "    .dataframe tbody tr th:only-of-type {\n",
       "        vertical-align: middle;\n",
       "    }\n",
       "\n",
       "    .dataframe tbody tr th {\n",
       "        vertical-align: top;\n",
       "    }\n",
       "\n",
       "    .dataframe thead th {\n",
       "        text-align: right;\n",
       "    }\n",
       "</style>\n",
       "<table border=\"1\" class=\"dataframe\">\n",
       "  <thead>\n",
       "    <tr style=\"text-align: right;\">\n",
       "      <th></th>\n",
       "      <th>Average Prime Rate</th>\n",
       "    </tr>\n",
       "    <tr>\n",
       "      <th>Date</th>\n",
       "      <th></th>\n",
       "    </tr>\n",
       "  </thead>\n",
       "  <tbody>\n",
       "    <tr>\n",
       "      <th>1985-02</th>\n",
       "      <td>-0.010368</td>\n",
       "    </tr>\n",
       "    <tr>\n",
       "      <th>1985-03</th>\n",
       "      <td>0.000000</td>\n",
       "    </tr>\n",
       "    <tr>\n",
       "      <th>1985-04</th>\n",
       "      <td>0.000000</td>\n",
       "    </tr>\n",
       "    <tr>\n",
       "      <th>1985-05</th>\n",
       "      <td>-0.018095</td>\n",
       "    </tr>\n",
       "    <tr>\n",
       "      <th>1985-06</th>\n",
       "      <td>-0.051406</td>\n",
       "    </tr>\n",
       "  </tbody>\n",
       "</table>\n",
       "</div>"
      ],
      "text/plain": [
       "         Average Prime Rate\n",
       "Date                       \n",
       "1985-02           -0.010368\n",
       "1985-03            0.000000\n",
       "1985-04            0.000000\n",
       "1985-05           -0.018095\n",
       "1985-06           -0.051406"
      ]
     },
     "execution_count": 271,
     "metadata": {},
     "output_type": "execute_result"
    }
   ],
   "source": [
    "# set and read in Interest Rate datasets\n",
    "usa_inflation_data = pd.read_csv('DATA SOURCES/USA Monthly Interest Rates (1985-2020).csv',index_col='Series Description',infer_datetime_format=True) # Canada HPI by City / Province (July 1990-Dec 2020)\n",
    "usa_inflation_data.reset_index(inplace=True)\n",
    "column=[\"Date\",\"Average Prime Rate\"]\n",
    "usa_inflation_data.columns =column \n",
    "usa_inflation_data.head(10)\n",
    "usa_inflation_data.drop(index=[0,1,2,3,4],inplace=True)\n",
    "usa_inflation_data.set_index('Date',inplace=True)\n",
    "usa_inflation_data['Average Prime Rate'] = usa_inflation_data['Average Prime Rate'].astype('float')\n",
    "\n",
    "# calculate monthly returns\n",
    "prime_returns = usa_inflation_data.pct_change()\n",
    "prime_returns.dropna(inplace=True)\n",
    "prime_returns.head()"
   ]
  },
  {
   "cell_type": "code",
   "execution_count": 272,
   "metadata": {},
   "outputs": [
    {
     "name": "stderr",
     "output_type": "stream",
     "text": [
      "C:\\Users\\P\\anaconda3\\envs\\pyvizenv\\lib\\site-packages\\ipykernel_launcher.py:1: FutureWarning: Sorting because non-concatenation axis is not aligned. A future version\n",
      "of pandas will change to not sort by default.\n",
      "\n",
      "To accept the future behavior, pass 'sort=False'.\n",
      "\n",
      "To retain the current behavior and silence the warning, pass 'sort=True'.\n",
      "\n",
      "  \"\"\"Entry point for launching an IPython kernel.\n"
     ]
    },
    {
     "ename": "AttributeError",
     "evalue": "'str' object has no attribute 'datetime'",
     "output_type": "error",
     "traceback": [
      "\u001b[1;31m---------------------------------------------------------------------------\u001b[0m",
      "\u001b[1;31mAttributeError\u001b[0m                            Traceback (most recent call last)",
      "\u001b[1;32m<ipython-input-272-d82c836344dc>\u001b[0m in \u001b[0;36m<module>\u001b[1;34m\u001b[0m\n\u001b[0;32m      4\u001b[0m \u001b[0mreturns_df\u001b[0m\u001b[1;33m.\u001b[0m\u001b[0mcolumns\u001b[0m \u001b[1;33m=\u001b[0m \u001b[0mindex_date\u001b[0m\u001b[1;33m\u001b[0m\u001b[1;33m\u001b[0m\u001b[0m\n\u001b[0;32m      5\u001b[0m \u001b[0mindex_date\u001b[0m \u001b[1;33m=\u001b[0m \u001b[1;34m'1985-01-01'\u001b[0m\u001b[1;33m\u001b[0m\u001b[1;33m\u001b[0m\u001b[0m\n\u001b[1;32m----> 6\u001b[1;33m \u001b[0mindex_date\u001b[0m \u001b[1;33m=\u001b[0m \u001b[0mindex_date\u001b[0m\u001b[1;33m.\u001b[0m\u001b[0mdatetime\u001b[0m\u001b[1;33m.\u001b[0m\u001b[0mstrptime\u001b[0m\u001b[1;33m(\u001b[0m\u001b[0mindex_date\u001b[0m\u001b[1;33m,\u001b[0m\u001b[1;34m'%Y-%m-%d.%f'\u001b[0m\u001b[1;33m)\u001b[0m\u001b[1;33m\u001b[0m\u001b[1;33m\u001b[0m\u001b[0m\n\u001b[0m\u001b[0;32m      7\u001b[0m \u001b[0mindex_date\u001b[0m \u001b[1;33m=\u001b[0m \u001b[0mindex_date\u001b[0m\u001b[1;33m.\u001b[0m\u001b[0mstrftime\u001b[0m\u001b[1;33m(\u001b[0m\u001b[1;34m\"%YYYY-%mm\"\u001b[0m\u001b[1;33m)\u001b[0m\u001b[1;33m\u001b[0m\u001b[1;33m\u001b[0m\u001b[0m\n\u001b[0;32m      8\u001b[0m \u001b[1;33m\u001b[0m\u001b[0m\n",
      "\u001b[1;31mAttributeError\u001b[0m: 'str' object has no attribute 'datetime'"
     ]
    }
   ],
   "source": [
    "returns_df = pd.concat([prime_returns,hpi_returns],axis='columns')\n",
    "returns_df= returns_df.reset_index()\n",
    "index_date=['Date','Average Prime Rate','House Price Index']\n",
    "returns_df.columns = index_date\n",
    "index_date = '1985-01-01'\n",
    "index_date = index_date.datetime.strptime(index_date,'%Y-%m-%d.%f')\n",
    "index_date = index_date.strftime(\"%YYYY-%mm\")\n",
    "\n",
    "# returns_df['Date'].apply(lambda d: d.datetime.strptime('%Y-%m'))\n",
    "returns_df.set_index('Date',inplace=True)"
   ]
  }
 ],
 "metadata": {
  "kernelspec": {
   "display_name": "Python [conda env:pyvizenv] *",
   "language": "python",
   "name": "conda-env-pyvizenv-py"
  },
  "language_info": {
   "codemirror_mode": {
    "name": "ipython",
    "version": 3
   },
   "file_extension": ".py",
   "mimetype": "text/x-python",
   "name": "python",
   "nbconvert_exporter": "python",
   "pygments_lexer": "ipython3",
   "version": "3.7.9"
  }
 },
 "nbformat": 4,
 "nbformat_minor": 4
}
